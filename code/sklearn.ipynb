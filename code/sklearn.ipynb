{
 "cells": [
  {
   "cell_type": "markdown",
   "metadata": {},
   "source": [
    "# Machine Learning with SK-Learn"
   ]
  },
  {
   "cell_type": "code",
   "execution_count": 1,
   "metadata": {},
   "outputs": [
    {
     "data": {
      "text/plain": [
       "'0.22.2.post1'"
      ]
     },
     "execution_count": 1,
     "metadata": {},
     "output_type": "execute_result"
    }
   ],
   "source": [
    "import sklearn\n",
    "sklearn.__version__"
   ]
  },
  {
   "cell_type": "markdown",
   "metadata": {},
   "source": [
    "Chapter 2: simple linear reggression"
   ]
  },
  {
   "cell_type": "code",
   "execution_count": 38,
   "metadata": {},
   "outputs": [
    {
     "data": {
      "image/png": "[encoded data removed]",
      "text/plain": [
       "<matplotlib.figure.Figure at 0x7f2ac9821668>"
      ]
     },
     "metadata": {
      "needs_background": "light"
     },
     "output_type": "display_data"
    }
   ],
   "source": [
    "from numpy import *\n",
    "import matplotlib.pyplot as plt\n",
    "\n",
    "x=array([[6],[8],[10],[14],[18]]).reshape(-1,1)\n",
    "y=[7,9,13,17.5,18]\n",
    "\n",
    "plt.figure()\n",
    "plt.title(\"pizza price against size\")\n",
    "plt.xlabel('size in inches')\n",
    "plt.ylabel('pizza price')\n",
    "plt.plot(x,y,'.') #using dot style, not curve.\n",
    "plt.axis([0,25,0,25])\n",
    "plt.grid(True)\n",
    "plt.show()"
   ]
  },
  {
   "cell_type": "code",
   "execution_count": 26,
   "metadata": {},
   "outputs": [
    {
     "name": "stdout",
     "output_type": "stream",
     "text": [
      "the 12 inches pizza costs 13.681034482758621 dollars.\n",
      "the residual sum of squares is: 1.750.\n"
     ]
    }
   ],
   "source": [
    "from sklearn.linear_model import LinearRegression\n",
    "\n",
    "model=LinearRegression()\n",
    "fit_model=model.fit(x,y)\n",
    "\n",
    "test=array([[12]])\n",
    "predict_price=model.predict(test)[0]\n",
    "print(\"the \"+str(test[0][0])+\" inches pizza costs \"+str(predict_price)+\" dollars.\")\n",
    "print(\"the residual sum of squares is: %.3f.\"%(mean((model.predict(x)-y)**2)))"
   ]
  },
  {
   "cell_type": "code",
   "execution_count": 13,
   "metadata": {},
   "outputs": [
    {
     "data": {
      "text/plain": [
       "LinearRegression(copy_X=True, fit_intercept=True, n_jobs=None, normalize=False)"
      ]
     },
     "execution_count": 13,
     "metadata": {},
     "output_type": "execute_result"
    }
   ],
   "source": [
    "fit_model"
   ]
  },
  {
   "cell_type": "code",
   "execution_count": 18,
   "metadata": {},
   "outputs": [
    {
     "data": {
      "text/plain": [
       "0"
      ]
     },
     "execution_count": 18,
     "metadata": {},
     "output_type": "execute_result"
    }
   ],
   "source": [
    "array([[0]])[0][0]"
   ]
  },
  {
   "cell_type": "code",
   "execution_count": 24,
   "metadata": {},
   "outputs": [
    {
     "data": {
      "text/plain": [
       "array([ 0.82327586,  0.77586207, -1.27155172, -1.86637931,  1.5387931 ])"
      ]
     },
     "execution_count": 24,
     "metadata": {},
     "output_type": "execute_result"
    }
   ],
   "source": [
    "model.predict(x)-y"
   ]
  },
  {
   "cell_type": "code",
   "execution_count": 25,
   "metadata": {},
   "outputs": [
    {
     "data": {
      "text/plain": [
       "array([0.67778315, 0.60196195, 1.61684379, 3.48337173, 2.36788422])"
      ]
     },
     "execution_count": 25,
     "metadata": {},
     "output_type": "execute_result"
    }
   ],
   "source": [
    "(model.predict(x)-y)**2"
   ]
  },
  {
   "cell_type": "code",
   "execution_count": 36,
   "metadata": {},
   "outputs": [
    {
     "name": "stdout",
     "output_type": "stream",
     "text": [
      "11.2\n",
      "23.2\n"
     ]
    }
   ],
   "source": [
    "x1=array([[6],[8],[10],[14],[18]])\n",
    "x1_bar=x1.mean()\n",
    "print(x1_bar)\n",
    "variance=sum((x1-x1_bar)**2)/(x1.shape[0]-1) #using shape[0], not shape()[0].\n",
    "print(variance)"
   ]
  },
  {
   "cell_type": "code",
   "execution_count": 37,
   "metadata": {},
   "outputs": [
    {
     "name": "stdout",
     "output_type": "stream",
     "text": [
      "23.2\n"
     ]
    }
   ],
   "source": [
    "print(var(x1,ddof=1)) #var() is a numpy function."
   ]
  },
  {
   "cell_type": "code",
   "execution_count": 52,
   "metadata": {},
   "outputs": [
    {
     "name": "stdout",
     "output_type": "stream",
     "text": [
      "22.3\n",
      "[[23.2 22.3]\n",
      " [22.3 23.2]]\n"
     ]
    }
   ],
   "source": [
    "y1=array([7,9,13,17.,18])\n",
    "y1_bar=mean(y1)\n",
    "covariance=sum(multiply((x1-x1_bar).T,y1-y1_bar))/(x1.shape[0]-1)\n",
    "print(covariance)\n",
    "print(cov(x1.T,y1)) #cov() is a built in numpy function."
   ]
  },
  {
   "cell_type": "code",
   "execution_count": 53,
   "metadata": {},
   "outputs": [
    {
     "data": {
      "text/plain": [
       "22.3"
      ]
     },
     "execution_count": 53,
     "metadata": {},
     "output_type": "execute_result"
    }
   ],
   "source": [
    "sum((x1-x1_bar).T*(y1-y1_bar))/(x1.shape[0]-1)"
   ]
  },
  {
   "cell_type": "code",
   "execution_count": 57,
   "metadata": {},
   "outputs": [
    {
     "name": "stdout",
     "output_type": "stream",
     "text": [
      "0.670\n"
     ]
    }
   ],
   "source": [
    "from sklearn.linear_model import LinearRegression\n",
    "\n",
    "x_train=array([6,8,10,14,18]).reshape(-1,1)\n",
    "y_train=[7,9,13,17.5,18]\n",
    "\n",
    "x_test=array([8,9,11,16,12]).reshape(-1,1)\n",
    "y_test=[11,8.8,15,18,11]\n",
    "\n",
    "model=LinearRegression()\n",
    "model.fit(x_train,y_train)\n",
    "r_squared=model.score(x_test,y_test)\n",
    "print(\"%.3f\"%(r_squared))"
   ]
  },
  {
   "cell_type": "markdown",
   "metadata": {},
   "source": [
    "Chapter 3: K Nearest Neighnors"
   ]
  },
  {
   "cell_type": "code",
   "execution_count": 12,
   "metadata": {},
   "outputs": [
    {
     "data": {
      "image/png": "[encoded data removed]",
      "text/plain": [
       "<matplotlib.figure.Figure at 0x7fe490016a20>"
      ]
     },
     "metadata": {
      "needs_background": "light"
     },
     "output_type": "display_data"
    }
   ],
   "source": [
    "from numpy import *\n",
    "import matplotlib.pyplot as plt\n",
    "\n",
    "x_train=array([[158,64],\n",
    "              [170,86],\n",
    "              [183,84],\n",
    "              [191,80],\n",
    "              [155,49],\n",
    "              [163,59],\n",
    "              [180,67],\n",
    "              [158,54],\n",
    "              [170,67]])\n",
    "y_train=['male','male','male','male','female','female','female','female','female']\n",
    "\n",
    "plt.figure()\n",
    "plt.title(\"human weights vs. heights\")\n",
    "plt.xlabel(\"height in cm\")\n",
    "plt.ylabel(\"weight in kg\")\n",
    "for i,x in enumerate(x_train): #using enumerate to return index and each row in x_train.\n",
    "    plt.scatter(x[0],x[1],c='b',marker='x' if y_train[i]=='male' else 'D') #advanced method of plotting.\n",
    "plt.grid(True)\n",
    "plt.show()"
   ]
  },
  {
   "cell_type": "code",
   "execution_count": 20,
   "metadata": {},
   "outputs": [
    {
     "name": "stdout",
     "output_type": "stream",
     "text": [
      "[ 6.70820393 21.9317122  31.30495168 37.36308338 21.         13.60147051\n",
      " 25.17935662 16.2788206  15.29705854]\n",
      "['male' 'female' 'female']\n"
     ]
    },
    {
     "data": {
      "text/plain": [
       "'female'"
      ]
     },
     "execution_count": 20,
     "metadata": {},
     "output_type": "execute_result"
    }
   ],
   "source": [
    "x=array([[155,70]])\n",
    "distance=sqrt(sum((x_train-x)**2,axis=1))\n",
    "print(distance)\n",
    "nearest_neighbor_index=distance.argsort()[:3] #order the distance ascently and return the first 3 indices.\n",
    "nearest_neighbor_genders=take(y_train,nearest_neighbor_index) #take out the cooresponding data from y_train.\n",
    "print(nearest_neighbor_genders)\n",
    "\n",
    "from collections import Counter\n",
    "b=Counter(nearest_neighbor_genders) #counting frequency of each element.\n",
    "b.most_common(1)[0][0] #selecting the first most common data."
   ]
  },
  {
   "cell_type": "code",
   "execution_count": 36,
   "metadata": {},
   "outputs": [
    {
     "name": "stdout",
     "output_type": "stream",
     "text": [
      "[[1]\n",
      " [1]\n",
      " [1]\n",
      " [1]\n",
      " [0]\n",
      " [0]\n",
      " [0]\n",
      " [0]\n",
      " [0]]\n",
      "['female']\n"
     ]
    }
   ],
   "source": [
    "from sklearn.preprocessing import LabelBinarizer\n",
    "from sklearn.neighbors import KNeighborsClassifier\n",
    "\n",
    "lb=LabelBinarizer()\n",
    "y_train_binarized=lb.fit_transform(y_train)\n",
    "print(y_train_binarized)\n",
    "\n",
    "k=3\n",
    "knn=KNeighborsClassifier(n_neighbors=k)\n",
    "knn.fit(x_train,y_train_binarized.reshape(-1))\n",
    "prediction_binarized=knn.predict(array([155,70]).reshape(1,-1))[0]\n",
    "predicted_label=lb.inverse_transform(prediction_binarized)\n",
    "print(predicted_label)"
   ]
  },
  {
   "cell_type": "code",
   "execution_count": 23,
   "metadata": {},
   "outputs": [
    {
     "data": {
      "text/plain": [
       "array([1, 1, 1, 1, 0, 0, 0, 0, 0])"
      ]
     },
     "execution_count": 23,
     "metadata": {},
     "output_type": "execute_result"
    }
   ],
   "source": [
    "y_train_binarized.reshape(-1)"
   ]
  },
  {
   "cell_type": "code",
   "execution_count": 34,
   "metadata": {},
   "outputs": [
    {
     "data": {
      "text/plain": [
       "array([155,  70])"
      ]
     },
     "execution_count": 34,
     "metadata": {},
     "output_type": "execute_result"
    }
   ],
   "source": [
    "array([155,70])"
   ]
  },
  {
   "cell_type": "code",
   "execution_count": 30,
   "metadata": {},
   "outputs": [
    {
     "data": {
      "text/plain": [
       "0"
      ]
     },
     "execution_count": 30,
     "metadata": {},
     "output_type": "execute_result"
    }
   ],
   "source": [
    "knn.predict(array([155,70]).reshape(1,-1))[0]"
   ]
  },
  {
   "cell_type": "code",
   "execution_count": 44,
   "metadata": {},
   "outputs": [
    {
     "name": "stdout",
     "output_type": "stream",
     "text": [
      "binarized labels: [1 1 0 0]\n",
      "binarized predictions: [0 1 0 0]\n",
      "predicted labels: ['female' 'male' 'female' 'female']\n"
     ]
    }
   ],
   "source": [
    "x_test=array([\n",
    "    [168,65],\n",
    "    [180,96],\n",
    "    [160,52],\n",
    "    [169,67]\n",
    "])\n",
    "y_test=['male','male','female','female']\n",
    "y_test_binarized=lb.transform(y_test)\n",
    "print(\"binarized labels: %s\"%(y_test_binarized.T[0]))\n",
    "prediction_binarized=knn.predict(x_test)\n",
    "print(\"binarized predictions: %s\"%(prediction_binarized))\n",
    "print(\"predicted labels: %s\"%(lb.inverse_transform(prediction_binarized)))"
   ]
  },
  {
   "cell_type": "code",
   "execution_count": 43,
   "metadata": {},
   "outputs": [
    {
     "data": {
      "text/plain": [
       "array([1, 1, 0, 0])"
      ]
     },
     "execution_count": 43,
     "metadata": {},
     "output_type": "execute_result"
    }
   ],
   "source": [
    "y_test_binarized.T[0]"
   ]
  },
  {
   "cell_type": "code",
   "execution_count": 46,
   "metadata": {},
   "outputs": [
    {
     "name": "stdout",
     "output_type": "stream",
     "text": [
      "the accuracy of this model is: 0.75\n"
     ]
    }
   ],
   "source": [
    "from sklearn.metrics import accuracy_score\n",
    "\n",
    "acc_sco=accuracy_score(y_test_binarized,prediction_binarized)\n",
    "print(\"the accuracy of this model is: %s\"%(acc_sco))"
   ]
  },
  {
   "cell_type": "code",
   "execution_count": 47,
   "metadata": {},
   "outputs": [
    {
     "name": "stdout",
     "output_type": "stream",
     "text": [
      "the precision of this model is: 1.0\n"
     ]
    }
   ],
   "source": [
    "from sklearn.metrics import precision_score\n",
    "\n",
    "pre_sco=precision_score(y_test_binarized,prediction_binarized)\n",
    "print(\"the precision of this model is: %s\"%(pre_sco))"
   ]
  },
  {
   "cell_type": "code",
   "execution_count": 48,
   "metadata": {},
   "outputs": [
    {
     "name": "stdout",
     "output_type": "stream",
     "text": [
      "the recall rate of this model is: 0.5\n"
     ]
    }
   ],
   "source": [
    "from sklearn.metrics import recall_score\n",
    "\n",
    "rec_sco=recall_score(y_test_binarized,prediction_binarized)\n",
    "print(\"the recall rate of this model is: %s\"%(rec_sco))"
   ]
  },
  {
   "cell_type": "code",
   "execution_count": 49,
   "metadata": {},
   "outputs": [
    {
     "name": "stdout",
     "output_type": "stream",
     "text": [
      "the f1 score of this model is: 0.6666666666666666\n"
     ]
    }
   ],
   "source": [
    "from sklearn.metrics import f1_score\n",
    "\n",
    "f1_sco=f1_score(y_test_binarized,prediction_binarized)\n",
    "print(\"the f1 score of this model is: %s\"%(f1_sco))"
   ]
  },
  {
   "cell_type": "code",
   "execution_count": 50,
   "metadata": {},
   "outputs": [
    {
     "name": "stdout",
     "output_type": "stream",
     "text": [
      "the matthews correlation coefficient is: 0.5773502691896258\n"
     ]
    }
   ],
   "source": [
    "from sklearn.metrics import matthews_corrcoef\n",
    "\n",
    "mat_cor=matthews_corrcoef(y_test_binarized,prediction_binarized)\n",
    "print(\"the matthews correlation coefficient is: %s\"%(mat_cor))"
   ]
  },
  {
   "cell_type": "code",
   "execution_count": 52,
   "metadata": {},
   "outputs": [
    {
     "name": "stdout",
     "output_type": "stream",
     "text": [
      "              precision    recall  f1-score   support\n",
      "\n",
      "        male       1.00      0.50      0.67         2\n",
      "      female       0.67      1.00      0.80         2\n",
      "\n",
      "    accuracy                           0.75         4\n",
      "   macro avg       0.83      0.75      0.73         4\n",
      "weighted avg       0.83      0.75      0.73         4\n",
      "\n"
     ]
    }
   ],
   "source": [
    "from sklearn.metrics import classification_report\n",
    "\n",
    "print(\n",
    "classification_report(y_test_binarized,prediction_binarized,target_names=['male','female'],labels=[1,0]))"
   ]
  },
  {
   "cell_type": "code",
   "execution_count": 54,
   "metadata": {},
   "outputs": [
    {
     "name": "stdout",
     "output_type": "stream",
     "text": [
      "predicted weights: [70.66666667 79.         59.         70.66666667]\n",
      "coefficient of detemination: 0.6290565226735438\n",
      "mean absolute error: 8.333333333333336\n",
      "mean squared error: 95.8888888888889\n"
     ]
    }
   ],
   "source": [
    "from numpy import *\n",
    "from sklearn.neighbors import KNeighborsRegressor\n",
    "from sklearn.metrics import mean_absolute_error,mean_squared_error,r2_score\n",
    "\n",
    "x_train=array([\n",
    "    [158,1],\n",
    "    [170,1],\n",
    "    [183,1],\n",
    "    [191,1],\n",
    "    [155,0],\n",
    "    [163,0],\n",
    "    [180,0],\n",
    "    [158,0],\n",
    "    [170,0]\n",
    "])\n",
    "y_train=[64,86,84,80,49,59,67,54,67]\n",
    "\n",
    "x_test=array([\n",
    "    [168,1],\n",
    "    [180,1],\n",
    "    [160,0],\n",
    "    [169,0]\n",
    "])\n",
    "y_test=[65,96,52,67]\n",
    "\n",
    "k=3\n",
    "clf=KNeighborsRegressor(n_neighbors=k)\n",
    "clf.fit(x_train,y_train)\n",
    "predictions=clf.predict(x_test)\n",
    "print(\"predicted weights: %s\"%(predictions))\n",
    "print(\"coefficient of detemination: %s\"%(r2_score(y_test,predictions)))\n",
    "print(\"mean absolute error: %s\"%(mean_absolute_error(y_test,predictions)))\n",
    "print(\"mean squared error: %s\"%(mean_squared_error(y_test,predictions)))"
   ]
  },
  {
   "cell_type": "code",
   "execution_count": 57,
   "metadata": {},
   "outputs": [
    {
     "name": "stdout",
     "output_type": "stream",
     "text": [
      "40.01249804748511\n",
      "60.0\n",
      "1.6404877323527902\n",
      "0.6428063471995278\n"
     ]
    }
   ],
   "source": [
    "from scipy.spatial.distance import euclidean\n",
    "\n",
    "x_train1=array([\n",
    "    [1600,0],\n",
    "    [1700,1]\n",
    "])\n",
    "x_test1=array([1640,1]).reshape(1,-1)\n",
    "print(euclidean(x_train1[0,:],x_test1))\n",
    "print(euclidean(x_train1[1,:],x_test1))\n",
    "\n",
    "x_train2=array([\n",
    "    [1.6,0],\n",
    "    [1.7,1]\n",
    "])\n",
    "x_test2=array([1.64]).reshape(1,-1)\n",
    "print(euclidean(x_train2[0,:],x_test2))\n",
    "print(euclidean(x_train2[1,:],x_test2))"
   ]
  },
  {
   "cell_type": "code",
   "execution_count": 62,
   "metadata": {},
   "outputs": [
    {
     "name": "stdout",
     "output_type": "stream",
     "text": [
      "[[158   1]\n",
      " [170   1]\n",
      " [183   1]\n",
      " [191   1]\n",
      " [155   0]\n",
      " [163   0]\n",
      " [180   0]\n",
      " [158   0]\n",
      " [170   0]]\n",
      "[[-0.9908706   1.11803399]\n",
      " [ 0.01869567  1.11803399]\n",
      " [ 1.11239246  1.11803399]\n",
      " [ 1.78543664  1.11803399]\n",
      " [-1.24326216 -0.89442719]\n",
      " [-0.57021798 -0.89442719]\n",
      " [ 0.86000089 -0.89442719]\n",
      " [-0.9908706  -0.89442719]\n",
      " [ 0.01869567 -0.89442719]]\n",
      "predicted weights: [78.         83.33333333 54.         64.33333333]\n",
      "coefficient of determination: 0.6706425961745109\n",
      "mean absolute error: 7.583333333333336\n",
      "mean squared error: 85.13888888888893\n"
     ]
    }
   ],
   "source": [
    "from sklearn.preprocessing import StandardScaler\n",
    "\n",
    "ss=StandardScaler()\n",
    "x_train_scaled=ss.fit_transform(x_train)\n",
    "print(x_train)\n",
    "print(x_train_scaled)\n",
    "\n",
    "x_test_scaled=ss.transform(x_test)\n",
    "clf.fit(x_train_scaled,y_train)\n",
    "predictions=clf.predict(x_test_scaled)\n",
    "print(\"predicted weights: %s\"%(predictions))\n",
    "print(\"coefficient of determination: %s\"%(r2_score(y_test,predictions)))\n",
    "print(\"mean absolute error: %s\"%(mean_absolute_error(y_test,predictions)))\n",
    "print(\"mean squared error: %s\"%(mean_squared_error(y_test,predictions)))"
   ]
  },
  {
   "cell_type": "code",
   "execution_count": 63,
   "metadata": {},
   "outputs": [
    {
     "data": {
      "text/plain": [
       "array([[-0.9908706 ,  1.11803399],\n",
       "       [ 0.01869567,  1.11803399],\n",
       "       [ 1.11239246,  1.11803399],\n",
       "       [ 1.78543664,  1.11803399],\n",
       "       [-1.24326216, -0.89442719],\n",
       "       [-0.57021798, -0.89442719],\n",
       "       [ 0.86000089, -0.89442719],\n",
       "       [-0.9908706 , -0.89442719],\n",
       "       [ 0.01869567, -0.89442719]])"
      ]
     },
     "execution_count": 63,
     "metadata": {},
     "output_type": "execute_result"
    }
   ],
   "source": [
    "ss.transform(x_train)"
   ]
  },
  {
   "cell_type": "markdown",
   "metadata": {},
   "source": [
    "Chapter 4: Feature Extraction"
   ]
  },
  {
   "cell_type": "code",
   "execution_count": 68,
   "metadata": {},
   "outputs": [
    {
     "name": "stdout",
     "output_type": "stream",
     "text": [
      "[[0. 1. 0.]\n",
      " [0. 0. 1.]\n",
      " [1. 0. 0.]]\n"
     ]
    }
   ],
   "source": [
    "from sklearn.feature_extraction import DictVectorizer\n",
    "\n",
    "one_hot_encoder=DictVectorizer()\n",
    "x=[\n",
    "    {'city':'New York'},\n",
    "    {'city':'San Francisco'},\n",
    "    {'city':'Chapel Hill'}\n",
    "]\n",
    "print(one_hot_encoder.fit_transform(x).toarray()) #turn x into a array."
   ]
  },
  {
   "cell_type": "code",
   "execution_count": 72,
   "metadata": {},
   "outputs": [
    {
     "name": "stdout",
     "output_type": "stream",
     "text": [
      "[[ 0.         -0.70710678 -1.38873015  0.52489066  0.59299945 -1.35873244]\n",
      " [ 0.         -0.70710678  0.46291005  0.87481777  0.81537425  1.01904933]\n",
      " [ 0.          1.41421356  0.9258201  -1.39970842 -1.4083737   0.33968311]]\n",
      "[[ 0.          0.         -1.6         0.          0.         -1.42857143]\n",
      " [ 0.          0.          0.          0.30769231  0.2         0.57142857]\n",
      " [ 0.          2.          0.4        -1.69230769 -1.8         0.        ]]\n"
     ]
    }
   ],
   "source": [
    "from sklearn import preprocessing\n",
    "from sklearn.preprocessing import RobustScaler\n",
    "\n",
    "x=array([\n",
    "    [0,0,5,13,9,1],\n",
    "    [0,0,13,15,10,15],\n",
    "    [0,3,15,2,0,11]\n",
    "])\n",
    "print(preprocessing.scale(x))\n",
    "print(RobustScaler().fit_transform(x))"
   ]
  },
  {
   "cell_type": "code",
   "execution_count": 74,
   "metadata": {},
   "outputs": [
    {
     "name": "stdout",
     "output_type": "stream",
     "text": [
      "[[1 1 0 1 0 1 0 1]\n",
      " [1 1 1 0 1 0 1 0]]\n",
      "{'unc': 7, 'played': 5, 'duke': 1, 'in': 3, 'basketball': 0, 'lost': 4, 'the': 6, 'game': 2}\n"
     ]
    }
   ],
   "source": [
    "corpus=[\n",
    "    'UNC played Duke in basketball',\n",
    "    'Duke lost the basketball game'\n",
    "]\n",
    "\n",
    "from sklearn.feature_extraction.text import CountVectorizer\n",
    "\n",
    "vectorizer=CountVectorizer() #only extract the string whose length equals to or is greater than 2.\n",
    "print(vectorizer.fit_transform(corpus).todense())\n",
    "print(vectorizer.vocabulary_)"
   ]
  },
  {
   "cell_type": "code",
   "execution_count": 75,
   "metadata": {},
   "outputs": [
    {
     "name": "stdout",
     "output_type": "stream",
     "text": [
      "[[0 1 1 0 1 0 1 0 0 1]\n",
      " [0 1 1 1 0 1 0 0 1 0]\n",
      " [1 0 0 0 0 0 0 1 0 0]]\n",
      "{'unc': 9, 'played': 6, 'duke': 2, 'in': 4, 'basketball': 1, 'lost': 5, 'the': 8, 'game': 3, 'ate': 0, 'sandwich': 7}\n"
     ]
    }
   ],
   "source": [
    "corpus.append('I ate a sandwich')\n",
    "print(vectorizer.fit_transform(corpus).todense()) #todense() returns a matrix while toarray() returns an array.\n",
    "print(vectorizer.vocabulary_) #show the vocabulary of corpus."
   ]
  },
  {
   "cell_type": "code",
   "execution_count": 79,
   "metadata": {},
   "outputs": [
    {
     "name": "stdout",
     "output_type": "stream",
     "text": [
      "the distance between the 1st and the 2nd vectors is: 2.449.\n",
      "the distance between the 2nd and the 3rd vectors is: 2.646.\n",
      "the distance between the 3rd and the 1st vectors is: 2.646.\n"
     ]
    }
   ],
   "source": [
    "from sklearn.metrics.pairwise import euclidean_distances\n",
    "\n",
    "x=vectorizer.fit_transform(corpus).todense()\n",
    "print(\"the distance between the 1st and the 2nd vectors is: %.3f.\"%(euclidean_distances(x[0],x[1])))\n",
    "print(\"the distance between the 2nd and the 3rd vectors is: %.3f.\"%(euclidean_distances(x[1],x[2])))\n",
    "print(\"the distance between the 3rd and the 1st vectors is: %.3f.\"%(euclidean_distances(x[2],x[0])))"
   ]
  },
  {
   "cell_type": "code",
   "execution_count": 81,
   "metadata": {},
   "outputs": [
    {
     "name": "stdout",
     "output_type": "stream",
     "text": [
      "[[0 1 1 0 0 1 0 1]\n",
      " [0 1 1 1 1 0 0 0]\n",
      " [1 0 0 0 0 0 1 0]]\n",
      "{'unc': 7, 'played': 5, 'duke': 2, 'basketball': 1, 'lost': 4, 'game': 3, 'ate': 0, 'sandwich': 6}\n"
     ]
    }
   ],
   "source": [
    "#filter the stoped words in english language thus reducing dementionality.\n",
    "vectorizer_new=CountVectorizer(stop_words='english')\n",
    "print(vectorizer_new.fit_transform(corpus).todense())\n",
    "print(vectorizer_new.vocabulary_)"
   ]
  },
  {
   "cell_type": "code",
   "execution_count": 13,
   "metadata": {},
   "outputs": [
    {
     "ename": "LookupError",
     "evalue": "\n**********************************************************************\n  Resource \u001b[93mwordnet\u001b[0m not found.\n  Please use the NLTK Downloader to obtain the resource:\n\n  \u001b[31m>>> import nltk\n  >>> nltk.download('wordnet')\n  \u001b[0m\n  For more information see: https://www.nltk.org/data.html\n\n  Attempted to load \u001b[93mcorpora/wordnet\u001b[0m\n\n  Searched in:\n    - '/home/stevenxu/nltk_data'\n    - '/usr/nltk_data'\n    - '/usr/share/nltk_data'\n    - '/usr/lib/nltk_data'\n    - '/usr/share/nltk_data'\n    - '/usr/local/share/nltk_data'\n    - '/usr/lib/nltk_data'\n    - '/usr/local/lib/nltk_data'\n**********************************************************************\n",
     "output_type": "error",
     "traceback": [
      "\u001b[0;31m---------------------------------------------------------------------------\u001b[0m",
      "\u001b[0;31mLookupError\u001b[0m                               Traceback (most recent call last)",
      "\u001b[0;32m~/.local/lib/python3.6/site-packages/nltk/corpus/util.py\u001b[0m in \u001b[0;36m__load\u001b[0;34m(self)\u001b[0m\n\u001b[1;32m     82\u001b[0m                 \u001b[0;32mtry\u001b[0m\u001b[0;34m:\u001b[0m\u001b[0;34m\u001b[0m\u001b[0;34m\u001b[0m\u001b[0m\n\u001b[0;32m---> 83\u001b[0;31m                     \u001b[0mroot\u001b[0m \u001b[0;34m=\u001b[0m \u001b[0mnltk\u001b[0m\u001b[0;34m.\u001b[0m\u001b[0mdata\u001b[0m\u001b[0;34m.\u001b[0m\u001b[0mfind\u001b[0m\u001b[0;34m(\u001b[0m\u001b[0;34m\"{}/{}\"\u001b[0m\u001b[0;34m.\u001b[0m\u001b[0mformat\u001b[0m\u001b[0;34m(\u001b[0m\u001b[0mself\u001b[0m\u001b[0;34m.\u001b[0m\u001b[0msubdir\u001b[0m\u001b[0;34m,\u001b[0m \u001b[0mzip_name\u001b[0m\u001b[0;34m)\u001b[0m\u001b[0;34m)\u001b[0m\u001b[0;34m\u001b[0m\u001b[0;34m\u001b[0m\u001b[0m\n\u001b[0m\u001b[1;32m     84\u001b[0m                 \u001b[0;32mexcept\u001b[0m \u001b[0mLookupError\u001b[0m\u001b[0;34m:\u001b[0m\u001b[0;34m\u001b[0m\u001b[0;34m\u001b[0m\u001b[0m\n",
      "\u001b[0;32m~/.local/lib/python3.6/site-packages/nltk/data.py\u001b[0m in \u001b[0;36mfind\u001b[0;34m(resource_name, paths)\u001b[0m\n\u001b[1;32m    584\u001b[0m     \u001b[0mresource_not_found\u001b[0m \u001b[0;34m=\u001b[0m \u001b[0;34m\"\\n%s\\n%s\\n%s\\n\"\u001b[0m \u001b[0;34m%\u001b[0m \u001b[0;34m(\u001b[0m\u001b[0msep\u001b[0m\u001b[0;34m,\u001b[0m \u001b[0mmsg\u001b[0m\u001b[0;34m,\u001b[0m \u001b[0msep\u001b[0m\u001b[0;34m)\u001b[0m\u001b[0;34m\u001b[0m\u001b[0;34m\u001b[0m\u001b[0m\n\u001b[0;32m--> 585\u001b[0;31m     \u001b[0;32mraise\u001b[0m \u001b[0mLookupError\u001b[0m\u001b[0;34m(\u001b[0m\u001b[0mresource_not_found\u001b[0m\u001b[0;34m)\u001b[0m\u001b[0;34m\u001b[0m\u001b[0;34m\u001b[0m\u001b[0m\n\u001b[0m\u001b[1;32m    586\u001b[0m \u001b[0;34m\u001b[0m\u001b[0m\n",
      "\u001b[0;31mLookupError\u001b[0m: \n**********************************************************************\n  Resource \u001b[93mwordnet\u001b[0m not found.\n  Please use the NLTK Downloader to obtain the resource:\n\n  \u001b[31m>>> import nltk\n  >>> nltk.download('wordnet')\n  \u001b[0m\n  For more information see: https://www.nltk.org/data.html\n\n  Attempted to load \u001b[93mcorpora/wordnet.zip/wordnet/\u001b[0m\n\n  Searched in:\n    - '/home/stevenxu/nltk_data'\n    - '/usr/nltk_data'\n    - '/usr/share/nltk_data'\n    - '/usr/lib/nltk_data'\n    - '/usr/share/nltk_data'\n    - '/usr/local/share/nltk_data'\n    - '/usr/lib/nltk_data'\n    - '/usr/local/lib/nltk_data'\n**********************************************************************\n",
      "\nDuring handling of the above exception, another exception occurred:\n",
      "\u001b[0;31mLookupError\u001b[0m                               Traceback (most recent call last)",
      "\u001b[0;32m<ipython-input-13-bbfa5cb39f5c>\u001b[0m in \u001b[0;36m<module>\u001b[0;34m\u001b[0m\n\u001b[1;32m      2\u001b[0m \u001b[0;34m\u001b[0m\u001b[0m\n\u001b[1;32m      3\u001b[0m \u001b[0mlemmatizer\u001b[0m\u001b[0;34m=\u001b[0m\u001b[0mWordNetLemmatizer\u001b[0m\u001b[0;34m(\u001b[0m\u001b[0;34m)\u001b[0m\u001b[0;34m\u001b[0m\u001b[0;34m\u001b[0m\u001b[0m\n\u001b[0;32m----> 4\u001b[0;31m \u001b[0mprint\u001b[0m\u001b[0;34m(\u001b[0m\u001b[0mlemmatizer\u001b[0m\u001b[0;34m.\u001b[0m\u001b[0mlemmatize\u001b[0m\u001b[0;34m(\u001b[0m\u001b[0;34m'gathering'\u001b[0m\u001b[0;34m,\u001b[0m\u001b[0;34m'v'\u001b[0m\u001b[0;34m)\u001b[0m\u001b[0;34m)\u001b[0m\u001b[0;34m\u001b[0m\u001b[0;34m\u001b[0m\u001b[0m\n\u001b[0m\u001b[1;32m      5\u001b[0m \u001b[0mprint\u001b[0m\u001b[0;34m(\u001b[0m\u001b[0mlemmatizer\u001b[0m\u001b[0;34m.\u001b[0m\u001b[0mlemmatize\u001b[0m\u001b[0;34m(\u001b[0m\u001b[0;34m'gathering'\u001b[0m\u001b[0;34m,\u001b[0m\u001b[0;34m'n'\u001b[0m\u001b[0;34m)\u001b[0m\u001b[0;34m)\u001b[0m\u001b[0;34m\u001b[0m\u001b[0;34m\u001b[0m\u001b[0m\n",
      "\u001b[0;32m~/.local/lib/python3.6/site-packages/nltk/stem/wordnet.py\u001b[0m in \u001b[0;36mlemmatize\u001b[0;34m(self, word, pos)\u001b[0m\n\u001b[1;32m     36\u001b[0m \u001b[0;34m\u001b[0m\u001b[0m\n\u001b[1;32m     37\u001b[0m     \u001b[0;32mdef\u001b[0m \u001b[0mlemmatize\u001b[0m\u001b[0;34m(\u001b[0m\u001b[0mself\u001b[0m\u001b[0;34m,\u001b[0m \u001b[0mword\u001b[0m\u001b[0;34m,\u001b[0m \u001b[0mpos\u001b[0m\u001b[0;34m=\u001b[0m\u001b[0mNOUN\u001b[0m\u001b[0;34m)\u001b[0m\u001b[0;34m:\u001b[0m\u001b[0;34m\u001b[0m\u001b[0;34m\u001b[0m\u001b[0m\n\u001b[0;32m---> 38\u001b[0;31m         \u001b[0mlemmas\u001b[0m \u001b[0;34m=\u001b[0m \u001b[0mwordnet\u001b[0m\u001b[0;34m.\u001b[0m\u001b[0m_morphy\u001b[0m\u001b[0;34m(\u001b[0m\u001b[0mword\u001b[0m\u001b[0;34m,\u001b[0m \u001b[0mpos\u001b[0m\u001b[0;34m)\u001b[0m\u001b[0;34m\u001b[0m\u001b[0;34m\u001b[0m\u001b[0m\n\u001b[0m\u001b[1;32m     39\u001b[0m         \u001b[0;32mreturn\u001b[0m \u001b[0mmin\u001b[0m\u001b[0;34m(\u001b[0m\u001b[0mlemmas\u001b[0m\u001b[0;34m,\u001b[0m \u001b[0mkey\u001b[0m\u001b[0;34m=\u001b[0m\u001b[0mlen\u001b[0m\u001b[0;34m)\u001b[0m \u001b[0;32mif\u001b[0m \u001b[0mlemmas\u001b[0m \u001b[0;32melse\u001b[0m \u001b[0mword\u001b[0m\u001b[0;34m\u001b[0m\u001b[0;34m\u001b[0m\u001b[0m\n\u001b[1;32m     40\u001b[0m \u001b[0;34m\u001b[0m\u001b[0m\n",
      "\u001b[0;32m~/.local/lib/python3.6/site-packages/nltk/corpus/util.py\u001b[0m in \u001b[0;36m__getattr__\u001b[0;34m(self, attr)\u001b[0m\n\u001b[1;32m    118\u001b[0m             \u001b[0;32mraise\u001b[0m \u001b[0mAttributeError\u001b[0m\u001b[0;34m(\u001b[0m\u001b[0;34m\"LazyCorpusLoader object has no attribute '__bases__'\"\u001b[0m\u001b[0;34m)\u001b[0m\u001b[0;34m\u001b[0m\u001b[0;34m\u001b[0m\u001b[0m\n\u001b[1;32m    119\u001b[0m \u001b[0;34m\u001b[0m\u001b[0m\n\u001b[0;32m--> 120\u001b[0;31m         \u001b[0mself\u001b[0m\u001b[0;34m.\u001b[0m\u001b[0m__load\u001b[0m\u001b[0;34m(\u001b[0m\u001b[0;34m)\u001b[0m\u001b[0;34m\u001b[0m\u001b[0;34m\u001b[0m\u001b[0m\n\u001b[0m\u001b[1;32m    121\u001b[0m         \u001b[0;31m# This looks circular, but its not, since __load() changes our\u001b[0m\u001b[0;34m\u001b[0m\u001b[0;34m\u001b[0m\u001b[0;34m\u001b[0m\u001b[0m\n\u001b[1;32m    122\u001b[0m         \u001b[0;31m# __class__ to something new:\u001b[0m\u001b[0;34m\u001b[0m\u001b[0;34m\u001b[0m\u001b[0;34m\u001b[0m\u001b[0m\n",
      "\u001b[0;32m~/.local/lib/python3.6/site-packages/nltk/corpus/util.py\u001b[0m in \u001b[0;36m__load\u001b[0;34m(self)\u001b[0m\n\u001b[1;32m     83\u001b[0m                     \u001b[0mroot\u001b[0m \u001b[0;34m=\u001b[0m \u001b[0mnltk\u001b[0m\u001b[0;34m.\u001b[0m\u001b[0mdata\u001b[0m\u001b[0;34m.\u001b[0m\u001b[0mfind\u001b[0m\u001b[0;34m(\u001b[0m\u001b[0;34m\"{}/{}\"\u001b[0m\u001b[0;34m.\u001b[0m\u001b[0mformat\u001b[0m\u001b[0;34m(\u001b[0m\u001b[0mself\u001b[0m\u001b[0;34m.\u001b[0m\u001b[0msubdir\u001b[0m\u001b[0;34m,\u001b[0m \u001b[0mzip_name\u001b[0m\u001b[0;34m)\u001b[0m\u001b[0;34m)\u001b[0m\u001b[0;34m\u001b[0m\u001b[0;34m\u001b[0m\u001b[0m\n\u001b[1;32m     84\u001b[0m                 \u001b[0;32mexcept\u001b[0m \u001b[0mLookupError\u001b[0m\u001b[0;34m:\u001b[0m\u001b[0;34m\u001b[0m\u001b[0;34m\u001b[0m\u001b[0m\n\u001b[0;32m---> 85\u001b[0;31m                     \u001b[0;32mraise\u001b[0m \u001b[0me\u001b[0m\u001b[0;34m\u001b[0m\u001b[0;34m\u001b[0m\u001b[0m\n\u001b[0m\u001b[1;32m     86\u001b[0m \u001b[0;34m\u001b[0m\u001b[0m\n\u001b[1;32m     87\u001b[0m         \u001b[0;31m# Load the corpus.\u001b[0m\u001b[0;34m\u001b[0m\u001b[0;34m\u001b[0m\u001b[0;34m\u001b[0m\u001b[0m\n",
      "\u001b[0;32m~/.local/lib/python3.6/site-packages/nltk/corpus/util.py\u001b[0m in \u001b[0;36m__load\u001b[0;34m(self)\u001b[0m\n\u001b[1;32m     78\u001b[0m         \u001b[0;32melse\u001b[0m\u001b[0;34m:\u001b[0m\u001b[0;34m\u001b[0m\u001b[0;34m\u001b[0m\u001b[0m\n\u001b[1;32m     79\u001b[0m             \u001b[0;32mtry\u001b[0m\u001b[0;34m:\u001b[0m\u001b[0;34m\u001b[0m\u001b[0;34m\u001b[0m\u001b[0m\n\u001b[0;32m---> 80\u001b[0;31m                 \u001b[0mroot\u001b[0m \u001b[0;34m=\u001b[0m \u001b[0mnltk\u001b[0m\u001b[0;34m.\u001b[0m\u001b[0mdata\u001b[0m\u001b[0;34m.\u001b[0m\u001b[0mfind\u001b[0m\u001b[0;34m(\u001b[0m\u001b[0;34m\"{}/{}\"\u001b[0m\u001b[0;34m.\u001b[0m\u001b[0mformat\u001b[0m\u001b[0;34m(\u001b[0m\u001b[0mself\u001b[0m\u001b[0;34m.\u001b[0m\u001b[0msubdir\u001b[0m\u001b[0;34m,\u001b[0m \u001b[0mself\u001b[0m\u001b[0;34m.\u001b[0m\u001b[0m__name\u001b[0m\u001b[0;34m)\u001b[0m\u001b[0;34m)\u001b[0m\u001b[0;34m\u001b[0m\u001b[0;34m\u001b[0m\u001b[0m\n\u001b[0m\u001b[1;32m     81\u001b[0m             \u001b[0;32mexcept\u001b[0m \u001b[0mLookupError\u001b[0m \u001b[0;32mas\u001b[0m \u001b[0me\u001b[0m\u001b[0;34m:\u001b[0m\u001b[0;34m\u001b[0m\u001b[0;34m\u001b[0m\u001b[0m\n\u001b[1;32m     82\u001b[0m                 \u001b[0;32mtry\u001b[0m\u001b[0;34m:\u001b[0m\u001b[0;34m\u001b[0m\u001b[0;34m\u001b[0m\u001b[0m\n",
      "\u001b[0;32m~/.local/lib/python3.6/site-packages/nltk/data.py\u001b[0m in \u001b[0;36mfind\u001b[0;34m(resource_name, paths)\u001b[0m\n\u001b[1;32m    583\u001b[0m     \u001b[0msep\u001b[0m \u001b[0;34m=\u001b[0m \u001b[0;34m\"*\"\u001b[0m \u001b[0;34m*\u001b[0m \u001b[0;36m70\u001b[0m\u001b[0;34m\u001b[0m\u001b[0;34m\u001b[0m\u001b[0m\n\u001b[1;32m    584\u001b[0m     \u001b[0mresource_not_found\u001b[0m \u001b[0;34m=\u001b[0m \u001b[0;34m\"\\n%s\\n%s\\n%s\\n\"\u001b[0m \u001b[0;34m%\u001b[0m \u001b[0;34m(\u001b[0m\u001b[0msep\u001b[0m\u001b[0;34m,\u001b[0m \u001b[0mmsg\u001b[0m\u001b[0;34m,\u001b[0m \u001b[0msep\u001b[0m\u001b[0;34m)\u001b[0m\u001b[0;34m\u001b[0m\u001b[0;34m\u001b[0m\u001b[0m\n\u001b[0;32m--> 585\u001b[0;31m     \u001b[0;32mraise\u001b[0m \u001b[0mLookupError\u001b[0m\u001b[0;34m(\u001b[0m\u001b[0mresource_not_found\u001b[0m\u001b[0;34m)\u001b[0m\u001b[0;34m\u001b[0m\u001b[0;34m\u001b[0m\u001b[0m\n\u001b[0m\u001b[1;32m    586\u001b[0m \u001b[0;34m\u001b[0m\u001b[0m\n\u001b[1;32m    587\u001b[0m \u001b[0;34m\u001b[0m\u001b[0m\n",
      "\u001b[0;31mLookupError\u001b[0m: \n**********************************************************************\n  Resource \u001b[93mwordnet\u001b[0m not found.\n  Please use the NLTK Downloader to obtain the resource:\n\n  \u001b[31m>>> import nltk\n  >>> nltk.download('wordnet')\n  \u001b[0m\n  For more information see: https://www.nltk.org/data.html\n\n  Attempted to load \u001b[93mcorpora/wordnet\u001b[0m\n\n  Searched in:\n    - '/home/stevenxu/nltk_data'\n    - '/usr/nltk_data'\n    - '/usr/share/nltk_data'\n    - '/usr/lib/nltk_data'\n    - '/usr/share/nltk_data'\n    - '/usr/local/share/nltk_data'\n    - '/usr/lib/nltk_data'\n    - '/usr/local/lib/nltk_data'\n**********************************************************************\n"
     ]
    }
   ],
   "source": [
    "from nltk.stem.wordnet import WordNetLemmatizer\n",
    "\n",
    "lemmatizer=WordNetLemmatizer()\n",
    "print(lemmatizer.lemmatize('gathering','v'))\n",
    "print(lemmatizer.lemmatize('gathering','n'))"
   ]
  },
  {
   "cell_type": "code",
   "execution_count": 5,
   "metadata": {},
   "outputs": [
    {
     "name": "stderr",
     "output_type": "stream",
     "text": [
      "[nltk_data] Error loading wordnet: <urlopen error [Errno 111]\n",
      "[nltk_data]     Connection refused>\n"
     ]
    },
    {
     "data": {
      "text/plain": [
       "False"
      ]
     },
     "execution_count": 5,
     "metadata": {},
     "output_type": "execute_result"
    }
   ],
   "source": [
    "import nltk\n",
    "nltk.download('wordnet')"
   ]
  },
  {
   "cell_type": "code",
   "execution_count": 7,
   "metadata": {},
   "outputs": [
    {
     "data": {
      "text/plain": [
       "0"
      ]
     },
     "execution_count": 7,
     "metadata": {},
     "output_type": "execute_result"
    }
   ],
   "source": [
    "a=[1,2,3,4,5,6]\n",
    "a.count('1')"
   ]
  },
  {
   "cell_type": "code",
   "execution_count": 2,
   "metadata": {},
   "outputs": [],
   "source": [
    "import nltk"
   ]
  },
  {
   "cell_type": "code",
   "execution_count": 23,
   "metadata": {},
   "outputs": [
    {
     "name": "stdout",
     "output_type": "stream",
     "text": [
      "gather\n"
     ]
    }
   ],
   "source": [
    "from nltk.stem import PorterStemmer\n",
    "stemmer=PorterStemmer()\n",
    "print(stemmer.stem('gathering'))"
   ]
  },
  {
   "cell_type": "code",
   "execution_count": 45,
   "metadata": {},
   "outputs": [
    {
     "ename": "LookupError",
     "evalue": "\n**********************************************************************\n  Resource \u001b[93mpunkt\u001b[0m not found.\n  Please use the NLTK Downloader to obtain the resource:\n\n  \u001b[31m>>> import nltk\n  >>> nltk.download('punkt')\n  \u001b[0m\n  For more information see: https://www.nltk.org/data.html\n\n  Attempted to load \u001b[93mtokenizers/punkt/PY3/english.pickle\u001b[0m\n\n  Searched in:\n    - '/home/stevenxu/nltk_data'\n    - '/usr/nltk_data'\n    - '/usr/share/nltk_data'\n    - '/usr/lib/nltk_data'\n    - '/usr/share/nltk_data'\n    - '/usr/local/share/nltk_data'\n    - '/usr/lib/nltk_data'\n    - '/usr/local/lib/nltk_data'\n    - ''\n**********************************************************************\n",
     "output_type": "error",
     "traceback": [
      "\u001b[0;31m---------------------------------------------------------------------------\u001b[0m",
      "\u001b[0;31mLookupError\u001b[0m                               Traceback (most recent call last)",
      "\u001b[0;32m<ipython-input-45-c9f46eecd000>\u001b[0m in \u001b[0;36m<module>\u001b[0;34m\u001b[0m\n\u001b[1;32m     10\u001b[0m ]\n\u001b[1;32m     11\u001b[0m \u001b[0mstemmer\u001b[0m\u001b[0;34m=\u001b[0m\u001b[0mPorterStemmer\u001b[0m\u001b[0;34m(\u001b[0m\u001b[0;34m)\u001b[0m\u001b[0;34m\u001b[0m\u001b[0;34m\u001b[0m\u001b[0m\n\u001b[0;32m---> 12\u001b[0;31m \u001b[0mprint\u001b[0m\u001b[0;34m(\u001b[0m\u001b[0;34m\"stemmed:\"\u001b[0m\u001b[0;34m,\u001b[0m\u001b[0;34m[\u001b[0m\u001b[0;34m[\u001b[0m\u001b[0mstemmer\u001b[0m\u001b[0;34m.\u001b[0m\u001b[0mstem\u001b[0m\u001b[0;34m(\u001b[0m\u001b[0mtoken\u001b[0m\u001b[0;34m)\u001b[0m \u001b[0;32mfor\u001b[0m \u001b[0mtoken\u001b[0m \u001b[0;32min\u001b[0m \u001b[0mword_tokenize\u001b[0m\u001b[0;34m(\u001b[0m\u001b[0mdocument\u001b[0m\u001b[0;34m)\u001b[0m\u001b[0;34m]\u001b[0m \u001b[0;32mfor\u001b[0m \u001b[0mdocument\u001b[0m \u001b[0;32min\u001b[0m \u001b[0mcorpus\u001b[0m\u001b[0;34m]\u001b[0m\u001b[0;34m)\u001b[0m\u001b[0;34m\u001b[0m\u001b[0;34m\u001b[0m\u001b[0m\n\u001b[0m\u001b[1;32m     13\u001b[0m \u001b[0;34m\u001b[0m\u001b[0m\n\u001b[1;32m     14\u001b[0m \u001b[0;32mdef\u001b[0m \u001b[0mlemmatize\u001b[0m\u001b[0;34m(\u001b[0m\u001b[0mtoken\u001b[0m\u001b[0;34m,\u001b[0m\u001b[0mtag\u001b[0m\u001b[0;34m)\u001b[0m\u001b[0;34m:\u001b[0m\u001b[0;34m\u001b[0m\u001b[0;34m\u001b[0m\u001b[0m\n",
      "\u001b[0;32m<ipython-input-45-c9f46eecd000>\u001b[0m in \u001b[0;36m<listcomp>\u001b[0;34m(.0)\u001b[0m\n\u001b[1;32m     10\u001b[0m ]\n\u001b[1;32m     11\u001b[0m \u001b[0mstemmer\u001b[0m\u001b[0;34m=\u001b[0m\u001b[0mPorterStemmer\u001b[0m\u001b[0;34m(\u001b[0m\u001b[0;34m)\u001b[0m\u001b[0;34m\u001b[0m\u001b[0;34m\u001b[0m\u001b[0m\n\u001b[0;32m---> 12\u001b[0;31m \u001b[0mprint\u001b[0m\u001b[0;34m(\u001b[0m\u001b[0;34m\"stemmed:\"\u001b[0m\u001b[0;34m,\u001b[0m\u001b[0;34m[\u001b[0m\u001b[0;34m[\u001b[0m\u001b[0mstemmer\u001b[0m\u001b[0;34m.\u001b[0m\u001b[0mstem\u001b[0m\u001b[0;34m(\u001b[0m\u001b[0mtoken\u001b[0m\u001b[0;34m)\u001b[0m \u001b[0;32mfor\u001b[0m \u001b[0mtoken\u001b[0m \u001b[0;32min\u001b[0m \u001b[0mword_tokenize\u001b[0m\u001b[0;34m(\u001b[0m\u001b[0mdocument\u001b[0m\u001b[0;34m)\u001b[0m\u001b[0;34m]\u001b[0m \u001b[0;32mfor\u001b[0m \u001b[0mdocument\u001b[0m \u001b[0;32min\u001b[0m \u001b[0mcorpus\u001b[0m\u001b[0;34m]\u001b[0m\u001b[0;34m)\u001b[0m\u001b[0;34m\u001b[0m\u001b[0;34m\u001b[0m\u001b[0m\n\u001b[0m\u001b[1;32m     13\u001b[0m \u001b[0;34m\u001b[0m\u001b[0m\n\u001b[1;32m     14\u001b[0m \u001b[0;32mdef\u001b[0m \u001b[0mlemmatize\u001b[0m\u001b[0;34m(\u001b[0m\u001b[0mtoken\u001b[0m\u001b[0;34m,\u001b[0m\u001b[0mtag\u001b[0m\u001b[0;34m)\u001b[0m\u001b[0;34m:\u001b[0m\u001b[0;34m\u001b[0m\u001b[0;34m\u001b[0m\u001b[0m\n",
      "\u001b[0;32m~/.local/lib/python3.6/site-packages/nltk/tokenize/__init__.py\u001b[0m in \u001b[0;36mword_tokenize\u001b[0;34m(text, language, preserve_line)\u001b[0m\n\u001b[1;32m    127\u001b[0m     \u001b[0;34m:\u001b[0m\u001b[0mtype\u001b[0m \u001b[0mpreserve_line\u001b[0m\u001b[0;34m:\u001b[0m \u001b[0mbool\u001b[0m\u001b[0;34m\u001b[0m\u001b[0;34m\u001b[0m\u001b[0m\n\u001b[1;32m    128\u001b[0m     \"\"\"\n\u001b[0;32m--> 129\u001b[0;31m     \u001b[0msentences\u001b[0m \u001b[0;34m=\u001b[0m \u001b[0;34m[\u001b[0m\u001b[0mtext\u001b[0m\u001b[0;34m]\u001b[0m \u001b[0;32mif\u001b[0m \u001b[0mpreserve_line\u001b[0m \u001b[0;32melse\u001b[0m \u001b[0msent_tokenize\u001b[0m\u001b[0;34m(\u001b[0m\u001b[0mtext\u001b[0m\u001b[0;34m,\u001b[0m \u001b[0mlanguage\u001b[0m\u001b[0;34m)\u001b[0m\u001b[0;34m\u001b[0m\u001b[0;34m\u001b[0m\u001b[0m\n\u001b[0m\u001b[1;32m    130\u001b[0m     return [\n\u001b[1;32m    131\u001b[0m         \u001b[0mtoken\u001b[0m \u001b[0;32mfor\u001b[0m \u001b[0msent\u001b[0m \u001b[0;32min\u001b[0m \u001b[0msentences\u001b[0m \u001b[0;32mfor\u001b[0m \u001b[0mtoken\u001b[0m \u001b[0;32min\u001b[0m \u001b[0m_treebank_word_tokenizer\u001b[0m\u001b[0;34m.\u001b[0m\u001b[0mtokenize\u001b[0m\u001b[0;34m(\u001b[0m\u001b[0msent\u001b[0m\u001b[0;34m)\u001b[0m\u001b[0;34m\u001b[0m\u001b[0;34m\u001b[0m\u001b[0m\n",
      "\u001b[0;32m~/.local/lib/python3.6/site-packages/nltk/tokenize/__init__.py\u001b[0m in \u001b[0;36msent_tokenize\u001b[0;34m(text, language)\u001b[0m\n\u001b[1;32m    104\u001b[0m     \u001b[0;34m:\u001b[0m\u001b[0mparam\u001b[0m \u001b[0mlanguage\u001b[0m\u001b[0;34m:\u001b[0m \u001b[0mthe\u001b[0m \u001b[0mmodel\u001b[0m \u001b[0mname\u001b[0m \u001b[0;32min\u001b[0m \u001b[0mthe\u001b[0m \u001b[0mPunkt\u001b[0m \u001b[0mcorpus\u001b[0m\u001b[0;34m\u001b[0m\u001b[0;34m\u001b[0m\u001b[0m\n\u001b[1;32m    105\u001b[0m     \"\"\"\n\u001b[0;32m--> 106\u001b[0;31m     \u001b[0mtokenizer\u001b[0m \u001b[0;34m=\u001b[0m \u001b[0mload\u001b[0m\u001b[0;34m(\u001b[0m\u001b[0;34m\"tokenizers/punkt/{0}.pickle\"\u001b[0m\u001b[0;34m.\u001b[0m\u001b[0mformat\u001b[0m\u001b[0;34m(\u001b[0m\u001b[0mlanguage\u001b[0m\u001b[0;34m)\u001b[0m\u001b[0;34m)\u001b[0m\u001b[0;34m\u001b[0m\u001b[0;34m\u001b[0m\u001b[0m\n\u001b[0m\u001b[1;32m    107\u001b[0m     \u001b[0;32mreturn\u001b[0m \u001b[0mtokenizer\u001b[0m\u001b[0;34m.\u001b[0m\u001b[0mtokenize\u001b[0m\u001b[0;34m(\u001b[0m\u001b[0mtext\u001b[0m\u001b[0;34m)\u001b[0m\u001b[0;34m\u001b[0m\u001b[0;34m\u001b[0m\u001b[0m\n\u001b[1;32m    108\u001b[0m \u001b[0;34m\u001b[0m\u001b[0m\n",
      "\u001b[0;32m~/.local/lib/python3.6/site-packages/nltk/data.py\u001b[0m in \u001b[0;36mload\u001b[0;34m(resource_url, format, cache, verbose, logic_parser, fstruct_reader, encoding)\u001b[0m\n\u001b[1;32m    750\u001b[0m \u001b[0;34m\u001b[0m\u001b[0m\n\u001b[1;32m    751\u001b[0m     \u001b[0;31m# Load the resource.\u001b[0m\u001b[0;34m\u001b[0m\u001b[0;34m\u001b[0m\u001b[0;34m\u001b[0m\u001b[0m\n\u001b[0;32m--> 752\u001b[0;31m     \u001b[0mopened_resource\u001b[0m \u001b[0;34m=\u001b[0m \u001b[0m_open\u001b[0m\u001b[0;34m(\u001b[0m\u001b[0mresource_url\u001b[0m\u001b[0;34m)\u001b[0m\u001b[0;34m\u001b[0m\u001b[0;34m\u001b[0m\u001b[0m\n\u001b[0m\u001b[1;32m    753\u001b[0m \u001b[0;34m\u001b[0m\u001b[0m\n\u001b[1;32m    754\u001b[0m     \u001b[0;32mif\u001b[0m \u001b[0mformat\u001b[0m \u001b[0;34m==\u001b[0m \u001b[0;34m\"raw\"\u001b[0m\u001b[0;34m:\u001b[0m\u001b[0;34m\u001b[0m\u001b[0;34m\u001b[0m\u001b[0m\n",
      "\u001b[0;32m~/.local/lib/python3.6/site-packages/nltk/data.py\u001b[0m in \u001b[0;36m_open\u001b[0;34m(resource_url)\u001b[0m\n\u001b[1;32m    875\u001b[0m \u001b[0;34m\u001b[0m\u001b[0m\n\u001b[1;32m    876\u001b[0m     \u001b[0;32mif\u001b[0m \u001b[0mprotocol\u001b[0m \u001b[0;32mis\u001b[0m \u001b[0;32mNone\u001b[0m \u001b[0;32mor\u001b[0m \u001b[0mprotocol\u001b[0m\u001b[0;34m.\u001b[0m\u001b[0mlower\u001b[0m\u001b[0;34m(\u001b[0m\u001b[0;34m)\u001b[0m \u001b[0;34m==\u001b[0m \u001b[0;34m\"nltk\"\u001b[0m\u001b[0;34m:\u001b[0m\u001b[0;34m\u001b[0m\u001b[0;34m\u001b[0m\u001b[0m\n\u001b[0;32m--> 877\u001b[0;31m         \u001b[0;32mreturn\u001b[0m \u001b[0mfind\u001b[0m\u001b[0;34m(\u001b[0m\u001b[0mpath_\u001b[0m\u001b[0;34m,\u001b[0m \u001b[0mpath\u001b[0m \u001b[0;34m+\u001b[0m \u001b[0;34m[\u001b[0m\u001b[0;34m\"\"\u001b[0m\u001b[0;34m]\u001b[0m\u001b[0;34m)\u001b[0m\u001b[0;34m.\u001b[0m\u001b[0mopen\u001b[0m\u001b[0;34m(\u001b[0m\u001b[0;34m)\u001b[0m\u001b[0;34m\u001b[0m\u001b[0;34m\u001b[0m\u001b[0m\n\u001b[0m\u001b[1;32m    878\u001b[0m     \u001b[0;32melif\u001b[0m \u001b[0mprotocol\u001b[0m\u001b[0;34m.\u001b[0m\u001b[0mlower\u001b[0m\u001b[0;34m(\u001b[0m\u001b[0;34m)\u001b[0m \u001b[0;34m==\u001b[0m \u001b[0;34m\"file\"\u001b[0m\u001b[0;34m:\u001b[0m\u001b[0;34m\u001b[0m\u001b[0;34m\u001b[0m\u001b[0m\n\u001b[1;32m    879\u001b[0m         \u001b[0;31m# urllib might not use mode='rb', so handle this one ourselves:\u001b[0m\u001b[0;34m\u001b[0m\u001b[0;34m\u001b[0m\u001b[0;34m\u001b[0m\u001b[0m\n",
      "\u001b[0;32m~/.local/lib/python3.6/site-packages/nltk/data.py\u001b[0m in \u001b[0;36mfind\u001b[0;34m(resource_name, paths)\u001b[0m\n\u001b[1;32m    583\u001b[0m     \u001b[0msep\u001b[0m \u001b[0;34m=\u001b[0m \u001b[0;34m\"*\"\u001b[0m \u001b[0;34m*\u001b[0m \u001b[0;36m70\u001b[0m\u001b[0;34m\u001b[0m\u001b[0;34m\u001b[0m\u001b[0m\n\u001b[1;32m    584\u001b[0m     \u001b[0mresource_not_found\u001b[0m \u001b[0;34m=\u001b[0m \u001b[0;34m\"\\n%s\\n%s\\n%s\\n\"\u001b[0m \u001b[0;34m%\u001b[0m \u001b[0;34m(\u001b[0m\u001b[0msep\u001b[0m\u001b[0;34m,\u001b[0m \u001b[0mmsg\u001b[0m\u001b[0;34m,\u001b[0m \u001b[0msep\u001b[0m\u001b[0;34m)\u001b[0m\u001b[0;34m\u001b[0m\u001b[0;34m\u001b[0m\u001b[0m\n\u001b[0;32m--> 585\u001b[0;31m     \u001b[0;32mraise\u001b[0m \u001b[0mLookupError\u001b[0m\u001b[0;34m(\u001b[0m\u001b[0mresource_not_found\u001b[0m\u001b[0;34m)\u001b[0m\u001b[0;34m\u001b[0m\u001b[0;34m\u001b[0m\u001b[0m\n\u001b[0m\u001b[1;32m    586\u001b[0m \u001b[0;34m\u001b[0m\u001b[0m\n\u001b[1;32m    587\u001b[0m \u001b[0;34m\u001b[0m\u001b[0m\n",
      "\u001b[0;31mLookupError\u001b[0m: \n**********************************************************************\n  Resource \u001b[93mpunkt\u001b[0m not found.\n  Please use the NLTK Downloader to obtain the resource:\n\n  \u001b[31m>>> import nltk\n  >>> nltk.download('punkt')\n  \u001b[0m\n  For more information see: https://www.nltk.org/data.html\n\n  Attempted to load \u001b[93mtokenizers/punkt/PY3/english.pickle\u001b[0m\n\n  Searched in:\n    - '/home/stevenxu/nltk_data'\n    - '/usr/nltk_data'\n    - '/usr/share/nltk_data'\n    - '/usr/lib/nltk_data'\n    - '/usr/share/nltk_data'\n    - '/usr/local/share/nltk_data'\n    - '/usr/lib/nltk_data'\n    - '/usr/local/lib/nltk_data'\n    - ''\n**********************************************************************\n"
     ]
    }
   ],
   "source": [
    "from nltk import word_tokenize\n",
    "from nltk.stem import PorterStemmer\n",
    "from nltk.stem.wordnet import WordNetLemmatizer\n",
    "from nltk import pos_tag\n",
    "\n",
    "wordnet_tags=['v','n']\n",
    "corpus=[\n",
    "    'He ate the sandwiches',\n",
    "    'Every sandwiches was eaten by him'\n",
    "]\n",
    "stemmer=PorterStemmer()\n",
    "print(\"stemmed:\",[[stemmer.stem(token) for token in word_tokenize(document)] for document in corpus])\n",
    "\n",
    "def lemmatize(token,tag):\n",
    "    if tag[0].lower() in ['n','v']:\n",
    "        return lemmatizer.lemmatize(token,tag[0].lower())\n",
    "    return token\n",
    "\n",
    "lemmatizer=WordNetLemmatizer()\n",
    "tagged_corpus=[pos_tag(word_tokenize(document)) for document in corpus]\n",
    "print(\"lemmatized:\",[[lemmatize(token,tag) for token,tag in document] for document in tagged_corpus])\n"
   ]
  },
  {
   "cell_type": "code",
   "execution_count": 2,
   "metadata": {},
   "outputs": [
    {
     "name": "stderr",
     "output_type": "stream",
     "text": [
      "[nltk_data] Error loading punkt: <urlopen error [Errno 111] Connection\n",
      "[nltk_data]     refused>\n"
     ]
    },
    {
     "data": {
      "text/plain": [
       "False"
      ]
     },
     "execution_count": 2,
     "metadata": {},
     "output_type": "execute_result"
    }
   ],
   "source": [
    "import nltk \n",
    "nltk.download('punkt')"
   ]
  },
  {
   "cell_type": "code",
   "execution_count": 52,
   "metadata": {},
   "outputs": [
    {
     "name": "stdout",
     "output_type": "stream",
     "text": [
      "[2 1 3 1 1]\n",
      "token indices: {'dog': 1, 'ate': 0, 'sandwich': 2, 'wizard': 4, 'transfigured': 3}\n",
      "the token 'dog' appears 1 times.\n",
      "the token 'ate' appears 2 times.\n",
      "the token 'sandwich' appears 3 times.\n",
      "the token 'wizard' appears 1 times.\n",
      "the token 'transfigured' appears 1 times.\n"
     ]
    }
   ],
   "source": [
    "import numpy as np\n",
    "from sklearn.feature_extraction.text import CountVectorizer\n",
    "\n",
    "corpus=['the dog ate a sandwich, the wizard transfigured a sandwich, and I ate a sandwich']\n",
    "vectorizer=CountVectorizer(stop_words='english')\n",
    "frequencies=np.array(vectorizer.fit_transform(corpus).todense())[0] #returns frequencies,not binary.\n",
    "print(frequencies)\n",
    "print(\"token indices: %s\"%(vectorizer.vocabulary_))\n",
    "for token,index in vectorizer.vocabulary_.items():\n",
    "    print(\"the token '%s' appears %d times.\"%(token,frequencies[index]))\n"
   ]
  },
  {
   "cell_type": "code",
   "execution_count": 53,
   "metadata": {},
   "outputs": [
    {
     "data": {
      "text/plain": [
       "array([[2, 1, 3, 1, 1]])"
      ]
     },
     "execution_count": 53,
     "metadata": {},
     "output_type": "execute_result"
    }
   ],
   "source": [
    "np.array(vectorizer.fit_transform(corpus).todense())"
   ]
  },
  {
   "cell_type": "code",
   "execution_count": 55,
   "metadata": {},
   "outputs": [
    {
     "name": "stdout",
     "output_type": "stream",
     "text": [
      "[[0.75458397 0.37729199 0.53689271 0.         0.        ]\n",
      " [0.         0.         0.44943642 0.6316672  0.6316672 ]]\n"
     ]
    }
   ],
   "source": [
    "from sklearn.feature_extraction.text import TfidfVectorizer\n",
    "\n",
    "corpus=['the dog ate a sandwich and I ate a sandwich',\n",
    "       'the wizard transfigured a sandwich']\n",
    "vectorizer=TfidfVectorizer(stop_words='english')\n",
    "print(vectorizer.fit_transform(corpus).todense())"
   ]
  },
  {
   "cell_type": "code",
   "execution_count": 56,
   "metadata": {},
   "outputs": [
    {
     "name": "stdout",
     "output_type": "stream",
     "text": [
      "[[-1.  0.  0.  0.  0.  0.]\n",
      " [ 0.  0.  0.  1.  0.  0.]\n",
      " [ 0.  0.  0.  0. -1.  0.]\n",
      " [ 0.  1.  0.  0.  0.  0.]]\n"
     ]
    }
   ],
   "source": [
    "from sklearn.feature_extraction.text import HashingVectorizer\n",
    "\n",
    "corpus=['the','ate','bacon','cat']\n",
    "vectorizer=HashingVectorizer(n_features=6)\n",
    "print(vectorizer.transform(corpus).todense())"
   ]
  },
  {
   "cell_type": "code",
   "execution_count": 1,
   "metadata": {},
   "outputs": [
    {
     "ename": "ModuleNotFoundError",
     "evalue": "No module named 'gensim'",
     "output_type": "error",
     "traceback": [
      "\u001b[0;31m---------------------------------------------------------------------------\u001b[0m",
      "\u001b[0;31mModuleNotFoundError\u001b[0m                       Traceback (most recent call last)",
      "\u001b[0;32m<ipython-input-1-f0e3ba6c26af>\u001b[0m in \u001b[0;36m<module>\u001b[0;34m\u001b[0m\n\u001b[0;32m----> 1\u001b[0;31m \u001b[0;32mimport\u001b[0m \u001b[0mgensim\u001b[0m\u001b[0;34m\u001b[0m\u001b[0;34m\u001b[0m\u001b[0m\n\u001b[0m\u001b[1;32m      2\u001b[0m \u001b[0;34m\u001b[0m\u001b[0m\n\u001b[1;32m      3\u001b[0m model=gensim.models.KeyedVectors.load_word2vec_fromat('./GoogleNews-vectors-negtive300.bin',\n\u001b[1;32m      4\u001b[0m                                                      binary=True)\n\u001b[1;32m      5\u001b[0m \u001b[0membedding\u001b[0m\u001b[0;34m=\u001b[0m\u001b[0mmodel\u001b[0m\u001b[0;34m.\u001b[0m\u001b[0mword_vec\u001b[0m\u001b[0;34m(\u001b[0m\u001b[0;34m'cat'\u001b[0m\u001b[0;34m)\u001b[0m\u001b[0;34m\u001b[0m\u001b[0;34m\u001b[0m\u001b[0m\n",
      "\u001b[0;31mModuleNotFoundError\u001b[0m: No module named 'gensim'"
     ]
    }
   ],
   "source": [
    "import gensim\n",
    "\n",
    "model=gensim.models.KeyedVectors.load_word2vec_fromat('./GoogleNews-vectors-negtive300.bin',\n",
    "                                                     binary=True)\n",
    "embedding=model.word_vec('cat')\n",
    "print(\"demensions: %s\"%(embedding.shape))\n",
    "print(embedding)"
   ]
  },
  {
   "cell_type": "code",
   "execution_count": 2,
   "metadata": {},
   "outputs": [
    {
     "ename": "NameError",
     "evalue": "name 'model' is not defined",
     "output_type": "error",
     "traceback": [
      "\u001b[0;31m---------------------------------------------------------------------------\u001b[0m",
      "\u001b[0;31mNameError\u001b[0m                                 Traceback (most recent call last)",
      "\u001b[0;32m<ipython-input-2-c12b8bb9ce65>\u001b[0m in \u001b[0;36m<module>\u001b[0;34m\u001b[0m\n\u001b[0;32m----> 1\u001b[0;31m \u001b[0mprint\u001b[0m\u001b[0;34m(\u001b[0m\u001b[0mmodel\u001b[0m\u001b[0;34m.\u001b[0m\u001b[0msimilarity\u001b[0m\u001b[0;34m(\u001b[0m\u001b[0;34m'cat'\u001b[0m\u001b[0;34m,\u001b[0m\u001b[0;34m'dog'\u001b[0m\u001b[0;34m)\u001b[0m\u001b[0;34m)\u001b[0m\u001b[0;34m\u001b[0m\u001b[0;34m\u001b[0m\u001b[0m\n\u001b[0m\u001b[1;32m      2\u001b[0m \u001b[0mprint\u001b[0m\u001b[0;34m(\u001b[0m\u001b[0mmodel\u001b[0m\u001b[0;34m.\u001b[0m\u001b[0msimilarity\u001b[0m\u001b[0;34m(\u001b[0m\u001b[0;34m'cat'\u001b[0m\u001b[0;34m,\u001b[0m\u001b[0;34m'sandwich'\u001b[0m\u001b[0;34m)\u001b[0m\u001b[0;34m)\u001b[0m\u001b[0;34m\u001b[0m\u001b[0;34m\u001b[0m\u001b[0m\n\u001b[1;32m      3\u001b[0m \u001b[0;34m\u001b[0m\u001b[0m\n\u001b[1;32m      4\u001b[0m \u001b[0mprint\u001b[0m\u001b[0;34m(\u001b[0m\u001b[0mmodel\u001b[0m\u001b[0;34m.\u001b[0m\u001b[0mmost_similar\u001b[0m\u001b[0;34m(\u001b[0m\u001b[0mpositive\u001b[0m\u001b[0;34m=\u001b[0m\u001b[0;34m[\u001b[0m\u001b[0;34m'puppy'\u001b[0m\u001b[0;34m,\u001b[0m\u001b[0;34m'cat'\u001b[0m\u001b[0;34m]\u001b[0m\u001b[0;34m,\u001b[0m\u001b[0mnegative\u001b[0m\u001b[0;34m=\u001b[0m\u001b[0;34m[\u001b[0m\u001b[0;34m'kitten'\u001b[0m\u001b[0;34m]\u001b[0m\u001b[0;34m,\u001b[0m\u001b[0mtopn\u001b[0m\u001b[0;34m=\u001b[0m\u001b[0;36m1\u001b[0m\u001b[0;34m)\u001b[0m\u001b[0;34m)\u001b[0m\u001b[0;34m\u001b[0m\u001b[0;34m\u001b[0m\u001b[0m\n\u001b[1;32m      5\u001b[0m \u001b[0;34m\u001b[0m\u001b[0m\n",
      "\u001b[0;31mNameError\u001b[0m: name 'model' is not defined"
     ]
    }
   ],
   "source": [
    "print(model.similarity('cat','dog'))\n",
    "print(model.similarity('cat','sandwich'))\n",
    "\n",
    "print(model.most_similar(positive=['puppy','cat'],negative=['kitten'],topn=1))\n",
    "\n",
    "for i in model.most_similar(positive=['saddle','painter'],negative=['palette'],topn=3):\n",
    "    print(i)\n"
   ]
  },
  {
   "cell_type": "code",
   "execution_count": 4,
   "metadata": {},
   "outputs": [
    {
     "name": "stdout",
     "output_type": "stream",
     "text": [
      "digit: 0\n",
      "[[ 0.  0.  5. 13.  9.  1.  0.  0.]\n",
      " [ 0.  0. 13. 15. 10. 15.  5.  0.]\n",
      " [ 0.  3. 15.  2.  0. 11.  8.  0.]\n",
      " [ 0.  4. 12.  0.  0.  8.  8.  0.]\n",
      " [ 0.  5.  8.  0.  0.  9.  8.  0.]\n",
      " [ 0.  4. 11.  0.  1. 12.  7.  0.]\n",
      " [ 0.  2. 14.  5. 10. 12.  0.  0.]\n",
      " [ 0.  0.  6. 13. 10.  0.  0.  0.]]\n",
      "feature vector: \n",
      " [[ 0.  0.  5. 13.  9.  1.  0.  0.  0.  0. 13. 15. 10. 15.  5.  0.  0.  3.\n",
      "  15.  2.  0. 11.  8.  0.  0.  4. 12.  0.  0.  8.  8.  0.  0.  5.  8.  0.\n",
      "   0.  9.  8.  0.  0.  4. 11.  0.  1. 12.  7.  0.  0.  2. 14.  5. 10. 12.\n",
      "   0.  0.  0.  0.  6. 13. 10.  0.  0.  0.]]\n"
     ]
    }
   ],
   "source": [
    "from sklearn import datasets\n",
    "\n",
    "digits=datasets.load_digits()\n",
    "print(\"digit: %s\"%(digits.target[0])) #as same as 'digits['target'][0]', where digits a dict.\n",
    "print(digits.images[0])\n",
    "print(\"feature vector: \\n %s\"%(digits.images[0].reshape(-1,64)))\n"
   ]
  },
  {
   "cell_type": "code",
   "execution_count": 14,
   "metadata": {},
   "outputs": [
    {
     "data": {
      "text/plain": [
       "{'data': array([[ 0.,  0.,  5., ...,  0.,  0.,  0.],\n",
       "        [ 0.,  0.,  0., ..., 10.,  0.,  0.],\n",
       "        [ 0.,  0.,  0., ..., 16.,  9.,  0.],\n",
       "        ...,\n",
       "        [ 0.,  0.,  1., ...,  6.,  0.,  0.],\n",
       "        [ 0.,  0.,  2., ..., 12.,  0.,  0.],\n",
       "        [ 0.,  0., 10., ..., 12.,  1.,  0.]]),\n",
       " 'target': array([0, 1, 2, ..., 8, 9, 8]),\n",
       " 'target_names': array([0, 1, 2, 3, 4, 5, 6, 7, 8, 9]),\n",
       " 'images': array([[[ 0.,  0.,  5., ...,  1.,  0.,  0.],\n",
       "         [ 0.,  0., 13., ..., 15.,  5.,  0.],\n",
       "         [ 0.,  3., 15., ..., 11.,  8.,  0.],\n",
       "         ...,\n",
       "         [ 0.,  4., 11., ..., 12.,  7.,  0.],\n",
       "         [ 0.,  2., 14., ..., 12.,  0.,  0.],\n",
       "         [ 0.,  0.,  6., ...,  0.,  0.,  0.]],\n",
       " \n",
       "        [[ 0.,  0.,  0., ...,  5.,  0.,  0.],\n",
       "         [ 0.,  0.,  0., ...,  9.,  0.,  0.],\n",
       "         [ 0.,  0.,  3., ...,  6.,  0.,  0.],\n",
       "         ...,\n",
       "         [ 0.,  0.,  1., ...,  6.,  0.,  0.],\n",
       "         [ 0.,  0.,  1., ...,  6.,  0.,  0.],\n",
       "         [ 0.,  0.,  0., ..., 10.,  0.,  0.]],\n",
       " \n",
       "        [[ 0.,  0.,  0., ..., 12.,  0.,  0.],\n",
       "         [ 0.,  0.,  3., ..., 14.,  0.,  0.],\n",
       "         [ 0.,  0.,  8., ..., 16.,  0.,  0.],\n",
       "         ...,\n",
       "         [ 0.,  9., 16., ...,  0.,  0.,  0.],\n",
       "         [ 0.,  3., 13., ..., 11.,  5.,  0.],\n",
       "         [ 0.,  0.,  0., ..., 16.,  9.,  0.]],\n",
       " \n",
       "        ...,\n",
       " \n",
       "        [[ 0.,  0.,  1., ...,  1.,  0.,  0.],\n",
       "         [ 0.,  0., 13., ...,  2.,  1.,  0.],\n",
       "         [ 0.,  0., 16., ..., 16.,  5.,  0.],\n",
       "         ...,\n",
       "         [ 0.,  0., 16., ..., 15.,  0.,  0.],\n",
       "         [ 0.,  0., 15., ..., 16.,  0.,  0.],\n",
       "         [ 0.,  0.,  2., ...,  6.,  0.,  0.]],\n",
       " \n",
       "        [[ 0.,  0.,  2., ...,  0.,  0.,  0.],\n",
       "         [ 0.,  0., 14., ..., 15.,  1.,  0.],\n",
       "         [ 0.,  4., 16., ..., 16.,  7.,  0.],\n",
       "         ...,\n",
       "         [ 0.,  0.,  0., ..., 16.,  2.,  0.],\n",
       "         [ 0.,  0.,  4., ..., 16.,  2.,  0.],\n",
       "         [ 0.,  0.,  5., ..., 12.,  0.,  0.]],\n",
       " \n",
       "        [[ 0.,  0., 10., ...,  1.,  0.,  0.],\n",
       "         [ 0.,  2., 16., ...,  1.,  0.,  0.],\n",
       "         [ 0.,  0., 15., ..., 15.,  0.,  0.],\n",
       "         ...,\n",
       "         [ 0.,  4., 16., ..., 16.,  6.,  0.],\n",
       "         [ 0.,  8., 16., ..., 16.,  8.,  0.],\n",
       "         [ 0.,  1.,  8., ..., 12.,  1.,  0.]]]),\n",
       " 'DESCR': \".. _digits_dataset:\\n\\nOptical recognition of handwritten digits dataset\\n--------------------------------------------------\\n\\n**Data Set Characteristics:**\\n\\n    :Number of Instances: 5620\\n    :Number of Attributes: 64\\n    :Attribute Information: 8x8 image of integer pixels in the range 0..16.\\n    :Missing Attribute Values: None\\n    :Creator: E. Alpaydin (alpaydin '@' boun.edu.tr)\\n    :Date: July; 1998\\n\\nThis is a copy of the test set of the UCI ML hand-written digits datasets\\nhttps://archive.ics.uci.edu/ml/datasets/Optical+Recognition+of+Handwritten+Digits\\n\\nThe data set contains images of hand-written digits: 10 classes where\\neach class refers to a digit.\\n\\nPreprocessing programs made available by NIST were used to extract\\nnormalized bitmaps of handwritten digits from a preprinted form. From a\\ntotal of 43 people, 30 contributed to the training set and different 13\\nto the test set. 32x32 bitmaps are divided into nonoverlapping blocks of\\n4x4 and the number of on pixels are counted in each block. This generates\\nan input matrix of 8x8 where each element is an integer in the range\\n0..16. This reduces dimensionality and gives invariance to small\\ndistortions.\\n\\nFor info on NIST preprocessing routines, see M. D. Garris, J. L. Blue, G.\\nT. Candela, D. L. Dimmick, J. Geist, P. J. Grother, S. A. Janet, and C.\\nL. Wilson, NIST Form-Based Handprint Recognition System, NISTIR 5469,\\n1994.\\n\\n.. topic:: References\\n\\n  - C. Kaynak (1995) Methods of Combining Multiple Classifiers and Their\\n    Applications to Handwritten Digit Recognition, MSc Thesis, Institute of\\n    Graduate Studies in Science and Engineering, Bogazici University.\\n  - E. Alpaydin, C. Kaynak (1998) Cascading Classifiers, Kybernetika.\\n  - Ken Tang and Ponnuthurai N. Suganthan and Xi Yao and A. Kai Qin.\\n    Linear dimensionalityreduction using relevance weighted LDA. School of\\n    Electrical and Electronic Engineering Nanyang Technological University.\\n    2005.\\n  - Claudio Gentile. A New Approximate Maximal Margin Classification\\n    Algorithm. NIPS. 2000.\"}"
      ]
     },
     "execution_count": 14,
     "metadata": {},
     "output_type": "execute_result"
    }
   ],
   "source": [
    "digits"
   ]
  },
  {
   "cell_type": "code",
   "execution_count": 13,
   "metadata": {},
   "outputs": [
    {
     "data": {
      "text/plain": [
       "0"
      ]
     },
     "execution_count": 13,
     "metadata": {},
     "output_type": "execute_result"
    }
   ],
   "source": [
    "digits.target[0]"
   ]
  },
  {
   "cell_type": "code",
   "execution_count": 15,
   "metadata": {},
   "outputs": [
    {
     "ename": "ModuleNotFoundError",
     "evalue": "No module named 'caffe'",
     "output_type": "error",
     "traceback": [
      "\u001b[0;31m---------------------------------------------------------------------------\u001b[0m",
      "\u001b[0;31mModuleNotFoundError\u001b[0m                       Traceback (most recent call last)",
      "\u001b[0;32m<ipython-input-15-938995a040e6>\u001b[0m in \u001b[0;36m<module>\u001b[0;34m\u001b[0m\n\u001b[1;32m      1\u001b[0m \u001b[0;32mimport\u001b[0m \u001b[0mos\u001b[0m\u001b[0;34m\u001b[0m\u001b[0;34m\u001b[0m\u001b[0m\n\u001b[0;32m----> 2\u001b[0;31m \u001b[0;32mimport\u001b[0m \u001b[0mcaffe\u001b[0m\u001b[0;34m\u001b[0m\u001b[0;34m\u001b[0m\u001b[0m\n\u001b[0m\u001b[1;32m      3\u001b[0m \u001b[0;32mimport\u001b[0m \u001b[0mnumpy\u001b[0m \u001b[0;32mas\u001b[0m \u001b[0mnp\u001b[0m\u001b[0;34m\u001b[0m\u001b[0;34m\u001b[0m\u001b[0m\n\u001b[1;32m      4\u001b[0m \u001b[0;34m\u001b[0m\u001b[0m\n\u001b[1;32m      5\u001b[0m \u001b[0mcaffe_dir\u001b[0m\u001b[0;34m=\u001b[0m\u001b[0;34m''\u001b[0m\u001b[0;34m\u001b[0m\u001b[0;34m\u001b[0m\u001b[0m\n",
      "\u001b[0;31mModuleNotFoundError\u001b[0m: No module named 'caffe'"
     ]
    }
   ],
   "source": [
    "import os\n",
    "import caffe\n",
    "import numpy as np\n",
    "\n",
    "caffe_dir=''\n"
   ]
  },
  {
   "cell_type": "markdown",
   "metadata": {},
   "source": [
    "Chapter 5: Multi-linear Regression"
   ]
  },
  {
   "cell_type": "code",
   "execution_count": 21,
   "metadata": {},
   "outputs": [
    {
     "name": "stdout",
     "output_type": "stream",
     "text": [
      "[[1.1875    ]\n",
      " [1.01041667]\n",
      " [0.39583333]]\n"
     ]
    }
   ],
   "source": [
    "from numpy.linalg import inv\n",
    "from numpy import dot,transpose\n",
    "\n",
    "x=[\n",
    "    [1,6,2],\n",
    "    [1,8,1],\n",
    "    [1,10,0],\n",
    "    [1,14,2],\n",
    "    [1,18,0]\n",
    "]\n",
    "y=[\n",
    "    [7],\n",
    "    [9],\n",
    "    [13],\n",
    "    [17.5],\n",
    "    [18]\n",
    "]\n",
    "print(dot(inv(dot(transpose(x),x)),dot(transpose(x),y)))"
   ]
  },
  {
   "cell_type": "code",
   "execution_count": 26,
   "metadata": {},
   "outputs": [
    {
     "data": {
      "text/plain": [
       "matrix([[ 1,  1,  1,  1,  1],\n",
       "        [ 6,  8, 10, 14, 18],\n",
       "        [ 2,  1,  0,  2,  0]])"
      ]
     },
     "execution_count": 26,
     "metadata": {},
     "output_type": "execute_result"
    }
   ],
   "source": [
    "import numpy as np\n",
    "x=np.mat(x)\n",
    "x.T"
   ]
  },
  {
   "cell_type": "code",
   "execution_count": 27,
   "metadata": {},
   "outputs": [
    {
     "name": "stdout",
     "output_type": "stream",
     "text": [
      "(array([[1.1875    ],\n",
      "       [1.01041667],\n",
      "       [0.39583333]]), array([8.22916667]), 3, array([26.97402951,  2.46027806,  0.59056212]))\n"
     ]
    },
    {
     "name": "stderr",
     "output_type": "stream",
     "text": [
      "/usr/local/lib/python3.6/dist-packages/ipykernel_launcher.py:17: FutureWarning: `rcond` parameter will change to the default of machine precision times ``max(M, N)`` where M and N are the input matrix dimensions.\n",
      "To use the future default and silence this warning we advise to pass `rcond=None`, to keep using the old, explicitly pass `rcond=-1`.\n"
     ]
    }
   ],
   "source": [
    "from numpy.linalg import lstsq #import least square estimation function.\n",
    "\n",
    "x=[\n",
    "    [1,6,2],\n",
    "    [1,8,1],\n",
    "    [1,10,0],\n",
    "    [1,14,2],\n",
    "    [1,18,0]\n",
    "]\n",
    "y=[\n",
    "    [7],\n",
    "    [9],\n",
    "    [13],\n",
    "    [17.5],\n",
    "    [18]\n",
    "]\n",
    "print(lstsq(x,y))"
   ]
  },
  {
   "cell_type": "code",
   "execution_count": 30,
   "metadata": {},
   "outputs": [
    {
     "name": "stdout",
     "output_type": "stream",
     "text": [
      "predicted: [10.0625], target: [11]\n",
      "predicted: [10.28125], target: [8.5]\n",
      "predicted: [13.09375], target: [15]\n",
      "predicted: [18.14583333], target: [18]\n",
      "predicted: [13.3125], target: [11]\n",
      "r squared: 0.77\n"
     ]
    }
   ],
   "source": [
    "from sklearn.linear_model import LinearRegression\n",
    "\n",
    "x=[\n",
    "    [6,2],\n",
    "    [8,1],\n",
    "    [10,0],\n",
    "    [14,2],\n",
    "    [18,0]\n",
    "]\n",
    "y=[\n",
    "    [7],\n",
    "    [9],\n",
    "    [13],\n",
    "    [17.5],\n",
    "    [18]\n",
    "]\n",
    "model=LinearRegression()\n",
    "model.fit(x,y)\n",
    "x_test=[\n",
    "    [8,2],\n",
    "    [9,0],\n",
    "    [11,2],\n",
    "    [16,2],\n",
    "    [12,0]\n",
    "]\n",
    "y_test=[\n",
    "    [11],\n",
    "    [8.5],\n",
    "    [15],\n",
    "    [18],\n",
    "    [11]\n",
    "]\n",
    "predictions=model.predict(x_test)\n",
    "for i,prediction in enumerate(predictions):\n",
    "    print(\"predicted: %s, target: %s\"%(prediction,y_test[i]))\n",
    "print('r squared: %.2f'%(model.score(x_test,y_test)))\n"
   ]
  },
  {
   "cell_type": "code",
   "execution_count": 35,
   "metadata": {},
   "outputs": [
    {
     "data": {
      "text/plain": [
       "(100,)"
      ]
     },
     "execution_count": 35,
     "metadata": {},
     "output_type": "execute_result"
    }
   ],
   "source": [
    "np.linspace(0,26,100).shape"
   ]
  },
  {
   "cell_type": "code",
   "execution_count": 64,
   "metadata": {},
   "outputs": [
    {
     "name": "stdout",
     "output_type": "stream",
     "text": [
      "[[6], [8], [10], [14], [18]]\n",
      "[[  1.   6.  36.]\n",
      " [  1.   8.  64.]\n",
      " [  1.  10. 100.]\n",
      " [  1.  14. 196.]\n",
      " [  1.  18. 324.]]\n",
      "[[6], [8], [11], [16]]\n",
      "[[  1.   6.  36.]\n",
      " [  1.   8.  64.]\n",
      " [  1.  11. 121.]\n",
      " [  1.  16. 256.]]\n",
      "quadratic regression r-squared: 0.867544\n",
      "simple linear regresion r-squared: 0.809727\n"
     ]
    },
    {
     "data": {
      "image/png": "[encoded data removed]",
      "text/plain": [
       "<matplotlib.figure.Figure at 0x7fab6c8a6400>"
      ]
     },
     "metadata": {
      "needs_background": "light"
     },
     "output_type": "display_data"
    }
   ],
   "source": [
    "%matplotlib inline\n",
    "import numpy as np\n",
    "import matplotlib.pyplot as plt\n",
    "from sklearn.linear_model import LinearRegression\n",
    "from sklearn.preprocessing import PolynomialFeatures\n",
    "\n",
    "x_train=[[6],[8],[10],[14],[18]]\n",
    "y_train=[[7],[9],[13],[17.5],[18]]\n",
    "x_test=[[6],\n",
    "        [8],\n",
    "        [11],\n",
    "        [16]]\n",
    "y_test=[[8],[12],[15],[18]]\n",
    "\n",
    "regressor=LinearRegression()\n",
    "regressor.fit(x_train,y_train)\n",
    "xx=np.linspace(0,26,100) #obtain 100 points.\n",
    "yy=regressor.predict(xx.reshape(xx.shape[0],1))\n",
    "plt.plot(xx,yy)\n",
    "\n",
    "quadra_feat=PolynomialFeatures(degree=2)\n",
    "x_train_quadra=quadra_feat.fit_transform(x_train)\n",
    "x_test_quadra=quadra_feat.transform(x_test)\n",
    "\n",
    "quadra_reg=LinearRegression()\n",
    "quadra_reg.fit(x_train_quadra,y_train)\n",
    "xx_quadra=quadra_feat.transform(xx.reshape(xx.shape[0],1))\n",
    "\n",
    "plt.plot(xx,quadra_reg.predict(xx_quadra),c='r',linestyle='--')\n",
    "plt.title('Pizza price regressed on size')\n",
    "plt.xlabel(\"size in inches\")\n",
    "plt.ylabel(\"price in dollars\")\n",
    "plt.axis([0,25,0,25])\n",
    "plt.grid(True)\n",
    "plt.scatter(x_train,y_train)\n",
    "\n",
    "print(x_train)\n",
    "print(x_train_quadra)\n",
    "print(x_test)\n",
    "print(x_test_quadra)\n",
    "\n",
    "print(\"quadratic regression r-squared: %f\"%(quadra_reg.score(x_test_quadra,y_test)))\n",
    "print(\"simple linear regresion r-squared: %f\"%(regressor.score(x_test,y_test)))"
   ]
  },
  {
   "cell_type": "code",
   "execution_count": 65,
   "metadata": {},
   "outputs": [
    {
     "ename": "FileNotFoundError",
     "evalue": "File b'./winequality-red.csv' does not exist",
     "output_type": "error",
     "traceback": [
      "\u001b[0;31m---------------------------------------------------------------------------\u001b[0m",
      "\u001b[0;31mFileNotFoundError\u001b[0m                         Traceback (most recent call last)",
      "\u001b[0;32m<ipython-input-65-4588bb88cc12>\u001b[0m in \u001b[0;36m<module>\u001b[0;34m\u001b[0m\n\u001b[1;32m      1\u001b[0m \u001b[0;32mimport\u001b[0m \u001b[0mpandas\u001b[0m \u001b[0;32mas\u001b[0m \u001b[0mpd\u001b[0m\u001b[0;34m\u001b[0m\u001b[0;34m\u001b[0m\u001b[0m\n\u001b[1;32m      2\u001b[0m \u001b[0;34m\u001b[0m\u001b[0m\n\u001b[0;32m----> 3\u001b[0;31m \u001b[0mdf\u001b[0m\u001b[0;34m=\u001b[0m\u001b[0mpd\u001b[0m\u001b[0;34m.\u001b[0m\u001b[0mread_csv\u001b[0m\u001b[0;34m(\u001b[0m\u001b[0;34m'./winequality-red.csv'\u001b[0m\u001b[0;34m,\u001b[0m\u001b[0msep\u001b[0m\u001b[0;34m=\u001b[0m\u001b[0;34m';'\u001b[0m\u001b[0;34m)\u001b[0m\u001b[0;34m\u001b[0m\u001b[0;34m\u001b[0m\u001b[0m\n\u001b[0m\u001b[1;32m      4\u001b[0m \u001b[0mdf\u001b[0m\u001b[0;34m.\u001b[0m\u001b[0mdescibe\u001b[0m\u001b[0;34m(\u001b[0m\u001b[0;34m)\u001b[0m\u001b[0;34m\u001b[0m\u001b[0;34m\u001b[0m\u001b[0m\n",
      "\u001b[0;32m/usr/lib/python3/dist-packages/pandas/io/parsers.py\u001b[0m in \u001b[0;36mparser_f\u001b[0;34m(filepath_or_buffer, sep, delimiter, header, names, index_col, usecols, squeeze, prefix, mangle_dupe_cols, dtype, engine, converters, true_values, false_values, skipinitialspace, skiprows, nrows, na_values, keep_default_na, na_filter, verbose, skip_blank_lines, parse_dates, infer_datetime_format, keep_date_col, date_parser, dayfirst, iterator, chunksize, compression, thousands, decimal, lineterminator, quotechar, quoting, escapechar, comment, encoding, dialect, tupleize_cols, error_bad_lines, warn_bad_lines, skipfooter, skip_footer, doublequote, delim_whitespace, as_recarray, compact_ints, use_unsigned, low_memory, buffer_lines, memory_map, float_precision)\u001b[0m\n\u001b[1;32m    707\u001b[0m                     skip_blank_lines=skip_blank_lines)\n\u001b[1;32m    708\u001b[0m \u001b[0;34m\u001b[0m\u001b[0m\n\u001b[0;32m--> 709\u001b[0;31m         \u001b[0;32mreturn\u001b[0m \u001b[0m_read\u001b[0m\u001b[0;34m(\u001b[0m\u001b[0mfilepath_or_buffer\u001b[0m\u001b[0;34m,\u001b[0m \u001b[0mkwds\u001b[0m\u001b[0;34m)\u001b[0m\u001b[0;34m\u001b[0m\u001b[0;34m\u001b[0m\u001b[0m\n\u001b[0m\u001b[1;32m    710\u001b[0m \u001b[0;34m\u001b[0m\u001b[0m\n\u001b[1;32m    711\u001b[0m     \u001b[0mparser_f\u001b[0m\u001b[0;34m.\u001b[0m\u001b[0m__name__\u001b[0m \u001b[0;34m=\u001b[0m \u001b[0mname\u001b[0m\u001b[0;34m\u001b[0m\u001b[0;34m\u001b[0m\u001b[0m\n",
      "\u001b[0;32m/usr/lib/python3/dist-packages/pandas/io/parsers.py\u001b[0m in \u001b[0;36m_read\u001b[0;34m(filepath_or_buffer, kwds)\u001b[0m\n\u001b[1;32m    447\u001b[0m \u001b[0;34m\u001b[0m\u001b[0m\n\u001b[1;32m    448\u001b[0m     \u001b[0;31m# Create the parser.\u001b[0m\u001b[0;34m\u001b[0m\u001b[0;34m\u001b[0m\u001b[0;34m\u001b[0m\u001b[0m\n\u001b[0;32m--> 449\u001b[0;31m     \u001b[0mparser\u001b[0m \u001b[0;34m=\u001b[0m \u001b[0mTextFileReader\u001b[0m\u001b[0;34m(\u001b[0m\u001b[0mfilepath_or_buffer\u001b[0m\u001b[0;34m,\u001b[0m \u001b[0;34m**\u001b[0m\u001b[0mkwds\u001b[0m\u001b[0;34m)\u001b[0m\u001b[0;34m\u001b[0m\u001b[0;34m\u001b[0m\u001b[0m\n\u001b[0m\u001b[1;32m    450\u001b[0m \u001b[0;34m\u001b[0m\u001b[0m\n\u001b[1;32m    451\u001b[0m     \u001b[0;32mif\u001b[0m \u001b[0mchunksize\u001b[0m \u001b[0;32mor\u001b[0m \u001b[0miterator\u001b[0m\u001b[0;34m:\u001b[0m\u001b[0;34m\u001b[0m\u001b[0;34m\u001b[0m\u001b[0m\n",
      "\u001b[0;32m/usr/lib/python3/dist-packages/pandas/io/parsers.py\u001b[0m in \u001b[0;36m__init__\u001b[0;34m(self, f, engine, **kwds)\u001b[0m\n\u001b[1;32m    816\u001b[0m             \u001b[0mself\u001b[0m\u001b[0;34m.\u001b[0m\u001b[0moptions\u001b[0m\u001b[0;34m[\u001b[0m\u001b[0;34m'has_index_names'\u001b[0m\u001b[0;34m]\u001b[0m \u001b[0;34m=\u001b[0m \u001b[0mkwds\u001b[0m\u001b[0;34m[\u001b[0m\u001b[0;34m'has_index_names'\u001b[0m\u001b[0;34m]\u001b[0m\u001b[0;34m\u001b[0m\u001b[0;34m\u001b[0m\u001b[0m\n\u001b[1;32m    817\u001b[0m \u001b[0;34m\u001b[0m\u001b[0m\n\u001b[0;32m--> 818\u001b[0;31m         \u001b[0mself\u001b[0m\u001b[0;34m.\u001b[0m\u001b[0m_make_engine\u001b[0m\u001b[0;34m(\u001b[0m\u001b[0mself\u001b[0m\u001b[0;34m.\u001b[0m\u001b[0mengine\u001b[0m\u001b[0;34m)\u001b[0m\u001b[0;34m\u001b[0m\u001b[0;34m\u001b[0m\u001b[0m\n\u001b[0m\u001b[1;32m    819\u001b[0m \u001b[0;34m\u001b[0m\u001b[0m\n\u001b[1;32m    820\u001b[0m     \u001b[0;32mdef\u001b[0m \u001b[0mclose\u001b[0m\u001b[0;34m(\u001b[0m\u001b[0mself\u001b[0m\u001b[0;34m)\u001b[0m\u001b[0;34m:\u001b[0m\u001b[0;34m\u001b[0m\u001b[0;34m\u001b[0m\u001b[0m\n",
      "\u001b[0;32m/usr/lib/python3/dist-packages/pandas/io/parsers.py\u001b[0m in \u001b[0;36m_make_engine\u001b[0;34m(self, engine)\u001b[0m\n\u001b[1;32m   1047\u001b[0m     \u001b[0;32mdef\u001b[0m \u001b[0m_make_engine\u001b[0m\u001b[0;34m(\u001b[0m\u001b[0mself\u001b[0m\u001b[0;34m,\u001b[0m \u001b[0mengine\u001b[0m\u001b[0;34m=\u001b[0m\u001b[0;34m'c'\u001b[0m\u001b[0;34m)\u001b[0m\u001b[0;34m:\u001b[0m\u001b[0;34m\u001b[0m\u001b[0;34m\u001b[0m\u001b[0m\n\u001b[1;32m   1048\u001b[0m         \u001b[0;32mif\u001b[0m \u001b[0mengine\u001b[0m \u001b[0;34m==\u001b[0m \u001b[0;34m'c'\u001b[0m\u001b[0;34m:\u001b[0m\u001b[0;34m\u001b[0m\u001b[0;34m\u001b[0m\u001b[0m\n\u001b[0;32m-> 1049\u001b[0;31m             \u001b[0mself\u001b[0m\u001b[0;34m.\u001b[0m\u001b[0m_engine\u001b[0m \u001b[0;34m=\u001b[0m \u001b[0mCParserWrapper\u001b[0m\u001b[0;34m(\u001b[0m\u001b[0mself\u001b[0m\u001b[0;34m.\u001b[0m\u001b[0mf\u001b[0m\u001b[0;34m,\u001b[0m \u001b[0;34m**\u001b[0m\u001b[0mself\u001b[0m\u001b[0;34m.\u001b[0m\u001b[0moptions\u001b[0m\u001b[0;34m)\u001b[0m\u001b[0;34m\u001b[0m\u001b[0;34m\u001b[0m\u001b[0m\n\u001b[0m\u001b[1;32m   1050\u001b[0m         \u001b[0;32melse\u001b[0m\u001b[0;34m:\u001b[0m\u001b[0;34m\u001b[0m\u001b[0;34m\u001b[0m\u001b[0m\n\u001b[1;32m   1051\u001b[0m             \u001b[0;32mif\u001b[0m \u001b[0mengine\u001b[0m \u001b[0;34m==\u001b[0m \u001b[0;34m'python'\u001b[0m\u001b[0;34m:\u001b[0m\u001b[0;34m\u001b[0m\u001b[0;34m\u001b[0m\u001b[0m\n",
      "\u001b[0;32m/usr/lib/python3/dist-packages/pandas/io/parsers.py\u001b[0m in \u001b[0;36m__init__\u001b[0;34m(self, src, **kwds)\u001b[0m\n\u001b[1;32m   1693\u001b[0m         \u001b[0mkwds\u001b[0m\u001b[0;34m[\u001b[0m\u001b[0;34m'allow_leading_cols'\u001b[0m\u001b[0;34m]\u001b[0m \u001b[0;34m=\u001b[0m \u001b[0mself\u001b[0m\u001b[0;34m.\u001b[0m\u001b[0mindex_col\u001b[0m \u001b[0;32mis\u001b[0m \u001b[0;32mnot\u001b[0m \u001b[0;32mFalse\u001b[0m\u001b[0;34m\u001b[0m\u001b[0;34m\u001b[0m\u001b[0m\n\u001b[1;32m   1694\u001b[0m \u001b[0;34m\u001b[0m\u001b[0m\n\u001b[0;32m-> 1695\u001b[0;31m         \u001b[0mself\u001b[0m\u001b[0;34m.\u001b[0m\u001b[0m_reader\u001b[0m \u001b[0;34m=\u001b[0m \u001b[0mparsers\u001b[0m\u001b[0;34m.\u001b[0m\u001b[0mTextReader\u001b[0m\u001b[0;34m(\u001b[0m\u001b[0msrc\u001b[0m\u001b[0;34m,\u001b[0m \u001b[0;34m**\u001b[0m\u001b[0mkwds\u001b[0m\u001b[0;34m)\u001b[0m\u001b[0;34m\u001b[0m\u001b[0;34m\u001b[0m\u001b[0m\n\u001b[0m\u001b[1;32m   1696\u001b[0m \u001b[0;34m\u001b[0m\u001b[0m\n\u001b[1;32m   1697\u001b[0m         \u001b[0;31m# XXX\u001b[0m\u001b[0;34m\u001b[0m\u001b[0;34m\u001b[0m\u001b[0;34m\u001b[0m\u001b[0m\n",
      "\u001b[0;32mpandas/_libs/parsers.pyx\u001b[0m in \u001b[0;36mpandas._libs.parsers.TextReader.__cinit__\u001b[0;34m()\u001b[0m\n",
      "\u001b[0;32mpandas/_libs/parsers.pyx\u001b[0m in \u001b[0;36mpandas._libs.parsers.TextReader._setup_parser_source\u001b[0;34m()\u001b[0m\n",
      "\u001b[0;31mFileNotFoundError\u001b[0m: File b'./winequality-red.csv' does not exist"
     ]
    }
   ],
   "source": [
    "import pandas as pd\n",
    "\n",
    "df=pd.read_csv('./winequality-red.csv',sep=';')\n",
    "df.descibe()"
   ]
  },
  {
   "cell_type": "code",
   "execution_count": 66,
   "metadata": {},
   "outputs": [
    {
     "ename": "NameError",
     "evalue": "name 'df' is not defined",
     "output_type": "error",
     "traceback": [
      "\u001b[0;31m---------------------------------------------------------------------------\u001b[0m",
      "\u001b[0;31mNameError\u001b[0m                                 Traceback (most recent call last)",
      "\u001b[0;32m<ipython-input-66-25586cd3c580>\u001b[0m in \u001b[0;36m<module>\u001b[0;34m\u001b[0m\n\u001b[1;32m      2\u001b[0m \u001b[0;32mimport\u001b[0m \u001b[0mmatplotlib\u001b[0m\u001b[0;34m.\u001b[0m\u001b[0mpyplot\u001b[0m \u001b[0;32mas\u001b[0m \u001b[0mplt\u001b[0m\u001b[0;34m\u001b[0m\u001b[0;34m\u001b[0m\u001b[0m\n\u001b[1;32m      3\u001b[0m \u001b[0;34m\u001b[0m\u001b[0m\n\u001b[0;32m----> 4\u001b[0;31m \u001b[0mplt\u001b[0m\u001b[0;34m.\u001b[0m\u001b[0mscatter\u001b[0m\u001b[0;34m(\u001b[0m\u001b[0mdf\u001b[0m\u001b[0;34m[\u001b[0m\u001b[0;34m'alcohol'\u001b[0m\u001b[0;34m]\u001b[0m\u001b[0;34m,\u001b[0m\u001b[0mdf\u001b[0m\u001b[0;34m[\u001b[0m\u001b[0;34m'quality'\u001b[0m\u001b[0;34m]\u001b[0m\u001b[0;34m)\u001b[0m\u001b[0;34m\u001b[0m\u001b[0;34m\u001b[0m\u001b[0m\n\u001b[0m\u001b[1;32m      5\u001b[0m \u001b[0mplt\u001b[0m\u001b[0;34m.\u001b[0m\u001b[0mxlabel\u001b[0m\u001b[0;34m(\u001b[0m\u001b[0;34m'Alcohol'\u001b[0m\u001b[0;34m)\u001b[0m\u001b[0;34m\u001b[0m\u001b[0;34m\u001b[0m\u001b[0m\n\u001b[1;32m      6\u001b[0m \u001b[0mplt\u001b[0m\u001b[0;34m.\u001b[0m\u001b[0mylabel\u001b[0m\u001b[0;34m(\u001b[0m\u001b[0;34m'Quality'\u001b[0m\u001b[0;34m)\u001b[0m\u001b[0;34m\u001b[0m\u001b[0;34m\u001b[0m\u001b[0m\n",
      "\u001b[0;31mNameError\u001b[0m: name 'df' is not defined"
     ]
    }
   ],
   "source": [
    "%matplotlib inline\n",
    "import matplotlib.pyplot as plt\n",
    "\n",
    "plt.scatter(df['alcohol'],df['quality'])\n",
    "plt.xlabel('Alcohol')\n",
    "plt.ylabel('Quality')\n",
    "plt.title('alcohol against quality')\n"
   ]
  },
  {
   "cell_type": "code",
   "execution_count": 67,
   "metadata": {},
   "outputs": [
    {
     "ename": "ModuleNotFoundError",
     "evalue": "No module named 'sklarn'",
     "output_type": "error",
     "traceback": [
      "\u001b[0;31m---------------------------------------------------------------------------\u001b[0m",
      "\u001b[0;31mModuleNotFoundError\u001b[0m                       Traceback (most recent call last)",
      "\u001b[0;32m<ipython-input-67-ef6287a1b16a>\u001b[0m in \u001b[0;36m<module>\u001b[0;34m\u001b[0m\n\u001b[0;32m----> 1\u001b[0;31m \u001b[0;32mfrom\u001b[0m \u001b[0msklarn\u001b[0m\u001b[0;34m.\u001b[0m\u001b[0mlinear_model\u001b[0m \u001b[0;32mimport\u001b[0m \u001b[0mLinearRegression\u001b[0m\u001b[0;34m\u001b[0m\u001b[0;34m\u001b[0m\u001b[0m\n\u001b[0m\u001b[1;32m      2\u001b[0m \u001b[0;32mfrom\u001b[0m \u001b[0msklearn\u001b[0m\u001b[0;34m.\u001b[0m\u001b[0mmodel_selection\u001b[0m \u001b[0;32mimport\u001b[0m \u001b[0mtrain_test_split\u001b[0m\u001b[0;34m\u001b[0m\u001b[0;34m\u001b[0m\u001b[0m\n\u001b[1;32m      3\u001b[0m \u001b[0;32mimport\u001b[0m \u001b[0mpandas\u001b[0m \u001b[0;32mas\u001b[0m \u001b[0mpd\u001b[0m\u001b[0;34m\u001b[0m\u001b[0;34m\u001b[0m\u001b[0m\n\u001b[1;32m      4\u001b[0m \u001b[0;32mimport\u001b[0m \u001b[0mmatplotlib\u001b[0m\u001b[0;34m.\u001b[0m\u001b[0mpyplot\u001b[0m \u001b[0;32mas\u001b[0m \u001b[0mplt\u001b[0m\u001b[0;34m\u001b[0m\u001b[0;34m\u001b[0m\u001b[0m\n\u001b[1;32m      5\u001b[0m \u001b[0;34m\u001b[0m\u001b[0m\n",
      "\u001b[0;31mModuleNotFoundError\u001b[0m: No module named 'sklarn'"
     ]
    }
   ],
   "source": [
    "from sklearn.linear_model import LinearRegression\n",
    "from sklearn.model_selection import train_test_split\n",
    "import pandas as pd\n",
    "import matplotlib.pyplot as plt\n",
    "\n",
    "df=pd.read_csv('./winequality-red.csv',sep=';')\n",
    "x=df[list(df.columns)[:-1]] #choose all the columns except the last column.\n",
    "y=df['quality']\n",
    "x_train,x_test,y_train,y_test=train_test_split(x,y)\n",
    "regressor=LinearRegression()\n",
    "regressor.fit(x_train,y_train)\n",
    "predictions=regressor.predict(x_test)\n",
    "print('r-squared: %.3f'%(regressor.score(x_test,y_test)))\n"
   ]
  },
  {
   "cell_type": "code",
   "execution_count": null,
   "metadata": {},
   "outputs": [],
   "source": [
    "import pandas as pd\n",
    "from sklearn.model_selection import cross_val_score\n",
    "from sklearn.linear_model import LinearRegression\n",
    "\n",
    "df=pd.read_csv('./winequality-red.csv',sep=';')\n",
    "x=df[list(df.columns)[:-1]]\n",
    "y=df['quality']\n",
    "regressor=LinearRegression()\n",
    "scores=cross_val_score(regressor,x,y,cv=5) #5 fold-cross-validation.\n",
    "print(scores)\n",
    "print(mean(scores))"
   ]
  },
  {
   "cell_type": "code",
   "execution_count": 5,
   "metadata": {},
   "outputs": [
    {
     "name": "stdout",
     "output_type": "stream",
     "text": [
      "cross validation r-squared scores: [0.79926352 0.60638768 0.773744   0.6041972  0.84709774]\n",
      "average cross validation rsquared score: 0.7261380274795982\n",
      "test set r-squared score: 0.66610837409008\n"
     ]
    },
    {
     "name": "stderr",
     "output_type": "stream",
     "text": [
      "/home/stevenxu/.local/lib/python3.6/site-packages/sklearn/utils/validation.py:760: DataConversionWarning: A column-vector y was passed when a 1d array was expected. Please change the shape of y to (n_samples, ), for example using ravel().\n",
      "  y = column_or_1d(y, warn=True)\n",
      "/home/stevenxu/.local/lib/python3.6/site-packages/sklearn/utils/validation.py:760: DataConversionWarning: A column-vector y was passed when a 1d array was expected. Please change the shape of y to (n_samples, ), for example using ravel().\n",
      "  y = column_or_1d(y, warn=True)\n",
      "/home/stevenxu/.local/lib/python3.6/site-packages/sklearn/utils/validation.py:760: DataConversionWarning: A column-vector y was passed when a 1d array was expected. Please change the shape of y to (n_samples, ), for example using ravel().\n",
      "  y = column_or_1d(y, warn=True)\n",
      "/home/stevenxu/.local/lib/python3.6/site-packages/sklearn/utils/validation.py:760: DataConversionWarning: A column-vector y was passed when a 1d array was expected. Please change the shape of y to (n_samples, ), for example using ravel().\n",
      "  y = column_or_1d(y, warn=True)\n",
      "/home/stevenxu/.local/lib/python3.6/site-packages/sklearn/utils/validation.py:760: DataConversionWarning: A column-vector y was passed when a 1d array was expected. Please change the shape of y to (n_samples, ), for example using ravel().\n",
      "  y = column_or_1d(y, warn=True)\n",
      "/home/stevenxu/.local/lib/python3.6/site-packages/sklearn/utils/validation.py:760: DataConversionWarning: A column-vector y was passed when a 1d array was expected. Please change the shape of y to (n_samples, ), for example using ravel().\n",
      "  y = column_or_1d(y, warn=True)\n"
     ]
    }
   ],
   "source": [
    "import numpy as np\n",
    "\n",
    "from sklearn.datasets import load_boston\n",
    "from sklearn.linear_model import SGDRegressor\n",
    "from sklearn.model_selection import cross_val_score\n",
    "from sklearn.preprocessing import StandardScaler\n",
    "from sklearn.model_selection import train_test_split\n",
    "\n",
    "data=load_boston()\n",
    "x_train,x_test,y_train,y_test=train_test_split(data.data,data.target)\n",
    "x_scaler=StandardScaler()\n",
    "y_scaler=StandardScaler()\n",
    "x_train=x_scaler.fit_transform(x_train)\n",
    "y_train=y_scaler.fit_transform(y_train.reshape(-1,1))\n",
    "x_test=x_scaler.transform(x_test)\n",
    "y_test=y_scaler.transform(y_test.reshape(-1,1))\n",
    "\n",
    "regressor=SGDRegressor(loss='squared_loss')\n",
    "scores=cross_val_score(regressor,x_train,y_train,cv=5)\n",
    "\n",
    "print(\"cross validation r-squared scores: %s\"%(scores))\n",
    "print(\"average cross validation rsquared score: %s\"%(np.mean(scores)))\n",
    "regressor.fit(x_train,y_train)\n",
    "print(\"test set r-squared score: %s\"%(regressor.score(x_test,y_test)))\n"
   ]
  },
  {
   "cell_type": "code",
   "execution_count": 7,
   "metadata": {},
   "outputs": [
    {
     "data": {
      "text/plain": [
       "array([[6.3200e-03, 1.8000e+01, 2.3100e+00, ..., 1.5300e+01, 3.9690e+02,\n",
       "        4.9800e+00],\n",
       "       [2.7310e-02, 0.0000e+00, 7.0700e+00, ..., 1.7800e+01, 3.9690e+02,\n",
       "        9.1400e+00],\n",
       "       [2.7290e-02, 0.0000e+00, 7.0700e+00, ..., 1.7800e+01, 3.9283e+02,\n",
       "        4.0300e+00],\n",
       "       ...,\n",
       "       [6.0760e-02, 0.0000e+00, 1.1930e+01, ..., 2.1000e+01, 3.9690e+02,\n",
       "        5.6400e+00],\n",
       "       [1.0959e-01, 0.0000e+00, 1.1930e+01, ..., 2.1000e+01, 3.9345e+02,\n",
       "        6.4800e+00],\n",
       "       [4.7410e-02, 0.0000e+00, 1.1930e+01, ..., 2.1000e+01, 3.9690e+02,\n",
       "        7.8800e+00]])"
      ]
     },
     "execution_count": 7,
     "metadata": {},
     "output_type": "execute_result"
    }
   ],
   "source": [
    "data['data']"
   ]
  },
  {
   "cell_type": "code",
   "execution_count": 12,
   "metadata": {},
   "outputs": [
    {
     "data": {
      "text/plain": [
       "sklearn.utils.Bunch"
      ]
     },
     "execution_count": 12,
     "metadata": {},
     "output_type": "execute_result"
    }
   ],
   "source": [
    "type(data)"
   ]
  },
  {
   "cell_type": "code",
   "execution_count": 13,
   "metadata": {},
   "outputs": [
    {
     "data": {
      "text/plain": [
       "array([[-0.39336754, -0.49042767, -0.34908789, ...,  1.14697342,\n",
       "         0.39425783, -0.0259545 ],\n",
       "       [-0.34339665,  0.40275871, -1.02290402, ..., -2.6235065 ,\n",
       "         0.36171341, -1.03740641],\n",
       "       [-0.10972764, -0.49042767,  1.05139269, ...,  0.81288026,\n",
       "         0.39676124, -0.29389807],\n",
       "       ...,\n",
       "       [ 1.27120284, -0.49042767,  1.05139269, ...,  0.81288026,\n",
       "        -3.79635284,  1.66587768],\n",
       "       [-0.388733  , -0.49042767,  2.46655336, ...,  0.76515267,\n",
       "        -0.13516038,  1.60695815],\n",
       "       [-0.3405992 , -0.49042767, -0.41074427, ...,  1.19470101,\n",
       "         0.25635222, -0.31634361]])"
      ]
     },
     "execution_count": 13,
     "metadata": {},
     "output_type": "execute_result"
    }
   ],
   "source": [
    "x_train"
   ]
  },
  {
   "cell_type": "code",
   "execution_count": 19,
   "metadata": {},
   "outputs": [
    {
     "data": {
      "text/plain": [
       "True"
      ]
     },
     "execution_count": 19,
     "metadata": {},
     "output_type": "execute_result"
    }
   ],
   "source": [
    "all(y_train.reshape(-1,1)==y_train)"
   ]
  },
  {
   "cell_type": "code",
   "execution_count": 23,
   "metadata": {},
   "outputs": [
    {
     "data": {
      "text/plain": [
       "(379, 1)"
      ]
     },
     "execution_count": 23,
     "metadata": {},
     "output_type": "execute_result"
    }
   ],
   "source": [
    "np.shape(y_train)"
   ]
  },
  {
   "cell_type": "code",
   "execution_count": 24,
   "metadata": {},
   "outputs": [
    {
     "data": {
      "text/plain": [
       "(379, 1)"
      ]
     },
     "execution_count": 24,
     "metadata": {},
     "output_type": "execute_result"
    }
   ],
   "source": [
    "np.shape(y_train.reshape(-1,1))"
   ]
  },
  {
   "cell_type": "markdown",
   "metadata": {},
   "source": [
    "Chapter 6: Logistic Regression"
   ]
  },
  {
   "cell_type": "code",
   "execution_count": 27,
   "metadata": {},
   "outputs": [
    {
     "name": "stdout",
     "output_type": "stream",
     "text": [
      "      0                                                  1\n",
      "0   ham  Go until jurong point, crazy.. Available only ...\n",
      "1   ham                      Ok lar... Joking wif u oni...\n",
      "2  spam  Free entry in 2 a wkly comp to win FA Cup fina...\n",
      "3   ham  U dun say so early hor... U c already then say...\n",
      "4   ham  Nah I don't think he goes to usf, he lives aro...\n"
     ]
    }
   ],
   "source": [
    "import pandas as pd\n",
    "df=pd.read_csv('./SMSSpamCollection',delimiter='\\t',header=None) #a brief syntax of file path.\n",
    "print(df.head())"
   ]
  },
  {
   "cell_type": "code",
   "execution_count": 28,
   "metadata": {},
   "outputs": [
    {
     "name": "stdout",
     "output_type": "stream",
     "text": [
      "num of the spam message: 747\n",
      "num of the ham message: 4825\n"
     ]
    }
   ],
   "source": [
    "print(\"num of the spam message: %d\"%(df[df[0]=='spam'][0].count()))\n",
    "print(\"num of the ham message: %d\"%(df[df[0]=='ham'][0].count()))"
   ]
  },
  {
   "cell_type": "code",
   "execution_count": 32,
   "metadata": {},
   "outputs": [
    {
     "name": "stdout",
     "output_type": "stream",
     "text": [
      "prediction: ham, message: U should make a fb list\n",
      "prediction: ham, message: happened here while you were adventuring\n",
      "prediction: ham, message: Lol no. Just trying to make your day a little more interesting\n",
      "prediction: ham, message: Get me out of this dump heap. My mom decided to come to lowes. BORING.\n",
      "prediction: ham, message: How come guoyang go n tell her? Then u told her?\n",
      "prediction: ham, message: Cos daddy arranging time c wat time fetch ü mah...\n",
      "prediction: ham, message:  gonna let me know cos comes bak from holiday that day.  is coming. Don't4get2text me  number. \n",
      "prediction: ham, message: Ü log off 4 wat. It's sdryb8i\n",
      "prediction: ham, message: Hi. Wk been ok - on hols now! Yes on for a bit of a run. Forgot that i have hairdressers appointment at four so need to get home n shower beforehand. Does that cause prob for u?\"\n",
      "prediction: ham, message: Ay wana meet on sat?ü wkg on sat?\n",
      "prediction: ham, message: Ok i found dis pierre cardin one which looks normal costs 20 its on sale.\n",
      "prediction: ham, message: cmon babe, make me horny, *turn* me on! Txt me your fantasy now babe -) Im hot, sticky and need you now. All replies cost £1.50. 2 cancel send STOP\n",
      "prediction: ham, message: Also are you bringing galileo or dobby\n",
      "prediction: ham, message: Whos this am in class:-)\n",
      "prediction: ham, message: Money i have won wining number 946 wot do i do next\n",
      "prediction: ham, message: Otherwise had part time job na-tuition..\n",
      "prediction: ham, message: Hmm, too many of them unfortunately... Pics obviously arent hot cakes. Its kinda fun tho\n",
      "prediction: ham, message: Dunno lei ü all decide lor. How abt leona? Oops i tot ben is going n i msg him.\n",
      "prediction: ham, message: I did. One slice and one breadstick. Lol\n",
      "prediction: ham, message: Doesn't g have class early tomorrow and thus shouldn't be trying to smoke at  &lt;#&gt;\n",
      "prediction: ham, message: Pls help me tell Ashley that i cant find her number oh\n",
      "prediction: ham, message: No got new job at bar in airport on satsgettin 4.47per hour but means no lie in! keep in touch\n",
      "prediction: ham, message: Xy trying smth now. U eat already? We havent...\n",
      "prediction: ham, message: Yo, you gonna still be in stock tomorrow/today? I'm trying to get a dubsack\n",
      "prediction: ham, message: How long does applebees fucking take\n",
      "prediction: ham, message: I'm coming home 4 dinner.\n",
      "prediction: ham, message: Yes. Rent is very expensive so its the way we save.\n",
      "prediction: ham, message: Sorry to trouble u again. Can buy 4d for my dad again? 1405, 1680, 1843. All 2 big 1 small, sat n sun. Thanx.\n",
      "prediction: ham, message: So many people seems to be special at first sight, But only very few will remain special to you till your last sight.. Maintain them till life ends.. Sh!jas\n",
      "prediction: ham, message: How many licks does it take to get to the center of a tootsie pop?\n",
      "prediction: ham, message: Well, I have to leave for my class babe ... You never came back to me ... :-( ... Hope you have a nice sleep, my love\n",
      "prediction: ham, message: Beautiful Truth against Gravity.. Read carefully: \"Our heart feels light when someone is in it.. But it feels very heavy when someone leaves it..\" GOOD NIGHT\n",
      "prediction: ham, message: Thats cool princess! I will cover your face in hot sticky cum :)\n",
      "prediction: ham, message: Rock yr chik. Get 100's of filthy films &XXX pics on yr phone now. rply FILTH to 69669. Saristar Ltd, E14 9YT 08701752560. 450p per 5 days. Stop2 cancel\n",
      "prediction: ham, message: Do u noe how 2 send files between 2 computers?\n",
      "prediction: ham, message: I emailed yifeng my part oredi.. Can ü get it fr him..\n",
      "prediction: ham, message: , im .. On the snowboarding trip. I was wondering if your planning to get everyone together befor we go..a meet and greet kind of affair? Cheers, \n",
      "prediction: ham, message: Night night, see you tomorrow\n",
      "prediction: ham, message: There is a first time for everything :)\n",
      "prediction: ham, message: Are you plans with your family set in stone ?\n",
      "prediction: ham, message: 2 and half years i missed your friendship:-)\n",
      "prediction: ham, message: Baaaaabe! I misss youuuuu ! Where are you ? I have to go and teach my class at 5 ...\n",
      "prediction: ham, message: Your next amazing xxx PICSFREE1 video will be sent to you enjoy! If one vid is not enough for 2day text back the keyword PICSFREE1 to get the next video.\n",
      "prediction: ham, message: To day class is there are no class.\n",
      "prediction: ham, message: Nope but i'll b going 2 sch on fri quite early lor cos mys sis got paper in da morn :-)\n",
      "prediction: ham, message: haha but no money leh... Later got to go for tuition... Haha and looking for empty slots for driving lessons\n",
      "prediction: ham, message: Cool. Do you like swimming? I have a pool and jacuzzi at my house.\n",
      "prediction: ham, message: Ok lor...\n",
      "prediction: ham, message: Been up to ne thing interesting. Did you have a good birthday? When are u wrking nxt? I started uni today.\n",
      "prediction: ham, message: After my work ah... Den 6 plus lor... U workin oso rite... Den go orchard lor, no other place to go liao...\n",
      "prediction: ham, message: Oh just getting even with u.... u?\n",
      "prediction: ham, message: Don‘t give a flying monkeys wot they think and I certainly don‘t mind. Any friend of mine and all that!\n",
      "prediction: ham, message: R u here yet? I'm wearing blue shirt n black pants.\n",
      "prediction: ham, message: I can't, I don't have her number!\n",
      "prediction: spam, message: LORD OF THE RINGS:RETURN OF THE KING in store NOW!REPLY LOTR by 2 June 4 Chance 2 WIN LOTR soundtrack CDs StdTxtRate. Reply STOP to end txts\n",
      "prediction: ham, message: Pls tell nelson that the bb's are no longer comin. The money i was expecting aint coming\n",
      "prediction: ham, message: Its a part of checking IQ\n",
      "prediction: ham, message: Ok.\n",
      "prediction: ham, message: No rushing. I'm not working. I'm in school so if we rush we go hungry.\n",
      "prediction: ham, message: Dont pick up d call when something important is There to tell. Hrishi\n",
      "prediction: ham, message: Beautiful tomorrow never comes.. When it comes, it's already TODAY.. In the hunt of beautiful tomorrow don't waste your wonderful TODAY.. GOODMORNING:)\n",
      "prediction: ham, message: Convey my regards to him\n",
      "prediction: ham, message: Love you aathi..love u lot..\n",
      "prediction: ham, message: Lol no. I just need to cash in my nitros. Hurry come on before I crash out!\n",
      "prediction: ham, message: Omg if its not one thing its another. My cat has worms :/ when does this bad day end?\n",
      "prediction: ham, message: Do whatever you want. You know what the rules are. We had a talk earlier this week about what had to start happening, you showing responsibility. Yet, every week it's can i bend the rule this way? What about that way? Do whatever. I'm tired of having thia same argument with you every week. And a  &lt;#&gt;  movie DOESNT inlude the previews. You're still getting in after 1.\n",
      "prediction: ham, message: I am waiting machan. Call me once you free.\n",
      "prediction: ham, message: Hmmm... Guess we can go 4 kb n power yoga... Haha, dunno we can tahan power yoga anot... Thk got lo oso, forgot liao...\n",
      "prediction: ham, message: Apart from the one i told you about yesterday?\n",
      "prediction: ham, message: I want to sent  &lt;#&gt; mesages today. Thats y. Sorry if i hurts\n",
      "prediction: ham, message: Beautiful Truth against Gravity.. Read carefully: \"Our heart feels light when someone is in it.. But it feels very heavy when someone leaves it..\" GOODMORNING\n",
      "prediction: ham, message: When can ü come out?\n",
      "prediction: ham, message: For sale - arsenal dartboard. Good condition but no doubles or trebles!\n",
      "prediction: spam, message: 22 days to kick off! For Euro2004 U will be kept up to date with the latest news and results daily. To be removed send GET TXT STOP to 83222\n",
      "prediction: ham, message: Thanks a lot for your wishes on my birthday. Thanks you for making my birthday truly memorable.\n",
      "prediction: ham, message: May i call You later Pls\n",
      "prediction: ham, message: I'm now but have to wait till 2 for the bus to pick me.\n",
      "prediction: ham, message: Just wait till end of march when el nino gets himself. Oh.\n",
      "prediction: ham, message: Cool, what time you think you can get here?\n",
      "prediction: ham, message: For you information, IKEA is spelled with all caps. That is not yelling. when you thought i had left you, you were sitting on the bed among the mess when i came in. i said we were going after you got home from class. please don't try and bullshit me. It makes me want to listen to you less.\n",
      "prediction: spam, message: For ur chance to win £250 cash every wk TXT: PLAY to 83370. T's&C's www.music-trivia.net custcare 08715705022, 1x150p/wk.\n",
      "prediction: ham, message: Ok. Every night take a warm bath drink a cup of milk and you'll see a work of magic. You still need to loose weight. Just so that you know\n",
      "prediction: ham, message: Sat right? Okay thanks... \n",
      "prediction: spam, message: I don't know u and u don't know me. Send CHAT to 86688 now and let's find each other! Only 150p/Msg rcvd. HG/Suite342/2Lands/Row/W1J6HL LDN. 18 years or over.\n",
      "prediction: ham, message: Hi. I'm always online on yahoo and would like to chat with you someday\n",
      "prediction: ham, message: After completed degree. There is no use in joining finance.\n",
      "prediction: ham, message: is your hamster dead? Hey so tmr i meet you at 1pm orchard mrt? \n",
      "prediction: ham, message: Just so that you know,yetunde hasn't sent money yet. I just sent her a text not to bother sending. So its over, you dont have to involve yourself in anything. I shouldn't have imposed anything on you in the first place so for that, i apologise.\n",
      "prediction: ham, message: Then why you came to hostel.\n",
      "prediction: spam, message: You can stop further club tones by replying \"STOP MIX\" See my-tone.com/enjoy. html for terms. Club tones cost GBP4.50/week. MFL, PO Box 1146 MK45 2WT (2/3)\n",
      "prediction: ham, message: Ü bot notes oredi... Cos i juz rem i got...\n",
      "prediction: ham, message: Do you know why god created gap between your fingers..? So that, One who is made for you comes &amp; fills those gaps by holding your hand with LOVE..!\n",
      "prediction: ham, message: Been running but only managed 5 minutes and then needed oxygen! Might have to resort to the roller option!\n",
      "prediction: ham, message: LookAtMe!: Thanks for your purchase of a video clip from LookAtMe!, you've been charged 35p. Think you can do better? Why not send a video in a MMSto 32323.\n",
      "prediction: spam, message: SPJanuary Male Sale! Hot Gay chat now cheaper, call 08709222922. National rate from 1.5p/min cheap to 7.8p/min peak! To stop texts call 08712460324 (10p/min)\n",
      "prediction: ham, message: Lol I would but my mom would have a fit and tell the whole family how crazy and terrible I am\n",
      "prediction: ham, message: I want to show you the world, princess :) how about europe?\n",
      "prediction: ham, message: I remain unconvinced that this isn't an elaborate test of my willpower\n",
      "prediction: ham, message: Time n Smile r the two crucial things in our life. Sometimes time makes us to forget smile, and sometimes someone's smile makes us to forget time gud noon\n",
      "prediction: ham, message: England v Macedonia - dont miss the goals/team news. Txt ur national team to 87077 eg ENGLAND to 87077 Try:WALES, SCOTLAND 4txt/ú1.20 POBOXox36504W45WQ 16+\n",
      "prediction: ham, message: Joy's father is John. Then John is the NAME of Joy's father. Mandan\n",
      "prediction: ham, message: U still havent got urself a jacket ah?\n",
      "prediction: ham, message: Don't forget though that I love you .... And I walk beside you. Watching over you and keeping your heart warm.\n",
      "prediction: ham, message: i dnt wnt to tlk wid u\n",
      "prediction: ham, message: Then she dun believe wat?\n",
      "prediction: ham, message: Am only searching for good dual sim mobile pa.\n",
      "prediction: ham, message: MMM ... Fuck .... Merry Christmas to me\n",
      "prediction: ham, message: Alright, see you in a bit\n",
      "prediction: ham, message: Arun can u transfr me d amt\n",
      "prediction: ham, message: Then mum's repent how?\n",
      "prediction: ham, message: Where are you ? What are you doing ? Are yuou working on getting the pc to your mom's ? Did you find a spot that it would work ? I need you\n",
      "prediction: ham, message: Tired. I haven't slept well the past few nights.\n",
      "prediction: ham, message: You didn't have to tell me that...now i'm thinking. Plus he's going to stop all your runs\n",
      "prediction: ham, message: Eat at old airport road... But now 630 oredi... Got a lot of pple...\n",
      "prediction: spam, message: Your free ringtone is waiting to be collected. Simply text the password \"MIX\" to 85069 to verify. Get Usher and Britney. FML, PO Box 5249, MK17 92H. 450Ppw 16\n",
      "prediction: spam, message: Dear Voucher Holder, 2 claim this weeks offer, at your PC go to http://www.e-tlp.co.uk/expressoffer Ts&Cs apply.2 stop texts txt STOP to 80062.\n",
      "prediction: ham, message: K k :-):-) then watch some films.\n",
      "prediction: ham, message: Hey gorgeous man. My work mobile number is. Have a good one babe. Squishy Mwahs.\n",
      "prediction: ham, message: Let me know how it changes in the next 6hrs. It can even be appendix but you are out of that age range. However its not impossible. So just chill and let me know in 6hrs\n",
      "prediction: ham, message: Be happy there. I will come after noon\n",
      "prediction: ham, message: S:)8 min to go for lunch:)\n",
      "prediction: ham, message: You give us back my id proof and  &lt;#&gt;  rs. We wont allow you to work. We will come to your home within days\n",
      "prediction: ham, message: Midnight at the earliest\n",
      "prediction: ham, message: I've been trying to reach him without success\n",
      "prediction: ham, message: When you are big..| God will bring success.\n",
      "prediction: ham, message: Wat r u doing?\n",
      "prediction: ham, message: Don know..he is watching film in computer..\n",
      "prediction: ham, message: As usual..iam fine, happy &amp; doing well..:)\n",
      "prediction: ham, message: Hi here. have birth at on the  to  at 8lb 7oz. Mother and baby doing brilliantly.\n",
      "prediction: ham, message: I will spoil you in bed as well :)\n",
      "prediction: ham, message: Cos i want it to be your thing\n",
      "prediction: ham, message: I know but you need to get hotel now. I just got my invitation but i had to apologise. Cali is to sweet for me to come to some english bloke's weddin\n",
      "prediction: ham, message: Call me when u finish then i come n pick u.\n",
      "prediction: ham, message: Raji..pls do me a favour. Pls convey my Birthday wishes to Nimya. Pls. Today is her birthday.\n",
      "prediction: ham, message: You're right I have now that I think about it\n",
      "prediction: ham, message: Many more happy returns of the day. I wish you happy birthday.\n",
      "prediction: ham, message: Just wanted to say holy shit you guys weren't kidding about this bud\n",
      "prediction: ham, message: And by when you're done I mean now\n",
      "prediction: ham, message: Solve d Case : A Man Was Found Murdered On  &lt;DECIMAL&gt; . &lt;#&gt;  AfterNoon. 1,His wife called Police. 2,Police questioned everyone. 3,Wife: Sir,I was sleeping, when the murder took place. 4.Cook: I was cooking. 5.Gardener: I was picking vegetables. 6.House-Maid: I went 2 d post office. 7.Children: We went 2 play. 8.Neighbour: We went 2 a marriage. Police arrested d murderer Immediately. Who's It? Reply With Reason, If U r Brilliant.\n",
      "prediction: ham, message: Every day i use to sleep after  &lt;#&gt;  so only.\n",
      "prediction: ham, message: Wishing you and your family Merry \"X\" mas and HAPPY NEW Year in advance..\n",
      "prediction: ham, message: Ok...\n",
      "prediction: ham, message: Are you there in room.\n",
      "prediction: ham, message: Haha awesome, omw back now then\n",
      "prediction: ham, message: U're welcome... Caught u using broken english again...\n",
      "prediction: ham, message: Let me know when you've got the money so carlos can make the call\n",
      "prediction: ham, message: Lets use it next week, princess :)\n",
      "prediction: ham, message: If you have belive me. Come to my home.\n",
      "prediction: ham, message: Lovely smell on this bus and it ain't tobacco... \n",
      "prediction: ham, message: Sorry i din lock my keypad.\n",
      "prediction: ham, message: Yes.he have good crickiting mind\n",
      "prediction: ham, message: Msg me when rajini comes.\n",
      "prediction: ham, message: So u workin overtime nigpun?\n",
      "prediction: ham, message: The world suffers a lot... Not because of the violence of bad people. But because of the silence of good people!, Gud night....\n",
      "prediction: ham, message: Hey what happen de. Are you alright.\n",
      "prediction: ham, message: Haha mayb u're rite... U know me well. Da feeling of being liked by someone is gd lor. U faster go find one then all gals in our group attached liao.\n",
      "prediction: ham, message: Nice.nice.how is it working?\n",
      "prediction: ham, message: I guess you could be as good an excuse as any, lol.\n",
      "prediction: spam, message: For ur chance to win a £250 cash every wk TXT: ACTION to 80608. T's&C's www.movietrivia.tv custcare 08712405022, 1x150p/wk\n",
      "prediction: ham, message: HEY MATE! HOWS U HONEY?DID U AVE GOOD HOLIDAY? GIMMI DE GOSS!x\n",
      "prediction: spam, message: 5p 4 alfie Moon's Children in need song on ur mob. Tell ur m8s. Txt Tone charity to 8007 for Nokias or Poly charity for polys: zed 08701417012 profit 2 charity.\n",
      "prediction: ham, message: What i mean was i left too early to check, cos i'm working a 9-6.\n",
      "prediction: spam, message: Get the official ENGLAND poly ringtone or colour flag on yer mobile for tonights game! Text TONE or FLAG to 84199. Optout txt ENG STOP Box39822 W111WX £1.50\n",
      "prediction: spam, message: Hi there, 2nights ur lucky night! Uve been invited 2 XCHAT, the Uks wildest chat! Txt CHAT to 86688 now! 150p/MsgrcvdHG/Suite342/2Lands/Row/W1J6HL LDN 18yrs\n",
      "prediction: ham, message: Okey dokey swashbuckling stuff what oh.\n",
      "prediction: ham, message: You do what all you like\n",
      "prediction: spam, message: For ur chance to win a £250 wkly shopping spree TXT: SHOP to 80878. T's&C's www.txt-2-shop.com custcare 08715705022, 1x150p/wk\n",
      "prediction: ham, message: Need a coffee run tomo?Can't believe it's that time of week already\n",
      "prediction: ham, message: I like you peoples very much:) but am very shy pa.\n",
      "prediction: ham, message: have * good weekend.\n",
      "prediction: spam, message: PRIVATE! Your 2003 Account Statement for shows 800 un-redeemed S. I. M. points. Call 08715203652 Identifier Code: 42810 Expires 29/10/0\n",
      "prediction: spam, message: we tried to contact you re your response to our offer of a new nokia fone and camcorder hit reply or call 08000930705 for delivery\n",
      "prediction: ham, message: Plz note: if anyone calling from a mobile Co. &amp; asks u to type # &lt;#&gt;  or # &lt;#&gt; . Do not do so. Disconnect the call,coz it iz an attempt of 'terrorist' to make use of the sim card no. Itz confirmd by nokia n motorola n has been verified by CNN IBN.\n",
      "prediction: ham, message: No one interested. May be some business plan.\n",
      "prediction: ham, message: I can do that! I want to please you both inside and outside the bedroom...\n",
      "prediction: ham, message: Yeah I am, so I'll leave maybe 7ish?\n",
      "prediction: ham, message: Ok. Me watching tv too.\n",
      "prediction: ham, message: Lol great now im getting hungry.\n",
      "prediction: ham, message: Ok., is any problem to u frm him? Wats matter?\n",
      "prediction: ham, message: Hi happy birthday. Hi hi hi hi hi hi hi\n",
      "prediction: ham, message: Yes, i'm small kid.. And boost is the secret of my energy..\n",
      "prediction: ham, message: Wen did you get so spiritual and deep. That's great\n",
      "prediction: ham, message: I forgot 2 ask ü all smth.. There's a card on da present lei... How? Ü all want 2 write smth or sign on it?\n",
      "prediction: ham, message: I want to be there so i can kiss you and feel you next to me\n",
      "prediction: ham, message: Dear got train and seat mine lower seat\n",
      "prediction: ham, message: Wrong phone! This phone! I answer this one but assume the other is people i don't well\n",
      "prediction: spam, message: You have been specially selected to receive a \"3000 award! Call 08712402050 BEFORE the lines close. Cost 10ppm. 16+. T&Cs apply. AG Promo\n",
      "prediction: ham, message: Yeah I don't see why not\n",
      "prediction: ham, message: Going for dinner.msg you after.\n",
      "prediction: ham, message: He telling not to tell any one. If so treat for me hi hi hi\n",
      "prediction: ham, message: I dont know oh. Hopefully this month.\n",
      "prediction: spam, message: Hope you enjoyed your new content. text stop to 61610 to unsubscribe. help:08712400602450p Provided by tones2you.co.uk\n",
      "prediction: spam, message: Call 09095350301 and send our girls into erotic ecstacy. Just 60p/min. To stop texts call 08712460324 (nat rate)\n",
      "prediction: spam, message: Free Msg: get Gnarls Barkleys \"Crazy\" ringtone TOTALLY FREE just reply GO to this message right now!\n",
      "prediction: ham, message: I know she called me\n",
      "prediction: spam, message: Text BANNEDUK to 89555 to see! cost 150p textoperator g696ga 18+ XXX\n",
      "prediction: ham, message: I will cme i want to go to hos 2morow. After that i wil cme. This what i got from her dear what to do. She didnt say any time\n",
      "prediction: ham, message: Fine. Do you remember me.\n",
      "prediction: ham, message: Yeah, probably here for a while\n",
      "prediction: ham, message: I hope your alright babe? I worry that you might have felt a bit desparate when you learned the job was a fake ? I am here waiting when you come back, my love\n",
      "prediction: ham, message: I'm stuck in da middle of da row on da right hand side of da lt... \n",
      "prediction: ham, message: Life is more strict than teacher... Bcoz Teacher teaches lesson &amp; then conducts exam, But Life first conducts Exam &amp; then teaches Lessons. Happy morning. . .\n",
      "prediction: ham, message: I'm wif him now buying tix lar...\n",
      "prediction: ham, message: Good afternoon starshine! How's my boytoy? Does he crave me yet? Ache to fuck me ? *sips cappuccino* I miss you babe *teasing kiss*\n",
      "prediction: ham, message: I just lov this line: \"Hurt me with the truth, I don't mind,i wil tolerat.bcs ur my someone..... But, Never comfort me with a lie\" gud ni8 and sweet dreams\n",
      "prediction: ham, message: U wake up already? Wat u doing? U picking us up later rite? I'm taking sq825, reaching ard 7 smth 8 like dat. U can check e arrival time. C ya soon...\n",
      "prediction: ham, message: What about this one then.\n",
      "prediction: ham, message: It could work, we'll reach a consensus at the next meeting\n",
      "prediction: ham, message: Ok...\n",
      "prediction: ham, message: No i am not having not any movies in my laptop\n",
      "prediction: ham, message: Y dun cut too short leh. U dun like ah? She failed. She's quite sad.\n",
      "prediction: ham, message: She said,'' do u mind if I go into the bedroom for a minute ? '' ''OK'', I sed in a sexy mood. She came out 5 minuts latr wid a cake...n My Wife,\n",
      "prediction: ham, message: Aight, lemme know what's up\n",
      "prediction: ham, message: Ok. Not sure what time tho as not sure if can get to library before class. Will try. See you at some point! Have good eve.\n",
      "prediction: ham, message: Oops I did have it,  &lt;#&gt; ?\n",
      "prediction: spam, message: Mila, age23, blonde, new in UK. I look sex with UK guys. if u like fun with me. Text MTALK to 69866.18 . 30pp/txt 1st 5free. £1.50 increments. Help08718728876\n",
      "prediction: ham, message: Are you not around or just still asleep? :V\n",
      "prediction: ham, message: Ok cool. See ya then.\n",
      "prediction: ham, message: says the  &lt;#&gt;  year old with a man and money. I'm down to my last  &lt;#&gt; . Still waiting for that check.\n",
      "prediction: ham, message: Rose for red,red for blood,blood for heart,heart for u. But u for me.... Send tis to all ur friends.. Including me.. If u like me.. If u get back, 1-u r poor in relation! 2-u need some 1 to support 3-u r frnd 2 many 4-some1 luvs u 5+- some1 is praying god to marry u.:-) try it....\n",
      "prediction: ham, message: … we r stayin here an extra week, back next wed. How did we do in the rugby this weekend? Hi to and and , c u soon \"\n",
      "prediction: ham, message: Received, understood n acted upon!\n",
      "prediction: ham, message: Are you sure you don't mean \"get here, we made you hold all the weed\"\n",
      "prediction: ham, message: Where is that one day training:-)\n",
      "prediction: ham, message: Ok . . now i am in bus. . If i come soon i will come otherwise tomorrow\n",
      "prediction: ham, message: Sindu got job in birla soft ..\n",
      "prediction: ham, message: I am going to sleep. I am tired of travel.\n",
      "prediction: ham, message: Wishing you a beautiful day. Each moment revealing even more things to keep you smiling. Do enjoy it.\n",
      "prediction: spam, message: You have won ?1,000 cash or a ?2,000 prize! To claim, call09050000327. T&C: RSTM, SW7 3SS. 150ppm\n",
      "prediction: ham, message: I'm fine. Hope you are also\n",
      "prediction: ham, message: You stayin out of trouble stranger!!saw Dave the other day hes sorted now!still with me bloke when u gona get a girl MR!ur mum still Thinks we will get 2GETHA! \n",
      "prediction: ham, message: K actually can you guys meet me at the sunoco on howard? It should be right on the way\n",
      "prediction: ham, message: Shall i come to get pickle\n",
      "prediction: ham, message: Do u konw waht is rael FRIENDSHIP Im gving yuo an exmpel: Jsut ese tihs msg.. Evrey splleing of tihs msg is wrnog.. Bt sitll yuo can raed it wihtuot ayn mitsake.. GOODNIGHT &amp; HAVE A NICE SLEEP..SWEET DREAMS..\n",
      "prediction: ham, message: My exam is for february 4. Wish you a great day.\n",
      "prediction: ham, message: I'm gonna rip out my uterus.\n",
      "prediction: ham, message: Huh but i got lesson at 4 lei n i was thinkin of going to sch earlier n i tot of parkin at kent vale...  \n",
      "prediction: ham, message: Ummma.will call after check in.our life will begin from qatar so pls pray very hard.\n",
      "prediction: spam, message: WIN a year supply of CDs 4 a store of ur choice worth £500 & enter our £100 Weekly draw txt MUSIC to 87066 Ts&Cs www.Ldew.com.subs16+1win150ppmx3\n",
      "prediction: ham, message: Pls what's the full name of joke's school cos fees in university of florida seem to actually be  &lt;#&gt; k. Pls holla back\n",
      "prediction: ham, message: ALSO TELL HIM I SAID HAPPY BIRTHDAY\n",
      "prediction: ham, message: cud u tell ppl im gona b a bit l8 cos 2 buses hav gon past cos they were full & im still waitin 4 1. Pete x\n",
      "prediction: ham, message: I'm in a meeting, call me later at\n",
      "prediction: ham, message: Hi I'm sue. I am 20 years old and work as a lapdancer. I love sex. Text me live - I'm i my bedroom now. text SUE to 89555. By TextOperator G2 1DA 150ppmsg 18+\n",
      "prediction: ham, message: R u meeting da ge at nite tmr?\n",
      "prediction: ham, message: No probs hon! How u doinat the mo?\n",
      "prediction: ham, message: Haha... can... But i'm having dinner with my cousin...\n",
      "prediction: ham, message: Hi' Test on  &lt;#&gt; rd ....\n",
      "prediction: ham, message: Leave it wif me lar... Ü wan to carry meh so heavy... Is da num 98321561 familiar to ü?\n",
      "prediction: ham, message: Wot about on wed nite I am 3 then but only til 9!\n",
      "prediction: ham, message: I am in escape theatre now. . Going to watch KAVALAN in a few minutes\n",
      "prediction: ham, message: Huh so fast... Dat means u havent finished painting?\n",
      "prediction: ham, message: Hello. Sort of out in town already. That . So dont rush home, I am eating nachos. Will let you know eta.\n",
      "prediction: ham, message: Have you heard about that job? I'm going to that wildlife talk again tonight if u want2come. Its that2worzels and a wizzle or whatever it is?! \n",
      "prediction: ham, message: Tomorrow i am not going to theatre. . . So i can come wherever u call me. . . Tell me where and when to come tomorrow\n",
      "prediction: ham, message: Just got some gas money, any chance you and the gang want to go on a grand nature adventure?\n",
      "prediction: ham, message: 1) Go to write msg 2) Put on Dictionary mode 3)Cover the screen with hand, 4)Press  &lt;#&gt; . 5)Gently remove Ur hand.. Its interesting..:)\n",
      "prediction: ham, message: A Boy loved a gal. He propsd bt she didnt mind. He gv lv lttrs, Bt her frnds threw thm. Again d boy decided 2 aproach d gal , dt time a truck was speeding towards d gal. Wn it was about 2 hit d girl,d boy ran like hell n saved her. She asked 'hw cn u run so fast?' D boy replied \"Boost is d secret of my energy\" n instantly d girl shouted \"our energy\" n Thy lived happily 2gthr drinking boost evrydy Moral of d story:- I hv free msgs:D;): gud ni8\n",
      "prediction: ham, message: Hey darlin.. i can pick u up at college if u tell me wen & where 2 mt.. love Pete xx\n",
      "prediction: ham, message: You'll not rcv any more msgs from the chat svc. For FREE Hardcore services text GO to: 69988 If u get nothing u must Age Verify with yr network & try again\n",
      "prediction: spam, message: SMS SERVICES For your inclusive text credits pls gotto www.comuk.net login 3qxj9 unsubscribe with STOP no extra charge help 08702840625 comuk.220cm2 9AE\n",
      "prediction: spam, message: You are guaranteed the latest Nokia Phone, a 40GB iPod MP3 player or a £500 prize! Txt word: COLLECT to No: 83355! IBHltd LdnW15H 150p/Mtmsgrcvd18\n",
      "prediction: ham, message: How much for an eighth?\n",
      "prediction: ham, message: CLAIRE here am havin borin time & am now alone U wanna cum over 2nite? Chat now 09099725823 hope 2 C U Luv CLAIRE xx Calls£1/minmoremobsEMSPOBox45PO139WA\n",
      "prediction: ham, message: Madam,regret disturbance.might receive a reference check from DLF Premarica.kindly be informed.Rgds,Rakhesh,Kerala.\n",
      "prediction: ham, message: A bit of Ur smile is my hppnss, a drop of Ur tear is my sorrow, a part of Ur heart is my life, a heart like mine wil care for U, forevr as my GOODFRIEND\n",
      "prediction: ham, message: Hey... Very inconvenient for your sis a not huh?\n",
      "prediction: ham, message: Er, hello, things didn‘t quite go to plan – is limping slowly home followed by aa and with exhaust hanging off\n",
      "prediction: ham, message: Delhi and chennai still silent.\n",
      "prediction: spam, message: SMS AUCTION You have won a Nokia 7250i. This is what you get when you win our FREE auction. To take part send Nokia to 86021 now. HG/Suite342/2Lands Row/W1JHL 16+\n",
      "prediction: ham, message: I wasn't well babe, i have swollen glands at my throat ... What did you end up doing ?\n",
      "prediction: ham, message: No screaming means shouting..\n",
      "prediction: ham, message: We know TAJ MAHAL as symbol of love. But the other lesser known facts 1. Mumtaz was Shahjahan's 4th wife, out of his 7 wifes. 2. Shahjahan killed Mumtaz's husband to marry her. 3. Mumtaz died in her  &lt;#&gt; th delivery. 4. He then married Mumtaz's sister. Question arises where the Hell is the LOVE?:-| -The Great Hari-\n",
      "prediction: ham, message: I dunno lei... Like dun haf...\n",
      "prediction: ham, message: Waiting in e car 4 my mum lor. U leh? Reach home already?\n",
      "prediction: ham, message: Good FRIENDS CaRE for each Other.. CLoSE Friends UNDERSTaND each Other... and TRUE Friends STaY forever beyond words, beyond time. Gud ni8\n",
      "prediction: ham, message: Cold. Dont be sad dear\n",
      "prediction: ham, message: Must come later.. I normally bathe him in da afternoon mah..\n",
      "prediction: ham, message: Dont worry. I guess he's busy.\n",
      "prediction: ham, message: I was wondering if it would be okay for you to call uncle john and let him know that things are not the same in nigeria as they r here. That  &lt;#&gt;  dollars is 2years sent and that you know its a strain but i plan to pay back every dime he gives. Every dime so for me to expect anything from you is not practical. Something like that.\n",
      "prediction: spam, message: Ur cash-balance is currently 500 pounds - to maximize ur cash-in now send GO to 86688 only 150p/msg. CC: 08718720201 PO BOX 114/14 TCR/W1\n",
      "prediction: ham, message: Its like that hotel dusk game i think. You solve puzzles in a area thing\n",
      "prediction: ham, message: I hope your pee burns tonite.\n",
      "prediction: ham, message: Super da:)good replacement for murali\n",
      "prediction: ham, message: My friends use to call the same.\n",
      "prediction: ham, message: It has issues right now. Ill fix for her by tomorrow.\n",
      "prediction: spam, message: Message Important information for O2 user. Today is your lucky day! 2 find out why log onto http://www.urawinner.com there is a fantastic surprise awaiting you\n",
      "prediction: ham, message: No, I decided that only people who care about stuff vote and caring about stuff is for losers\n",
      "prediction: ham, message: Forgot you were working today! Wanna chat, but things are ok so drop me a text when you're free / bored etc and i'll ring. Hope all is well, nose essay and all xx\n",
      "prediction: ham, message: excellent. I spent  &lt;#&gt;  years in the Air Force. Iraq and afghanistan. I am stable and honest. do you like traveling?\n",
      "prediction: ham, message: Ok I'm gonna head up to usf in like fifteen minutes\n",
      "prediction: ham, message: Hi this is yijue... It's regarding the 3230 textbook it's intro to algorithms second edition... I'm selling it for $50...\n",
      "prediction: ham, message: Hi! You just spoke to MANEESHA V. We'd like to know if you were satisfied with the experience. Reply Toll Free with Yes or No.\n",
      "prediction: ham, message: Watching tv lor...\n",
      "prediction: ham, message: Cool, text me when you head out\n",
      "prediction: ham, message: Will be out of class in a few hours. Sorry\n",
      "prediction: ham, message: Its ok chikku, and its my 1 of favourite song..:-)\n",
      "prediction: ham, message: Also maaaan are you missing out\n",
      "prediction: ham, message: Can ü send me a copy of da report?\n",
      "prediction: ham, message: Am i that much bad to avoid like this?\n",
      "prediction: ham, message: Did u find a sitter for kaitlyn? I was sick and slept all day yesterday.\n",
      "prediction: spam, message: FREE for 1st week! No1 Nokia tone 4 ur mobile every week just txt NOKIA to 8077 Get txting and tell ur mates. www.getzed.co.uk POBox 36504 W45WQ 16+ norm150p/tone\n",
      "prediction: ham, message: Ok but knackered. Just came home and went to sleep! Not good at this full time work lark.\n",
      "prediction: ham, message: Ya they are well and fine., BBD(pooja) full pimples..even she become quite black..and ur rite here its too cold, wearing sweatter..\n",
      "prediction: ham, message: Feel Yourself That You Are Always Happy.. Slowly It Becomes Your Habit &amp; Finally It Becomes Part Of Your Life.. Follow It.. Happy Morning &amp; Have A Happy Day:)\n",
      "prediction: ham, message: Ü go home liao? Ask dad to pick me up at 6...\n",
      "prediction: ham, message: Hello.How u doing?What u been up 2?When will u b moving out of the flat, cos I will need to arrange to pick up the lamp, etc. Take care. Hello caroline!\n",
      "prediction: spam, message: REMINDER FROM O2: To get 2.50 pounds free call credit and details of great offers pls reply 2 this text with your valid name, house no and postcode\n",
      "prediction: ham, message: I am taking you for italian food. How about a pretty dress with no panties? :)\n",
      "prediction: ham, message: Want to send me a virtual hug?... I need one\n",
      "prediction: ham, message: Can meh? Thgt some will clash... Really ah, i dun mind... I dun seen to have lost any weight... Gee...\n",
      "prediction: ham, message: That's the trouble with classes that go well - you're due a dodgey one … Expecting mine tomo! See you for recovery, same time, same place \n",
      "prediction: ham, message: Thanks for your message. I really appreciate your sacrifice. I'm not sure of the process of direct pay but will find out on my way back from the test tomorrow. I'm in class now. Do have a wonderful day.\n",
      "prediction: ham, message: Ok lor ü reaching then message me.\n",
      "prediction: ham, message: Should i send you naughty pix? :)\n",
      "prediction: ham, message: Tiwary to rcb.battle between bang and kochi.\n",
      "prediction: ham, message: YO YO YO BYATCH WHASSUP?\n",
      "prediction: ham, message: Babes I think I got ur brolly I left it in English wil bring it in 2mrw 4 u luv Franxx\n",
      "prediction: ham, message: What???? Hello wats talks email address?\n",
      "prediction: ham, message: Oh ok i didnt know what you meant. Yep i am baby jontin\n",
      "prediction: ham, message: Probably gonna swing by in a wee bit\n",
      "prediction: ham, message: Ok... Help me ask if she's working tmr a not?\n",
      "prediction: spam, message: Had your mobile 11 months or more? U R entitled to Update to the latest colour mobiles with camera for Free! Call The Mobile Update Co FREE on 08002986030\n",
      "prediction: ham, message: Send this to ur friends and receive something about ur voice..... How is my speaking expression? 1.childish 2.naughty 3.Sentiment 4.rowdy 5.ful of attitude 6.romantic 7.shy 8.Attractive 9.funny  &lt;#&gt; .irritating  &lt;#&gt; .lovable. reply me..\n",
      "prediction: ham, message: Ha ha ha good joke. Girls are situation seekers.\n",
      "prediction: ham, message: Hey what are you doing. Y no reply pa..\n",
      "prediction: ham, message: He said i look pretty wif long hair wat. But i thk he's cutting quite short 4 me leh.\n",
      "prediction: ham, message: Yup having my lunch buffet now.. U eat already?\n",
      "prediction: ham, message: K ill drink.pa then what doing. I need srs model pls send it to my mail id pa.\n",
      "prediction: ham, message: Ok pa. Nothing problem:-)\n",
      "prediction: ham, message: 1 in cbe. 2 in chennai.\n",
      "prediction: ham, message: Short But Cute : \" Be a good person , but dont try to prove\" ..... Gud mrng...\n",
      "prediction: ham, message: Wow didn't think it was that common. I take it all back ur not a freak! Unless u chop it off:-)\n",
      "prediction: ham, message: Oh oh... Den muz change plan liao... Go back have to yan jiu again...\n",
      "prediction: ham, message: great princess! I love giving and receiving oral. Doggy style is my fave position. How about you? I enjoy making love  &lt;#&gt;  times per night :)\n",
      "prediction: ham, message: Hey you told your name to gautham ah?\n",
      "prediction: ham, message: Reckon need to be in town by eightish to walk from * carpark.\n",
      "prediction: ham, message: I cant pick the phone right now. Pls send a message\n",
      "prediction: ham, message: Am in film ill call you later.\n",
      "prediction: ham, message: Cos i was out shopping wif darren jus now n i called him 2 ask wat present he wan lor. Then he started guessing who i was wif n he finally guessed darren lor.\n",
      "prediction: ham, message: Once free call me sir. I am waiting for you.\n",
      "prediction: ham, message: Pls send me a comprehensive mail about who i'm paying, when and how much.\n",
      "prediction: ham, message: Ok... C ya...\n",
      "prediction: ham, message: You know my old Dom I told you about yesterday ? His name is Roger? He got in touch with me last night and wants me to meet him today at 2 pm\n",
      "prediction: ham, message: Cool, text me when you're parked\n",
      "prediction: ham, message: Y cant u try new invention to fly..i'm not joking.,\n",
      "prediction: ham, message: Chk in ur belovd ms dict\n",
      "prediction: ham, message: Can you tell Shola to please go to college of medicine and visit the academic department, tell the academic secretary what the current situation is and ask if she can transfer there. She should ask someone to check Sagamu for the same thing and lautech. Its vital she completes her medical education in Nigeria. Its less expensive much less expensive. Unless she will be getting citizen rates in new zealand.\n",
      "prediction: ham, message: What makes you most happy?\n",
      "prediction: ham, message: K..then come wenever u lik to come and also tel vikky to come by getting free time..:-)\n",
      "prediction: ham, message: There r many model..sony ericson also der.. &lt;#&gt; ..it luks good bt i forgot modl no\n",
      "prediction: ham, message: Sorry, my battery died, I can come by but I'm only getting a gram for now, where's your place?\n",
      "prediction: ham, message: Bought one ringtone and now getting texts costing 3 pound offering more tones etc\n",
      "prediction: ham, message: Aiyar u so poor thing... I give u my support k... Jia you! I'll think of u...\n",
      "prediction: ham, message: So the sun is anti sleep medicine.\n",
      "prediction: ham, message: Except theres a chick with huge boobs.\n",
      "prediction: ham, message: TaKe CaRE n gET WeLL sOOn\n",
      "prediction: ham, message: how tall are you princess?\n",
      "prediction: ham, message: Sorry, left phone upstairs. OK, might be hectic but would be all my birds with one fell swoop. It's a date.\n",
      "prediction: ham, message: My life Means a lot to me, Not because I love my life, But because I love the people in my life, The world calls them friends, I call them my World:-).. Ge:-)..\n",
      "prediction: ham, message: Yo, I'm at my parents' gettin cash. Good news: we picked up a downstem\n",
      "prediction: ham, message: I know I'm lacking on most of this particular dramastorm's details but for the most part I'm not worried about that\n",
      "prediction: ham, message: No da. I am happy that we sit together na\n",
      "prediction: spam, message: Please call our customer service representative on FREEPHONE 0808 145 4742 between 9am-11pm as you have WON a guaranteed £1000 cash or £5000 prize!\n",
      "prediction: ham, message: Oh is it? Send me the address\n",
      "prediction: ham, message: Sounds like there could be a lot of time spent in that chastity device boy ... *grins* ... Or take your beatings like a good dog. Going to lounge in a nice long bath now ?\n",
      "prediction: ham, message: I cant pick the phone right now. Pls send a message\n",
      "prediction: ham, message: So what about you. What do you remember\n",
      "prediction: spam, message: Save money on wedding lingerie at www.bridal.petticoatdreams.co.uk Choose from a superb selection with national delivery. Brought to you by WeddingFriend\n",
      "prediction: ham, message: S.this will increase the chance of winning.\n",
      "prediction: ham, message: Yup ok thanx...\n",
      "prediction: ham, message: ALRITE HUNNY!WOT U UP 2 2NITE? DIDNT END UP GOIN DOWN TOWN JUS DA PUB INSTEAD! JUS CHILLIN AT DA MO IN ME BEDROOM!LOVE JEN XXX.\n",
      "prediction: ham, message: Hi, wlcome back, did wonder if you got eaten by a lion or something, nothing much\n",
      "prediction: ham, message: Nope... C ü then...\n",
      "prediction: ham, message: She.s find. I sent you an offline message to know how anjola's now.\n",
      "prediction: ham, message: on a Tuesday night r u 4 real\n",
      "prediction: ham, message: By the way, i've put a skip right outside the front of the house so you can see which house it is. Just pull up before it.\n",
      "prediction: ham, message: Buy Space Invaders 4 a chance 2 win orig Arcade Game console. Press 0 for Games Arcade (std WAP charge) See o2.co.uk/games 4 Terms + settings. No purchase\n",
      "prediction: ham, message: Havent still waitin as usual... Ü come back sch oredi?\n",
      "prediction: ham, message: You are not bothering me but you have to trust my answers. Pls.\n",
      "prediction: ham, message: Hope you are having a great new semester. Do wish you the very best. You are made for greatness.\n",
      "prediction: ham, message: Haha... Where got so fast lose weight, thk muz go 4 a month den got effect... Gee,later we go aust put bk e weight.\n",
      "prediction: ham, message: She's fine. Sends her greetings\n",
      "prediction: ham, message: R u saying i should re order the slippers cos i had to pay for returning it.\n",
      "prediction: ham, message: K:)all the best:)congrats...\n",
      "prediction: ham, message: Alright took the morphine. Back in yo.\n",
      "prediction: ham, message: Please leave this topic..sorry for telling that..\n",
      "prediction: ham, message: Haha better late than ever, any way I could swing by?\n",
      "prediction: ham, message: Its going good...no problem..but still need little experience to understand american customer voice...\n",
      "prediction: ham, message: It has everything to do with the weather. Keep extra warm. Its a cold but nothing serious. Pls lots of vitamin c\n",
      "prediction: ham, message: Aight, call me once you're close\n",
      "prediction: spam, message: You are a winner U have been specially selected 2 receive £1000 cash or a 4* holiday (flights inc) speak to a live operator 2 claim 0871277810810\n",
      "prediction: ham, message: Oh sorry please its over\n",
      "prediction: ham, message: Ü all write or wat..\n",
      "prediction: ham, message: K. I will sent it again\n",
      "prediction: ham, message: Can you let me know details of fri when u find out cos I'm not in tom or fri. mentionned chinese. Thanks\n",
      "prediction: ham, message: I taught that Ranjith sir called me. So only i sms like that. Becaus hes verifying about project. Prabu told today so only pa dont mistake me..\n",
      "prediction: ham, message: Oh yes I can speak txt 2 u no! Hmm. Did u get  email?\n",
      "prediction: spam, message: Hottest pics straight to your phone!! See me getting Wet and Wanting, just for you xx Text PICS to 89555 now! txt costs 150p textoperator g696ga 18 XxX\n",
      "prediction: ham, message: No b4 Thursday\n",
      "prediction: ham, message: I'm really not up to it still tonight babe\n",
      "prediction: ham, message: Dear reached railway. What happen to you\n",
      "prediction: spam, message: FreeMSG You have been awarded a FREE mini DIGITAL CAMERA, just reply SNAP to collect your prize! (quizclub Opt out? Stop 80122300p/wk SP:RWM Ph:08704050406)\n",
      "prediction: ham, message: Great. P diddy is my neighbor and comes for toothpaste every morning\n",
      "prediction: ham, message: I love to wine and dine my lady!\n",
      "prediction: ham, message: Orh i tot u say she now still dun believe.\n",
      "prediction: ham, message: Jay told me already, will do\n",
      "prediction: ham, message: Kit Strip - you have been billed 150p. Netcollex Ltd. PO Box 1013 IG11 OJA\n",
      "prediction: ham, message: Goodmorning sleeping ga.\n",
      "prediction: ham, message: You still at grand prix?\n",
      "prediction: spam, message: Get 3 Lions England tone, reply lionm 4 mono or lionp 4 poly. 4 more go 2 www.ringtones.co.uk, the original n best. Tones 3GBP network operator rates apply\n",
      "prediction: ham, message: if you aren't here in the next  &lt;#&gt;  hours imma flip my shit\n",
      "prediction: ham, message: How? Izzit still raining?\n",
      "prediction: spam, message: Please call our customer service representative on FREEPHONE 0808 145 4742 between 9am-11pm as you have WON a guaranteed £1000 cash or £5000 prize!\n",
      "prediction: ham, message: K.i did't see you.:)k:)where are you now?\n",
      "prediction: ham, message: And popping &lt;#&gt; ibuprofens was no help.\n",
      "prediction: ham, message: O i played smash bros  &lt;#&gt;  religiously.\n",
      "prediction: ham, message: Wewa is 130. Iriver 255. All 128 mb.\n",
      "prediction: ham, message: That‘s the thing with apes, u can fight to the death to keep something, but the minute they have it when u let go, thats it!\n",
      "prediction: ham, message: Hey sathya till now we dint meet not even a single time then how can i saw the situation sathya.\n",
      "prediction: ham, message: Good morning princess! Have a great day!\n",
      "prediction: ham, message: The battery is for mr adewale my uncle. Aka Egbon\n",
      "prediction: ham, message: I dunno until when... Lets go learn pilates...\n",
      "prediction: ham, message: Will u meet ur dream partner soon? Is ur career off 2 a flyng start? 2 find out free, txt HORO followed by ur star sign, e. g. HORO ARIES\n",
      "prediction: spam, message: Thanks for your ringtone order, reference number X49.Your mobile will be charged 4.50. Should your tone not arrive please call customer services 09065989182\n",
      "prediction: ham, message: Hello! Good week? Fancy a drink or something later?\n",
      "prediction: spam, message: FREE UNLIMITED HARDCORE PORN direct 2 your mobile Txt PORN to 69200 & get FREE access for 24 hrs then chrgd@50p per day txt Stop 2exit. This msg is free\n",
      "prediction: ham, message: Me too. Mark is taking forever to pick up my prescription and the pain is coming back.\n",
      "prediction: ham, message: Good afternoon my boytoy. How goes that walking here and there day ? Did you get that police abstract? Are you still out and about? I wake and miss you babe\n",
      "prediction: ham, message: Good afternoon, my love. It was good to see your words on YM and get your tm. Very smart move, my slave ... *smiles* ... I drink my coffee and await you.\n",
      "prediction: ham, message: How's my loverboy doing ? What does he do that keeps him from coming to his Queen, hmmm ? Doesn't he ache to speak to me ? Miss me desparately ?\n",
      "prediction: ham, message: Mm you ask him to come its enough :-)\n",
      "prediction: ham, message: Sorry to be a pain. Is it ok if we meet another night? I spent late afternoon in casualty and that means i haven't done any of y stuff42moro and that includes all my time sheets and that. Sorry. \n",
      "prediction: ham, message: How long does it take to get it.\n",
      "prediction: ham, message: Ok i am on the way to railway\n",
      "prediction: ham, message: Although i told u dat i'm into baig face watches now but i really like e watch u gave cos it's fr u. Thanx 4 everything dat u've done today, i'm touched...\n",
      "prediction: spam, message: You have WON a guaranteed £1000 cash or a £2000 prize. To claim yr prize call our customer service representative on 08714712379 between 10am-7pm Cost 10p\n",
      "prediction: ham, message: What u mean u almost done? Done wif sleeping? But i tot u going to take a nap.. Yup i send her liao so i'm picking her up at ard 4 smth lor..\n",
      "prediction: ham, message: Yes:)sura in sun tv.:)lol.\n",
      "prediction: ham, message: I'm home.\n",
      "prediction: ham, message: What's your room number again? Wanna make sure I'm knocking on the right door\n",
      "prediction: ham, message: Dont talk to him ever ok its my word.\n",
      "prediction: ham, message: Please sen :)my kind advice :-)please come here and try:-)\n",
      "prediction: spam, message: Valentines Day Special! Win over £1000 in our quiz and take your partner on the trip of a lifetime! Send GO to 83600 now. 150p/msg rcvd. CustCare:08718720201\n",
      "prediction: ham, message: Everybody had fun this evening. Miss you.\n",
      "prediction: ham, message: Watching tv lor. Nice one then i like lor.\n",
      "prediction: ham, message: Hi babe its Chloe, how r u? I was smashed on saturday night, it was great! How was your weekend? U been missing me? SP visionsms.com Text stop to stop 150p/text\n",
      "prediction: ham, message: Hmmm ... And imagine after you've come home from that having to rub my feet, make me dinner and help me get ready for my date ! Are you sure your ready for that kind of life ?\n",
      "prediction: ham, message: Some friends want me to drive em someplace, probably take a while\n",
      "prediction: ham, message: what I meant to say is cant wait to see u again getting bored of this bridgwater banter\n",
      "prediction: ham, message: Then any special there?\n",
      "prediction: ham, message: Lol! Nah wasn't too bad thanks. Its good to b home but its been quite a reality check. Hows ur day been? Did u do anything with website?\n",
      "prediction: ham, message: Especially since i talk about boston all up in my personal statement, lol! I woulda changed that if i had realized it said nyc! It says boston now.\n",
      "prediction: ham, message: Juz now havent woke up so a bit blur blur... Can? Dad went out liao... I cant cum now oso...\n",
      "prediction: ham, message: Thanks for being there for me just to talk to on saturday. You are very dear to me. I cherish having you as a brother and role model.\n",
      "prediction: ham, message: K go and sleep well. Take rest:-).\n",
      "prediction: ham, message: But pls dont play in others life.\n",
      "prediction: ham, message: Staff of placement training in Amrita college.\n",
      "prediction: ham, message: Sorry, I'll call later in meeting\n",
      "prediction: ham, message: What time. I‘m out until prob 3 or so\n",
      "prediction: ham, message: Do you know when dad will be back?\n",
      "prediction: spam, message: Urgent! call 09066612661 from landline. Your complementary 4* Tenerife Holiday or £10,000 cash await collection SAE T&Cs PO Box 3 WA14 2PX 150ppm 18+ Sender: Hol Offer\n",
      "prediction: ham, message: WHO ARE YOU SEEING?\n",
      "prediction: ham, message: Fine i miss you very much.\n",
      "prediction: ham, message: All day working day:)except saturday and sunday..\n",
      "prediction: ham, message: What do you do, my dog ? Must I always wait till the end of your day to have word from you ? Did you run out of time on your cell already?\n",
      "prediction: ham, message: I fetch yun or u fetch?\n",
      "prediction: ham, message: FREE2DAY sexy St George's Day pic of Jordan!Txt PIC to 89080 dont miss out, then every wk a saucy celeb!4 more pics c PocketBabe.co.uk 0870241182716 £3/wk\n",
      "prediction: ham, message: Hey tmr meet at bugis 930 ?\n",
      "prediction: ham, message: I don't run away frm u... I walk slowly &amp; it kills me that u don't care enough to stop me...\n",
      "prediction: ham, message: Sez, hows u & de arab boy? Hope u r all good give my love 2 evry1 love ya eshxxxxxxxxxxx\n",
      "prediction: ham, message: Sen told that he is going to join his uncle finance in cbe\n",
      "prediction: ham, message: Oh yeah clearly it's my fault\n",
      "prediction: ham, message: Squeeeeeze!! This is christmas hug.. If u lik my frndshp den hug me back.. If u get 3 u r cute:) 6 u r luvd:* 9 u r so lucky;) None? People hate u:\n",
      "prediction: spam, message: You have won a guaranteed 32000 award or maybe even £1000 cash to claim ur award call free on 0800 ..... (18+). Its a legitimat efreefone number wat do u think???\n",
      "prediction: ham, message: Horrible gal. Me in sch doing some stuff. How come u got mc?\n",
      "prediction: ham, message: Alex says he's not ok with you not being ok with it\n",
      "prediction: ham, message: Nope... Juz off from work...\n",
      "prediction: spam, message: Todays Voda numbers ending 5226 are selected to receive a ?350 award. If you hava a match please call 08712300220 quoting claim code 1131 standard rates app \n",
      "prediction: ham, message: I will see in half an hour\n",
      "prediction: ham, message: Lul im gettin some juicy gossip at the hospital. Two nurses are talking about how fat they are gettin. And one thinks shes obese. Oyea.\n",
      "prediction: ham, message: Lara said she can loan me  &lt;#&gt; .\n",
      "prediction: ham, message: Hey... Why dont we just go watch x men and have lunch... Haha \n",
      "prediction: ham, message: I'm also came to room.\n",
      "prediction: ham, message: Hanging out with my brother and his family\n",
      "prediction: ham, message: Huh but i cant go 2 ur house empty handed right?\n",
      "prediction: ham, message: Got hella gas money, want to go on a grand nature adventure with galileo in a little bit?\n",
      "prediction: ham, message: Oi when you gonna ring\n",
      "prediction: ham, message: Sorry, I guess whenever I can get a hold of my connections, maybe an hour or two? I'll text you\n",
      "prediction: ham, message: Also remember to get dobby's bowl from your car\n",
      "prediction: spam, message: We tried to contact you re your reply to our offer of a Video Phone 750 anytime any network mins Half Price Line Rental Camcorder Reply or call 08000930705\n",
      "prediction: ham, message: Say this slowly.? GOD,I LOVE YOU &amp; I NEED YOU,CLEAN MY HEART WITH YOUR BLOOD.Send this to Ten special people &amp; u c miracle tomorrow, do it,pls,pls do it...\n",
      "prediction: ham, message: There is no sense in my foot and penis.\n",
      "prediction: ham, message: Boo what time u get out? U were supposed to take me shopping today. :(\n",
      "prediction: ham, message: Ok give me 5 minutes I think I see her. BTW you're my alibi. You were cutting my hair the whole time.\n",
      "prediction: ham, message: At 7 we will go ok na.\n",
      "prediction: ham, message: Black shirt n blue jeans... I thk i c ü...\n",
      "prediction: ham, message: YEH I AM DEF UP4 SOMETHING SAT,JUST GOT PAYED2DAY & I HAVBEEN GIVEN A£50 PAY RISE 4MY WORK & HAVEBEEN MADE PRESCHOOLCO-ORDINATOR 2I AM FEELINGOOD LUV\n",
      "prediction: ham, message: Sir, i am waiting for your call.\n",
      "prediction: spam, message: Free video camera phones with Half Price line rental for 12 mths and 500 cross ntwk mins 100 txts. Call MobileUpd8 08001950382 or Call2OptOut/674&\n",
      "prediction: ham, message: Actually i'm waiting for 2 weeks when they start putting ad.\n",
      "prediction: ham, message: Wn u r hurt by d prsn who s close 2 u, do fight wit dem. Coz somtimes dis fight saves a relation bt being quiet leaves nothin in a relation.. Gud eveB-)\n",
      "prediction: ham, message: I am not having her number sir\n",
      "prediction: ham, message: When u love someone Dont make them to love u as much as u do. But Love them so much that they dont want to be loved by anyone except you... Gud nit.\n",
      "prediction: ham, message: Omg you can make a wedding chapel in frontierville? Why do they get all the good stuff?\n",
      "prediction: spam, message: Final Chance! Claim ur £150 worth of discount vouchers today! Text YES to 85023 now! SavaMob, member offers mobile! T Cs SavaMob POBOX84, M263UZ. £3.00 Subs 16\n",
      "prediction: ham, message: Will do. Have a good day\n",
      "prediction: ham, message: Hey i will be late... i'm at amk. Need to drink tea or coffee\n",
      "prediction: ham, message: I am on the way to ur home\n",
      "prediction: ham, message: One small prestige problem now.\n",
      "prediction: ham, message: What was she looking for?\n",
      "prediction: ham, message: Gr8. So how do you handle the victoria island traffic. Plus when's the album due\n",
      "prediction: spam, message: Todays Voda numbers ending 7548 are selected to receive a $350 award. If you have a match please call 08712300220 quoting claim code 4041 standard rates app\n",
      "prediction: ham, message: I had a good time too. Its nice to do something a bit different with my weekends for a change. See ya soon\n",
      "prediction: ham, message: Sorry, I'll call later\n",
      "prediction: ham, message: The whole car appreciated the last two! Dad and are having a map reading semi argument but apart from that things are going ok. P.\n",
      "prediction: spam, message: Hungry gay guys feeling hungry and up 4 it, now. Call 08718730555 just 10p/min. To stop texts call 08712460324 (10p/min)\n",
      "prediction: ham, message: My sister going to earn more than me da.\n",
      "prediction: ham, message: It only does simple arithmetic not percentages.\n",
      "prediction: ham, message: K. Did you call me just now ah? \n",
      "prediction: ham, message: I wonder how you got online, my love ? Had you gone to the net cafe ? Did you get your phone recharged ? Were you on a friends net ? I think of you, boytoy\n",
      "prediction: spam, message: Gr8 new service - live sex video chat on your mob - see the sexiest dirtiest girls live on ur phone - 4 details text horny to 89070 to cancel send STOP to 89070\n",
      "prediction: ham, message: Someone U know has asked our dating service 2 contact you! Cant Guess who? CALL 09058091854 NOW all will be revealed. PO BOX385 M6 6WU\n",
      "prediction: ham, message: I am on the way to ur home\n",
      "prediction: ham, message: Its a great day. Do have yourself a beautiful one.\n",
      "prediction: ham, message: And that is the problem. You walk around in \"julianaland\" oblivious to what is going on around you. I say the same things constantly and they go in one ear and out the other while you go off doing whatever you want to do. It's not that you don't know why I'm upset--it's that you don't listen when i tell you WHAT is going to upset me. Then you want to be surprised when I'm mad.\n",
      "prediction: ham, message: Do you know what Mallika Sherawat did yesterday? Find out now @  &lt;URL&gt;\n",
      "prediction: ham, message: Are you this much buzy\n",
      "prediction: spam, message: You have been specially selected to receive a 2000 pound award! Call 08712402050 BEFORE the lines close. Cost 10ppm. 16+. T&Cs apply. AG Promo\n",
      "prediction: ham, message: Lolnice. I went from a fish to ..water.?\n",
      "prediction: ham, message: Love it! The girls at the office may wonder why you are smiling but sore...\n",
      "prediction: spam, message: BIG BROTHER ALERT! The computer has selected u for 10k cash or #150 voucher. Call 09064018838. NTT PO Box CRO1327 18+ BT Landline Cost 150ppm mobiles vary\n",
      "prediction: ham, message: No we sell it all so we'll have tons if coins. Then sell our coins to someone thru paypal. Voila! Money back in life pockets:)\n",
      "prediction: ham, message: Aiyar dun disturb u liao... Thk u have lots 2 do aft ur cupboard come...\n",
      "prediction: ham, message: Great! I hope you like your man well endowed. I am  &lt;#&gt;  inches...\n",
      "prediction: ham, message: Nah I don't think he goes to usf, he lives around here though\n",
      "prediction: ham, message: I'm not smoking while people use \"wylie smokes too much\" to justify ruining my shit\n",
      "prediction: ham, message: Hello- thanx for taking that call. I got a job! Starts on monday!\n",
      "prediction: ham, message: But if she.s drinkin i'm ok.\n",
      "prediction: spam, message: Ur cash-balance is currently 500 pounds - to maximize ur cash-in now send GO to 86688 only 150p/msg. CC 08718720201 HG/Suite342/2Lands Row/W1J6HL\n",
      "prediction: ham, message: Same as u... Dun wan... Y u dun like me already ah... Wat u doing now? Still eating?\n",
      "prediction: ham, message: The hair cream has not been shipped.\n",
      "prediction: ham, message: Neither [in sterm voice] - i'm studying. All fine with me! Not sure the  thing will be resolved, tho. Anyway. Have a fab hols\n",
      "prediction: ham, message: No sir. That's why i had an 8-hr trip on the bus last week. Have another audition next wednesday but i think i might drive this time.\n",
      "prediction: ham, message: I'm done oredi...\n",
      "prediction: ham, message: Wen ur lovable bcums angry wid u, dnt take it seriously.. Coz being angry is d most childish n true way of showing deep affection, care n luv!.. kettoda manda... Have nice day da.\n",
      "prediction: ham, message: Ok, be careful ! Don't text and drive !\n",
      "prediction: spam, message: Dear U've been invited to XCHAT. This is our final attempt to contact u! Txt CHAT to 86688\n",
      "prediction: ham, message: Dear we are going to our rubber place\n",
      "prediction: ham, message: S:)but he had some luck.2 catches put down:)\n",
      "prediction: ham, message: House-Maid is the murderer, coz the man was murdered on  &lt;#&gt; th January.. As public holiday all govt.instituitions are closed,including post office..understand?\n",
      "prediction: spam, message: Congrats! 2 mobile 3G Videophones R yours. call 09061744553 now! videochat wid ur mates, play java games, Dload polyH music, noline rentl. bx420. ip4. 5we. 150pm\n",
      "prediction: ham, message: It,,s a taxt massage....tie-pos argh ok! Lool!\n",
      "prediction: ham, message: Yup...\n",
      "prediction: ham, message: Eh den sat u book e kb liao huh...\n",
      "prediction: ham, message: S....s...india going to draw the series after many years in south african soil..\n",
      "prediction: spam, message: Urgent -call 09066649731from Landline. Your complimentary 4* Ibiza Holiday or £10,000 cash await collection SAE T&Cs PO BOX 434 SK3 8WP 150ppm 18+\n",
      "prediction: ham, message: Ok no prob... I'll come after lunch then...\n",
      "prediction: ham, message: Aight will do, thanks again for comin out\n",
      "prediction: ham, message: Hi hope u get this txt~journey hasnt been gd,now about 50 mins late I think.\n",
      "prediction: ham, message: Package all your programs well\n",
      "prediction: ham, message: Auction round 4. The highest bid is now £54. Next maximum bid is £71. To bid, send BIDS e. g. 10 (to bid £10) to 83383. Good luck.\n",
      "prediction: ham, message: Yes we were outside for like 2 hours. And I called my whole family to wake them up cause it started at 1 am\n",
      "prediction: ham, message: Ü give me some time to walk there.\n",
      "prediction: ham, message: Pls give her the food preferably pap very slowly with loads of sugar. You can take up to an hour to give it. And then some water. Very very slowly.\n",
      "prediction: ham, message: Get down in gandhipuram and walk to cross cut road. Right side &lt;#&gt; street road and turn at first right.\n",
      "prediction: ham, message: My uncles in Atlanta. Wish you guys a great semester.\n",
      "prediction: ham, message: Wif my family booking tour package.\n",
      "prediction: ham, message: SERIOUSLY. TELL HER THOSE EXACT WORDS RIGHT NOW.\n",
      "prediction: ham, message: Ha... Both of us doing e same thing. But i got tv 2 watch. U can thk of where 2 go tonight or u already haf smth in mind...\n",
      "prediction: ham, message: Yup but it's not giving me problems now so mayb i'll jus leave it...\n",
      "prediction: ham, message: Dear, take care. I am just reaching home.love u a lot.\n",
      "prediction: ham, message: Awesome, text me when you're restocked\n",
      "prediction: ham, message: Dear are you angry i was busy dear\n",
      "prediction: ham, message: Sorry i now then c ur msg... Yar lor so poor thing... But only 4 one night... Tmr u'll have a brand new room 2 sleep in...\n",
      "prediction: ham, message: Give her something to drink, if she takes it and doesn't vomit then you her temp might drop. If she unmits however let me know.\n",
      "prediction: ham, message: Wat would u like 4 ur birthday?\n",
      "prediction: ham, message: Tessy..pls do me a favor. Pls convey my birthday wishes to Nimya..pls dnt forget it. Today is her birthday Shijas\n",
      "prediction: ham, message: Yo do you know anyone  &lt;#&gt;  or otherwise able to buy liquor? Our guy flaked and right now if we don't get a hold of somebody its just 4 loko all night\n",
      "prediction: ham, message: Sorry, I'll call later\n",
      "prediction: ham, message: Hi if ur lookin 4 saucy daytime fun wiv busty married woman Am free all next week Chat now 2 sort time 09099726429 JANINExx Calls£1/minMobsmoreLKPOBOX177HP51FL\n",
      "prediction: ham, message: Hi Dear Call me its urgnt. I don't know whats your problem. You don't want to work or if you have any other problem at least tell me. Wating for your reply.\n",
      "prediction: ham, message: Ok i shall talk to him\n",
      "prediction: ham, message: Its ok, if anybody asks abt me, u tel them..:-P\n",
      "prediction: ham, message: I have no idea where you are\n",
      "prediction: spam, message: Not heard from U4 a while. Call 4 rude chat private line 01223585334 to cum. Wan 2C pics of me gettin shagged then text PIX to 8552. 2End send STOP 8552 SAM xxx\n",
      "prediction: spam, message: Someone U know has asked our dating service 2 contact you! Cant Guess who? CALL 09058097189 NOW all will be revealed. POBox 6, LS15HB 150p \n",
      "prediction: ham, message: Only 2% students solved this CAT question in 'xam... 5+3+2= &lt;#&gt;  9+2+4= &lt;#&gt;  8+6+3= &lt;#&gt;  then 7+2+5=????? Tell me the answer if u r brilliant...1thing.i got d answr.\n",
      "prediction: ham, message: Ard 530 lor. I ok then message ü lor.\n",
      "prediction: ham, message: Shall i send that exe to your mail id.\n",
      "prediction: ham, message: You lifted my hopes with the offer of money. I am in need. Especially when the end of the month approaches and it hurts my studying. Anyways have a gr8 weekend\n",
      "prediction: ham, message: Thanks. It was only from tescos but quite nice. All gone now. Speak soon \n",
      "prediction: ham, message: Its ok, called mom instead have fun\n",
      "prediction: ham, message: I‘ll have a look at the frying pan in case it‘s cheap or a book perhaps. No that‘s silly a frying pan isn‘t likely to be a book\n",
      "prediction: ham, message: FreeMsg Hey U, i just got 1 of these video/pic fones, reply WILD to this txt & ill send U my pics, hurry up Im so bored at work xxx (18 150p/rcvd STOP2stop)\n",
      "prediction: ham, message: SplashMobile: Choose from 1000s of gr8 tones each wk! This is a subscrition service with weekly tones costing 300p. U have one credit - kick back and ENJOY\n",
      "prediction: ham, message: Yup. Anything lor, if u dun wan it's ok...\n",
      "prediction: ham, message: Yup song bro. No creative. Neva test quality. He said check review online.\n",
      "prediction: spam, message: You have won ?1,000 cash or a ?2,000 prize! To claim, call09050000327\n",
      "prediction: ham, message: (That said can you text him one more time?)\n",
      "prediction: ham, message: Sorry i've not gone to that place. I.ll do so tomorrow. Really sorry.\n",
      "prediction: ham, message: Hmmm.... Mayb can try e shoppin area one, but forgot e name of hotel...\n",
      "prediction: ham, message: Both :) i shoot big loads so get ready!\n",
      "prediction: ham, message: Well imma definitely need to restock before thanksgiving, I'll let you know when I'm out\n",
      "prediction: ham, message: Mmm thats better now i got a roast down me! id b better if i had a few drinks down me 2! Good indian?\n",
      "prediction: ham, message: Alright we're hooked up, where you guys at\n",
      "prediction: ham, message: What time you think you'll have it? Need to know when I should be near campus\n",
      "prediction: ham, message: I'm sorry. I've joined the league of people that dont keep in touch. You mean a great deal to me. You have been a friend at all times even at great personal cost. Do have a great week.|\n",
      "prediction: ham, message: Lol where do u come up with these ideas?\n",
      "prediction: ham, message: No. I meant the calculation is the same. That  &lt;#&gt; units at  &lt;#&gt; . This school is really expensive. Have you started practicing your accent. Because its important. And have you decided if you are doing 4years of dental school or if you'll just do the nmde exam.\n",
      "prediction: ham, message: Ok ill send you with in  &lt;DECIMAL&gt;  ok.\n",
      "prediction: ham, message: Aiyar hard 2 type. U later free then tell me then i call n scold n tell u.\n",
      "prediction: ham, message: Two fundamentals of cool life: \"Walk, like you are the KING\"...! OR \"Walk like you Dont care,whoever is the KING\"!... Gud nyt\n",
      "prediction: ham, message: i am going to bed now prin\n",
      "prediction: ham, message: Oops I was in the shower when u called. Hey a parking garage collapsed at university hospital. See I'm not crazy. Stuff like that DOES happen.\n",
      "prediction: ham, message: What your plan for pongal?\n",
      "prediction: ham, message: Ü mean it's confirmed... I tot they juz say oni... Ok then... \n",
      "prediction: ham, message: Lol for real. She told my dad I have cancer\n",
      "prediction: ham, message: K, makes sense, btw carlos is being difficult so you guys are gonna smoke while I go pick up the second batch and get gas\n",
      "prediction: ham, message: Whens your radio show?\n",
      "prediction: ham, message: Are you being good, baby? :)\n",
      "prediction: spam, message: PRIVATE! Your 2003 Account Statement for 07808247860 shows 800 un-redeemed S. I. M. points. Call 08719899229 Identifier Code: 40411 Expires 06/11/04\n",
      "prediction: ham, message: Come to medical college at 7pm ......forward it da\n",
      "prediction: ham, message: HI DARLIN HOW WAS WORK DID U GET INTO TROUBLE? IJUST TALKED TO YOUR MUM ALL MORNING! I HAD A REALLY GOOD TIME LAST NIGHT IM GOIN OUT SOON BUT CALL ME IF U CAN\n",
      "prediction: ham, message: Romantic Paris. 2 nights, 2 flights from £79 Book now 4 next year. Call 08704439680Ts&Cs apply.\n",
      "prediction: ham, message: FreeMsg Hey there darling it's been 3 week's now and no word back! I'd like some fun you up for it still? Tb ok! XxX std chgs to send, £1.50 to rcv\n",
      "prediction: ham, message: Your opinion about me? 1. Over 2. Jada 3. Kusruthi 4. Lovable 5. Silent 6. Spl character 7. Not matured 8. Stylish 9. Simple Pls reply..\n",
      "prediction: spam, message: XXXMobileMovieClub: To use your credit, click the WAP link in the next txt message or click here>> http://wap. xxxmobilemovieclub.com?n=QJKGIGHJJGCBL\n",
      "prediction: ham, message: Today is ACCEPT DAY..U Accept me as? Brother Sister Lover Dear1 Best1 Clos1 Lvblefrnd Jstfrnd Cutefrnd Lifpartnr Belovd Swtheart Bstfrnd No rply means enemy\n",
      "prediction: ham, message: Sorry that was my uncle. I.ll keep in touch\n",
      "prediction: spam, message: +449071512431 URGENT! This is the 2nd attempt to contact U!U have WON £1250 CALL 09071512433 b4 050703 T&CsBCM4235WC1N3XX. callcost 150ppm mobilesvary. max£7. 50\n",
      "prediction: ham, message: He's really into skateboarding now despite the fact that he gets thrown off of it and winds up with bandages and shit all over his arms every five minutes\n",
      "prediction: ham, message: :-) yeah! Lol. Luckily i didn't have a starring role like you!\n",
      "prediction: ham, message: Just got part Nottingham - 3 hrs 63miles. Good thing i love my man so much, but only doing 40mph. Hey ho\n",
      "prediction: ham, message: Neshanth..tel me who r u?\n",
      "prediction: ham, message: Oh really?? Did you make it on air? What's your talent?\n",
      "prediction: ham, message: I want kfc its Tuesday. Only buy 2 meals ONLY 2. No gravy. Only 2 Mark. 2!\n",
      "prediction: ham, message: Headin towards busetop\n",
      "prediction: ham, message: HI DARLIN IVE JUST GOT BACK AND I HAD A REALLY NICE NIGHT AND THANKS SO MUCH FOR THE LIFT SEE U TOMORROW XXX\n",
      "prediction: ham, message: Also fuck you and your family for going to rhode island or wherever the fuck and leaving me all alone the week I have a new bong &gt;:(\n",
      "prediction: ham, message: Call to the number which is available in appointment. And ask to connect the call to waheed fathima.\n",
      "prediction: ham, message: You are right though. I can't give you the space you want and need. This is really starting to become an issue. I was going to suggest setting a definite move out--if i'm still there-- after greece. But maybe you are ready and should do it now.\n",
      "prediction: ham, message: Have you laid your airtel line to rest?\n",
      "prediction: ham, message: Doc prescribed me morphine cause the other pain meds aren't enough. Waiting for my mom to bring it. That med should kick in fast so I'm gonna try to be on later\n",
      "prediction: ham, message: I tot it's my group mate... Lucky i havent reply... Wat time do ü need to leave... \n",
      "prediction: ham, message: Please protect yourself from e-threats. SIB never asks for sensitive information like Passwords,ATM/SMS PIN thru email. Never share your password with anybody.\n",
      "prediction: ham, message: Wen ur lovable bcums angry wid u, dnt take it seriously.. Coz being angry is d most childish n true way of showing deep affection, care n luv!.. kettoda manda... Have nice day da.\n",
      "prediction: ham, message: Hey i booked the kb on sat already... what other lessons are we going for ah? Keep your sat night free we need to meet and confirm our lodging \n",
      "prediction: ham, message: Huh... Hyde park not in mel ah, opps, got confused... Anyway, if tt's e best choice den we juz have to take it...\n",
      "prediction: ham, message: Hi i won't b ard 4 christmas. But do enjoy n merry x'mas.\n",
      "prediction: ham, message: I think you should go the honesty road. Call the bank tomorrow. Its the tough decisions that make us great people.\n",
      "prediction: ham, message: U buy newspapers already?\n",
      "prediction: ham, message: I'll pick you up at about 5.15pm to go to taunton if you still want to come.\n",
      "prediction: ham, message: I'm ok wif it cos i like 2 try new things. But i scared u dun like mah. Cos u said not too loud.\n",
      "prediction: ham, message: I told that am coming on wednesday.\n",
      "prediction: ham, message: Hai dear friends... This is my new &amp; present number..:) By Rajitha Raj (Ranju)\n",
      "prediction: ham, message: I'll reach in ard 20 mins ok...\n",
      "prediction: spam, message: Urgent! Please call 09061213237 from a landline. £5000 cash or a 4* holiday await collection. T &Cs SAE PO Box 177 M227XY. 16+\n",
      "prediction: spam, message: Natalja (25/F) is inviting you to be her friend. Reply YES-440 or NO-440 See her: www.SMS.ac/u/nat27081980 STOP? Send STOP FRND to 62468\n",
      "prediction: ham, message: Thanks for sending this mental ability question..\n",
      "prediction: spam, message: FREE camera phones with linerental from 4.49/month with 750 cross ntwk mins. 1/2 price txt bundle deals also avble. Call 08001950382 or call2optout/J MF\n",
      "prediction: ham, message: I keep ten rs in my shelf:) buy two egg.\n",
      "prediction: ham, message: Where at were hungry too\n",
      "prediction: ham, message: at bruce b downs &amp; fletcher now\n",
      "prediction: ham, message: Carlos says we can pick up from him later so yeah we're set\n",
      "prediction: ham, message: Ok... U enjoy ur shows...\n",
      "prediction: ham, message: Uncle Abbey! Happy New Year. Abiola\n",
      "prediction: ham, message: The monthly amount is not that terrible and you will not pay anything till 6months after finishing school.\n",
      "prediction: ham, message: Stupid.its not possible\n",
      "prediction: ham, message: Sorry, I'll call later\n",
      "prediction: ham, message: Hey anyway i have to :-)\n",
      "prediction: ham, message: Okay lor... Will they still let us go a not ah? Coz they will not know until later. We drop our cards into the box right?\n",
      "prediction: ham, message: Ok i msg u b4 i leave my house.\n",
      "prediction: spam, message: Free-message: Jamster!Get the crazy frog sound now! For poly text MAD1, for real text MAD2 to 88888. 6 crazy sounds for just 3 GBP/week! 16+only! T&C's apply\n",
      "prediction: spam, message: Get ur 1st RINGTONE FREE NOW! Reply to this msg with TONE. Gr8 TOP 20 tones to your phone every week just £1.50 per wk 2 opt out send STOP 08452810071 16\n",
      "prediction: ham, message: Our Prasanth ettans mother passed away last night. Just pray for her and family.\n",
      "prediction: ham, message: Don't Think About \"What u Have Got\" Think About \"How to Use It That You Have Got\" gooD ni8\n",
      "prediction: ham, message: Prabha..i'm soryda..realy..frm heart i'm sory\n",
      "prediction: ham, message: Jus came back fr lunch wif my sis only. U leh?\n",
      "prediction: ham, message: Ok set let u noe e details later...\n",
      "prediction: ham, message: Awesome, I'll see you in a bit\n",
      "prediction: spam, message: HMV BONUS SPECIAL 500 pounds of genuine HMV vouchers to be won. Just answer 4 easy questions. Play Now! Send HMV to 86688 More info:www.100percent-real.com\n",
      "prediction: ham, message: That's cool, I'll come by like  &lt;#&gt; ish\n",
      "prediction: spam, message: PRIVATE! Your 2003 Account Statement for 07808 XXXXXX shows 800 un-redeemed S. I. M. points. Call 08719899217 Identifier Code: 41685 Expires 07/11/04\n",
      "prediction: ham, message: True dear..i sat to pray evening and felt so.so i sms'd you in some time...\n",
      "prediction: ham, message: Neva mind it's ok..\n",
      "prediction: spam, message: Last Chance! Claim ur £150 worth of discount vouchers today! Text SHOP to 85023 now! SavaMob, offers mobile! T Cs SavaMob POBOX84, M263UZ. £3.00 Sub. 16\n",
      "prediction: ham, message: Ok.\n",
      "prediction: ham, message: TELL HER I SAID EAT SHIT.\n",
      "prediction: ham, message: Yes:)from last week itself i'm taking live call.\n",
      "prediction: ham, message: Lol your always so convincing.\n",
      "prediction: ham, message: Theyre doing it to lots of places. Only hospitals and medical places are safe.\n",
      "prediction: spam, message: T-Mobile customer you may now claim your FREE CAMERA PHONE upgrade & a pay & go sim card for your loyalty. Call on 0845 021 3680.Offer ends 28thFeb.T&C's apply\n",
      "prediction: ham, message: Yes baby! We can study all the positions of the kama sutra ;)\n",
      "prediction: ham, message: Yar lor he wan 2 go c horse racing today mah, so eat earlier lor. I ate chicken rice. U?\n",
      "prediction: spam, message: December only! Had your mobile 11mths+? You are entitled to update to the latest colour camera mobile for Free! Call The Mobile Update Co FREE on 08002986906 \n",
      "prediction: ham, message: Gettin rdy to ship comp\n",
      "prediction: ham, message: Yar i wanted 2 scold u yest but late already... I where got zhong se qing you? If u ask me b4 he ask me then i'll go out w u all lor. N u still can act so real.\n",
      "prediction: ham, message: Hurry home. Soup is DONE!\n",
      "prediction: spam, message: Think ur smart ? Win £200 this week in our weekly quiz, text PLAY to 85222 now!T&Cs WinnersClub PO BOX 84, M26 3UZ. 16+. GBP1.50/week\n",
      "prediction: ham, message: Goodmorning, today i am late for 1hr.\n",
      "prediction: ham, message: I actually did for the first time in a while. I went to bed not too long after i spoke with you. Woke up at 7. How was your night?\n",
      "prediction: ham, message: Why you keeping me away like this\n",
      "prediction: ham, message: I take it the post has come then! You must have 1000s of texts now! Happy reading. My one from wiv hello caroline at the end is my favourite. Bless him\n",
      "prediction: ham, message: I pocked you up there before\n",
      "prediction: ham, message: Audrie lousy autocorrect\n",
      "prediction: ham, message: Wait that's still not all that clear, were you not sure about me being sarcastic or that that's why x doesn't want to live with us\n",
      "prediction: ham, message: When you get free, call me\n",
      "prediction: ham, message: I've been searching for the right words to thank you for this breather. I promise i wont take your help for granted and will fulfil my promise. You have been wonderful and a blessing at all times.\n",
      "prediction: ham, message: Sorry man, accidentally left my phone on silent last night and didn't check it til I got up\n",
      "prediction: ham, message: Joy's father is John. Then John is the ____ of Joy's father. If u ans ths you hav  &lt;#&gt;  IQ. Tis s IAS question try to answer.\n",
      "prediction: ham, message: Once free call me sir.\n",
      "prediction: ham, message: Better than bb. If he wont use it, his wife will or them doctor\n",
      "prediction: ham, message: Went fast asleep dear.take care.\n",
      "prediction: ham, message: K, wat s tht incident?\n",
      "prediction: ham, message: How many times i told in the stage all use to laugh. You not listen aha.\n",
      "prediction: ham, message: Unlimited texts. Limited minutes.\n",
      "prediction: spam, message: Free 1st week entry 2 TEXTPOD 4 a chance 2 win 40GB iPod or £250 cash every wk. Txt POD to 84128 Ts&Cs www.textpod.net custcare 08712405020.\n",
      "prediction: ham, message: Height of \"Oh shit....!!\" situation: A guy throws a luv letter on a gal but falls on her brothers head whos a gay,.;-):-D\n",
      "prediction: ham, message: I cant pick the phone right now. Pls send a message\n",
      "prediction: spam, message: We tried to call you re your reply to our sms for a video mobile 750 mins UNLIMITED TEXT + free camcorder Reply of call 08000930705 Now\n",
      "prediction: spam, message: Natalja (25/F) is inviting you to be her friend. Reply YES-440 or NO-440 See her: www.SMS.ac/u/nat27081980 STOP? Send STOP FRND to 62468\n",
      "prediction: ham, message: Just buy a pizza. Meat lovers or supreme. U get to pick.\n",
      "prediction: ham, message: There's someone here that has a year  &lt;#&gt;  toyota camry like mr olayiwola's own. Mileage is  &lt;#&gt; k.its clean but i need to know how much will it sell for. If i can raise the dough for it how soon after landing will it sell. Holla back.\n",
      "prediction: ham, message: Kallis is ready for bat in 2nd innings\n",
      "prediction: ham, message: Hai ana tomarrow am coming on morning.  &lt;DECIMAL&gt;  ill be there in sathy then we ll go to RTO office. Reply me after came to home.\n",
      "prediction: ham, message: I'm home. Ard wat time will u reach?\n",
      "prediction: ham, message: Dont pack what you can buy at any store.like cereals. If you must pack food, pack gari or something 9ja that you will miss.\n",
      "prediction: ham, message: I feel like a dick because I keep sleeping through your texts and facebook messages. Sup, you in town?\n",
      "prediction: ham, message: Ok lor... Sony ericsson salesman... I ask shuhui then she say quite gd 2 use so i considering...\n",
      "prediction: ham, message: I call you later, don't have network. If urgnt, sms me.\n",
      "prediction: ham, message: HI HUN! IM NOT COMIN 2NITE-TELL EVERY1 IM SORRY 4 ME, HOPE U AVA GOODTIME!OLI RANG MELNITE IFINK IT MITE B SORTED,BUT IL EXPLAIN EVERYTHIN ON MON.L8RS.x\n",
      "prediction: ham, message: Ok.ok ok..then..whats ur todays plan\n",
      "prediction: ham, message: Am going to take bath ill place the key in window:-)\n",
      "prediction: ham, message: Hope you are having a good week. Just checking in\n",
      "prediction: ham, message: Ü called dad oredi...\n",
      "prediction: ham, message: Lol wtf random. Btw is that your lunch break\n",
      "prediction: ham, message: He will, you guys close?\n",
      "prediction: ham, message: I will reach ur home in  &lt;#&gt;  minutes\n",
      "prediction: ham, message: Not yet had..ya sapna aunty manege y'day hogidhe..chinnu full weak and swalpa black agidhane..\n",
      "prediction: ham, message: Just chill for another 6hrs. If you could sleep the pain is not a surgical emergency so see how it unfolds. Okay\n",
      "prediction: ham, message: I couldn't say no as he is a dying man and I feel sad for him so I will go and I just wanted you to know I would probably be gone late into your night\n",
      "prediction: ham, message: How much you got for cleaning\n",
      "prediction: ham, message: Not yet chikku..going to room nw, i'm in bus..\n",
      "prediction: ham, message: I have printed it oh. So  &lt;#&gt;  come upstairs\n",
      "prediction: ham, message: Lol they were mad at first but then they woke up and gave in.\n",
      "prediction: ham, message: Have you always been saying welp?\n",
      "prediction: ham, message: Sitting ard nothing to do lor. U leh busy w work?\n",
      "prediction: ham, message: Got what it takes 2 take part in the WRC Rally in Oz? U can with Lucozade Energy! Text RALLY LE to 61200 (25p), see packs or lucozade.co.uk/wrc & itcould be u!\n",
      "prediction: ham, message: We stopped to get ice cream and will go back after\n",
      "prediction: ham, message: They said if its gonna snow, it will start around 8 or 9 pm tonite! They are predicting an inch of accumulation.\n",
      "prediction: ham, message: So u wan 2 come for our dinner tonight a not?\n",
      "prediction: ham, message: Don't look back at the building because you have no coat and i don't want you to get more sick. Just hurry home and wear a coat to the gym!!!\n",
      "prediction: ham, message: Sorry, it's a lot of friend-of-a-friend stuff, I'm just now about to talk to the actual guy who wants to buy\n",
      "prediction: ham, message: Wat makes some people dearer is not just de happiness dat u feel when u meet them but de pain u feel when u miss dem!!!\n",
      "prediction: ham, message: Sorry. || mail? || \n",
      "prediction: ham, message: I've been barred from all B and Q stores for life!?This twat in orange dungerees came up to me and asked if I wanted decking? So I got the first punch in!!\n",
      "prediction: ham, message: dont make ne plans for nxt wknd coz she wants us to come down then ok\n",
      "prediction: spam, message: important information 4 orange user 0789xxxxxxx. today is your lucky day!2find out why log onto http://www.urawinner.com THERE'S A FANTASTIC SURPRISE AWAITING YOU!\n",
      "prediction: ham, message: Cheers for the card ... Is it that time of year already?\n",
      "prediction: ham, message: FreeMsg>FAV XMAS TONES!Reply REAL\n",
      "prediction: ham, message: Tell me they're female :V how're you throwing in? We're deciding what all to get now\n",
      "prediction: ham, message: East coast\n",
      "prediction: ham, message: Send me your id and password\n",
      "prediction: ham, message: Call FREEPHONE 0800 542 0578 now!\n",
      "prediction: ham, message: Well keep in mind I've only got enough gas for one more round trip barring a sudden influx of cash\n",
      "prediction: ham, message: What i mean is do they come chase you out when its over or is it stated you can watch as many movies as you want.\n",
      "prediction: ham, message: I'm back &amp; we're packing the car now, I'll let you know if there's room\n",
      "prediction: ham, message: Best msg: It's hard to be with a person, when u know that one more step foward will make u fall in love.. &amp; One step back can ruin ur friendship.. good night:-) ...\n",
      "prediction: ham, message: Lol or I could just starve and lose a pound by the end of the day.\n",
      "prediction: ham, message: Congrats. That's great. I wanted to tell you not to tell me your score cos it might make me relax. But its motivating me so thanks for sharing\n",
      "prediction: ham, message: Tell them the drug dealer's getting impatient\n",
      "prediction: ham, message: Are there TA jobs available? Let me know please cos i really need to start working\n",
      "prediction: spam, message: Someone has contacted our dating service and entered your phone because they fancy you! To find out who it is call from a landline 09111032124 . PoBox12n146tf150p\n",
      "prediction: spam, message: Natalie (20/F) is inviting you to be her friend. Reply YES-165 or NO-165 See her: www.SMS.ac/u/natalie2k9 STOP? Send STOP FRND to 62468\n",
      "prediction: ham, message: Ok im not sure what time i finish tomorrow but i wanna spend the evening with you cos that would be vewy vewy lubly! Love me xxx\n",
      "prediction: ham, message: Yeh. Indians was nice. Tho it did kane me off a bit he he. We shud go out 4 a drink sometime soon. Mite hav 2 go 2 da works 4 a laugh soon. Love Pete x x\n",
      "prediction: ham, message: I ain't answerin no phone at what is actually a pretty reasonable hour but I'm sleepy\n",
      "prediction: ham, message: Is ur lecture over?\n",
      "prediction: ham, message: Ok...\n",
      "prediction: ham, message: K I'll take care of it\n",
      "prediction: ham, message: I am late. I will be there at\n",
      "prediction: ham, message: Jordan got voted out last nite!\n",
      "prediction: ham, message: So i asked how's anthony. Dad. And your bf\n",
      "prediction: ham, message: Jason says it's cool if we pick some up from his place in like an hour\n",
      "prediction: ham, message: U dun say so early hor... U c already then say...\n",
      "prediction: ham, message: Watching cartoon, listening music &amp; at eve had to go temple &amp; church.. What about u?\n",
      "prediction: ham, message: Ok. She'll be ok. I guess\n",
      "prediction: spam, message: URGENT This is our 2nd attempt to contact U. Your £900 prize from YESTERDAY is still awaiting collection. To claim CALL NOW 09061702893. ACL03530150PM\n",
      "prediction: ham, message: Im just wondering what your doing right now?\n",
      "prediction: ham, message: Ü predict wat time ü'll finish buying?\n",
      "prediction: ham, message: Same, I'm at my great aunts anniversary party in tarpon springs\n",
      "prediction: ham, message: Desires- u going to doctor 4 liver. And get a bit stylish. Get ur hair managed. Thats it.\n",
      "prediction: ham, message: Nowadays people are notixiquating the laxinorficated opportunity for bambling of entropication.... Have you ever oblisingately opted ur books for the masteriastering amplikater of fidalfication? It is very champlaxigating, i think it is atrocious.. Wotz Ur Opinion???? Junna\n",
      "prediction: spam, message: URGENT! Your Mobile number has been awarded with a £2000 prize GUARANTEED. Call 09061790126 from land line. Claim 3030. Valid 12hrs only 150ppm\n",
      "prediction: ham, message: Up to ü... Ü wan come then come lor... But i din c any stripes skirt...\n",
      "prediction: ham, message: 26th OF JULY\n",
      "prediction: ham, message: Hmm thinking lor...\n",
      "prediction: spam, message: Hack Chat. Get backdoor entry into 121 chat rooms at a fraction of the cost. Reply NEO69 or call 09050280520, to subscribe 25p pm. DPS, Bcm box 8027 Ldn, wc1n3xx\n",
      "prediction: ham, message: Well, i'm gonna finish my bath now. Have a good...fine night.\n",
      "prediction: ham, message: Free msg. Sorry, a service you ordered from 81303 could not be delivered as you do not have sufficient credit. Please top up to receive the service.\n",
      "prediction: ham, message: WOT STUDENT DISCOUNT CAN U GET ON BOOKS?\n",
      "prediction: ham, message: Just sent it. So what type of food do you like?\n",
      "prediction: ham, message: Am watching house – very entertaining – am getting the whole hugh laurie thing – even with the stick – indeed especially with the stick.\n",
      "prediction: spam, message: WIN a £200 Shopping spree every WEEK Starting NOW. 2 play text STORE to 88039. SkilGme. TsCs08714740323 1Winawk! age16 £1.50perweeksub.\n",
      "prediction: ham, message: And do you have any one that can teach me how to ship cars.\n",
      "prediction: ham, message: Thanks honey but still haven't heard anything I will leave it a bit longer so not 2 crowd him and will try later - great advice thanks hope cardiff is still there!\n",
      "prediction: ham, message: Oh did you charge camera\n",
      "prediction: ham, message: The length is e same but e top shorter n i got a fringe now. I thk i'm not going liao. Too lazy. Dun wan 2 distract u also.\n",
      "prediction: ham, message: Hello. They are going to the village pub at 8 so either come here or there accordingly. Ok?\n",
      "prediction: spam, message: Hi, this is Mandy Sullivan calling from HOTMIX FM...you are chosen to receive £5000.00 in our Easter Prize draw.....Please telephone 09041940223 to claim before 29/03/05 or your prize will be transferred to someone else....\n",
      "prediction: ham, message: Meeting u is my work. . . Tel me when shall i do my work tomorrow\n",
      "prediction: ham, message: U repeat e instructions again. Wat's e road name of ur house?\n",
      "prediction: ham, message: Eek that's a lot of time especially since American Pie is like 8 minutes long. I can't stop singing it.\n",
      "prediction: ham, message: I am in your office na.\n",
      "prediction: ham, message: I'm reading the text i just sent you. Its meant to be a joke. So read it in that light\n",
      "prediction: ham, message: Where are you call me.\n",
      "prediction: ham, message: Aight, tomorrow around  &lt;#&gt;  it is\n",
      "prediction: ham, message: No calls..messages..missed calls\n",
      "prediction: ham, message: Didn't you get hep b immunisation in nigeria.\n",
      "prediction: ham, message: I hav almost reached. Call, i m unable to connect u.\n",
      "prediction: ham, message: Oh... Kay... On sat right?\n",
      "prediction: ham, message: She.s fine. I have had difficulties with her phone. It works with mine. Can you pls send her another friend request.\n",
      "prediction: ham, message: Pls dont forget to study\n",
      "prediction: ham, message: So ü'll be submitting da project tmr rite?\n",
      "prediction: ham, message: Aight, I'm chillin in a friend's room so text me when you're on the way\n",
      "prediction: ham, message: Cause I'm not freaky lol\n",
      "prediction: ham, message: Isn't frnd a necesity in life? imagine urself witout a frnd.. hw'd u feel at ur colleg? wat'll u do wth ur cell? wat abt functions? thnk abt events espe'll cared, missed &amp; irritated u? 4wrd it to all those dear-loving frnds wthout whom u cant live.. I jst did it.. Takecare..:) GOODMORNING\n",
      "prediction: ham, message: CALL 09090900040 & LISTEN TO EXTREME DIRTY LIVE CHAT GOING ON IN THE OFFICE RIGHT NOW TOTAL PRIVACY NO ONE KNOWS YOUR [sic] LISTENING 60P MIN 24/7MP 0870753331018+\n",
      "prediction: ham, message: K..i deleted my contact that why?\n",
      "prediction: spam, message: Freemsg: 1-month unlimited free calls! Activate SmartCall Txt: CALL to No: 68866. Subscriptn3gbp/wk unlimited calls Help: 08448714184 Stop?txt stop landlineonly\n",
      "prediction: ham, message: Sorry, I'll call later\n",
      "prediction: ham, message: I know girls always safe and selfish know i got it pa. Thank you. good night.\n",
      "prediction: spam, message: URGENT! We are trying to contact U. Todays draw shows that you have won a £800 prize GUARANTEED. Call 09050003091 from land line. Claim C52. Valid12hrs only\n",
      "prediction: ham, message: Haiyoh... Maybe your hamster was jealous of million\n",
      "prediction: ham, message: Good stuff, will do.\n",
      "prediction: spam, message: PRIVATE! Your 2003 Account Statement for 07815296484 shows 800 un-redeemed S.I.M. points. Call 08718738001 Identifier Code 41782 Expires 18/11/04 \n",
      "prediction: ham, message: Damn, poor zac doesn't stand a chance\n",
      "prediction: ham, message: Jus finished avatar nigro\n",
      "prediction: ham, message: BOO BABE! U ENJOYIN YOURJOB? U SEEMED 2 B GETTIN ON WELL HUNNY!HOPE URE OK?TAKE CARE & ILLSPEAK 2U SOONLOTS OF LOVEME XXXX.\n",
      "prediction: ham, message: You know what hook up means right?\n",
      "prediction: ham, message: I'm at work. Please call\n",
      "prediction: ham, message: What's up bruv, hope you had a great break. Do have a rewarding semester.\n",
      "prediction: ham, message: Yes. Please leave at  &lt;#&gt; . So that at  &lt;#&gt;  we can leave\n",
      "prediction: ham, message: Ok\n",
      "prediction: ham, message: Today is \"song dedicated day..\" Which song will u dedicate for me? Send this to all ur valuable frnds but first rply me...\n",
      "prediction: spam, message: You are a winner you have been specially selected to receive £1000 cash or a £2000 award. Speak to a live operator to claim call 087147123779am-7pm. Cost 10p\n",
      "prediction: ham, message: Ta-Daaaaa! I am home babe, are you still up ?\n",
      "prediction: ham, message: When I was born, GOD said, \"Oh No! Another IDIOT\". When you were born, GOD said, \"OH No! COMPETITION\". Who knew, one day these two will become FREINDS FOREVER!\n",
      "prediction: ham, message: I'm in a meeting, call me later at\n",
      "prediction: ham, message: Haf u eaten? Wat time u wan me 2 come?\n",
      "prediction: ham, message: None of that's happening til you get here though\n",
      "prediction: ham, message: Reverse is cheating. That is not mathematics.\n",
      "prediction: ham, message: Missed call alert. These numbers called but left no message. 07008009200\n",
      "prediction: ham, message: Hi. I'm sorry i missed your call. Can you pls call back.\n",
      "prediction: spam, message: RCT' THNQ Adrian for U text. Rgds Vatian\n",
      "prediction: ham, message: Noooooooo please. Last thing I need is stress. For once in your life be fair.\n",
      "prediction: ham, message: Yup n her fren lor. I'm meeting my fren at 730.\n",
      "prediction: spam, message: 87077: Kick off a new season with 2wks FREE goals & news to ur mobile! Txt ur club name to 87077 eg VILLA to 87077\n",
      "prediction: ham, message: I attended but nothing is there.\n",
      "prediction: ham, message: I will reach ur home in  &lt;#&gt;  minutes\n",
      "prediction: ham, message: I enjoy watching and playing football and basketball. Anything outdoors. And you?\n",
      "prediction: ham, message: Dont hesitate. You know this is the second time she has had weakness like that. So keep i notebook of what she eat and did the day before or if anything changed the day before so that we can be sure its nothing\n",
      "prediction: ham, message: Sure thing big man. i have hockey elections at 6, shouldn‘t go on longer than an hour though\n",
      "prediction: ham, message: Okie...\n",
      "prediction: ham, message: Sorry . I will be able to get to you. See you in the morning.\n",
      "prediction: spam, message: SMS AUCTION - A BRAND NEW Nokia 7250 is up 4 auction today! Auction is FREE 2 join & take part! Txt NOKIA to 86021 now! HG/Suite342/2Lands Row/W1J6HL\n",
      "prediction: spam, message: URGENT! Last weekend's draw shows that you have won £1000 cash or a Spanish holiday! CALL NOW 09050000332 to claim. T&C: RSTM, SW7 3SS. 150ppm\n",
      "prediction: ham, message: They don't put that stuff on the roads to keep it from getting slippery over there?\n",
      "prediction: ham, message: Yup. Izzit still raining heavily cos i'm in e mrt i can't c outside.\n",
      "prediction: ham, message: Hey u still at the gym?\n",
      "prediction: ham, message: But i haf enuff space got like 4 mb...\n",
      "prediction: ham, message: For fear of fainting with the of all that housework you just did? Quick have a cuppa\n",
      "prediction: ham, message: Hey elaine, is today's meeting still on?\n",
      "prediction: ham, message: see you then, we're all christmassy here!\n",
      "prediction: ham, message: :( but your not here....\n",
      "prediction: ham, message: Friends that u can stay on fb chat with\n",
      "prediction: ham, message: Ü got wat to buy tell us then ü no need to come in again.\n",
      "prediction: ham, message: Exactly. Anyways how far. Is jide her to study or just visiting\n",
      "prediction: ham, message: Where r we meeting?\n",
      "prediction: ham, message: I will treasure every moment we spend together...\n",
      "prediction: ham, message: I wish things were different. I wonder when i will be able to show you how much i value you. Pls continue the brisk walks no drugs without askin me please and find things to laugh about. I love you dearly.\n",
      "prediction: ham, message: We got a divorce. Lol. She.s here\n",
      "prediction: ham, message: Just dropped em off, omw back now\n",
      "prediction: spam, message: U 447801259231 have a secret admirer who is looking 2 make contact with U-find out who they R*reveal who thinks UR so special-call on 09058094597\n",
      "prediction: ham, message: I'm fine. Hope you are good. Do take care.\n",
      "prediction: ham, message: Yup i shd haf ard 10 pages if i add figures... Ü all got how many pages?\n",
      "prediction: ham, message: Here got ur favorite oyster... N got my favorite sashimi... Ok lar i dun say already... Wait ur stomach start rumbling...\n",
      "prediction: ham, message: Got c... I lazy to type... I forgot ü in lect... I saw a pouch but like not v nice...\n",
      "prediction: ham, message: Hey come online! Use msn... We are all there\n",
      "prediction: ham, message: cool. We will have fun practicing making babies!\n",
      "prediction: ham, message: It's wylie, you in tampa or sarasota?\n",
      "prediction: ham, message: Its hard to believe things like this. All can say lie but think twice before saying anything to me.\n",
      "prediction: ham, message: Shall i ask one thing if you dont mistake me.\n",
      "prediction: ham, message: For me the love should start with attraction.i should feel that I need her every time around me.she should be the first thing which comes in my thoughts.I would start the day and end it with her.she should be there every time I dream.love will be then when my every breath has her name.my life should happen around her.my life will be named to her.I would cry for her.will give all my happiness and take all her sorrows.I will be ready to fight with anyone for her.I will be in love when I will be doing the craziest things for her.love will be when I don't have to proove anyone that my girl is the most beautiful lady on the whole planet.I will always be singing praises for her.love will be when I start up making chicken curry and end up makiing sambar.life will be the most beautiful then.will get every morning and thank god for the day because she is with me.I would like to say a lot..will tell later..\n",
      "prediction: ham, message: I jus hope its true that  missin me cos i'm really missin him! You haven't done anything to feel guilty about, yet.\n",
      "prediction: ham, message: You need to get up. Now.\n",
      "prediction: ham, message: TODAY is Sorry day.! If ever i was angry with you, if ever i misbehaved or hurt you? plz plz JUST SLAP URSELF Bcoz, Its ur fault, I'm basically GOOD\n",
      "prediction: ham, message: Oh my god! I've found your number again! I'm so glad, text me back xafter this msgs cst std ntwk chg £1.50\n",
      "prediction: ham, message: R U &SAM P IN EACHOTHER. IF WE MEET WE CAN GO 2 MY HOUSE\n",
      "prediction: ham, message: Understand. his loss is my gain :) so do you work? School?\n",
      "prediction: spam, message: Do you want 750 anytime any network mins 150 text and a NEW VIDEO phone for only five pounds per week call 08002888812 or reply for delivery tomorrow\n",
      "prediction: ham, message: I can't make it tonight\n",
      "prediction: ham, message: I dont have i shall buy one dear\n",
      "prediction: ham, message: That's good. Lets thank God. Please complete the drug. Have lots of water. And have a beautiful day.\n",
      "prediction: ham, message: 1Apple/Day=No Doctor. 1Tulsi Leaf/Day=No Cancer. 1Lemon/Day=No Fat. 1Cup Milk/day=No Bone Problms 3 Litres Watr/Day=No Diseases Snd ths 2 Whom U Care..:-)\n",
      "prediction: ham, message: What type of stuff do you sing?\n",
      "prediction: ham, message: Well boy am I glad G wasted all night at applebees for nothing\n",
      "prediction: ham, message: Dunno lei... I might b eatin wif my frens... If ü wan to eat then i wait 4 ü lar\n",
      "prediction: ham, message: Dunno he jus say go lido. Same time 930.\n",
      "prediction: ham, message: Just got to  &lt;#&gt;\n",
      "prediction: ham, message: 1's finish meeting call me.\n",
      "prediction: ham, message: That sucks. I'll go over so u can do my hair. You'll do it free right?\n",
      "prediction: ham, message: Me i'm not workin. Once i get job...\n",
      "prediction: spam, message: Eerie Nokia tones 4u, rply TONE TITLE to 8007 eg TONE DRACULA to 8007 Titles: GHOST, ADDAMSFA, MUNSTERS, EXORCIST, TWILIGHT www.getzed.co.uk POBox36504W45WQ 150p \n",
      "prediction: ham, message: Then why you not responding\n",
      "prediction: ham, message: 7 wonders in My WORLD 7th You 6th Ur style 5th Ur smile 4th Ur Personality 3rd Ur Nature 2nd Ur SMS and 1st \"Ur Lovely Friendship\"... good morning dear\n",
      "prediction: ham, message: Now get step 2 outta the way. Congrats again.\n",
      "prediction: ham, message: This phone has the weirdest auto correct.\n",
      "prediction: ham, message: hi baby im sat on the bloody bus at the mo and i wont be home until about 7:30 wanna do somethin later? call me later ortxt back jess xx\n",
      "prediction: ham, message: R ü comin back for dinner?\n",
      "prediction: ham, message: FreeMsg Hi baby wow just got a new cam moby. Wanna C a hot pic? or Fancy a chat?Im w8in 4uTxt / rply CHAT to 82242 Hlp 08712317606 Msg150p 2rcv\n",
      "prediction: ham, message: Is that what time you want me to come?\n",
      "prediction: ham, message: Dear, will call Tmorrow.pls accomodate.\n",
      "prediction: ham, message: His bday real is in april .\n",
      "prediction: spam, message: Do you want a new Video handset? 750 any time any network mins? UNLIMITED TEXT? Camcorder? Reply or Call now 08000930705 for del Sat AM\n",
      "prediction: ham, message: Tension ah?what machi?any problem?\n",
      "prediction: ham, message: When people see my msgs, They think Iam addicted to msging... They are wrong, Bcoz They don\\'t know that Iam addicted to my sweet Friends..!! BSLVYL\n",
      "prediction: ham, message: Is xy in ur car when u picking me up?\n",
      "prediction: ham, message: Pls pls find out from aunt nike.\n",
      "prediction: ham, message: Huh y lei...\n",
      "prediction: ham, message: That's y u haf 2 keep me busy...\n",
      "prediction: ham, message: Mystery solved! Just opened my email and he's sent me another batch! Isn't he a sweetie\n",
      "prediction: ham, message: What's up. Do you want me to come online?\n",
      "prediction: ham, message: CHEERS LOU! YEAH WAS A GOODNITE SHAME U NEVA CAME! C YA GAILxx\n",
      "prediction: ham, message: Hi elaine, is today's meeting confirmed?\n",
      "prediction: ham, message: Awesome, I remember the last time we got somebody high for the first time with diesel :V\n",
      "prediction: ham, message: Aww you must be nearly dead!Well Jez isComing over toDo some workAnd that whillTake forever!\n",
      "prediction: ham, message: You see the requirements please\n",
      "prediction: ham, message: I anything lor...\n",
      "prediction: ham, message: Actually I decided I was too hungry so I haven't left yet :V\n",
      "prediction: ham, message: Please reserve ticket on saturday eve from chennai to thirunelvali and again from tirunelvali to chennai on sunday eve...i already see in net..no ticket available..i want to book ticket through tackle ..\n",
      "prediction: spam, message: 4mths half price Orange line rental & latest camera phones 4 FREE. Had your phone 11mths ? Call MobilesDirect free on 08000938767 to update now! or2stoptxt\n",
      "prediction: ham, message: Message:some text missing* Sender:Name Missing* *Number Missing *Sent:Date missing *Missing U a lot thats y everything is missing sent via fullonsms.com\n",
      "prediction: ham, message: U come n search tat vid..not finishd..\n",
      "prediction: ham, message: Free any day but i finish at 6 on mon n thurs...\n",
      "prediction: ham, message: Yeah go on then, bored and depressed sittin waitin for phone to ring... Hope the wind drops though, scary\n",
      "prediction: ham, message: That's ok. I popped in to ask bout something and she said you'd been in. Are you around tonght wen this girl comes?\n",
      "prediction: ham, message: Tomarrow final hearing on my laptop case so i cant.\n",
      "prediction: ham, message: Er yeah, i will b there at 15:26, sorry! Just tell me which pub/cafe to sit in and come wen u can\n",
      "prediction: ham, message: God bless.get good sleep my dear...i will pray!\n",
      "prediction: ham, message: I dont thnk its a wrong calling between us\n",
      "prediction: ham, message: Short But Cute: \"Be a good person, but dont try to prove it..\" .Gud noon....\n",
      "prediction: ham, message: Also hi wesley how've you been\n",
      "prediction: ham, message: Lol your right. What diet? Everyday I cheat anyway. I'm meant to be a fatty :(\n",
      "prediction: ham, message: Da my birthdate in certificate is in april but real date is today. But dont publish it. I shall give you a special treat if you keep the secret. Any way thanks for the wishes\n",
      "prediction: spam, message: Our dating service has been asked 2 contact U by someone shy! CALL 09058091870 NOW all will be revealed. POBox84, M26 3UZ 150p\n",
      "prediction: ham, message: Win the newest “Harry Potter and the Order of the Phoenix (Book 5) reply HARRY, answer 5 questions - chance to be the first among readers!\n",
      "prediction: ham, message: Ill call u 2mrw at ninish, with my address that icky American freek wont stop callin me 2 bad Jen k eh?\n",
      "prediction: ham, message: Babe! I fucking love you too !! You know? Fuck it was so good to hear your voice. I so need that. I crave it. I can't get enough. I adore you, Ahmad *kisses*\n",
      "prediction: ham, message: Come to mu, we're sorting out our narcotics situation\n",
      "prediction: ham, message: I dont want to hear philosophy. Just say what happen\n",
      "prediction: ham, message: Nice. Wait...should you be texting right now? I'm not gonna pay your ticket, ya know!\n",
      "prediction: ham, message: Well I'm going to be an aunty!\n",
      "prediction: ham, message: Where did u go? My phone is gonna die you have to stay in here\n",
      "prediction: ham, message: My sister got placed in birla soft da:-)\n",
      "prediction: ham, message: I am not sure about night menu. . . I know only about noon menu\n",
      "prediction: ham, message: Only saturday and sunday holiday so its very difficult:)\n",
      "prediction: ham, message: O ic lol. Should play 9 doors sometime yo\n",
      "prediction: ham, message: If I get there before you after your ten billion calls and texts so help me god\n",
      "prediction: ham, message: K, can that happen tonight?\n",
      "prediction: ham, message: Oops i thk i dun haf enuff... I go check then tell ü..\n",
      "prediction: ham, message: JADE ITS PAUL. Y DIDNT U TXT ME? DO U REMEMBER ME FROM BARMED? I WANT 2 TALK 2 U! TXT ME\n",
      "prediction: ham, message: Have you not finished work yet or something?\n",
      "prediction: ham, message: Much better now thanks lol\n",
      "prediction: ham, message: What Today-sunday..sunday is holiday..so no work..\n",
      "prediction: ham, message: Hiya, sorry didn't hav signal. I haven't seen or heard from and neither has, which is unusual in itself! I'll put on the case and get him to sort it out! Hugs and snogs.\n",
      "prediction: spam, message: Want to funk up ur fone with a weekly new tone reply TONES2U 2 this text. www.ringtones.co.uk, the original n best. Tones 3GBP network operator rates apply\n",
      "prediction: spam, message: Moby Pub Quiz.Win a £100 High Street prize if u know who the new Duchess of Cornwall will be? Txt her first name to 82277.unsub STOP £1.50 008704050406 SP Arrow\n",
      "prediction: ham, message: Then dun wear jeans lor...\n",
      "prediction: ham, message: Yeah he got in at 2 and was v apologetic. n had fallen out and she was actin like spoilt child and he got caught up in that. Till 2! But we won't go there! Not doing too badly cheers. You? \n",
      "prediction: ham, message: And stop wondering \"wow is she ever going to stop tm'ing me ?!\" because I will tm you whenever I want because you are MINE ... *laughs*\n",
      "prediction: ham, message: Ugh y can't u just apologize, admit u were wrong and ask me to take u back?\n",
      "prediction: ham, message: Have a safe trip to Nigeria. Wish you happiness and very soon company to share moments with\n",
      "prediction: ham, message: Yup ok...\n",
      "prediction: ham, message: He remains a bro amongst bros\n",
      "prediction: ham, message: I dled 3d its very imp\n",
      "prediction: ham, message: He's an adult and would learn from the experience. There's no real danger. I just dont like peeps using drugs they dont need. But no comment\n",
      "prediction: ham, message: Howz that persons story\n",
      "prediction: ham, message: Ok... Thanx... Gd nite 2 ü too...\n",
      "prediction: spam, message: Text82228>> Get more ringtones, logos and games from www.txt82228.com. Questions: info@txt82228.co.uk\n",
      "prediction: ham, message: Hi baby ive just got back from work and i was wanting to see u allday! I hope i didnt piss u off on the phone today. If u are up give me a call xxx\n",
      "prediction: ham, message: Done it but internet connection v slow and can‘t send it. Will try again later or first thing tomo.\n",
      "prediction: ham, message: Then. You are eldest know.\n",
      "prediction: ham, message: Moji just informed me that you saved our lives. Thanks.\n",
      "prediction: ham, message: Guess who am I?This is the first time I created a web page WWW.ASJESUS.COM read all I wrote. I'm waiting for your opinions. I want to be your friend 1/1\n",
      "prediction: ham, message: Ok thanx... Take care then...\n",
      "prediction: ham, message: 1's reach home call me.\n",
      "prediction: ham, message: A swt thought: \"Nver get tired of doing little things 4 lovable persons..\" Coz..somtimes those little things occupy d biggest part in their Hearts.. Gud ni8\n",
      "prediction: ham, message: Yar else i'll thk of all sorts of funny things.\n",
      "prediction: ham, message: May b approve panalam...but it should have more posts..\n",
      "prediction: ham, message: Finally it has happened..! Aftr decades..! BEER is now cheaper than PETROL! The goverment expects us to \"DRINK\". . . But don't \"DRIVE \"\n",
      "prediction: ham, message: Anyway seriously hit me up when you're back because otherwise I have to light up with armand and he always has shit and/or is vomiting\n",
      "prediction: ham, message: If india win or level series means this is record:)\n",
      "prediction: ham, message: Can't take any major roles in community outreach. You rock mel\n",
      "prediction: ham, message: Also that chat was awesome but don't make it regular unless you can see her in person\n",
      "prediction: ham, message: Don know..wait i will check it.\n",
      "prediction: ham, message: Good morning pookie pie! Lol hope I didn't wake u up\n",
      "prediction: ham, message: K..k..any special today?\n",
      "prediction: ham, message: Forgot to tell ü smth.. Can ü like number the sections so that it's clearer..\n",
      "prediction: ham, message: This is my number by vivek..\n",
      "prediction: ham, message: Tell them no need to investigate about me anywhere.\n",
      "prediction: spam, message: Sunshine Quiz Wkly Q! Win a top Sony DVD player if u know which country the Algarve is in? Txt ansr to 82277. £1.50 SP:Tyrone\n",
      "prediction: ham, message: Aight ill get on fb in a couple minutes\n",
      "prediction: ham, message: That one week leave i put know that time. Why.\n",
      "prediction: ham, message: I always chat with you. In fact i need money can you raise me?\n",
      "prediction: ham, message: Sorry, I'll call later\n",
      "prediction: ham, message: She went to attend another two rounds today..but still did't reach home..\n",
      "prediction: ham, message: Yes we are chatting too.\n",
      "prediction: spam, message: You have 1 new message. Please call 08715205273\n",
      "prediction: spam, message: PRIVATE! Your 2003 Account Statement for shows 800 un-redeemed S. I. M. points. Call 08715203694 Identifier Code: 40533 Expires 31/10/04\n",
      "prediction: ham, message: Urgh, coach hot, smells of chip fat! Thanks again, especially for the duvet (not a predictive text word).\n",
      "prediction: ham, message: HI BABE IM AT HOME NOW WANNA DO SOMETHING? XX\n",
      "prediction: ham, message: Dear Subscriber ur draw 4 £100 gift voucher will b entered on receipt of a correct ans. When was Elvis Presleys Birthday? TXT answer to 80062\n",
      "prediction: ham, message: Anything...\n",
      "prediction: ham, message: Yavnt tried yet and never played original either\n",
      "prediction: ham, message: So wat's da decision?\n",
      "prediction: ham, message: Have your lunch and come quickly and open the door:)\n",
      "prediction: ham, message: I called and said all to him:)then he have to choose this future.\n",
      "prediction: ham, message: Spoons it is then okay?\n",
      "prediction: ham, message: My superior telling that friday is leave for all other department except ours:)so it will be leave for you:)any way call waheed fathima hr and conform it:)\n",
      "prediction: ham, message: She is our sister.. She belongs 2 our family.. She is d hope of tomorrow.. Pray 4 her,who was fated 4 d Shoranur train incident. Lets hold our hands together &amp; fuelled by love &amp; concern prior 2 her grief &amp; pain. Pls join in dis chain &amp; pass it. STOP VIOLENCE AGAINST WOMEN.\n",
      "prediction: spam, message: URGENT! Your Mobile No was awarded a £2,000 Bonus Caller Prize on 1/08/03! This is our 2nd attempt to contact YOU! Call 0871-4719-523 BOX95QU BT National Rate\n",
      "prediction: ham, message: Ya tel, wats ur problem..\n",
      "prediction: ham, message: Tunji, how's the queen? how are you doing. This is just wishing you a great day. Abiola.\n",
      "prediction: ham, message: Will be office around 4 pm. Now i am going hospital.\n",
      "prediction: ham, message: Ok i also wan 2 watch e 9 pm show...\n",
      "prediction: ham, message: My mobile number.pls sms ur mail id.convey regards to achan,amma.Rakhesh.Qatar\n",
      "prediction: ham, message: New car and house for my parents.:)i have only new job in hand:)\n",
      "prediction: ham, message: Dear i have reache room\n",
      "prediction: spam, message: todays vodafone numbers ending with 0089(my last four digits) are selected to received a £350 award. If your number matches please call 09063442151 to claim your £350 award\n",
      "prediction: ham, message: Ok that's great thanx a lot.\n",
      "prediction: ham, message: I am not at all happy with what you saying or doing\n",
      "prediction: ham, message: HCL chennai requires FRESHERS for voice process.Excellent english needed.Salary upto  &lt;#&gt; .Call Ms.Suman  &lt;#&gt;  for Telephonic interview -via Indyarocks.com\n",
      "prediction: spam, message: Spook up your mob with a Halloween collection of a logo & pic message plus a free eerie tone, txt CARD SPOOK to 8007 zed 08701417012150p per logo/pic\n",
      "prediction: ham, message: I might come to kerala for 2 days.so you can be prepared to take a leave once i finalise .dont plan any travel during my visit.need to finish urgent works.\n",
      "prediction: ham, message: So many people seems to be special at first sight, But only very few will remain special to you till your last sight.. Maintain them till life ends.. Sh!jas\n",
      "prediction: ham, message: K..k..i'm also fine:)when will you complete the course?\n",
      "prediction: ham, message: Yes I know the cheesy songs from frosty the snowman :)\n",
      "prediction: ham, message: Sary just need Tim in the bollox &it hurt him a lot so he tol me!\n",
      "prediction: ham, message: In sch but neva mind u eat 1st lor..\n",
      "prediction: ham, message: Was just about to ask. Will keep this one. Maybe that's why you didn't get all the messages we sent you on glo\n",
      "prediction: ham, message: Jesus christ bitch I'm trying to give you drugs answer your fucking phone\n",
      "prediction: ham, message: Uhhhhrmm isnt having tb test bad when youre sick\n",
      "prediction: ham, message: Yes, princess. Are you going to make me moan?\n",
      "prediction: spam, message: Urgent! Please call 09061213237 from landline. £5000 cash or a luxury 4* Canary Islands Holiday await collection. T&Cs SAE PO Box 177. M227XY. 150ppm. 16+\n",
      "prediction: spam, message: December only! Had your mobile 11mths+? You are entitled to update to the latest colour camera mobile for Free! Call The Mobile Update VCo FREE on 08002986906 \n",
      "prediction: ham, message: X course it 2yrs. Just so her messages on messenger lik you r sending me\n",
      "prediction: spam, message: 07732584351 - Rodger Burns - MSG = We tried to call you re your reply to our sms for a free nokia mobile + free camcorder. Please call now 08000930705 for delivery tomorrow\n",
      "prediction: ham, message: We have sent JD for Customer Service cum Accounts Executive to ur mail id, For details contact us\n",
      "prediction: ham, message: S:)no competition for him.\n",
      "prediction: ham, message: What u talking bout early morning? It's almost noon where your at!\n",
      "prediction: ham, message: So wats ur opinion abt him and how abt is character?\n",
      "prediction: ham, message: Boo. How's things? I'm back at home and a little bored already :-(\n",
      "prediction: ham, message: Do u noe wat time e place dat sells 4d closes?\n",
      "prediction: ham, message: No it's waiting in e car dat's bored wat. Cos wait outside got nothing 2 do. At home can do my stuff or watch tv wat.\n",
      "prediction: ham, message: From someone not to smoke when every time I've smoked in the last two weeks is because of you calling or texting me that you wanted to smoke\n",
      "prediction: ham, message: Thank you. And by the way, I just lost.\n",
      "prediction: ham, message: I am great princess! What are you thinking about me? :)\n",
      "prediction: ham, message: Lol I would but despite these cramps I like being a girl.\n",
      "prediction: ham, message: Wot is u up 2 then bitch?\n",
      "prediction: ham, message: Mm not entirely sure i understood that text but hey. Ho. Which weekend?\n",
      "prediction: ham, message: Not directly behind... Abt 4 rows behind ü...\n",
      "prediction: ham, message: Yetunde, i'm sorry but moji and i seem too busy to be able to go shopping. Can you just please find some other way to get what you wanted us to get. Please forgive me. You can reply free via yahoo messenger.\n",
      "prediction: ham, message: Hui xin is in da lib.\n",
      "prediction: ham, message: Ok then i'll let him noe later n ask him call u tmr...\n",
      "prediction: spam, message: Urgent! call 09066350750 from your landline. Your complimentary 4* Ibiza Holiday or 10,000 cash await collection SAE T&Cs PO BOX 434 SK3 8WP 150 ppm 18+\n",
      "prediction: ham, message: Ho ho - big belly laugh! See ya tomo\n",
      "prediction: ham, message: Babe ? I lost you ... :-(\n",
      "prediction: ham, message: I got to video tape pple type in message lor. U so free wan 2 help me? Hee... Cos i noe u wan 2 watch infernal affairs so ask u along. Asking shuhui oso.\n",
      "prediction: spam, message: You are being contacted by our Dating Service by someone you know! To find out who it is, call from your mobile or landline 09064017305 PoBox75LDNS7 \n",
      "prediction: ham, message: Call him and say you not coming today ok and tell them not to fool me like this ok\n",
      "prediction: ham, message: I think i've fixed it can you send a test message?\n",
      "prediction: ham, message: Yun ah.now ü wkg where?btw if ü go nus sc. Ü wana specialise in wad?\n",
      "prediction: ham, message: Will you be here for food\n",
      "prediction: ham, message: Pansy! You've been living in a jungle for two years! Its my driving you should be more worried about!\n",
      "prediction: ham, message: I think asking for a gym is the excuse for lazy people. I jog.\n",
      "prediction: ham, message: Which is weird because I know I had it at one point\n",
      "prediction: ham, message: FREE2DAY sexy St George's Day pic of Jordan!Txt PIC to 89080 dont miss out, then every wk a saucy celeb!4 more pics c PocketBabe.co.uk 0870241182716 £3/wk\n",
      "prediction: ham, message: Come to my home for one last time i wont do anything. Trust me.\n",
      "prediction: ham, message: I accidentally brought em home in the box\n",
      "prediction: ham, message: We still on for tonight?\n",
      "prediction: ham, message: Feb  &lt;#&gt;  is \"I LOVE U\" day. Send dis to all ur \"VALUED FRNDS\" evn me. If 3 comes back u'll gt married d person u luv! If u ignore dis u will lose ur luv 4 Evr\n",
      "prediction: ham, message: It's cool, we can last a little while. Getting more any time soon?\n",
      "prediction: ham, message: How i noe... She's in da car now... Later then c lar... I'm wearing shorts...\n",
      "prediction: ham, message: PLEASSSSSSSEEEEEE TEL ME V AVENT DONE SPORTSx\n",
      "prediction: ham, message: I hope you know I'm still mad at you.\n",
      "prediction: spam, message: Free Top ringtone -sub to weekly ringtone-get 1st week free-send SUBPOLY to 81618-?3 per week-stop sms-08718727870\n",
      "prediction: ham, message: So how's the weather over there?\n",
      "prediction: ham, message: Filthy stories and GIRLS waiting for your\n",
      "prediction: ham, message: Height of Confidence: All the Aeronautics professors wer calld &amp; they wer askd 2 sit in an aeroplane. Aftr they sat they wer told dat the plane ws made by their students. Dey all hurried out of d plane.. Bt only 1 didnt move... He said:\"if it is made by my students,this wont even start........ Datz confidence..\n",
      "prediction: ham, message: Haven't seen my facebook, huh? Lol!\n",
      "prediction: spam, message: <Forwarded from 448712404000>Please CALL 08712404000 immediately as there is an urgent message waiting for you.\n",
      "prediction: ham, message: Lol yep did that yesterday. Already got my fireplace. Now its just another icon sitting there for me.\n",
      "prediction: ham, message: Hi , where are you? We're at  and they're not keen to go out i kind of am but feel i shouldn't so can we go out tomo, don't mind do you?\n",
      "prediction: ham, message: Well at this right I'm gonna have to get up and check today's steam sales/pee so text me when you want me to come get you\n",
      "prediction: ham, message: Please dont say like that. Hi hi hi\n",
      "prediction: ham, message: Nt joking seriously i told\n",
      "prediction: ham, message: The sign of maturity is not when we start saying big things.. But actually it is, when we start understanding small things... *HAVE A NICE EVENING* BSLVYL\n",
      "prediction: ham, message: You have registered Sinco as Payee. Log in at icicibank.com and enter URN  &lt;#&gt;  to confirm. Beware of frauds. Do NOT share or disclose URN to anyone.\n",
      "prediction: ham, message: Hiya , have u been paying money into my account? If so, thanks. Got a pleasant surprise when i checked my balance -u c, i don't get statements 4 that acc\n",
      "prediction: spam, message: UpgrdCentre Orange customer, you may now claim your FREE CAMERA PHONE upgrade for your loyalty. Call now on 0207 153 9153. Offer ends 26th July. T&C's apply. Opt-out available\n",
      "prediction: ham, message: Be sure to check your yahoo email. We sent photos yesterday\n",
      "prediction: spam, message: WINNER!! As a valued network customer you have been selected to receivea £900 prize reward! To claim call 09061701461. Claim code KL341. Valid 12 hours only.\n",
      "prediction: ham, message: Boy you best get yo ass out here quick\n",
      "prediction: ham, message: If we hit it off, you can move in with me :)\n",
      "prediction: ham, message: That seems unnecessarily hostile\n",
      "prediction: ham, message: Oh ok..\n",
      "prediction: ham, message: Pls ask macho how much is budget for bb bold 2 is cos i saw a new one for  &lt;#&gt;  dollars.\n",
      "prediction: ham, message: Ding me on ya break fassyole! Blacko from londn\n",
      "prediction: ham, message: How about getting in touch with folks waiting for company? Just txt back your NAME and AGE to opt in! Enjoy the community (150p/SMS)\n",
      "prediction: ham, message: Does cinema plus drink appeal tomo? * Is a fr thriller by director i like on at mac at 8.30.\n",
      "prediction: spam, message: YOU VE WON! Your 4* Costa Del Sol Holiday or £5000 await collection. Call 09050090044 Now toClaim. SAE, TC s, POBox334, Stockport, SK38xh, Cost£1.50/pm, Max10mins\n",
      "prediction: ham, message: Dude how do you like the buff wind.\n",
      "prediction: ham, message: Shant disturb u anymore... Jia you...\n",
      "prediction: ham, message: Yeah we do totes. When u wanna?\n",
      "prediction: spam, message: GENT! We are trying to contact you. Last weekends draw shows that you won a £1000 prize GUARANTEED. Call 09064012160. Claim Code K52. Valid 12hrs only. 150ppm \n",
      "prediction: spam, message: Urgent! Please call 0906346330. Your ABTA complimentary 4* Spanish Holiday or £10,000 cash await collection SAE T&Cs BOX 47 PO19 2EZ 150ppm 18+\n",
      "prediction: ham, message: You have got tallent but you are wasting.\n",
      "prediction: ham, message: Sorry da thangam, very very sorry i am held up with prasad.\n",
      "prediction: ham, message: No need to buy lunch for me.. I eat maggi mee..\n",
      "prediction: ham, message: Its good to hear from you\n",
      "prediction: ham, message: I guess that's why you re worried. You must know that there's a way the body repairs itself. And i'm quite sure you shouldn't worry. We'll take it slow. First the tests, they will guide when your ovulation is then just relax. Nothing you've said is a reason to worry but i.ll keep on followin you up.\n",
      "prediction: spam, message: URGENT! Your Mobile number has been awarded a <UKP>2000 prize GUARANTEED. Call 09061790125 from landline. Claim 3030. Valid 12hrs only 150ppm\n",
      "prediction: ham, message: Dont give a monkeys wot they think and i certainly don't mind. Any friend of mine&all that! Just don't sleep wiv , that wud be annoyin!\n",
      "prediction: ham, message: Lol I know! Hey someone did a great inpersonation of flea on the forums. I love it!\n",
      "prediction: ham, message: Hi its in durban are you still on this number\n",
      "prediction: ham, message: If you hear a loud scream in about &lt;#&gt; minutes its cause my Gyno will be shoving things up me that don't belong :/\n",
      "prediction: ham, message: Havent shopping now lor i juz arrive only\n",
      "prediction: ham, message: Oh, my love, it's soooo good to hear from you. Omg I missed you so much today. I'm sorry your having problems with the provider but thank you for tming me\n",
      "prediction: ham, message: I to am looking forward to all the sex cuddling.. Only two more sleeps \n",
      "prediction: ham, message: I notice you like looking in the shit mirror youre turning into a right freak\n",
      "prediction: ham, message: Were somewhere on Fredericksburg\n",
      "prediction: ham, message: I wanna watch that movie\n",
      "prediction: spam, message: <Forwarded from 88877>FREE entry into our £250 weekly comp just send the word ENTER to 88877 NOW. 18 T&C www.textcomp.com\n",
      "prediction: ham, message: Umma my life and vava umma love you lot dear\n",
      "prediction: ham, message: Its  &lt;#&gt; k here oh. Should i send home for sale.\n",
      "prediction: ham, message: Why de. You looking good only:-)..\n",
      "prediction: ham, message: Prepare to be pleasured :)\n",
      "prediction: ham, message: What time do u get out?\n",
      "prediction: ham, message: Oh god..taken the teeth?is it paining\n",
      "prediction: ham, message: Message from . I am at Truro Hospital on ext. You can phone me here. as I have a phone by my side\n",
      "prediction: ham, message: Have you had a good day? Mine was really busy are you up to much tomorrow night?\n",
      "prediction: ham, message: U reach orchard already? U wan 2 go buy tickets first?\n",
      "prediction: ham, message: Wow ... I love you sooo much, you know ? I can barely stand it ! I wonder how your day goes and if you are well, my love ... I think of you and miss you\n",
      "prediction: ham, message: Yeah there's quite a bit left, I'll swing by tomorrow when I get up\n",
      "prediction: ham, message: Did u got that persons story\n",
      "prediction: ham, message: Then why no one talking to me\n",
      "prediction: ham, message: Ok... Sweet dreams...\n",
      "prediction: spam, message: Boltblue tones for 150p Reply POLY# or MONO# eg POLY3 1. Cha Cha Slide 2. Yeah 3. Slow Jamz 6. Toxic 8. Come With Me or STOP 4 more tones txt MORE\n",
      "prediction: ham, message: Wait.i will come out.. &lt;#&gt;  min:)\n",
      "prediction: ham, message: Thank god they are in bed!\n",
      "prediction: spam, message: from www.Applausestore.com MonthlySubscription@50p/msg max6/month T&CsC web age16 2stop txt stop\n",
      "prediction: ham, message: I hope you arnt pissed off but id would really like to see you tomorrow. Love me xxxxxxxxxxxxxX\n",
      "prediction: ham, message: hi my darlin im on my way to London and we have just been smashed into by another driver! and have a big dent! im really missing u what have u been up to? xxx\n",
      "prediction: ham, message: I got like $ &lt;#&gt; , I can get some more later though. Get whatever you feel like\n",
      "prediction: ham, message: So that means you still think of teju\n",
      "prediction: ham, message: Yes! I am a one woman man! Please tell me your likes and dislikes in bed...\n",
      "prediction: ham, message: Can u get pic msgs to your phone?\n",
      "prediction: ham, message: Come aftr  &lt;DECIMAL&gt; ..now i m cleaning the house\n",
      "prediction: spam, message: Hi 07734396839 IBH Customer Loyalty Offer: The NEW NOKIA6600 Mobile from ONLY £10 at TXTAUCTION!Txt word:START to No:81151 & get Yours Now!4T&\n",
      "prediction: ham, message: Hi kindly give us back our documents which we submitted for loan from STAPATI\n",
      "prediction: ham, message: I need you to be in my strong arms...\n",
      "prediction: ham, message: Bishan lar nearer... No need buy so early cos if buy now i gotta park my car...\n",
      "prediction: ham, message: Sorry, I'll call you  later. I am in meeting sir.\n",
      "prediction: ham, message: Mum ask ü to buy food home...\n",
      "prediction: ham, message: Under the sea, there lays a rock. In the rock, there is an envelope. In the envelope, there is a paper. On the paper, there are 3 words... '\n",
      "prediction: ham, message: Die... Now i have e toot fringe again...\n",
      "prediction: ham, message: Hi hope u r both ok, he said he would text and he hasn't, have u seen him, let me down gently please \n",
      "prediction: ham, message: Yes princess! I want to catch you with my big strong hands...\n",
      "prediction: ham, message: Going thru a very different feeling.wavering decisions and coping up with the same is the same individual.time will heal everything i believe.\n",
      "prediction: ham, message: No way I'm going back there!\n",
      "prediction: ham, message: Oh really? perform, write a paper, go to a movie AND be home by midnight, huh?\n",
      "prediction: ham, message: No need lar i go engin? Cos my sis at arts today...\n",
      "prediction: spam, message: Todays Voda numbers ending with 7634 are selected to receive a £350 reward. If you have a match please call 08712300220 quoting claim code 7684 standard rates apply.\n",
      "prediction: ham, message: Mon okie lor... Haha, best is cheap n gd food la, ex oso okie... Depends on whether wana eat western or chinese food... Den which u prefer... \n",
      "prediction: ham, message: Enjoy the showers of possessiveness poured on u by ur loved ones, bcoz in this world of lies, it is a golden gift to be loved truly..\n",
      "prediction: ham, message: How r ü going to send it to me?\n",
      "prediction: ham, message: Yesterday its with me only . Now am going home.\n",
      "prediction: ham, message: 1.20 that call cost. Which i guess isnt bad. Miss ya, need ya, want ya, love ya\n",
      "prediction: ham, message: Oh ho. Is this the first time u use these type of words\n",
      "prediction: ham, message: I dun believe u. I thk u told him.\n",
      "prediction: ham, message: Lmao but its so fun...\n",
      "prediction: ham, message: Dear Voucher holder Have your next meal on us. Use the following link on your pc 2 enjoy a 2 4 1 dining experiencehttp://www.vouch4me.com/etlp/dining.asp\n",
      "prediction: ham, message: Goin to workout lor... Muz lose e fats... \n",
      "prediction: ham, message: He like not v shock leh. Cos telling shuhui is like telling leona also. Like dat almost all know liao. He got ask me abt ur reaction lor.\n",
      "prediction: spam, message: RT-KIng Pro Video Club>> Need help? info@ringtoneking.co.uk or call 08701237397 You must be 16+ Club credits redeemable at www.ringtoneking.co.uk! Enjoy!\n",
      "prediction: ham, message: Nothing really, just making sure everybody's up to speed\n",
      "prediction: ham, message: That depends. How would you like to be treated? :)\n",
      "prediction: ham, message: Might ax well im there.\n",
      "prediction: ham, message: Its a big difference.  &lt;#&gt;  versus  &lt;#&gt;  every  &lt;#&gt; hrs\n",
      "prediction: ham, message: Book which lesson? then you msg me... I will call up after work or sth... I'm going to get specs. My membership is PX3748\n",
      "prediction: ham, message: I don know account details..i will ask my mom and send you.my mom is out of reach now.\n",
      "prediction: spam, message: Congratulations! Thanks to a good friend U have WON the £2,000 Xmas prize. 2 claim is easy, just call 08718726978 NOW! Only 10p per minute. BT-national-rate\n",
      "prediction: ham, message: Night has ended for another day, morning has come in a special way. May you smile like the sunny rays and leaves your worries at the blue blue bay.\n",
      "prediction: ham, message: I ask if u meeting da ge tmr nite...\n",
      "prediction: ham, message: Ü takin linear algebra today?\n",
      "prediction: ham, message: Yeah, probably but not sure. Ilol let u know, but personally I wuldnt bother, then again if ur goin to then I mite as well!!\n",
      "prediction: ham, message: Of course. I guess god's just got me on hold right now.\n",
      "prediction: ham, message: Wake me up at  &lt;#&gt;  am morning:)\n",
      "prediction: ham, message: Yup no more already... Thanx 4 printing n handing it up.\n",
      "prediction: ham, message: From tomorrow onwards eve 6 to 3 work.\n",
      "prediction: ham, message: In work now. Going have in few min.\n",
      "prediction: ham, message: Yes. that will be fine. Love you. Be safe.\n",
      "prediction: ham, message: Well, i'm glad you didn't find it totally disagreeable ... Lol\n",
      "prediction: ham, message: Dont show yourself. How far. Put new pictures up on facebook.\n",
      "prediction: ham, message: Do you think i can move  &lt;#&gt;  in a week\n",
      "prediction: spam, message: Don't b floppy... b snappy & happy! Only gay chat service with photo upload call 08718730666 (10p/min). 2 stop our texts call 08712460324\n",
      "prediction: ham, message: Sad story of a Man - Last week was my b'day. My Wife did'nt wish me. My Parents forgot n so did my Kids . I went to work. Even my Colleagues did not wish.\n",
      "prediction: ham, message: Hey next sun 1030 there's a basic yoga course... at bugis... We can go for that... Pilates intro next sat.... Tell me what time you r free\n",
      "prediction: ham, message: Edison has rightly said, \"A fool can ask more questions than a wise man can answer\" Now you know why all of us are speechless during ViVa.. GM,GN,GE,GNT:-)\n",
      "prediction: ham, message: Are your freezing ? Are you home yet ? Will you remember to kiss your mom in the morning? Do you love me ? Do you think of me ? Are you missing me yet ?\n",
      "prediction: ham, message: 88066 FROM 88066 LOST 3POUND HELP\n",
      "prediction: spam, message: goldviking (29/M) is inviting you to be his friend. Reply YES-762 or NO-762 See him: www.SMS.ac/u/goldviking STOP? Send STOP FRND to 62468\n",
      "prediction: ham, message: Yeah that'd pretty much be the best case scenario\n",
      "prediction: ham, message: I will come to ur home now\n",
      "prediction: ham, message: I'm watching lotr w my sis dis aft. So u wan 2 meet me 4 dinner at nite a not?\n",
      "prediction: ham, message: Are you happy baby ? Are you alright ? Did you take that job ? I hope your fine. I send you a kiss to make you smile from across the sea ... *kiss* *kiss*\n",
      "prediction: ham, message: What I'm saying is if you haven't explicitly told nora I know someone I'm probably just not gonna bother\n",
      "prediction: ham, message: In which place do you want da.\n",
      "prediction: ham, message: I not at home now lei...\n",
      "prediction: spam, message: Thanks for your ringtone order, reference number X49. Your mobile will be charged 4.50. Should your tone not arrive please call customer services 09065989182. From: [colour=red]text[/colour]TXTstar\n",
      "prediction: ham, message: Ok lor...\n",
      "prediction: ham, message: Designation is software developer and may be she get chennai:)\n",
      "prediction: ham, message: It's ok, at least armand's still around\n",
      "prediction: ham, message: I will once i get home\n",
      "prediction: ham, message: Jay's getting really impatient and belligerent\n",
      "prediction: ham, message: WOT U WANNA DO THEN MISSY?\n",
      "prediction: ham, message: Whatsup there. Dont u want to sleep\n",
      "prediction: ham, message: U havent lost me ill always b here 4u.i didnt intend 2 hurt u but I never knew how u felt about me when Iwas+marine&thats what itried2tell urmom.i careabout u\n",
      "prediction: ham, message: Lol! Oops sorry! Have fun. \n",
      "prediction: ham, message: Velly good, yes please!\n",
      "prediction: ham, message: I want to tel u one thing u should not mistake me k THIS IS THE MESSAGE THAT YOU SENT:)\n",
      "prediction: ham, message: Going to take your babe out ?\n",
      "prediction: ham, message: Aight, we'll head out in a few\n",
      "prediction: ham, message: No. I dont want to hear anything\n",
      "prediction: ham, message: Send his number and give reply tomorrow morning for why you said that to him like that ok\n",
      "prediction: ham, message: Sweet heart how are you?\n",
      "prediction: ham, message: That's cause your old. I live to be high.\n",
      "prediction: ham, message: Honey ? Sweetheart ? Darling ? Sexy buns ? Sugar plum ? Loverboy ? I miss you, boytoy ... *smacks your ass* Did you go to the gym too ?\n",
      "prediction: ham, message: My life Means a lot to me, Not because I love my life, But because I love the people in my life, The world calls them friends, I call them my World:-).. Ge:-)..\n",
      "prediction: ham, message: Just sleeping..and surfing\n",
      "prediction: ham, message: Do ü noe if ben is going?\n",
      "prediction: ham, message: Ok lar i double check wif da hair dresser already he said wun cut v short. He said will cut until i look nice.\n",
      "prediction: ham, message: Where's my boytoy? I miss you ... What happened?\n",
      "prediction: ham, message: I am getting threats from your sales executive Shifad as i raised complaint against him. Its an official message.\n",
      "prediction: ham, message: Wat makes some people dearer is not just de happiness dat u feel when u meet them but de pain u feel when u miss dem!!!\n",
      "prediction: ham, message: U still going to the mall?\n",
      "prediction: ham, message: Hasn't that been the pattern recently crap weekends?\n",
      "prediction: ham, message: Allo! We have braved the buses and taken on the trains and triumphed. I mean we‘re in b‘ham. Have a jolly good rest of week\n",
      "prediction: ham, message: Hey cutie. How goes it? Here in WALES its kinda ok. There is like hills and shit but i still avent killed myself. \n",
      "prediction: ham, message: Please tell me you have some of that special stock you were talking about\n",
      "prediction: ham, message: I think just yourself …Thanks and see you tomo\n",
      "prediction: ham, message: Am okay. Will soon be over. All the best\n",
      "prediction: ham, message: Yep then is fine 7.30 or 8.30 for ice age.\n",
      "prediction: ham, message: Yup... I havent been there before... You want to go for the yoga? I can call up to book \n",
      "prediction: spam, message: U have a Secret Admirer who is looking 2 make contact with U-find out who they R*reveal who thinks UR so special-call on 09065171142-stopsms-08718727870150ppm\n",
      "prediction: ham, message: Let there be snow. Let there be snow. This kind of weather brings ppl together so friendships can grow.\n",
      "prediction: ham, message: You still at the game?\n",
      "prediction: ham, message: Will do. Was exhausted on train this morning. Too much wine and pie. You sleep well too\n",
      "prediction: ham, message: Wot u up 2? Thout u were gonna call me!! Txt bak luv K\n",
      "prediction: ham, message: Ok...\n",
      "prediction: ham, message: Hi.:)technical support.providing assistance to us customer through call and email:)\n",
      "prediction: ham, message: We'll join the  &lt;#&gt;  bus\n",
      "prediction: ham, message: Pls dont restrict her from eating anythin she likes for the next two days.\n",
      "prediction: ham, message: Thanx 4 e brownie it's v nice...\n",
      "prediction: ham, message: Hiya, had a good day? Have you spoken to since the weekend?\n",
      "prediction: ham, message: Perhaps * is much easy give your account identification, so i will tomorrow at UNI\n",
      "prediction: ham, message: Well that must be a pain to catch\n",
      "prediction: ham, message: I luv u soo much u dont understand how special u r 2 me ring u 2morrow luv u xxx\n",
      "prediction: spam, message: Camera - You are awarded a SiPix Digital Camera! call 09061221066 fromm landline. Delivery within 28 days\n",
      "prediction: ham, message: I'm going 4 lunch now wif my family then aft dat i go str 2 orchard lor.\n",
      "prediction: ham, message: Oh k...i'm watching here:)\n",
      "prediction: ham, message: Wat makes u thk i'll fall down. But actually i thk i'm quite prone 2 falls. Lucky my dad at home i ask him come n fetch me already.\n",
      "prediction: spam, message: tells u 2 call 09066358152 to claim £5000 prize. U have 2 enter all ur mobile & personal details @ the prompts. Careful!\n",
      "prediction: ham, message: Bull. Your plan was to go floating off to IKEA with me without a care in the world. So i have to live with your mess another day.\n",
      "prediction: ham, message: Ok u can take me shopping when u get paid =D\n",
      "prediction: ham, message: Aiyah then i wait lor. Then u entertain me. Hee...\n",
      "prediction: spam, message: **FREE MESSAGE**Thanks for using the Auction Subscription Service. 18 . 150p/MSGRCVD 2 Skip an Auction txt OUT. 2 Unsubscribe txt STOP CustomerCare 08718726270\n",
      "prediction: ham, message: I.ll hand her my phone to chat wit u\n",
      "prediction: spam, message: Welcome to UK-mobile-date this msg is FREE giving you free calling to 08719839835. Future mgs billed at 150p daily. To cancel send \"go stop\" to 89123\n",
      "prediction: ham, message: Hey tmr maybe can meet you at yck\n",
      "prediction: ham, message: Huh means computational science... Y they like dat one push here n there...\n",
      "prediction: ham, message: 2marrow only. Wed at  &lt;#&gt;  to 2 aha.\n",
      "prediction: ham, message: God picked up a flower and dippeditinaDEW, lovingly touched itwhichturnedinto u, and the he gifted tomeandsaid,THIS FRIEND IS 4U\n",
      "prediction: spam, message: WIN a year supply of CDs 4 a store of ur choice worth £500 & enter our £100 Weekly draw txt MUSIC to 87066 Ts&Cs www.Ldew.com.subs16+1win150ppmx3\n",
      "prediction: ham, message: Give me a sec to think think about it\n",
      "prediction: ham, message: There's no point hangin on to mr not right if he's not makin u happy\n",
      "prediction: ham, message: I tagged MY friends that you seemed to count as YOUR friends.\n",
      "prediction: ham, message: My drive can only be read. I need to write\n",
      "prediction: spam, message: Cashbin.co.uk (Get lots of cash this weekend!) www.cashbin.co.uk Dear Welcome to the weekend We have got our biggest and best EVER cash give away!! These..\n",
      "prediction: ham, message: Depends on individual lor e hair dresser say pretty but my parents say look gong. U kaypoh.. I also dunno wat she collecting.\n",
      "prediction: ham, message: You said to me before i went back to bed that you can't sleep for anything.\n",
      "prediction: ham, message: A gram usually runs like  &lt;#&gt; , a half eighth is smarter though and gets you almost a whole second gram for  &lt;#&gt;\n",
      "prediction: ham, message: You know there is. I shall speak to you in  &lt;#&gt;  minutes then\n",
      "prediction: ham, message: So how are you really. What are you up to. How's the masters. And so on.\n",
      "prediction: ham, message: NEFT Transaction with reference number  &lt;#&gt;  for Rs. &lt;DECIMAL&gt;  has been credited to the beneficiary account on  &lt;#&gt;  at  &lt;TIME&gt; : &lt;#&gt;\n",
      "prediction: spam, message: Urgent! Please call 09061743811 from landline. Your ABTA complimentary 4* Tenerife Holiday or £5000 cash await collection SAE T&Cs Box 326 CW25WX 150ppm\n",
      "prediction: ham, message: Webpage s not available!\n",
      "prediction: ham, message: ZOE IT JUST HIT ME 2 IM FUCKING SHITIN MYSELF IL DEFO TRY MY HARDEST 2 CUM 2MOROW LUV U MILLIONS LEKDOG\n",
      "prediction: spam, message: Camera - You are awarded a SiPix Digital Camera! call 09061221066 fromm landline. Delivery within 28 days.\n",
      "prediction: ham, message: Dear umma she called me now :-)\n",
      "prediction: ham, message: So can collect ur laptop?\n",
      "prediction: ham, message: sry can't talk on phone, with parents\n",
      "prediction: ham, message: But i juz remembered i gotta bathe my dog today..\n",
      "prediction: ham, message: it's still not working. And this time i also tried adding zeros. That was the savings. The checking is  &lt;#&gt; \n",
      "prediction: ham, message: I don't run away frm u... I walk slowly &amp; it kills me that u don't care enough to stop me...\n",
      "prediction: ham, message: Babe ! What are you doing ? Where are you ? Who are you talking to ? Do you think of me ? Are you being a good boy? Are you missing me? Do you love me ?\n",
      "prediction: ham, message: Hey sorry I didntgive ya a a bellearlier hunny,just been in bedbut mite go 2 thepub l8tr if uwana mt up?loads a luv Jenxxx.\n",
      "prediction: ham, message: Anything is valuable in only 2 situations: First- Before getting it... Second- After loosing it...\n",
      "prediction: ham, message: Beautiful Truth against Gravity.. Read carefully: \"Our heart feels light when someone is in it.. But it feels very heavy when someone leaves it..\" GOODMORNING\n",
      "prediction: ham, message: Good day to You too.Pray for me.Remove the teeth as its painful maintaining other stuff.\n",
      "prediction: ham, message: Not yet. Just i'd like to keep in touch and it will be the easiest way to do that from barcelona. By the way how ru and how is the house?\n",
      "prediction: ham, message: I think steyn surely get one wicket:)\n",
      "prediction: ham, message: Sorry, I can't help you on this.\n",
      "prediction: ham, message: So i'm doing a list of buyers.\n",
      "prediction: ham, message: wiskey Brandy Rum Gin Beer Vodka Scotch Shampain Wine \"KUDI\"yarasu dhina vaazhthukkal. ..\n",
      "prediction: ham, message: Great! How is the office today?\n",
      "prediction: ham, message: Ok. I only ask abt e movie. U wan ktv oso?\n",
      "prediction: ham, message: Yo come over carlos will be here soon\n",
      "prediction: ham, message: I think i am disturbing her da\n",
      "prediction: ham, message: ....photoshop makes my computer shut down.\n",
      "prediction: spam, message: Great News! Call FREEFONE 08006344447 to claim your guaranteed £1000 CASH or £2000 gift. Speak to a live operator NOW!\n",
      "prediction: ham, message: Honeybee Said: *I'm d Sweetest in d World* God Laughed &amp; Said: *Wait,U Havnt Met d Person Reading This Msg* MORAL: Even GOD Can Crack Jokes! GM+GN+GE+GN:)\n",
      "prediction: ham, message: Oh all have to come ah?\n",
      "prediction: ham, message: No dear i was sleeping :-P\n",
      "prediction: ham, message: Please ask mummy to call father\n",
      "prediction: ham, message: Sorry I missed you babe. I was up late and slept in. I hope you enjoy your driving lesson, boytoy. I miss you too ... *teasing kiss*\n",
      "prediction: ham, message: How are you. Just checking up on you\n",
      "prediction: ham, message: Good morning, my Love ... I go to sleep now and wish you a great day full of feeling better and opportunity ... You are my last thought babe, I LOVE YOU *kiss*\n",
      "prediction: ham, message: Sorry, I can't help you on this.\n",
      "prediction: ham, message: I'd say that's a good sign but, well, you know my track record at reading women\n",
      "prediction: spam, message: Had your mobile 10 mths? Update to the latest Camera/Video phones for FREE. KEEP UR SAME NUMBER, Get extra free mins/texts. Text YES for a call\n",
      "prediction: ham, message: Dear relieved of westonzoyland, all going to plan this end too!\n",
      "prediction: ham, message: HI DARLIN ITS KATE ARE U UP FOR DOIN SOMETHIN TONIGHT? IM GOING TO A PUB CALLED THE SWAN OR SOMETHING WITH MY PARENTS FOR ONE DRINK SO PHONE ME IF U CAN\n",
      "prediction: ham, message: Haha... Sounds crazy, dunno can tahan anot...\n",
      "prediction: ham, message: Yup... Hey then one day on fri we can ask miwa and jiayin take leave go karaoke \n",
      "prediction: ham, message: So is there anything specific I should be doing with regards to jaklin or what because idk what the fuck\n",
      "prediction: ham, message: Gud mrng dear hav a nice day\n",
      "prediction: ham, message: Fuck cedar key and fuck her (come over anyway tho)\n",
      "prediction: ham, message: I'll text now! All creepy like so he won't think that we forgot\n",
      "prediction: ham, message: I think that tantrum's finished so yeah I'll be by at some point\n",
      "prediction: spam, message: Had your mobile 11mths ? Update for FREE to Oranges latest colour camera mobiles & unlimited weekend calls. Call Mobile Upd8 on freefone 08000839402 or 2StopTx\n",
      "prediction: ham, message: Macha dont feel upset.i can assume your mindset.believe me one evening with me and i have some wonderful plans for both of us.LET LIFE BEGIN AGAIN.call me anytime\n",
      "prediction: spam, message: it to 80488. Your 500 free text messages are valid until 31 December 2005.\n",
      "prediction: ham, message: Thanks. Fills me with complete calm and reassurance! \n",
      "prediction: spam, message: Thank you, winner notified by sms. Good Luck! No future marketing reply STOP to 84122 customer services 08450542832\n",
      "prediction: ham, message: At home also.\n",
      "prediction: ham, message: If you're thinking of lifting me one then no.\n",
      "prediction: ham, message: Do you always celebrate NY's with your family ?\n",
      "prediction: ham, message: Did you stitch his trouser\n",
      "prediction: ham, message: Aft i finish my lunch then i go str down lor. Ard 3 smth lor. U finish ur lunch already?\n",
      "prediction: ham, message: * Will be september by then!\n",
      "prediction: ham, message: Sorry, I'll call later\n",
      "prediction: ham, message: 7 at esplanade.. Do ü mind giving me a lift cos i got no car today..\n",
      "prediction: ham, message: I wont do anything de.\n",
      "prediction: ham, message: K I'll head out in a few mins, see you there\n",
      "prediction: ham, message: HEY GIRL. HOW R U? HOPE U R WELL ME AN DEL R BAK! AGAIN LONG TIME NO C! GIVE ME A CALL SUM TIME FROM LUCYxx\n",
      "prediction: ham, message: Aah bless! How's your arm?\n",
      "prediction: ham, message: Hi its LUCY Hubby at meetins all day Fri & I will B alone at hotel U fancy cumin over? Pls leave msg 2day 09099726395 Lucy x Calls£1/minMobsmoreLKPOBOX177HP51FL\n",
      "prediction: ham, message: Sorry, I'll call later\n",
      "prediction: ham, message: I have no money 4 steve mate! !\n",
      "prediction: ham, message: Gr8 Poly tones 4 ALL mobs direct 2u rply with POLY TITLE to 8007 eg POLY BREATHE1 Titles: CRAZYIN, SLEEPINGWITH, FINEST, YMCA :getzed.co.uk POBox365O4W45WQ 300p\n",
      "prediction: ham, message: &lt;#&gt;  great loxahatchee xmas tree burning update: you can totally see stars here\n",
      "prediction: ham, message: Think + da. You wil do.\n",
      "prediction: ham, message: I don't think I can get away for a trek that long with family in town, sorry\n",
      "prediction: ham, message: Hello beautiful r u ok? I've kinda ad a row wiv and he walked out the pub?? I wanted a night wiv u Miss u \n",
      "prediction: ham, message: Ok...\n",
      "prediction: ham, message: Sir, hope your day is going smoothly. i really hoped i wont have to bother you about this. I have some bills that i can't settle this month. I am out of all extra cash. I know this is a challenging time for you also but i have to let you know.\n",
      "prediction: ham, message: At home watching tv lor.\n",
      "prediction: ham, message: Yes I posted a couple of pics on fb. There's still snow outside too. I'm just waking up :)\n",
      "prediction: ham, message: Even my brother is not like to speak with me. They treat me like aids patent.\n",
      "prediction: ham, message: Hi the way I was with u 2day, is the normal way&this is the real me. UR unique&I hope I know u 4 the rest of mylife. Hope u find wot was lost.\n",
      "prediction: spam, message: Congratulations ur awarded either a yrs supply of CDs from Virgin Records or a Mystery Gift GUARANTEED Call 09061104283 Ts&Cs www.smsco.net £1.50pm approx 3mins\n",
      "prediction: ham, message: Ok how you dear. Did you call chechi\n",
      "prediction: ham, message: She just broke down a list of reasons why nobody's in town and I can't tell if she's being sarcastic or just faggy\n",
      "prediction: ham, message: Anytime...\n",
      "prediction: ham, message: Im good! I have been thinking about you...\n",
      "prediction: ham, message: Have you heard from this week?\n",
      "prediction: spam, message: complimentary 4 STAR Ibiza Holiday or £10,000 cash needs your URGENT collection. 09066364349 NOW from Landline not to lose out! Box434SK38WP150PPM18+\n",
      "prediction: ham, message: K..k.:)congratulation ..\n",
      "prediction: ham, message: *deep sigh* ... I miss you :-( ... I am really surprised you haven't gone to the net cafe yet to get to me ... Don't you miss me?\n",
      "prediction: ham, message: Am surfing online store. For offers do you want to buy any thing.\n"
     ]
    }
   ],
   "source": [
    "import numpy as np\n",
    "import pandas as pd\n",
    "\n",
    "from sklearn.feature_extraction.text import TfidfVectorizer\n",
    "from sklearn.linear_model.logistic import LogisticRegression\n",
    "from sklearn.model_selection import train_test_split,cross_val_score\n",
    "\n",
    "x=df[1].values\n",
    "y=df[0].values\n",
    "x_train_raw,x_test_raw,y_train,y_test=train_test_split(x,y)\n",
    "\n",
    "vectorizer=TfidfVectorizer()\n",
    "x_train=vectorizer.fit_transform(x_train_raw)\n",
    "x_test=vectorizer.transform(x_test_raw)\n",
    "\n",
    "classifier=LogisticRegression()\n",
    "classifier.fit(x_train,y_train)\n",
    "predictions=classifier.predict(x_test)\n",
    "for i,prediction in enumerate(predictions):\n",
    "    print(\"prediction: %s, message: %s\"%(prediction,x_test_raw[i]))\n"
   ]
  },
  {
   "cell_type": "code",
   "execution_count": 45,
   "metadata": {},
   "outputs": [
    {
     "data": {
      "text/plain": [
       "0        ham\n",
       "1        ham\n",
       "2       spam\n",
       "3        ham\n",
       "4        ham\n",
       "5       spam\n",
       "6        ham\n",
       "7        ham\n",
       "8       spam\n",
       "9       spam\n",
       "10       ham\n",
       "11      spam\n",
       "12      spam\n",
       "13       ham\n",
       "14       ham\n",
       "15      spam\n",
       "16       ham\n",
       "17       ham\n",
       "18       ham\n",
       "19      spam\n",
       "20       ham\n",
       "21       ham\n",
       "22       ham\n",
       "23       ham\n",
       "24       ham\n",
       "25       ham\n",
       "26       ham\n",
       "27       ham\n",
       "28       ham\n",
       "29       ham\n",
       "        ... \n",
       "5542     ham\n",
       "5543     ham\n",
       "5544     ham\n",
       "5545     ham\n",
       "5546     ham\n",
       "5547    spam\n",
       "5548     ham\n",
       "5549     ham\n",
       "5550     ham\n",
       "5551     ham\n",
       "5552     ham\n",
       "5553     ham\n",
       "5554     ham\n",
       "5555     ham\n",
       "5556     ham\n",
       "5557     ham\n",
       "5558     ham\n",
       "5559     ham\n",
       "5560     ham\n",
       "5561     ham\n",
       "5562     ham\n",
       "5563     ham\n",
       "5564     ham\n",
       "5565     ham\n",
       "5566    spam\n",
       "5567    spam\n",
       "5568     ham\n",
       "5569     ham\n",
       "5570     ham\n",
       "5571     ham\n",
       "Name: 0, Length: 5572, dtype: object"
      ]
     },
     "execution_count": 45,
     "metadata": {},
     "output_type": "execute_result"
    }
   ],
   "source": [
    "df[0]"
   ]
  },
  {
   "cell_type": "code",
   "execution_count": 43,
   "metadata": {},
   "outputs": [
    {
     "name": "stdout",
     "output_type": "stream",
     "text": [
      "[[4 1]\n",
      " [2 3]]\n"
     ]
    },
    {
     "data": {
      "image/png": "[encoded data removed]",
      "text/plain": [
       "<matplotlib.figure.Figure at 0x7f99408754e0>"
      ]
     },
     "metadata": {
      "needs_background": "light"
     },
     "output_type": "display_data"
    }
   ],
   "source": [
    "from sklearn.metrics import confusion_matrix\n",
    "import matplotlib.pyplot as plt\n",
    "\n",
    "y_test=[0,0,0,0,0,1,1,1,1,1]\n",
    "y_pred=[0,1,0,0,0,0,0,1,1,1]\n",
    "con_mat=confusion_matrix(y_test,y_pred)\n",
    "print(con_mat)\n",
    "\n",
    "plt.matshow(con_mat)\n",
    "plt.title(\"confusion matrix\")\n",
    "plt.colorbar()\n",
    "plt.ylabel(\"True label\")\n",
    "plt.xlabel(\"Predicted label\")\n",
    "plt.show()"
   ]
  },
  {
   "cell_type": "code",
   "execution_count": 46,
   "metadata": {},
   "outputs": [
    {
     "ename": "FileNotFoundError",
     "evalue": "File b'./sms.csv' does not exist",
     "output_type": "error",
     "traceback": [
      "\u001b[0;31m---------------------------------------------------------------------------\u001b[0m",
      "\u001b[0;31mFileNotFoundError\u001b[0m                         Traceback (most recent call last)",
      "\u001b[0;32m<ipython-input-46-447cdd7c3a6f>\u001b[0m in \u001b[0;36m<module>\u001b[0;34m\u001b[0m\n\u001b[1;32m      8\u001b[0m \u001b[0;32mfrom\u001b[0m \u001b[0msklearn\u001b[0m\u001b[0;34m.\u001b[0m\u001b[0mmetrics\u001b[0m \u001b[0;32mimport\u001b[0m \u001b[0mroc_curve\u001b[0m\u001b[0;34m,\u001b[0m\u001b[0mauc\u001b[0m\u001b[0;34m\u001b[0m\u001b[0;34m\u001b[0m\u001b[0m\n\u001b[1;32m      9\u001b[0m \u001b[0;34m\u001b[0m\u001b[0m\n\u001b[0;32m---> 10\u001b[0;31m \u001b[0mdf\u001b[0m\u001b[0;34m=\u001b[0m\u001b[0mpd\u001b[0m\u001b[0;34m.\u001b[0m\u001b[0mread_csv\u001b[0m\u001b[0;34m(\u001b[0m\u001b[0;34m'./sms.csv'\u001b[0m\u001b[0;34m)\u001b[0m\u001b[0;34m\u001b[0m\u001b[0;34m\u001b[0m\u001b[0m\n\u001b[0m\u001b[1;32m     11\u001b[0m \u001b[0mx_train_raw\u001b[0m\u001b[0;34m,\u001b[0m\u001b[0mx_test_raw\u001b[0m\u001b[0;34m,\u001b[0m\u001b[0my_train\u001b[0m\u001b[0;34m,\u001b[0m\u001b[0my_test\u001b[0m\u001b[0;34m=\u001b[0m\u001b[0mtrain_test_split\u001b[0m\u001b[0;34m(\u001b[0m\u001b[0mdf\u001b[0m\u001b[0;34m[\u001b[0m\u001b[0;34m'message'\u001b[0m\u001b[0;34m]\u001b[0m\u001b[0;34m,\u001b[0m\u001b[0mdf\u001b[0m\u001b[0;34m[\u001b[0m\u001b[0;34m'label'\u001b[0m\u001b[0;34m]\u001b[0m\u001b[0;34m,\u001b[0m\u001b[0mrandom_state\u001b[0m\u001b[0;34m=\u001b[0m\u001b[0;36m11\u001b[0m\u001b[0;34m)\u001b[0m\u001b[0;34m\u001b[0m\u001b[0;34m\u001b[0m\u001b[0m\n\u001b[1;32m     12\u001b[0m \u001b[0;34m\u001b[0m\u001b[0m\n",
      "\u001b[0;32m/usr/lib/python3/dist-packages/pandas/io/parsers.py\u001b[0m in \u001b[0;36mparser_f\u001b[0;34m(filepath_or_buffer, sep, delimiter, header, names, index_col, usecols, squeeze, prefix, mangle_dupe_cols, dtype, engine, converters, true_values, false_values, skipinitialspace, skiprows, nrows, na_values, keep_default_na, na_filter, verbose, skip_blank_lines, parse_dates, infer_datetime_format, keep_date_col, date_parser, dayfirst, iterator, chunksize, compression, thousands, decimal, lineterminator, quotechar, quoting, escapechar, comment, encoding, dialect, tupleize_cols, error_bad_lines, warn_bad_lines, skipfooter, skip_footer, doublequote, delim_whitespace, as_recarray, compact_ints, use_unsigned, low_memory, buffer_lines, memory_map, float_precision)\u001b[0m\n\u001b[1;32m    707\u001b[0m                     skip_blank_lines=skip_blank_lines)\n\u001b[1;32m    708\u001b[0m \u001b[0;34m\u001b[0m\u001b[0m\n\u001b[0;32m--> 709\u001b[0;31m         \u001b[0;32mreturn\u001b[0m \u001b[0m_read\u001b[0m\u001b[0;34m(\u001b[0m\u001b[0mfilepath_or_buffer\u001b[0m\u001b[0;34m,\u001b[0m \u001b[0mkwds\u001b[0m\u001b[0;34m)\u001b[0m\u001b[0;34m\u001b[0m\u001b[0;34m\u001b[0m\u001b[0m\n\u001b[0m\u001b[1;32m    710\u001b[0m \u001b[0;34m\u001b[0m\u001b[0m\n\u001b[1;32m    711\u001b[0m     \u001b[0mparser_f\u001b[0m\u001b[0;34m.\u001b[0m\u001b[0m__name__\u001b[0m \u001b[0;34m=\u001b[0m \u001b[0mname\u001b[0m\u001b[0;34m\u001b[0m\u001b[0;34m\u001b[0m\u001b[0m\n",
      "\u001b[0;32m/usr/lib/python3/dist-packages/pandas/io/parsers.py\u001b[0m in \u001b[0;36m_read\u001b[0;34m(filepath_or_buffer, kwds)\u001b[0m\n\u001b[1;32m    447\u001b[0m \u001b[0;34m\u001b[0m\u001b[0m\n\u001b[1;32m    448\u001b[0m     \u001b[0;31m# Create the parser.\u001b[0m\u001b[0;34m\u001b[0m\u001b[0;34m\u001b[0m\u001b[0;34m\u001b[0m\u001b[0m\n\u001b[0;32m--> 449\u001b[0;31m     \u001b[0mparser\u001b[0m \u001b[0;34m=\u001b[0m \u001b[0mTextFileReader\u001b[0m\u001b[0;34m(\u001b[0m\u001b[0mfilepath_or_buffer\u001b[0m\u001b[0;34m,\u001b[0m \u001b[0;34m**\u001b[0m\u001b[0mkwds\u001b[0m\u001b[0;34m)\u001b[0m\u001b[0;34m\u001b[0m\u001b[0;34m\u001b[0m\u001b[0m\n\u001b[0m\u001b[1;32m    450\u001b[0m \u001b[0;34m\u001b[0m\u001b[0m\n\u001b[1;32m    451\u001b[0m     \u001b[0;32mif\u001b[0m \u001b[0mchunksize\u001b[0m \u001b[0;32mor\u001b[0m \u001b[0miterator\u001b[0m\u001b[0;34m:\u001b[0m\u001b[0;34m\u001b[0m\u001b[0;34m\u001b[0m\u001b[0m\n",
      "\u001b[0;32m/usr/lib/python3/dist-packages/pandas/io/parsers.py\u001b[0m in \u001b[0;36m__init__\u001b[0;34m(self, f, engine, **kwds)\u001b[0m\n\u001b[1;32m    816\u001b[0m             \u001b[0mself\u001b[0m\u001b[0;34m.\u001b[0m\u001b[0moptions\u001b[0m\u001b[0;34m[\u001b[0m\u001b[0;34m'has_index_names'\u001b[0m\u001b[0;34m]\u001b[0m \u001b[0;34m=\u001b[0m \u001b[0mkwds\u001b[0m\u001b[0;34m[\u001b[0m\u001b[0;34m'has_index_names'\u001b[0m\u001b[0;34m]\u001b[0m\u001b[0;34m\u001b[0m\u001b[0;34m\u001b[0m\u001b[0m\n\u001b[1;32m    817\u001b[0m \u001b[0;34m\u001b[0m\u001b[0m\n\u001b[0;32m--> 818\u001b[0;31m         \u001b[0mself\u001b[0m\u001b[0;34m.\u001b[0m\u001b[0m_make_engine\u001b[0m\u001b[0;34m(\u001b[0m\u001b[0mself\u001b[0m\u001b[0;34m.\u001b[0m\u001b[0mengine\u001b[0m\u001b[0;34m)\u001b[0m\u001b[0;34m\u001b[0m\u001b[0;34m\u001b[0m\u001b[0m\n\u001b[0m\u001b[1;32m    819\u001b[0m \u001b[0;34m\u001b[0m\u001b[0m\n\u001b[1;32m    820\u001b[0m     \u001b[0;32mdef\u001b[0m \u001b[0mclose\u001b[0m\u001b[0;34m(\u001b[0m\u001b[0mself\u001b[0m\u001b[0;34m)\u001b[0m\u001b[0;34m:\u001b[0m\u001b[0;34m\u001b[0m\u001b[0;34m\u001b[0m\u001b[0m\n",
      "\u001b[0;32m/usr/lib/python3/dist-packages/pandas/io/parsers.py\u001b[0m in \u001b[0;36m_make_engine\u001b[0;34m(self, engine)\u001b[0m\n\u001b[1;32m   1047\u001b[0m     \u001b[0;32mdef\u001b[0m \u001b[0m_make_engine\u001b[0m\u001b[0;34m(\u001b[0m\u001b[0mself\u001b[0m\u001b[0;34m,\u001b[0m \u001b[0mengine\u001b[0m\u001b[0;34m=\u001b[0m\u001b[0;34m'c'\u001b[0m\u001b[0;34m)\u001b[0m\u001b[0;34m:\u001b[0m\u001b[0;34m\u001b[0m\u001b[0;34m\u001b[0m\u001b[0m\n\u001b[1;32m   1048\u001b[0m         \u001b[0;32mif\u001b[0m \u001b[0mengine\u001b[0m \u001b[0;34m==\u001b[0m \u001b[0;34m'c'\u001b[0m\u001b[0;34m:\u001b[0m\u001b[0;34m\u001b[0m\u001b[0;34m\u001b[0m\u001b[0m\n\u001b[0;32m-> 1049\u001b[0;31m             \u001b[0mself\u001b[0m\u001b[0;34m.\u001b[0m\u001b[0m_engine\u001b[0m \u001b[0;34m=\u001b[0m \u001b[0mCParserWrapper\u001b[0m\u001b[0;34m(\u001b[0m\u001b[0mself\u001b[0m\u001b[0;34m.\u001b[0m\u001b[0mf\u001b[0m\u001b[0;34m,\u001b[0m \u001b[0;34m**\u001b[0m\u001b[0mself\u001b[0m\u001b[0;34m.\u001b[0m\u001b[0moptions\u001b[0m\u001b[0;34m)\u001b[0m\u001b[0;34m\u001b[0m\u001b[0;34m\u001b[0m\u001b[0m\n\u001b[0m\u001b[1;32m   1050\u001b[0m         \u001b[0;32melse\u001b[0m\u001b[0;34m:\u001b[0m\u001b[0;34m\u001b[0m\u001b[0;34m\u001b[0m\u001b[0m\n\u001b[1;32m   1051\u001b[0m             \u001b[0;32mif\u001b[0m \u001b[0mengine\u001b[0m \u001b[0;34m==\u001b[0m \u001b[0;34m'python'\u001b[0m\u001b[0;34m:\u001b[0m\u001b[0;34m\u001b[0m\u001b[0;34m\u001b[0m\u001b[0m\n",
      "\u001b[0;32m/usr/lib/python3/dist-packages/pandas/io/parsers.py\u001b[0m in \u001b[0;36m__init__\u001b[0;34m(self, src, **kwds)\u001b[0m\n\u001b[1;32m   1693\u001b[0m         \u001b[0mkwds\u001b[0m\u001b[0;34m[\u001b[0m\u001b[0;34m'allow_leading_cols'\u001b[0m\u001b[0;34m]\u001b[0m \u001b[0;34m=\u001b[0m \u001b[0mself\u001b[0m\u001b[0;34m.\u001b[0m\u001b[0mindex_col\u001b[0m \u001b[0;32mis\u001b[0m \u001b[0;32mnot\u001b[0m \u001b[0;32mFalse\u001b[0m\u001b[0;34m\u001b[0m\u001b[0;34m\u001b[0m\u001b[0m\n\u001b[1;32m   1694\u001b[0m \u001b[0;34m\u001b[0m\u001b[0m\n\u001b[0;32m-> 1695\u001b[0;31m         \u001b[0mself\u001b[0m\u001b[0;34m.\u001b[0m\u001b[0m_reader\u001b[0m \u001b[0;34m=\u001b[0m \u001b[0mparsers\u001b[0m\u001b[0;34m.\u001b[0m\u001b[0mTextReader\u001b[0m\u001b[0;34m(\u001b[0m\u001b[0msrc\u001b[0m\u001b[0;34m,\u001b[0m \u001b[0;34m**\u001b[0m\u001b[0mkwds\u001b[0m\u001b[0;34m)\u001b[0m\u001b[0;34m\u001b[0m\u001b[0;34m\u001b[0m\u001b[0m\n\u001b[0m\u001b[1;32m   1696\u001b[0m \u001b[0;34m\u001b[0m\u001b[0m\n\u001b[1;32m   1697\u001b[0m         \u001b[0;31m# XXX\u001b[0m\u001b[0;34m\u001b[0m\u001b[0;34m\u001b[0m\u001b[0;34m\u001b[0m\u001b[0m\n",
      "\u001b[0;32mpandas/_libs/parsers.pyx\u001b[0m in \u001b[0;36mpandas._libs.parsers.TextReader.__cinit__\u001b[0;34m()\u001b[0m\n",
      "\u001b[0;32mpandas/_libs/parsers.pyx\u001b[0m in \u001b[0;36mpandas._libs.parsers.TextReader._setup_parser_source\u001b[0;34m()\u001b[0m\n",
      "\u001b[0;31mFileNotFoundError\u001b[0m: File b'./sms.csv' does not exist"
     ]
    }
   ],
   "source": [
    "import numpy as np\n",
    "import pandas as pd\n",
    "import matplotlib.pyplot as plt\n",
    "\n",
    "from sklearn.feature_extraction.text import TfidfVectorizer\n",
    "from sklearn.linear_model.logistic import LogisticRegression\n",
    "from sklearn.model_selection import cross_val_score,train_test_split\n",
    "from sklearn.metrics import roc_curve,auc\n",
    "\n",
    "df=pd.read_csv('./sms.csv') #???file?\n",
    "x_train_raw,x_test_raw,y_train,y_test=train_test_split(df['message'],df['label'],random_state=11)\n",
    "\n",
    "vectorizer=TfidfVectorizer()\n",
    "x_train=vectorizer.fit_transform(x_train_raw)\n",
    "x_test=vectorizer.transform(x_test_raw)\n",
    "\n",
    "classifier=LogisticRegression()\n",
    "classifier.fit(x_train,y_train)\n",
    "scores=cross_val_score(classsifier,x_train,y_train,cv=5)\n",
    "print(\"accuracy: %s\"%(scores))\n",
    "print(\"mean accuracy: %f\"%(np.mean(scores)))\n"
   ]
  },
  {
   "cell_type": "code",
   "execution_count": 47,
   "metadata": {},
   "outputs": [
    {
     "ename": "ValueError",
     "evalue": "Found input variables with inconsistent numbers of samples: [10, 1393]",
     "output_type": "error",
     "traceback": [
      "\u001b[0;31m---------------------------------------------------------------------------\u001b[0m",
      "\u001b[0;31mValueError\u001b[0m                                Traceback (most recent call last)",
      "\u001b[0;32m<ipython-input-47-28d2855ee697>\u001b[0m in \u001b[0;36m<module>\u001b[0;34m\u001b[0m\n\u001b[1;32m      1\u001b[0m \u001b[0mpredictions\u001b[0m\u001b[0;34m=\u001b[0m\u001b[0mclassifier\u001b[0m\u001b[0;34m.\u001b[0m\u001b[0mpredict_proba\u001b[0m\u001b[0;34m(\u001b[0m\u001b[0mx_test\u001b[0m\u001b[0;34m)\u001b[0m\u001b[0;34m\u001b[0m\u001b[0;34m\u001b[0m\u001b[0m\n\u001b[0;32m----> 2\u001b[0;31m \u001b[0mfalse_positive_rate\u001b[0m\u001b[0;34m,\u001b[0m\u001b[0mrecall\u001b[0m\u001b[0;34m,\u001b[0m\u001b[0mthresholds\u001b[0m\u001b[0;34m=\u001b[0m\u001b[0mroc_curve\u001b[0m\u001b[0;34m(\u001b[0m\u001b[0my_test\u001b[0m\u001b[0;34m,\u001b[0m\u001b[0mpredictions\u001b[0m\u001b[0;34m[\u001b[0m\u001b[0;34m:\u001b[0m\u001b[0;34m,\u001b[0m\u001b[0;36m1\u001b[0m\u001b[0;34m]\u001b[0m\u001b[0;34m)\u001b[0m\u001b[0;34m\u001b[0m\u001b[0;34m\u001b[0m\u001b[0m\n\u001b[0m\u001b[1;32m      3\u001b[0m \u001b[0mroc_auc\u001b[0m\u001b[0;34m=\u001b[0m\u001b[0mauc\u001b[0m\u001b[0;34m(\u001b[0m\u001b[0mfalse_positive_rate\u001b[0m\u001b[0;34m,\u001b[0m\u001b[0mrecall\u001b[0m\u001b[0;34m)\u001b[0m\u001b[0;34m\u001b[0m\u001b[0;34m\u001b[0m\u001b[0m\n\u001b[1;32m      4\u001b[0m \u001b[0mplt\u001b[0m\u001b[0;34m.\u001b[0m\u001b[0mtitle\u001b[0m\u001b[0;34m(\u001b[0m\u001b[0;34m\"receiver operating characteristic\"\u001b[0m\u001b[0;34m)\u001b[0m\u001b[0;34m\u001b[0m\u001b[0;34m\u001b[0m\u001b[0m\n\u001b[1;32m      5\u001b[0m \u001b[0mplt\u001b[0m\u001b[0;34m.\u001b[0m\u001b[0mplot\u001b[0m\u001b[0;34m(\u001b[0m\u001b[0mfalse_positive_rate\u001b[0m\u001b[0;34m,\u001b[0m\u001b[0mrecall\u001b[0m\u001b[0;34m,\u001b[0m\u001b[0;34m'b'\u001b[0m\u001b[0;34m,\u001b[0m\u001b[0mlabel\u001b[0m\u001b[0;34m=\u001b[0m\u001b[0;34m'AUC=%.2f'\u001b[0m\u001b[0;34m%\u001b[0m\u001b[0;34m(\u001b[0m\u001b[0mroc_auc\u001b[0m\u001b[0;34m)\u001b[0m\u001b[0;34m)\u001b[0m \u001b[0;31m#advanced method for labels.\u001b[0m\u001b[0;34m\u001b[0m\u001b[0;34m\u001b[0m\u001b[0m\n",
      "\u001b[0;32m~/.local/lib/python3.6/site-packages/sklearn/metrics/_ranking.py\u001b[0m in \u001b[0;36mroc_curve\u001b[0;34m(y_true, y_score, pos_label, sample_weight, drop_intermediate)\u001b[0m\n\u001b[1;32m    769\u001b[0m     \"\"\"\n\u001b[1;32m    770\u001b[0m     fps, tps, thresholds = _binary_clf_curve(\n\u001b[0;32m--> 771\u001b[0;31m         y_true, y_score, pos_label=pos_label, sample_weight=sample_weight)\n\u001b[0m\u001b[1;32m    772\u001b[0m \u001b[0;34m\u001b[0m\u001b[0m\n\u001b[1;32m    773\u001b[0m     \u001b[0;31m# Attempt to drop thresholds corresponding to points in between and\u001b[0m\u001b[0;34m\u001b[0m\u001b[0;34m\u001b[0m\u001b[0;34m\u001b[0m\u001b[0m\n",
      "\u001b[0;32m~/.local/lib/python3.6/site-packages/sklearn/metrics/_ranking.py\u001b[0m in \u001b[0;36m_binary_clf_curve\u001b[0;34m(y_true, y_score, pos_label, sample_weight)\u001b[0m\n\u001b[1;32m    536\u001b[0m         \u001b[0;32mraise\u001b[0m \u001b[0mValueError\u001b[0m\u001b[0;34m(\u001b[0m\u001b[0;34m\"{0} format is not supported\"\u001b[0m\u001b[0;34m.\u001b[0m\u001b[0mformat\u001b[0m\u001b[0;34m(\u001b[0m\u001b[0my_type\u001b[0m\u001b[0;34m)\u001b[0m\u001b[0;34m)\u001b[0m\u001b[0;34m\u001b[0m\u001b[0;34m\u001b[0m\u001b[0m\n\u001b[1;32m    537\u001b[0m \u001b[0;34m\u001b[0m\u001b[0m\n\u001b[0;32m--> 538\u001b[0;31m     \u001b[0mcheck_consistent_length\u001b[0m\u001b[0;34m(\u001b[0m\u001b[0my_true\u001b[0m\u001b[0;34m,\u001b[0m \u001b[0my_score\u001b[0m\u001b[0;34m,\u001b[0m \u001b[0msample_weight\u001b[0m\u001b[0;34m)\u001b[0m\u001b[0;34m\u001b[0m\u001b[0;34m\u001b[0m\u001b[0m\n\u001b[0m\u001b[1;32m    539\u001b[0m     \u001b[0my_true\u001b[0m \u001b[0;34m=\u001b[0m \u001b[0mcolumn_or_1d\u001b[0m\u001b[0;34m(\u001b[0m\u001b[0my_true\u001b[0m\u001b[0;34m)\u001b[0m\u001b[0;34m\u001b[0m\u001b[0;34m\u001b[0m\u001b[0m\n\u001b[1;32m    540\u001b[0m     \u001b[0my_score\u001b[0m \u001b[0;34m=\u001b[0m \u001b[0mcolumn_or_1d\u001b[0m\u001b[0;34m(\u001b[0m\u001b[0my_score\u001b[0m\u001b[0;34m)\u001b[0m\u001b[0;34m\u001b[0m\u001b[0;34m\u001b[0m\u001b[0m\n",
      "\u001b[0;32m~/.local/lib/python3.6/site-packages/sklearn/utils/validation.py\u001b[0m in \u001b[0;36mcheck_consistent_length\u001b[0;34m(*arrays)\u001b[0m\n\u001b[1;32m    210\u001b[0m     \u001b[0;32mif\u001b[0m \u001b[0mlen\u001b[0m\u001b[0;34m(\u001b[0m\u001b[0muniques\u001b[0m\u001b[0;34m)\u001b[0m \u001b[0;34m>\u001b[0m \u001b[0;36m1\u001b[0m\u001b[0;34m:\u001b[0m\u001b[0;34m\u001b[0m\u001b[0;34m\u001b[0m\u001b[0m\n\u001b[1;32m    211\u001b[0m         raise ValueError(\"Found input variables with inconsistent numbers of\"\n\u001b[0;32m--> 212\u001b[0;31m                          \" samples: %r\" % [int(l) for l in lengths])\n\u001b[0m\u001b[1;32m    213\u001b[0m \u001b[0;34m\u001b[0m\u001b[0m\n\u001b[1;32m    214\u001b[0m \u001b[0;34m\u001b[0m\u001b[0m\n",
      "\u001b[0;31mValueError\u001b[0m: Found input variables with inconsistent numbers of samples: [10, 1393]"
     ]
    }
   ],
   "source": [
    "predictions=classifier.predict_proba(x_test)\n",
    "false_positive_rate,recall,thresholds=roc_curve(y_test,predictions[:,1])\n",
    "roc_auc=auc(false_positive_rate,recall)\n",
    "plt.title(\"receiver operating characteristic\")\n",
    "plt.plot(false_positive_rate,recall,'b',label='AUC=%.2f'%(roc_auc)) #advanced method for labels.\n",
    "plt.legend(loc='lower right')\n",
    "plt.plot([0,],[0,1],'r--')\n",
    "plt.xlim([0.0,1.0])\n",
    "plt.ylim([0.0,1.0])\n",
    "plt.ylabel('recall')\n",
    "plt.xlabel('fall out')\n",
    "plt.show()"
   ]
  },
  {
   "cell_type": "code",
   "execution_count": 120,
   "metadata": {},
   "outputs": [
    {
     "name": "stdout",
     "output_type": "stream",
     "text": [
      "Fitting 3 folds for each of 1536 candidates, totalling 4608 fits\n"
     ]
    },
    {
     "name": "stderr",
     "output_type": "stream",
     "text": [
      "[Parallel(n_jobs=-1)]: Using backend LokyBackend with 12 concurrent workers.\n",
      "[Parallel(n_jobs=-1)]: Done  28 tasks      | elapsed:    0.5s\n",
      "[Parallel(n_jobs=-1)]: Done 328 tasks      | elapsed:    3.6s\n",
      "[Parallel(n_jobs=-1)]: Done 828 tasks      | elapsed:   10.0s\n",
      "[Parallel(n_jobs=-1)]: Done 1528 tasks      | elapsed:   19.2s\n",
      "[Parallel(n_jobs=-1)]: Done 2428 tasks      | elapsed:   33.1s\n",
      "[Parallel(n_jobs=-1)]: Done 3528 tasks      | elapsed:   51.3s\n",
      "[Parallel(n_jobs=-1)]: Done 4608 out of 4608 | elapsed:  1.2min finished\n"
     ]
    },
    {
     "name": "stdout",
     "output_type": "stream",
     "text": [
      "best score: 0.982\n",
      "best parameter set:\n",
      "\tclf__C: 10\n",
      "accuracy: 0.984925\n",
      "precision: 0.994318\n",
      "recall: 0.897436\n",
      "\tclf__penalty: 'l2'\n",
      "accuracy: 0.984925\n",
      "precision: 0.994318\n",
      "recall: 0.897436\n",
      "\tvect__max_df: 0.5\n",
      "accuracy: 0.984925\n",
      "precision: 0.994318\n",
      "recall: 0.897436\n",
      "\tvect__max_features: 5000\n",
      "accuracy: 0.984925\n",
      "precision: 0.994318\n",
      "recall: 0.897436\n",
      "\tvect__ngram_range: (1, 2)\n",
      "accuracy: 0.984925\n",
      "precision: 0.994318\n",
      "recall: 0.897436\n",
      "\tvect__norm: 'l2'\n",
      "accuracy: 0.984925\n",
      "precision: 0.994318\n",
      "recall: 0.897436\n",
      "\tvect__stop_words: None\n",
      "accuracy: 0.984925\n",
      "precision: 0.994318\n",
      "recall: 0.897436\n",
      "\tvect__use_idf: True\n",
      "accuracy: 0.984925\n",
      "precision: 0.994318\n",
      "recall: 0.897436\n"
     ]
    }
   ],
   "source": [
    "import pandas as pd\n",
    "\n",
    "from sklearn.preprocessing import LabelEncoder\n",
    "from sklearn.feature_extraction.text import TfidfVectorizer\n",
    "from sklearn.linear_model.logistic import LogisticRegression\n",
    "from sklearn.model_selection import GridSearchCV\n",
    "from sklearn.pipeline import Pipeline\n",
    "from sklearn.model_selection import train_test_split\n",
    "from sklearn.metrics import precision_score,recall_score,accuracy_score\n",
    "\n",
    "pipeline=Pipeline([\n",
    "    ('vect',TfidfVectorizer(stop_words='english')),\n",
    "    ('clf',LogisticRegression())\n",
    "])\n",
    "parameters={\n",
    "    'vect__max_df':(0.25,0.5,0.75),\n",
    "    'vect__stop_words':('english',None),\n",
    "    'vect__max_features':(2500,5000,10000,None),\n",
    "    'vect__ngram_range':((1,1),(1,2)),\n",
    "    \"vect__use_idf\":(True,False),\n",
    "    'vect__norm':('l1','l2'),\n",
    "    'clf__penalty':('l1','l2'),\n",
    "    'clf__C':(0.01,0.1,1,10)\n",
    "}\n",
    "\n",
    "df=pd.read_csv('./SMSSpamCollection',delimiter='\\t',header=None)\n",
    "x=df[1].values\n",
    "y=df[0].values\n",
    "label_encoder=LabelEncoder()\n",
    "#using fit_transform() for training set,transform() for test set.\n",
    "y=label_encoder.fit_transform(y)\n",
    "x_train,x_test,y_train,y_test=train_test_split(x,y)\n",
    "\n",
    "grid_search=GridSearchCV(estimator=pipeline,param_grid=parameters,n_jobs=-1,\n",
    "                        verbose=1,scoring='accuracy',cv=3)\n",
    "grid_search.fit(x_train,y_train)\n",
    "\n",
    "print('best score: %.3f'%(grid_search.best_score_))\n",
    "print('best parameter set:')\n",
    "best_parameters=grid_search.best_estimator_.get_params()\n",
    "for param_name in sorted(parameters.keys()): #for every key in a dict.\n",
    "    print('\\t%s: %r'%(param_name,best_parameters[param_name])) #'%r' is almighty.\n",
    "    predictions=grid_search.predict(x_test)\n",
    "    print(\"accuracy: %f\"%(accuracy_score(y_test,predictions)))\n",
    "    print(\"precision: %f\"%(precision_score(y_test,predictions)))\n",
    "    print(\"recall: %f\"%(recall_score(y_test,predictions)))"
   ]
  },
  {
   "cell_type": "code",
   "execution_count": null,
   "metadata": {},
   "outputs": [],
   "source": [
    "import pandas as pd\n",
    "\n",
    "df=pd.read_csv('./train.tsv',header=0,delimiter='\\t')\n",
    "print(df.count())\n",
    "print(df.head())\n",
    "print(df['Phrase'].head())\n",
    "print(df['Sentiment'].describe())\n",
    "print(df['Sentiment'].value_counts())\n",
    "print(df['Sentiment'].value_counts()/df['Sentiment'].count())\n"
   ]
  },
  {
   "cell_type": "code",
   "execution_count": null,
   "metadata": {},
   "outputs": [],
   "source": [
    "from sklearn.feature_extraction.text import TfidfVectorizer\n",
    "from sklearn.linear_model.logistic import LogisticRegression\n",
    "from sklearn.model_selection import train_test_split,GridSearchCV\n",
    "from sklearn.metrics import confusion_matrix,accuracy_score,classification_report\n",
    "from sklearn.pipeline import Pipeline\n",
    "\n",
    "df=pd.read_csv('./train.tsv',header=0,delimiter='\\t')\n",
    "x,y=df['Phrase'],df['Sentiment'].as_matrix()\n",
    "x_train,x_test,y_train,y_test=train_test_split(x,y,train_size=0.5)\n",
    "grid_search=main(x_train,y_train) ####\n",
    "pipeline=Pipeline([\n",
    "    ('vect',TfidfVectorizer),\n",
    "    ('clf',LogisticRegression())\n",
    "])\n",
    "parameters={\n",
    "    'vect__max_df':(.25,.5),\n",
    "    'vect__ngram_range':((1,1),(1,2)),\n",
    "    'vect__use_idf':(True,False),\n",
    "    'clf__C':(.1,1,10)\n",
    "}\n",
    "grid_search=GridSearchCV(pipeline,parameters,n_jobs=-1,verbose=1,scoring='accuracy')\n",
    "grid_search.fit(x_train,y_train)\n",
    "print(\"best score: %s\"%(grid_search.best_score_))\n",
    "print(\"best paprameter set:\")\n",
    "best_parameters=grid_search.best_estimator_.get_params()\n",
    "for param_name in sorted(parameters.keys()):\n",
    "    print(\"\\t%s: %r\"%(param_name,best_parameters[param_name]))"
   ]
  },
  {
   "cell_type": "code",
   "execution_count": 77,
   "metadata": {},
   "outputs": [],
   "source": [
    "predictions=grid_search.predict(x_test)\n",
    "print(\"accuracy: %f\"%(accuracy_score(y_test,predictions)))\n",
    "print(\"confusion matrix: %r\"%(confusion_matrix(y_test,predictions)))\n",
    "print(\"classification report:\")\n",
    "print(classification_report(y_test,predictions))"
   ]
  },
  {
   "cell_type": "code",
   "execution_count": 80,
   "metadata": {},
   "outputs": [
    {
     "name": "stdout",
     "output_type": "stream",
     "text": [
      "0.0\n"
     ]
    }
   ],
   "source": [
    "import numpy as np\n",
    "from sklearn.metrics import hamming_loss,jaccard_similarity_score\n",
    "\n",
    "print(hamming_loss(np.array([[0,1],[1,1]]),np.array([[0,1],[1,1]])))"
   ]
  },
  {
   "cell_type": "code",
   "execution_count": 81,
   "metadata": {},
   "outputs": [
    {
     "name": "stdout",
     "output_type": "stream",
     "text": [
      "0.25\n"
     ]
    }
   ],
   "source": [
    "print(hamming_loss(np.array([[0,1],[1,1]]),np.array([[1,1],[1,1]])))"
   ]
  },
  {
   "cell_type": "code",
   "execution_count": 84,
   "metadata": {},
   "outputs": [
    {
     "name": "stdout",
     "output_type": "stream",
     "text": [
      "0.5\n"
     ]
    }
   ],
   "source": [
    "print(hamming_loss(np.array([[0,1],[1,1]]),np.array([[1,1],[0,1]])))"
   ]
  },
  {
   "cell_type": "code",
   "execution_count": 85,
   "metadata": {},
   "outputs": [
    {
     "name": "stdout",
     "output_type": "stream",
     "text": [
      "1.0\n"
     ]
    },
    {
     "name": "stderr",
     "output_type": "stream",
     "text": [
      "/home/stevenxu/.local/lib/python3.6/site-packages/sklearn/metrics/_classification.py:664: FutureWarning: jaccard_similarity_score has been deprecated and replaced with jaccard_score. It will be removed in version 0.23. This implementation has surprising behavior for binary and multiclass classification tasks.\n",
      "  FutureWarning)\n"
     ]
    }
   ],
   "source": [
    "print(jaccard_similarity_score(np.array([[0,1],[1,1]]),np.array([[0,1],[1,1]])))"
   ]
  },
  {
   "cell_type": "code",
   "execution_count": 87,
   "metadata": {},
   "outputs": [
    {
     "name": "stdout",
     "output_type": "stream",
     "text": [
      "0.75\n"
     ]
    }
   ],
   "source": [
    "print(jaccard_similarity_score(np.array([[0,1],[1,1]]),np.array([[1,1],[1,1]])))"
   ]
  },
  {
   "cell_type": "code",
   "execution_count": 88,
   "metadata": {},
   "outputs": [
    {
     "name": "stdout",
     "output_type": "stream",
     "text": [
      "0.5\n"
     ]
    }
   ],
   "source": [
    "print(jaccard_similarity_score(np.array([[0,1],[1,1]]),np.array([[1,1],[0,1]])))"
   ]
  },
  {
   "cell_type": "markdown",
   "metadata": {},
   "source": [
    "Chapter 7: Naive Bayes"
   ]
  },
  {
   "cell_type": "code",
   "execution_count": 90,
   "metadata": {},
   "outputs": [
    {
     "name": "stderr",
     "output_type": "stream",
     "text": [
      "/home/stevenxu/.local/lib/python3.6/site-packages/sklearn/linear_model/_logistic.py:940: ConvergenceWarning: lbfgs failed to converge (status=1):\n",
      "STOP: TOTAL NO. of ITERATIONS REACHED LIMIT.\n",
      "\n",
      "Increase the number of iterations (max_iter) or scale the data as shown in:\n",
      "    https://scikit-learn.org/stable/modules/preprocessing.html\n",
      "Please also refer to the documentation for alternative solver options:\n",
      "    https://scikit-learn.org/stable/modules/linear_model.html#logistic-regression\n",
      "  extra_warning_msg=_LOGISTIC_SOLVER_CONVERGENCE_MSG)\n",
      "/home/stevenxu/.local/lib/python3.6/site-packages/sklearn/linear_model/_logistic.py:940: ConvergenceWarning: lbfgs failed to converge (status=1):\n",
      "STOP: TOTAL NO. of ITERATIONS REACHED LIMIT.\n",
      "\n",
      "Increase the number of iterations (max_iter) or scale the data as shown in:\n",
      "    https://scikit-learn.org/stable/modules/preprocessing.html\n",
      "Please also refer to the documentation for alternative solver options:\n",
      "    https://scikit-learn.org/stable/modules/linear_model.html#logistic-regression\n",
      "  extra_warning_msg=_LOGISTIC_SOLVER_CONVERGENCE_MSG)\n",
      "/home/stevenxu/.local/lib/python3.6/site-packages/sklearn/linear_model/_logistic.py:940: ConvergenceWarning: lbfgs failed to converge (status=1):\n",
      "STOP: TOTAL NO. of ITERATIONS REACHED LIMIT.\n",
      "\n",
      "Increase the number of iterations (max_iter) or scale the data as shown in:\n",
      "    https://scikit-learn.org/stable/modules/preprocessing.html\n",
      "Please also refer to the documentation for alternative solver options:\n",
      "    https://scikit-learn.org/stable/modules/linear_model.html#logistic-regression\n",
      "  extra_warning_msg=_LOGISTIC_SOLVER_CONVERGENCE_MSG)\n",
      "/home/stevenxu/.local/lib/python3.6/site-packages/sklearn/linear_model/_logistic.py:940: ConvergenceWarning: lbfgs failed to converge (status=1):\n",
      "STOP: TOTAL NO. of ITERATIONS REACHED LIMIT.\n",
      "\n",
      "Increase the number of iterations (max_iter) or scale the data as shown in:\n",
      "    https://scikit-learn.org/stable/modules/preprocessing.html\n",
      "Please also refer to the documentation for alternative solver options:\n",
      "    https://scikit-learn.org/stable/modules/linear_model.html#logistic-regression\n",
      "  extra_warning_msg=_LOGISTIC_SOLVER_CONVERGENCE_MSG)\n",
      "/home/stevenxu/.local/lib/python3.6/site-packages/sklearn/linear_model/_logistic.py:940: ConvergenceWarning: lbfgs failed to converge (status=1):\n",
      "STOP: TOTAL NO. of ITERATIONS REACHED LIMIT.\n",
      "\n",
      "Increase the number of iterations (max_iter) or scale the data as shown in:\n",
      "    https://scikit-learn.org/stable/modules/preprocessing.html\n",
      "Please also refer to the documentation for alternative solver options:\n",
      "    https://scikit-learn.org/stable/modules/linear_model.html#logistic-regression\n",
      "  extra_warning_msg=_LOGISTIC_SOLVER_CONVERGENCE_MSG)\n",
      "/home/stevenxu/.local/lib/python3.6/site-packages/sklearn/linear_model/_logistic.py:940: ConvergenceWarning: lbfgs failed to converge (status=1):\n",
      "STOP: TOTAL NO. of ITERATIONS REACHED LIMIT.\n",
      "\n",
      "Increase the number of iterations (max_iter) or scale the data as shown in:\n",
      "    https://scikit-learn.org/stable/modules/preprocessing.html\n",
      "Please also refer to the documentation for alternative solver options:\n",
      "    https://scikit-learn.org/stable/modules/linear_model.html#logistic-regression\n",
      "  extra_warning_msg=_LOGISTIC_SOLVER_CONVERGENCE_MSG)\n",
      "/home/stevenxu/.local/lib/python3.6/site-packages/sklearn/linear_model/_logistic.py:940: ConvergenceWarning: lbfgs failed to converge (status=1):\n",
      "STOP: TOTAL NO. of ITERATIONS REACHED LIMIT.\n",
      "\n",
      "Increase the number of iterations (max_iter) or scale the data as shown in:\n",
      "    https://scikit-learn.org/stable/modules/preprocessing.html\n",
      "Please also refer to the documentation for alternative solver options:\n",
      "    https://scikit-learn.org/stable/modules/linear_model.html#logistic-regression\n",
      "  extra_warning_msg=_LOGISTIC_SOLVER_CONVERGENCE_MSG)\n",
      "/home/stevenxu/.local/lib/python3.6/site-packages/sklearn/linear_model/_logistic.py:940: ConvergenceWarning: lbfgs failed to converge (status=1):\n",
      "STOP: TOTAL NO. of ITERATIONS REACHED LIMIT.\n",
      "\n",
      "Increase the number of iterations (max_iter) or scale the data as shown in:\n",
      "    https://scikit-learn.org/stable/modules/preprocessing.html\n",
      "Please also refer to the documentation for alternative solver options:\n",
      "    https://scikit-learn.org/stable/modules/linear_model.html#logistic-regression\n",
      "  extra_warning_msg=_LOGISTIC_SOLVER_CONVERGENCE_MSG)\n",
      "/home/stevenxu/.local/lib/python3.6/site-packages/sklearn/linear_model/_logistic.py:940: ConvergenceWarning: lbfgs failed to converge (status=1):\n",
      "STOP: TOTAL NO. of ITERATIONS REACHED LIMIT.\n",
      "\n",
      "Increase the number of iterations (max_iter) or scale the data as shown in:\n",
      "    https://scikit-learn.org/stable/modules/preprocessing.html\n",
      "Please also refer to the documentation for alternative solver options:\n",
      "    https://scikit-learn.org/stable/modules/linear_model.html#logistic-regression\n",
      "  extra_warning_msg=_LOGISTIC_SOLVER_CONVERGENCE_MSG)\n",
      "/home/stevenxu/.local/lib/python3.6/site-packages/sklearn/linear_model/_logistic.py:940: ConvergenceWarning: lbfgs failed to converge (status=1):\n",
      "STOP: TOTAL NO. of ITERATIONS REACHED LIMIT.\n",
      "\n",
      "Increase the number of iterations (max_iter) or scale the data as shown in:\n",
      "    https://scikit-learn.org/stable/modules/preprocessing.html\n",
      "Please also refer to the documentation for alternative solver options:\n",
      "    https://scikit-learn.org/stable/modules/linear_model.html#logistic-regression\n",
      "  extra_warning_msg=_LOGISTIC_SOLVER_CONVERGENCE_MSG)\n",
      "/home/stevenxu/.local/lib/python3.6/site-packages/sklearn/linear_model/_logistic.py:940: ConvergenceWarning: lbfgs failed to converge (status=1):\n",
      "STOP: TOTAL NO. of ITERATIONS REACHED LIMIT.\n",
      "\n",
      "Increase the number of iterations (max_iter) or scale the data as shown in:\n",
      "    https://scikit-learn.org/stable/modules/preprocessing.html\n",
      "Please also refer to the documentation for alternative solver options:\n",
      "    https://scikit-learn.org/stable/modules/linear_model.html#logistic-regression\n",
      "  extra_warning_msg=_LOGISTIC_SOLVER_CONVERGENCE_MSG)\n",
      "/home/stevenxu/.local/lib/python3.6/site-packages/sklearn/linear_model/_logistic.py:940: ConvergenceWarning: lbfgs failed to converge (status=1):\n",
      "STOP: TOTAL NO. of ITERATIONS REACHED LIMIT.\n",
      "\n",
      "Increase the number of iterations (max_iter) or scale the data as shown in:\n",
      "    https://scikit-learn.org/stable/modules/preprocessing.html\n",
      "Please also refer to the documentation for alternative solver options:\n",
      "    https://scikit-learn.org/stable/modules/linear_model.html#logistic-regression\n",
      "  extra_warning_msg=_LOGISTIC_SOLVER_CONVERGENCE_MSG)\n",
      "/home/stevenxu/.local/lib/python3.6/site-packages/sklearn/linear_model/_logistic.py:940: ConvergenceWarning: lbfgs failed to converge (status=1):\n",
      "STOP: TOTAL NO. of ITERATIONS REACHED LIMIT.\n",
      "\n",
      "Increase the number of iterations (max_iter) or scale the data as shown in:\n",
      "    https://scikit-learn.org/stable/modules/preprocessing.html\n",
      "Please also refer to the documentation for alternative solver options:\n",
      "    https://scikit-learn.org/stable/modules/linear_model.html#logistic-regression\n",
      "  extra_warning_msg=_LOGISTIC_SOLVER_CONVERGENCE_MSG)\n",
      "/home/stevenxu/.local/lib/python3.6/site-packages/sklearn/linear_model/_logistic.py:940: ConvergenceWarning: lbfgs failed to converge (status=1):\n",
      "STOP: TOTAL NO. of ITERATIONS REACHED LIMIT.\n",
      "\n",
      "Increase the number of iterations (max_iter) or scale the data as shown in:\n",
      "    https://scikit-learn.org/stable/modules/preprocessing.html\n",
      "Please also refer to the documentation for alternative solver options:\n",
      "    https://scikit-learn.org/stable/modules/linear_model.html#logistic-regression\n",
      "  extra_warning_msg=_LOGISTIC_SOLVER_CONVERGENCE_MSG)\n",
      "/home/stevenxu/.local/lib/python3.6/site-packages/sklearn/linear_model/_logistic.py:940: ConvergenceWarning: lbfgs failed to converge (status=1):\n",
      "STOP: TOTAL NO. of ITERATIONS REACHED LIMIT.\n",
      "\n",
      "Increase the number of iterations (max_iter) or scale the data as shown in:\n",
      "    https://scikit-learn.org/stable/modules/preprocessing.html\n",
      "Please also refer to the documentation for alternative solver options:\n",
      "    https://scikit-learn.org/stable/modules/linear_model.html#logistic-regression\n",
      "  extra_warning_msg=_LOGISTIC_SOLVER_CONVERGENCE_MSG)\n",
      "/home/stevenxu/.local/lib/python3.6/site-packages/sklearn/linear_model/_logistic.py:940: ConvergenceWarning: lbfgs failed to converge (status=1):\n",
      "STOP: TOTAL NO. of ITERATIONS REACHED LIMIT.\n",
      "\n",
      "Increase the number of iterations (max_iter) or scale the data as shown in:\n",
      "    https://scikit-learn.org/stable/modules/preprocessing.html\n",
      "Please also refer to the documentation for alternative solver options:\n",
      "    https://scikit-learn.org/stable/modules/linear_model.html#logistic-regression\n",
      "  extra_warning_msg=_LOGISTIC_SOLVER_CONVERGENCE_MSG)\n"
     ]
    },
    {
     "name": "stderr",
     "output_type": "stream",
     "text": [
      "/home/stevenxu/.local/lib/python3.6/site-packages/sklearn/linear_model/_logistic.py:940: ConvergenceWarning: lbfgs failed to converge (status=1):\n",
      "STOP: TOTAL NO. of ITERATIONS REACHED LIMIT.\n",
      "\n",
      "Increase the number of iterations (max_iter) or scale the data as shown in:\n",
      "    https://scikit-learn.org/stable/modules/preprocessing.html\n",
      "Please also refer to the documentation for alternative solver options:\n",
      "    https://scikit-learn.org/stable/modules/linear_model.html#logistic-regression\n",
      "  extra_warning_msg=_LOGISTIC_SOLVER_CONVERGENCE_MSG)\n"
     ]
    },
    {
     "data": {
      "text/plain": [
       "<matplotlib.legend.Legend at 0x7f9976c18278>"
      ]
     },
     "execution_count": 90,
     "metadata": {},
     "output_type": "execute_result"
    },
    {
     "data": {
      "image/png": "[encoded data removed]",
      "text/plain": [
       "<matplotlib.figure.Figure at 0x7f9940d27208>"
      ]
     },
     "metadata": {
      "needs_background": "light"
     },
     "output_type": "display_data"
    }
   ],
   "source": [
    "%matplotlib inline\n",
    "\n",
    "import pandas as pd\n",
    "import matplotlib.pyplot as plt\n",
    "\n",
    "from sklearn.datasets import load_breast_cancer\n",
    "from sklearn.linear_model import LogisticRegression\n",
    "from sklearn.naive_bayes import GaussianNB\n",
    "from sklearn.model_selection import train_test_split\n",
    "\n",
    "x,y=load_breast_cancer(return_X_y=True)\n",
    "x_train,x_test,y_train,y_test=train_test_split(x,y,stratify=y,test_size=0.2,random_state=31)\n",
    "\n",
    "lr=LogisticRegression()\n",
    "nb=GaussianNB()\n",
    "\n",
    "lr_score=[]\n",
    "nb_score=[]\n",
    "\n",
    "train_sizes=range(10,len(x_train),25)\n",
    "\n",
    "for train_size in train_sizes:\n",
    "    x_slice,_,y_slice,_=train_test_split(x_train,y_train,train_size=train_size,stratify=y_train,\n",
    "                                        random_state=31) \n",
    "    #'stratify=y_train' stratify training and test set as y_train.\n",
    "    nb.fit(x_slice,y_slice)\n",
    "    nb_score.append(nb.score(x_test,y_test))\n",
    "    lr.fit(x_slice,y_slice)\n",
    "    lr_score.append(lr.score(x_test,y_test))\n",
    "    \n",
    "plt.plot(train_sizes,nb_score,label='Naive Bayes')\n",
    "plt.plot(train_sizes,lr_score,linestyle='--',label=\"Logistic Regression\")\n",
    "plt.title(\"Naive bayes and logistic regression accuracy\")\n",
    "plt.xlabel(\"Num of training instances\")\n",
    "plt.ylabel(\"Test set accuracy\")\n",
    "plt.legend()"
   ]
  },
  {
   "cell_type": "code",
   "execution_count": 102,
   "metadata": {},
   "outputs": [
    {
     "name": "stderr",
     "output_type": "stream",
     "text": [
      "/home/stevenxu/.local/lib/python3.6/site-packages/sklearn/linear_model/_logistic.py:940: ConvergenceWarning: lbfgs failed to converge (status=1):\n",
      "STOP: TOTAL NO. of ITERATIONS REACHED LIMIT.\n",
      "\n",
      "Increase the number of iterations (max_iter) or scale the data as shown in:\n",
      "    https://scikit-learn.org/stable/modules/preprocessing.html\n",
      "Please also refer to the documentation for alternative solver options:\n",
      "    https://scikit-learn.org/stable/modules/linear_model.html#logistic-regression\n",
      "  extra_warning_msg=_LOGISTIC_SOLVER_CONVERGENCE_MSG)\n",
      "/home/stevenxu/.local/lib/python3.6/site-packages/sklearn/linear_model/_logistic.py:940: ConvergenceWarning: lbfgs failed to converge (status=1):\n",
      "STOP: TOTAL NO. of ITERATIONS REACHED LIMIT.\n",
      "\n",
      "Increase the number of iterations (max_iter) or scale the data as shown in:\n",
      "    https://scikit-learn.org/stable/modules/preprocessing.html\n",
      "Please also refer to the documentation for alternative solver options:\n",
      "    https://scikit-learn.org/stable/modules/linear_model.html#logistic-regression\n",
      "  extra_warning_msg=_LOGISTIC_SOLVER_CONVERGENCE_MSG)\n",
      "/home/stevenxu/.local/lib/python3.6/site-packages/sklearn/linear_model/_logistic.py:940: ConvergenceWarning: lbfgs failed to converge (status=1):\n",
      "STOP: TOTAL NO. of ITERATIONS REACHED LIMIT.\n",
      "\n",
      "Increase the number of iterations (max_iter) or scale the data as shown in:\n",
      "    https://scikit-learn.org/stable/modules/preprocessing.html\n",
      "Please also refer to the documentation for alternative solver options:\n",
      "    https://scikit-learn.org/stable/modules/linear_model.html#logistic-regression\n",
      "  extra_warning_msg=_LOGISTIC_SOLVER_CONVERGENCE_MSG)\n",
      "/home/stevenxu/.local/lib/python3.6/site-packages/sklearn/linear_model/_logistic.py:940: ConvergenceWarning: lbfgs failed to converge (status=1):\n",
      "STOP: TOTAL NO. of ITERATIONS REACHED LIMIT.\n",
      "\n",
      "Increase the number of iterations (max_iter) or scale the data as shown in:\n",
      "    https://scikit-learn.org/stable/modules/preprocessing.html\n",
      "Please also refer to the documentation for alternative solver options:\n",
      "    https://scikit-learn.org/stable/modules/linear_model.html#logistic-regression\n",
      "  extra_warning_msg=_LOGISTIC_SOLVER_CONVERGENCE_MSG)\n",
      "/home/stevenxu/.local/lib/python3.6/site-packages/sklearn/linear_model/_logistic.py:940: ConvergenceWarning: lbfgs failed to converge (status=1):\n",
      "STOP: TOTAL NO. of ITERATIONS REACHED LIMIT.\n",
      "\n",
      "Increase the number of iterations (max_iter) or scale the data as shown in:\n",
      "    https://scikit-learn.org/stable/modules/preprocessing.html\n",
      "Please also refer to the documentation for alternative solver options:\n",
      "    https://scikit-learn.org/stable/modules/linear_model.html#logistic-regression\n",
      "  extra_warning_msg=_LOGISTIC_SOLVER_CONVERGENCE_MSG)\n",
      "/home/stevenxu/.local/lib/python3.6/site-packages/sklearn/linear_model/_logistic.py:940: ConvergenceWarning: lbfgs failed to converge (status=1):\n",
      "STOP: TOTAL NO. of ITERATIONS REACHED LIMIT.\n",
      "\n",
      "Increase the number of iterations (max_iter) or scale the data as shown in:\n",
      "    https://scikit-learn.org/stable/modules/preprocessing.html\n",
      "Please also refer to the documentation for alternative solver options:\n",
      "    https://scikit-learn.org/stable/modules/linear_model.html#logistic-regression\n",
      "  extra_warning_msg=_LOGISTIC_SOLVER_CONVERGENCE_MSG)\n",
      "/home/stevenxu/.local/lib/python3.6/site-packages/sklearn/linear_model/_logistic.py:940: ConvergenceWarning: lbfgs failed to converge (status=1):\n",
      "STOP: TOTAL NO. of ITERATIONS REACHED LIMIT.\n",
      "\n",
      "Increase the number of iterations (max_iter) or scale the data as shown in:\n",
      "    https://scikit-learn.org/stable/modules/preprocessing.html\n",
      "Please also refer to the documentation for alternative solver options:\n",
      "    https://scikit-learn.org/stable/modules/linear_model.html#logistic-regression\n",
      "  extra_warning_msg=_LOGISTIC_SOLVER_CONVERGENCE_MSG)\n",
      "/home/stevenxu/.local/lib/python3.6/site-packages/sklearn/linear_model/_logistic.py:940: ConvergenceWarning: lbfgs failed to converge (status=1):\n",
      "STOP: TOTAL NO. of ITERATIONS REACHED LIMIT.\n",
      "\n",
      "Increase the number of iterations (max_iter) or scale the data as shown in:\n",
      "    https://scikit-learn.org/stable/modules/preprocessing.html\n",
      "Please also refer to the documentation for alternative solver options:\n",
      "    https://scikit-learn.org/stable/modules/linear_model.html#logistic-regression\n",
      "  extra_warning_msg=_LOGISTIC_SOLVER_CONVERGENCE_MSG)\n"
     ]
    },
    {
     "data": {
      "text/plain": [
       "<matplotlib.legend.Legend at 0x7f9976a743c8>"
      ]
     },
     "execution_count": 102,
     "metadata": {},
     "output_type": "execute_result"
    },
    {
     "data": {
      "image/png": "[encoded data removed]",
      "text/plain": [
       "<matplotlib.figure.Figure at 0x7f9976c9d4e0>"
      ]
     },
     "metadata": {
      "needs_background": "light"
     },
     "output_type": "display_data"
    }
   ],
   "source": [
    "df=pd.read_csv('./pima-indians-diabetes.csv',header=None)\n",
    "\n",
    "y=df[8]\n",
    "x=df[[1,2,3,4,5,6,7]]\n",
    "x_train,x_test,y_train,y_test=train_test_split(x,y,stratify=y,random_state=11)\n",
    "\n",
    "lr=LogisticRegression()\n",
    "nb=GaussianNB()\n",
    "\n",
    "lr_scores=[]\n",
    "nb_scores=[]\n",
    "\n",
    "train_sizes=range(10,len(x_train),10)\n",
    "for train_size in train_sizes:\n",
    "    x_slice,_,y_slice,_=train_test_split(x_train,y_train,train_size=train_size,stratify=y_train,\n",
    "                                        random_state=11)\n",
    "    nb.fit(x_slice,y_slice)\n",
    "    nb_scores.append(nb.score(x_test,y_test))\n",
    "    lr.fit(x_slice,y_slice)\n",
    "    lr_scores.append(lr.score(x_test,y_test))\n",
    "\n",
    "plt.plot(train_sizes,lr_scores,label='Logistic Regression')\n",
    "plt.plot(train_sizes,nb_scores,label='Naive Bayes',linestyle='--')\n",
    "plt.title(\"Naive bayes and logistic regression accuarcy\")\n",
    "plt.xlabel(\"training size\")\n",
    "plt.ylabel(\"accuracy\")\n",
    "plt.legend()"
   ]
  },
  {
   "cell_type": "markdown",
   "metadata": {},
   "source": [
    "Chapter 8: Decision Tree"
   ]
  },
  {
   "cell_type": "code",
   "execution_count": 119,
   "metadata": {},
   "outputs": [
    {
     "name": "stderr",
     "output_type": "stream",
     "text": [
      "/usr/local/lib/python3.6/dist-packages/IPython/core/interactiveshell.py:3063: DtypeWarning: Columns (3) have mixed types. Specify dtype option on import or set low_memory=False.\n",
      "  interactivity=interactivity, compiler=compiler, result=result)\n"
     ]
    },
    {
     "name": "stdout",
     "output_type": "stream",
     "text": [
      "Fitting 5 folds for each of 18 candidates, totalling 90 fits\n"
     ]
    },
    {
     "name": "stderr",
     "output_type": "stream",
     "text": [
      "[Parallel(n_jobs=-1)]: Using backend LokyBackend with 12 concurrent workers.\n",
      "[Parallel(n_jobs=-1)]: Done  26 tasks      | elapsed:    1.8s\n"
     ]
    },
    {
     "name": "stdout",
     "output_type": "stream",
     "text": [
      "best score: 0.914\n",
      "best parameter set:\n",
      "\tclf__max_depth: (150, 155, 160)\n",
      "\tclf__min_samples_leaf: (1, 2, 3)\n",
      "\tclf__min_samples_split: (2, 3)\n",
      "              precision    recall  f1-score   support\n",
      "\n",
      "           0       0.97      0.99      0.98       715\n",
      "           1       0.92      0.78      0.85       105\n",
      "\n",
      "    accuracy                           0.96       820\n",
      "   macro avg       0.94      0.89      0.91       820\n",
      "weighted avg       0.96      0.96      0.96       820\n",
      "\n"
     ]
    },
    {
     "name": "stderr",
     "output_type": "stream",
     "text": [
      "[Parallel(n_jobs=-1)]: Done  90 out of  90 | elapsed:    3.5s finished\n"
     ]
    }
   ],
   "source": [
    "import pandas as pd\n",
    "\n",
    "from sklearn.tree import DecisionTreeClassifier\n",
    "from sklearn.model_selection import train_test_split\n",
    "from sklearn.metrics import classification_report\n",
    "from sklearn.pipeline import Pipeline\n",
    "from sklearn.model_selection import GridSearchCV\n",
    "\n",
    "df=pd.read_csv('./ad.data',header=None)\n",
    "\n",
    "explanatory_variable_columns=set(df.columns.values) #turn column names of df into array.\n",
    "explanatory_variable_columns.remove(len(df.columns.values)-1) #remove the last element.\n",
    "response_variable_column=df[len(df.columns.values)-1]\n",
    "\n",
    "y=[1 if e=='ad.' else 0 for e in response_variable_column] #advanced method of list.\n",
    "x=df[list(explanatory_variable_columns)].copy()\n",
    "x.replace(to_replace=' *?',value=-1,regex=True,inplace=True) #using -1 to replace ' *?'\n",
    "x_train,x_test,y_train,y_test=train_test_split(x,y)\n",
    "\n",
    "pipeline=Pipeline([\n",
    "    ('clf',DecisionTreeClassifier(criterion='entropy'))\n",
    "])\n",
    "parameters={\n",
    "    'clf__max_depth':(150,155,160),\n",
    "    'clf__min_samples_split':(2,3),\n",
    "    'clf__min_samples_leaf':(1,2,3)\n",
    "}\n",
    "grid_search=GridSearchCV(pipeline,parameters,n_jobs=-1,verbose=1,scoring='f1')\n",
    "grid_search.fit(x_train,y_train)\n",
    "\n",
    "best_parameters=grid_search.best_estimator_.get_params()\n",
    "print(\"best score: %.3f\"%(grid_search.best_score_))\n",
    "print(\"best parameter set:\")\n",
    "for param_name in sorted(parameters.keys()):\n",
    "    print(\"\\t%s: %r\"%(param_name,parameters[param_name]))\n",
    "\n",
    "predictions=grid_search.predict(x_test)\n",
    "print(classification_report(y_test,predictions))"
   ]
  },
  {
   "cell_type": "code",
   "execution_count": 113,
   "metadata": {},
   "outputs": [
    {
     "data": {
      "text/plain": [
       "array([   0,    1,    2, ..., 1556, 1557, 1558])"
      ]
     },
     "execution_count": 113,
     "metadata": {},
     "output_type": "execute_result"
    }
   ],
   "source": [
    "df.columns.values"
   ]
  },
  {
   "cell_type": "markdown",
   "metadata": {},
   "source": [
    "Chapter 9: Random Forest"
   ]
  },
  {
   "cell_type": "code",
   "execution_count": 122,
   "metadata": {},
   "outputs": [
    {
     "name": "stdout",
     "output_type": "stream",
     "text": [
      "the original sample: [60 43 60 54 67 58 70  3 77 89]\n",
      "sample mean: 58.10\n",
      "num of bootstrap is: 100\n",
      "example resample: [43 67 43 89 77 60 70 60 54 67]\n",
      "mean of resamples: 56.431\n"
     ]
    }
   ],
   "source": [
    "import numpy as np\n",
    "\n",
    "samples=np.random.randint(1,100,10)\n",
    "print(\"the original sample: %s\"%(samples))\n",
    "print(\"sample mean: %.2f\"%(np.mean(samples)))\n",
    "\n",
    "resamples=[np.random.choice(samples,samples.shape) for i in range(100)] #draw a 10-element sample 100 times.\n",
    "print(\"num of bootstrap is: %s\"%(len(resamples)))\n",
    "print(\"example resample: %s\"%(resamples[0]))\n",
    "\n",
    "resample_means=np.array([resample.mean() for resample in resamples])\n",
    "print(\"mean of resamples: %s\"%(resample_means.mean()))\n"
   ]
  },
  {
   "cell_type": "code",
   "execution_count": 124,
   "metadata": {},
   "outputs": [
    {
     "data": {
      "text/plain": [
       "[array([43, 67, 43, 89, 77, 60, 70, 60, 54, 67]),\n",
       " array([67,  3, 58, 89, 89, 54, 58, 43, 89, 67]),\n",
       " array([89,  3, 77, 77, 67, 60,  3, 70, 43,  3]),\n",
       " array([77, 70, 60, 67, 60, 60, 70, 54, 54, 58]),\n",
       " array([43, 60, 60, 54, 67, 77, 89,  3, 77, 70]),\n",
       " array([70, 77, 60, 67, 67, 43, 58, 54, 77, 67]),\n",
       " array([89, 43, 60, 70, 43, 54, 89, 54, 67, 60]),\n",
       " array([54, 70,  3, 43, 43, 58, 77, 89, 70, 60]),\n",
       " array([67, 54, 77, 54, 67, 67, 89, 43, 54, 70]),\n",
       " array([89, 54, 54,  3, 54,  3,  3, 70, 70, 54]),\n",
       " array([60, 67, 67, 60, 60, 89, 77, 60, 58, 70]),\n",
       " array([89, 60,  3, 58, 70, 67, 43, 70, 60, 54]),\n",
       " array([43, 60, 67, 43, 54, 43, 77,  3, 77, 43]),\n",
       " array([ 3, 70, 70, 70, 89, 89,  3, 67, 58,  3]),\n",
       " array([77, 60, 70, 43, 58, 77,  3, 60, 60, 60]),\n",
       " array([58, 43, 67, 67, 70, 54, 43, 58, 67, 77]),\n",
       " array([60, 70, 54,  3, 60, 89,  3,  3, 58,  3]),\n",
       " array([70, 60, 89, 60, 89,  3, 89,  3, 60, 54]),\n",
       " array([54, 67, 89, 67, 77,  3,  3, 43, 54, 77]),\n",
       " array([89, 77, 58,  3, 58, 54, 67, 60, 54, 89]),\n",
       " array([ 3, 60, 54, 43, 58, 60, 58,  3, 60, 58]),\n",
       " array([ 3, 60, 60, 58, 70, 60, 89, 60, 77, 67]),\n",
       " array([54, 89, 54, 58, 60, 58,  3, 70, 67, 58]),\n",
       " array([60, 54, 54, 58, 89, 58, 60,  3, 67, 89]),\n",
       " array([60, 58, 54,  3, 43, 77, 58, 67, 89, 60]),\n",
       " array([77, 67, 60,  3, 67, 60, 70, 60, 43, 54]),\n",
       " array([89, 70, 77,  3, 54, 70, 43, 67,  3, 70]),\n",
       " array([60, 67, 89, 43, 70, 89, 60, 77,  3, 54]),\n",
       " array([54,  3, 58, 60, 67,  3, 89,  3, 43, 43]),\n",
       " array([60,  3, 58, 58, 77, 54, 67, 67, 77, 58]),\n",
       " array([58, 60, 77, 43, 58, 60, 43, 54, 89, 77]),\n",
       " array([89, 60, 67, 60, 54, 70,  3, 89, 54, 77]),\n",
       " array([89, 89, 43, 70, 77, 67, 58, 60, 77,  3]),\n",
       " array([43, 60, 67, 43, 67, 60, 77, 43, 60, 89]),\n",
       " array([89, 60, 60, 89, 43, 67, 58, 60, 54, 77]),\n",
       " array([43, 58, 89, 89,  3, 43, 60,  3, 58, 58]),\n",
       " array([43, 89, 60, 89, 43, 89, 54,  3,  3, 60]),\n",
       " array([58, 67, 58, 70, 60, 89, 58, 43, 60, 67]),\n",
       " array([60,  3, 60, 77, 43, 60, 89, 58, 67, 77]),\n",
       " array([54, 60, 43,  3, 70, 58, 67, 43, 77, 89]),\n",
       " array([67, 54, 58, 43, 54, 89, 60,  3, 54, 58]),\n",
       " array([43,  3, 77, 70, 60, 58, 60, 43, 43, 70]),\n",
       " array([60, 67, 60, 77,  3, 67, 54, 58, 60, 43]),\n",
       " array([70, 89, 58, 43, 54, 60, 77,  3, 58,  3]),\n",
       " array([ 3, 67, 58, 89, 60, 60, 70, 77, 43, 77]),\n",
       " array([70, 54, 58, 60, 67, 60, 60, 67, 60, 43]),\n",
       " array([60, 60, 54, 60, 70, 67, 58, 43, 60, 70]),\n",
       " array([60, 77, 43, 60, 89, 58,  3, 60, 67, 89]),\n",
       " array([54, 89, 60, 67, 60, 67, 43, 67, 67, 43]),\n",
       " array([70,  3, 43, 67,  3,  3, 60, 54, 60, 60]),\n",
       " array([77, 58, 54, 77, 60, 54, 58, 58, 60, 43]),\n",
       " array([67, 89, 58, 54, 70, 77, 67, 58, 77, 77]),\n",
       " array([58, 67, 43, 77, 54, 89, 54, 60, 43, 43]),\n",
       " array([43,  3, 54,  3,  3, 43, 60,  3, 60, 54]),\n",
       " array([60, 67, 67, 58, 89, 43, 60, 67, 70, 67]),\n",
       " array([58, 77,  3,  3, 60, 54, 43, 77, 89, 89]),\n",
       " array([ 3, 89, 60,  3, 60, 89, 77, 77, 54, 58]),\n",
       " array([70, 43, 89, 58, 77,  3, 70, 60,  3, 77]),\n",
       " array([58, 60,  3, 54, 67,  3,  3, 60, 60,  3]),\n",
       " array([60, 58, 60, 58, 58, 60,  3,  3, 54, 67]),\n",
       " array([ 3, 77, 77, 54,  3, 54, 70, 70, 67, 43]),\n",
       " array([60, 43, 43, 58,  3, 70, 60, 70, 77, 77]),\n",
       " array([58, 70, 43,  3,  3, 58, 60, 60, 60, 54]),\n",
       " array([60, 67, 58, 60, 43, 67, 60,  3, 43, 77]),\n",
       " array([43, 54, 60, 70, 60, 58,  3, 77, 89, 67]),\n",
       " array([77, 60, 54, 43, 89, 58, 67, 67, 54, 60]),\n",
       " array([77, 58, 89, 89, 43, 60, 77, 43, 43, 54]),\n",
       " array([60, 70,  3, 54, 60, 60,  3, 43, 43,  3]),\n",
       " array([60,  3, 58, 43, 77, 77, 67, 67, 70, 77]),\n",
       " array([70, 58,  3, 67, 89, 89, 67, 67, 58,  3]),\n",
       " array([58,  3, 60, 77, 89, 60, 67,  3, 58, 67]),\n",
       " array([70, 58, 70, 58, 70, 67, 60, 70, 77, 89]),\n",
       " array([70,  3, 60, 60, 54,  3,  3, 70, 89, 43]),\n",
       " array([67, 43, 43, 58, 67, 77, 77, 60, 54,  3]),\n",
       " array([89, 43, 58, 43, 60, 43, 67, 60, 60,  3]),\n",
       " array([54, 60, 89, 60, 67, 60, 67, 67, 58, 60]),\n",
       " array([89, 60,  3, 77, 58, 70, 60,  3, 77, 54]),\n",
       " array([43,  3, 89, 70, 70, 77,  3, 89, 60, 70]),\n",
       " array([43, 89,  3, 58, 54, 60, 54, 89, 77, 60]),\n",
       " array([89, 60, 43, 58, 89, 43, 60, 54, 70,  3]),\n",
       " array([70, 60,  3, 77, 89, 89, 77, 60, 58, 89]),\n",
       " array([43, 60, 58, 60, 89, 58, 89, 60,  3, 70]),\n",
       " array([60, 60, 54, 70, 60,  3,  3, 43, 60, 67]),\n",
       " array([60,  3, 67, 54,  3, 60, 67, 77,  3, 70]),\n",
       " array([70, 54, 70, 89, 70, 43, 67, 77,  3, 70]),\n",
       " array([60, 70, 58,  3, 67, 77, 60, 60, 58, 70]),\n",
       " array([70, 70, 89, 60,  3, 67, 43, 54, 54, 43]),\n",
       " array([ 3, 43, 77, 54, 67, 60, 43, 58, 67, 70]),\n",
       " array([ 3, 54, 58, 60, 54,  3, 43, 58, 77, 60]),\n",
       " array([77, 70, 58, 67, 89, 70, 70, 77,  3, 54]),\n",
       " array([60, 70, 43, 77, 43,  3, 67, 60, 43, 77]),\n",
       " array([ 3, 58, 77, 77, 67, 70, 60, 70, 89, 67]),\n",
       " array([54, 58, 89, 77, 77,  3, 67, 60,  3, 67]),\n",
       " array([60, 67, 60, 70, 89, 70, 70, 58, 54, 60]),\n",
       " array([67, 43, 54, 43, 54, 43, 60, 60, 67,  3]),\n",
       " array([70, 43, 43, 77, 43, 77, 67, 58, 58, 67]),\n",
       " array([43, 43, 70, 77, 60, 67, 54, 43, 89, 43]),\n",
       " array([58, 54, 54, 43, 70, 89, 43, 54,  3,  3]),\n",
       " array([58, 60, 54, 54, 60, 77, 89, 60, 70, 67]),\n",
       " array([67, 70, 43, 60, 70,  3, 60, 89,  3, 70])]"
      ]
     },
     "execution_count": 124,
     "metadata": {},
     "output_type": "execute_result"
    }
   ],
   "source": [
    "resamples"
   ]
  },
  {
   "cell_type": "code",
   "execution_count": 125,
   "metadata": {},
   "outputs": [
    {
     "data": {
      "text/plain": [
       "array([63. , 61.7, 49.2, 63. , 60. , 64. , 62.9, 56.7, 64.2, 45.4, 66.8,\n",
       "       57.4, 51. , 52.2, 56.8, 60.4, 40.3, 57.7, 53.4, 60.9, 45.7, 60.4,\n",
       "       57.1, 59.2, 56.9, 56.1, 54.6, 61.2, 42.3, 57.9, 61.9, 62.3, 63.3,\n",
       "       60.9, 65.7, 50.4, 53.3, 63. , 59.4, 56.4, 54. , 52.7, 54.9, 51.5,\n",
       "       60.4, 59.9, 60.2, 60.6, 61.7, 42.3, 59.9, 69.4, 58.8, 32.6, 64.8,\n",
       "       55.3, 57. , 55. , 37.1, 48.1, 51.8, 56.1, 46.9, 53.8, 58.1, 62.9,\n",
       "       63.3, 39.9, 59.9, 57.1, 54.2, 68.9, 45.5, 54.9, 52.6, 64.2, 55.1,\n",
       "       57.4, 58.7, 56.9, 67.2, 59. , 48. , 46.4, 61.3, 58.3, 55.3, 54.2,\n",
       "       47. , 63.5, 54.3, 63.8, 55.5, 65.8, 49.4, 60.3, 58.9, 47.1, 64.9,\n",
       "       53.5])"
      ]
     },
     "execution_count": 125,
     "metadata": {},
     "output_type": "execute_result"
    }
   ],
   "source": [
    "resample_means"
   ]
  },
  {
   "cell_type": "code",
   "execution_count": 128,
   "metadata": {},
   "outputs": [
    {
     "name": "stdout",
     "output_type": "stream",
     "text": [
      "              precision    recall  f1-score   support\n",
      "\n",
      "           0       0.73      0.66      0.69       127\n",
      "           1       0.68      0.75      0.71       123\n",
      "\n",
      "    accuracy                           0.70       250\n",
      "   macro avg       0.71      0.70      0.70       250\n",
      "weighted avg       0.71      0.70      0.70       250\n",
      "\n"
     ]
    }
   ],
   "source": [
    "from sklearn.tree import DecisionTreeClassifier\n",
    "from sklearn.ensemble import RandomForestClassifier\n",
    "from sklearn.datasets import make_classification\n",
    "from sklearn.model_selection import train_test_split\n",
    "from sklearn.metrics import classification_report\n",
    "\n",
    "x,y=make_classification(n_samples=1000,n_features=100,\n",
    "                      n_informative=20,n_clusters_per_class=2,random_state=11) #creating a classification rule.\n",
    "x_train,x_test,y_train,y_test=train_test_split(x,y,random_state=11)\n",
    "\n",
    "clf=DecisionTreeClassifier(random_state=11)\n",
    "clf.fit(x_train,y_train)\n",
    "predictions=clf.predict(x_test)\n",
    "print(classification_report(y_test,predictions))\n"
   ]
  },
  {
   "cell_type": "code",
   "execution_count": 131,
   "metadata": {},
   "outputs": [
    {
     "name": "stdout",
     "output_type": "stream",
     "text": [
      "              precision    recall  f1-score   support\n",
      "\n",
      "           0       0.74      0.83      0.79       127\n",
      "           1       0.80      0.70      0.75       123\n",
      "\n",
      "    accuracy                           0.77       250\n",
      "   macro avg       0.77      0.77      0.77       250\n",
      "weighted avg       0.77      0.77      0.77       250\n",
      "\n"
     ]
    }
   ],
   "source": [
    "clf=RandomForestClassifier(n_estimators=10,random_state=11) #creating a 10-tree forest with seed satate 11.\n",
    "clf.fit(x_train,y_train)\n",
    "predictions=clf.predict(x_test)\n",
    "print(classification_report(y_test,predictions))"
   ]
  },
  {
   "cell_type": "code",
   "execution_count": 135,
   "metadata": {},
   "outputs": [
    {
     "name": "stdout",
     "output_type": "stream",
     "text": [
      "decision tree accuracy: 0.688\n"
     ]
    }
   ],
   "source": [
    "%matplotlib inline\n",
    "\n",
    "from sklearn.ensemble import AdaBoostClassifier\n",
    "from sklearn.tree import DecisionTreeClassifier\n",
    "from sklearn.datasets import make_classification\n",
    "from sklearn.model_selection import train_test_split\n",
    "\n",
    "import matplotlib.pyplot as plt\n",
    "\n",
    "x,y=make_classification(n_samples=1000,n_features=50,n_informative=30,\n",
    "                        n_clusters_per_class=3,random_state=11)\n",
    "x_train,x_test,y_train,y_test=train_test_split(x,y,random_state=11)\n",
    "\n",
    "clf=DecisionTreeClassifier(random_state=11)\n",
    "clf.fit(x_train,y_train)\n",
    "print(\"decision tree accuracy: %.3f\"%(clf.score(x_test,y_test)))\n"
   ]
  },
  {
   "cell_type": "code",
   "execution_count": 141,
   "metadata": {},
   "outputs": [
    {
     "data": {
      "text/plain": [
       "Text(0.5,1,'ensemble accuracy')"
      ]
     },
     "execution_count": 141,
     "metadata": {},
     "output_type": "execute_result"
    },
    {
     "data": {
      "image/png": "[encoded data removed]",
      "text/plain": [
       "<matplotlib.figure.Figure at 0x7f9976a7dba8>"
      ]
     },
     "metadata": {
      "needs_background": "light"
     },
     "output_type": "display_data"
    }
   ],
   "source": [
    "clf=AdaBoostClassifier(n_estimators=50,random_state=11)\n",
    "clf.fit(x_train,y_train)\n",
    "accuracies=[]\n",
    "accuracies.append(clf.score(x_test,y_test))\n",
    "\n",
    "plt.plot(range(1,51),[accuracy for accuracy in clf.staged_score(x_test,y_test)])\n",
    "plt.xlabel(\"num of base estimators in ensemble\")\n",
    "plt.ylabel(\"accuracy\")\n",
    "plt.title(\"ensemble accuracy\")"
   ]
  },
  {
   "cell_type": "code",
   "execution_count": 144,
   "metadata": {},
   "outputs": [
    {
     "name": "stdout",
     "output_type": "stream",
     "text": [
      "logistic regrssion accuracy: 0.816\n",
      "KNN accuracy: 0.836\n"
     ]
    }
   ],
   "source": [
    "import numpy as np\n",
    "\n",
    "from sklearn.model_selection import train_test_split\n",
    "from sklearn.neighbors import KNeighborsClassifier\n",
    "from sklearn.tree import DecisionTreeClassifier\n",
    "from sklearn.linear_model import LogisticRegression\n",
    "from sklearn.datasets import make_classification\n",
    "from sklearn.base import clone,BaseEstimator,TransformerMixin,ClassifierMixin\n",
    "\n",
    "class StackingClassifier(BaseEstimator,ClassifierMixin,TransformerMixin): #heritage of classes.\n",
    "    def __init__(self,classifiers):\n",
    "        self.classifiers=classifiers\n",
    "        self.meta_classifier=DecisionTreeClassifier()\n",
    "    \n",
    "    def fit(self,x,y):\n",
    "        for clf in self.classifiers:\n",
    "            clf.fit(x,y)\n",
    "        self.meta_classifier.fit(self._get_meta_features(x),y)\n",
    "        return self\n",
    "    \n",
    "    def _get_meta_features(self,x):\n",
    "        probs=np.asarray([clf.predict_proba(x) for clf in self.classifiers]) #turn list into array\n",
    "        return np.concatenate(probs,axis=1) #combine lelements vertivally.\n",
    "    \n",
    "    def predict(self,x):\n",
    "        return self.meta_classifier.predict(self._get_meta_features(x))\n",
    "    \n",
    "    def predict_proba(self,x):\n",
    "        return self.meta_classifier.predict_proba(self._get_meta_features(x))\n",
    "    \n",
    "x,y=make_classification(n_samples=1000,n_features=50,n_informative=30,\n",
    "                       n_clusters_per_class=3,random_state=11)\n",
    "x_train,x_test,y_train,y_test=train_test_split(x,y,random_state=11)\n",
    "\n",
    "lr=LogisticRegression()\n",
    "lr.fit(x_train,y_train)\n",
    "print(\"logistic regrssion accuracy: %.3f\"%(lr.score(x_test,y_test)))\n",
    "\n",
    "knn_clf=KNeighborsClassifier()\n",
    "knn_clf.fit(x_train,y_train)\n",
    "print('KNN accuracy: %.3f'%(knn_clf.score(x_test,y_test)))"
   ]
  },
  {
   "cell_type": "code",
   "execution_count": 145,
   "metadata": {},
   "outputs": [
    {
     "name": "stdout",
     "output_type": "stream",
     "text": [
      "stacking classifier accuracy: 0.856\n"
     ]
    }
   ],
   "source": [
    "base_classifiers=[lr,knn_clf]\n",
    "stacking_clf=StackingClassifier(base_classifiers)\n",
    "stacking_clf.fit(x_train,y_train)\n",
    "print(\"stacking classifier accuracy: %.3f\"%(stacking_clf.score(x_test,y_test)))"
   ]
  },
  {
   "cell_type": "code",
   "execution_count": 2,
   "metadata": {},
   "outputs": [
    {
     "name": "stderr",
     "output_type": "stream",
     "text": [
      "Downloading 20news dataset. This may take a few minutes.\n",
      "Downloading dataset from https://ndownloader.figshare.com/files/5975967 (14 MB)\n"
     ]
    },
    {
     "ename": "KeyboardInterrupt",
     "evalue": "",
     "output_type": "error",
     "traceback": [
      "\u001b[0;31m---------------------------------------------------------------------------\u001b[0m",
      "\u001b[0;31mKeyboardInterrupt\u001b[0m                         Traceback (most recent call last)",
      "\u001b[0;32m<ipython-input-2-bb438805ab95>\u001b[0m in \u001b[0;36m<module>\u001b[0;34m\u001b[0m\n\u001b[1;32m      6\u001b[0m \u001b[0mcategories\u001b[0m\u001b[0;34m=\u001b[0m\u001b[0;34m[\u001b[0m\u001b[0;34m'rec.sport.hockey'\u001b[0m\u001b[0;34m,\u001b[0m\u001b[0;34m'rec.sport.baseball'\u001b[0m\u001b[0;34m,\u001b[0m\u001b[0;34m'rec.autos'\u001b[0m\u001b[0;34m]\u001b[0m\u001b[0;34m\u001b[0m\u001b[0;34m\u001b[0m\u001b[0m\n\u001b[1;32m      7\u001b[0m newsgroups_train=fetch_20newsgroups(subset='train',\n\u001b[0;32m----> 8\u001b[0;31m                                     categories=categories,remove=('headers','footers','quotes'))\n\u001b[0m\u001b[1;32m      9\u001b[0m newsgroup_test=fetch_20newsgroup(subset='test',categories=categories,\n\u001b[1;32m     10\u001b[0m                                 remove=('headers','footers','quotes'))\n",
      "\u001b[0;32m~/.local/lib/python3.6/site-packages/sklearn/datasets/_twenty_newsgroups.py\u001b[0m in \u001b[0;36mfetch_20newsgroups\u001b[0;34m(data_home, subset, categories, shuffle, random_state, remove, download_if_missing, return_X_y)\u001b[0m\n\u001b[1;32m    249\u001b[0m                         \"This may take a few minutes.\")\n\u001b[1;32m    250\u001b[0m             cache = _download_20newsgroups(target_dir=twenty_home,\n\u001b[0;32m--> 251\u001b[0;31m                                            cache_path=cache_path)\n\u001b[0m\u001b[1;32m    252\u001b[0m         \u001b[0;32melse\u001b[0m\u001b[0;34m:\u001b[0m\u001b[0;34m\u001b[0m\u001b[0;34m\u001b[0m\u001b[0m\n\u001b[1;32m    253\u001b[0m             \u001b[0;32mraise\u001b[0m \u001b[0mIOError\u001b[0m\u001b[0;34m(\u001b[0m\u001b[0;34m'20Newsgroups dataset not found'\u001b[0m\u001b[0;34m)\u001b[0m\u001b[0;34m\u001b[0m\u001b[0;34m\u001b[0m\u001b[0m\n",
      "\u001b[0;32m~/.local/lib/python3.6/site-packages/sklearn/datasets/_twenty_newsgroups.py\u001b[0m in \u001b[0;36m_download_20newsgroups\u001b[0;34m(target_dir, cache_path)\u001b[0m\n\u001b[1;32m     71\u001b[0m \u001b[0;34m\u001b[0m\u001b[0m\n\u001b[1;32m     72\u001b[0m     \u001b[0mlogger\u001b[0m\u001b[0;34m.\u001b[0m\u001b[0minfo\u001b[0m\u001b[0;34m(\u001b[0m\u001b[0;34m\"Downloading dataset from %s (14 MB)\"\u001b[0m\u001b[0;34m,\u001b[0m \u001b[0mARCHIVE\u001b[0m\u001b[0;34m.\u001b[0m\u001b[0murl\u001b[0m\u001b[0;34m)\u001b[0m\u001b[0;34m\u001b[0m\u001b[0;34m\u001b[0m\u001b[0m\n\u001b[0;32m---> 73\u001b[0;31m     \u001b[0marchive_path\u001b[0m \u001b[0;34m=\u001b[0m \u001b[0m_fetch_remote\u001b[0m\u001b[0;34m(\u001b[0m\u001b[0mARCHIVE\u001b[0m\u001b[0;34m,\u001b[0m \u001b[0mdirname\u001b[0m\u001b[0;34m=\u001b[0m\u001b[0mtarget_dir\u001b[0m\u001b[0;34m)\u001b[0m\u001b[0;34m\u001b[0m\u001b[0;34m\u001b[0m\u001b[0m\n\u001b[0m\u001b[1;32m     74\u001b[0m \u001b[0;34m\u001b[0m\u001b[0m\n\u001b[1;32m     75\u001b[0m     \u001b[0mlogger\u001b[0m\u001b[0;34m.\u001b[0m\u001b[0mdebug\u001b[0m\u001b[0;34m(\u001b[0m\u001b[0;34m\"Decompressing %s\"\u001b[0m\u001b[0;34m,\u001b[0m \u001b[0marchive_path\u001b[0m\u001b[0;34m)\u001b[0m\u001b[0;34m\u001b[0m\u001b[0;34m\u001b[0m\u001b[0m\n",
      "\u001b[0;32m~/.local/lib/python3.6/site-packages/sklearn/datasets/_base.py\u001b[0m in \u001b[0;36m_fetch_remote\u001b[0;34m(remote, dirname)\u001b[0m\n\u001b[1;32m    900\u001b[0m     file_path = (remote.filename if dirname is None\n\u001b[1;32m    901\u001b[0m                  else join(dirname, remote.filename))\n\u001b[0;32m--> 902\u001b[0;31m     \u001b[0murlretrieve\u001b[0m\u001b[0;34m(\u001b[0m\u001b[0mremote\u001b[0m\u001b[0;34m.\u001b[0m\u001b[0murl\u001b[0m\u001b[0;34m,\u001b[0m \u001b[0mfile_path\u001b[0m\u001b[0;34m)\u001b[0m\u001b[0;34m\u001b[0m\u001b[0;34m\u001b[0m\u001b[0m\n\u001b[0m\u001b[1;32m    903\u001b[0m     \u001b[0mchecksum\u001b[0m \u001b[0;34m=\u001b[0m \u001b[0m_sha256\u001b[0m\u001b[0;34m(\u001b[0m\u001b[0mfile_path\u001b[0m\u001b[0;34m)\u001b[0m\u001b[0;34m\u001b[0m\u001b[0;34m\u001b[0m\u001b[0m\n\u001b[1;32m    904\u001b[0m     \u001b[0;32mif\u001b[0m \u001b[0mremote\u001b[0m\u001b[0;34m.\u001b[0m\u001b[0mchecksum\u001b[0m \u001b[0;34m!=\u001b[0m \u001b[0mchecksum\u001b[0m\u001b[0;34m:\u001b[0m\u001b[0;34m\u001b[0m\u001b[0;34m\u001b[0m\u001b[0m\n",
      "\u001b[0;32m/usr/lib/python3.6/urllib/request.py\u001b[0m in \u001b[0;36murlretrieve\u001b[0;34m(url, filename, reporthook, data)\u001b[0m\n\u001b[1;32m    275\u001b[0m \u001b[0;34m\u001b[0m\u001b[0m\n\u001b[1;32m    276\u001b[0m             \u001b[0;32mwhile\u001b[0m \u001b[0;32mTrue\u001b[0m\u001b[0;34m:\u001b[0m\u001b[0;34m\u001b[0m\u001b[0;34m\u001b[0m\u001b[0m\n\u001b[0;32m--> 277\u001b[0;31m                 \u001b[0mblock\u001b[0m \u001b[0;34m=\u001b[0m \u001b[0mfp\u001b[0m\u001b[0;34m.\u001b[0m\u001b[0mread\u001b[0m\u001b[0;34m(\u001b[0m\u001b[0mbs\u001b[0m\u001b[0;34m)\u001b[0m\u001b[0;34m\u001b[0m\u001b[0;34m\u001b[0m\u001b[0m\n\u001b[0m\u001b[1;32m    278\u001b[0m                 \u001b[0;32mif\u001b[0m \u001b[0;32mnot\u001b[0m \u001b[0mblock\u001b[0m\u001b[0;34m:\u001b[0m\u001b[0;34m\u001b[0m\u001b[0;34m\u001b[0m\u001b[0m\n\u001b[1;32m    279\u001b[0m                     \u001b[0;32mbreak\u001b[0m\u001b[0;34m\u001b[0m\u001b[0;34m\u001b[0m\u001b[0m\n",
      "\u001b[0;32m/usr/lib/python3.6/http/client.py\u001b[0m in \u001b[0;36mread\u001b[0;34m(self, amt)\u001b[0m\n\u001b[1;32m    457\u001b[0m             \u001b[0;31m# Amount is given, implement using readinto\u001b[0m\u001b[0;34m\u001b[0m\u001b[0;34m\u001b[0m\u001b[0;34m\u001b[0m\u001b[0m\n\u001b[1;32m    458\u001b[0m             \u001b[0mb\u001b[0m \u001b[0;34m=\u001b[0m \u001b[0mbytearray\u001b[0m\u001b[0;34m(\u001b[0m\u001b[0mamt\u001b[0m\u001b[0;34m)\u001b[0m\u001b[0;34m\u001b[0m\u001b[0;34m\u001b[0m\u001b[0m\n\u001b[0;32m--> 459\u001b[0;31m             \u001b[0mn\u001b[0m \u001b[0;34m=\u001b[0m \u001b[0mself\u001b[0m\u001b[0;34m.\u001b[0m\u001b[0mreadinto\u001b[0m\u001b[0;34m(\u001b[0m\u001b[0mb\u001b[0m\u001b[0;34m)\u001b[0m\u001b[0;34m\u001b[0m\u001b[0;34m\u001b[0m\u001b[0m\n\u001b[0m\u001b[1;32m    460\u001b[0m             \u001b[0;32mreturn\u001b[0m \u001b[0mmemoryview\u001b[0m\u001b[0;34m(\u001b[0m\u001b[0mb\u001b[0m\u001b[0;34m)\u001b[0m\u001b[0;34m[\u001b[0m\u001b[0;34m:\u001b[0m\u001b[0mn\u001b[0m\u001b[0;34m]\u001b[0m\u001b[0;34m.\u001b[0m\u001b[0mtobytes\u001b[0m\u001b[0;34m(\u001b[0m\u001b[0;34m)\u001b[0m\u001b[0;34m\u001b[0m\u001b[0;34m\u001b[0m\u001b[0m\n\u001b[1;32m    461\u001b[0m         \u001b[0;32melse\u001b[0m\u001b[0;34m:\u001b[0m\u001b[0;34m\u001b[0m\u001b[0;34m\u001b[0m\u001b[0m\n",
      "\u001b[0;32m/usr/lib/python3.6/http/client.py\u001b[0m in \u001b[0;36mreadinto\u001b[0;34m(self, b)\u001b[0m\n\u001b[1;32m    501\u001b[0m         \u001b[0;31m# connection, and the user is reading more bytes than will be provided\u001b[0m\u001b[0;34m\u001b[0m\u001b[0;34m\u001b[0m\u001b[0;34m\u001b[0m\u001b[0m\n\u001b[1;32m    502\u001b[0m         \u001b[0;31m# (for example, reading in 1k chunks)\u001b[0m\u001b[0;34m\u001b[0m\u001b[0;34m\u001b[0m\u001b[0;34m\u001b[0m\u001b[0m\n\u001b[0;32m--> 503\u001b[0;31m         \u001b[0mn\u001b[0m \u001b[0;34m=\u001b[0m \u001b[0mself\u001b[0m\u001b[0;34m.\u001b[0m\u001b[0mfp\u001b[0m\u001b[0;34m.\u001b[0m\u001b[0mreadinto\u001b[0m\u001b[0;34m(\u001b[0m\u001b[0mb\u001b[0m\u001b[0;34m)\u001b[0m\u001b[0;34m\u001b[0m\u001b[0;34m\u001b[0m\u001b[0m\n\u001b[0m\u001b[1;32m    504\u001b[0m         \u001b[0;32mif\u001b[0m \u001b[0;32mnot\u001b[0m \u001b[0mn\u001b[0m \u001b[0;32mand\u001b[0m \u001b[0mb\u001b[0m\u001b[0;34m:\u001b[0m\u001b[0;34m\u001b[0m\u001b[0;34m\u001b[0m\u001b[0m\n\u001b[1;32m    505\u001b[0m             \u001b[0;31m# Ideally, we would raise IncompleteRead if the content-length\u001b[0m\u001b[0;34m\u001b[0m\u001b[0;34m\u001b[0m\u001b[0;34m\u001b[0m\u001b[0m\n",
      "\u001b[0;32m/usr/lib/python3.6/socket.py\u001b[0m in \u001b[0;36mreadinto\u001b[0;34m(self, b)\u001b[0m\n\u001b[1;32m    584\u001b[0m         \u001b[0;32mwhile\u001b[0m \u001b[0;32mTrue\u001b[0m\u001b[0;34m:\u001b[0m\u001b[0;34m\u001b[0m\u001b[0;34m\u001b[0m\u001b[0m\n\u001b[1;32m    585\u001b[0m             \u001b[0;32mtry\u001b[0m\u001b[0;34m:\u001b[0m\u001b[0;34m\u001b[0m\u001b[0;34m\u001b[0m\u001b[0m\n\u001b[0;32m--> 586\u001b[0;31m                 \u001b[0;32mreturn\u001b[0m \u001b[0mself\u001b[0m\u001b[0;34m.\u001b[0m\u001b[0m_sock\u001b[0m\u001b[0;34m.\u001b[0m\u001b[0mrecv_into\u001b[0m\u001b[0;34m(\u001b[0m\u001b[0mb\u001b[0m\u001b[0;34m)\u001b[0m\u001b[0;34m\u001b[0m\u001b[0;34m\u001b[0m\u001b[0m\n\u001b[0m\u001b[1;32m    587\u001b[0m             \u001b[0;32mexcept\u001b[0m \u001b[0mtimeout\u001b[0m\u001b[0;34m:\u001b[0m\u001b[0;34m\u001b[0m\u001b[0;34m\u001b[0m\u001b[0m\n\u001b[1;32m    588\u001b[0m                 \u001b[0mself\u001b[0m\u001b[0;34m.\u001b[0m\u001b[0m_timeout_occurred\u001b[0m \u001b[0;34m=\u001b[0m \u001b[0;32mTrue\u001b[0m\u001b[0;34m\u001b[0m\u001b[0;34m\u001b[0m\u001b[0m\n",
      "\u001b[0;32m/usr/lib/python3.6/ssl.py\u001b[0m in \u001b[0;36mrecv_into\u001b[0;34m(self, buffer, nbytes, flags)\u001b[0m\n\u001b[1;32m   1010\u001b[0m                   \u001b[0;34m\"non-zero flags not allowed in calls to recv_into() on %s\"\u001b[0m \u001b[0;34m%\u001b[0m\u001b[0;34m\u001b[0m\u001b[0;34m\u001b[0m\u001b[0m\n\u001b[1;32m   1011\u001b[0m                   self.__class__)\n\u001b[0;32m-> 1012\u001b[0;31m             \u001b[0;32mreturn\u001b[0m \u001b[0mself\u001b[0m\u001b[0;34m.\u001b[0m\u001b[0mread\u001b[0m\u001b[0;34m(\u001b[0m\u001b[0mnbytes\u001b[0m\u001b[0;34m,\u001b[0m \u001b[0mbuffer\u001b[0m\u001b[0;34m)\u001b[0m\u001b[0;34m\u001b[0m\u001b[0;34m\u001b[0m\u001b[0m\n\u001b[0m\u001b[1;32m   1013\u001b[0m         \u001b[0;32melse\u001b[0m\u001b[0;34m:\u001b[0m\u001b[0;34m\u001b[0m\u001b[0;34m\u001b[0m\u001b[0m\n\u001b[1;32m   1014\u001b[0m             \u001b[0;32mreturn\u001b[0m \u001b[0msocket\u001b[0m\u001b[0;34m.\u001b[0m\u001b[0mrecv_into\u001b[0m\u001b[0;34m(\u001b[0m\u001b[0mself\u001b[0m\u001b[0;34m,\u001b[0m \u001b[0mbuffer\u001b[0m\u001b[0;34m,\u001b[0m \u001b[0mnbytes\u001b[0m\u001b[0;34m,\u001b[0m \u001b[0mflags\u001b[0m\u001b[0;34m)\u001b[0m\u001b[0;34m\u001b[0m\u001b[0;34m\u001b[0m\u001b[0m\n",
      "\u001b[0;32m/usr/lib/python3.6/ssl.py\u001b[0m in \u001b[0;36mread\u001b[0;34m(self, len, buffer)\u001b[0m\n\u001b[1;32m    872\u001b[0m             \u001b[0;32mraise\u001b[0m \u001b[0mValueError\u001b[0m\u001b[0;34m(\u001b[0m\u001b[0;34m\"Read on closed or unwrapped SSL socket.\"\u001b[0m\u001b[0;34m)\u001b[0m\u001b[0;34m\u001b[0m\u001b[0;34m\u001b[0m\u001b[0m\n\u001b[1;32m    873\u001b[0m         \u001b[0;32mtry\u001b[0m\u001b[0;34m:\u001b[0m\u001b[0;34m\u001b[0m\u001b[0;34m\u001b[0m\u001b[0m\n\u001b[0;32m--> 874\u001b[0;31m             \u001b[0;32mreturn\u001b[0m \u001b[0mself\u001b[0m\u001b[0;34m.\u001b[0m\u001b[0m_sslobj\u001b[0m\u001b[0;34m.\u001b[0m\u001b[0mread\u001b[0m\u001b[0;34m(\u001b[0m\u001b[0mlen\u001b[0m\u001b[0;34m,\u001b[0m \u001b[0mbuffer\u001b[0m\u001b[0;34m)\u001b[0m\u001b[0;34m\u001b[0m\u001b[0;34m\u001b[0m\u001b[0m\n\u001b[0m\u001b[1;32m    875\u001b[0m         \u001b[0;32mexcept\u001b[0m \u001b[0mSSLError\u001b[0m \u001b[0;32mas\u001b[0m \u001b[0mx\u001b[0m\u001b[0;34m:\u001b[0m\u001b[0;34m\u001b[0m\u001b[0;34m\u001b[0m\u001b[0m\n\u001b[1;32m    876\u001b[0m             \u001b[0;32mif\u001b[0m \u001b[0mx\u001b[0m\u001b[0;34m.\u001b[0m\u001b[0margs\u001b[0m\u001b[0;34m[\u001b[0m\u001b[0;36m0\u001b[0m\u001b[0;34m]\u001b[0m \u001b[0;34m==\u001b[0m \u001b[0mSSL_ERROR_EOF\u001b[0m \u001b[0;32mand\u001b[0m \u001b[0mself\u001b[0m\u001b[0;34m.\u001b[0m\u001b[0msuppress_ragged_eofs\u001b[0m\u001b[0;34m:\u001b[0m\u001b[0;34m\u001b[0m\u001b[0;34m\u001b[0m\u001b[0m\n",
      "\u001b[0;32m/usr/lib/python3.6/ssl.py\u001b[0m in \u001b[0;36mread\u001b[0;34m(self, len, buffer)\u001b[0m\n\u001b[1;32m    629\u001b[0m         \"\"\"\n\u001b[1;32m    630\u001b[0m         \u001b[0;32mif\u001b[0m \u001b[0mbuffer\u001b[0m \u001b[0;32mis\u001b[0m \u001b[0;32mnot\u001b[0m \u001b[0;32mNone\u001b[0m\u001b[0;34m:\u001b[0m\u001b[0;34m\u001b[0m\u001b[0;34m\u001b[0m\u001b[0m\n\u001b[0;32m--> 631\u001b[0;31m             \u001b[0mv\u001b[0m \u001b[0;34m=\u001b[0m \u001b[0mself\u001b[0m\u001b[0;34m.\u001b[0m\u001b[0m_sslobj\u001b[0m\u001b[0;34m.\u001b[0m\u001b[0mread\u001b[0m\u001b[0;34m(\u001b[0m\u001b[0mlen\u001b[0m\u001b[0;34m,\u001b[0m \u001b[0mbuffer\u001b[0m\u001b[0;34m)\u001b[0m\u001b[0;34m\u001b[0m\u001b[0;34m\u001b[0m\u001b[0m\n\u001b[0m\u001b[1;32m    632\u001b[0m         \u001b[0;32melse\u001b[0m\u001b[0;34m:\u001b[0m\u001b[0;34m\u001b[0m\u001b[0;34m\u001b[0m\u001b[0m\n\u001b[1;32m    633\u001b[0m             \u001b[0mv\u001b[0m \u001b[0;34m=\u001b[0m \u001b[0mself\u001b[0m\u001b[0;34m.\u001b[0m\u001b[0m_sslobj\u001b[0m\u001b[0;34m.\u001b[0m\u001b[0mread\u001b[0m\u001b[0;34m(\u001b[0m\u001b[0mlen\u001b[0m\u001b[0;34m)\u001b[0m\u001b[0;34m\u001b[0m\u001b[0;34m\u001b[0m\u001b[0m\n",
      "\u001b[0;31mKeyboardInterrupt\u001b[0m: "
     ]
    }
   ],
   "source": [
    "from sklearn.datasets import fetch_20newsgroups\n",
    "from sklearn.feature_extraction.text import TfidfVectorizer\n",
    "from sklearn.linear_model import Perceptron\n",
    "from sklearn.metrics import classification_report,f1_score\n",
    "\n",
    "categories=['rec.sport.hockey','rec.sport.baseball','rec.autos']\n",
    "newsgroups_train=fetch_20newsgroups(subset='train',\n",
    "                                    categories=categories,remove=('headers','footers','quotes'))\n",
    "newsgroups_test=fetch_20newsgroups(subset='test',categories=categories,\n",
    "                                remove=('headers','footers','quotes'))\n",
    "\n",
    "vectorizer=TfidfVectorizer()\n",
    "x_train=vectorizer.fit_transform(newsgroups_train.data)\n",
    "x_test=vectorizer.transform(newsgroups_test.data)\n",
    "clf=Perceptron(random_state=11)\n",
    "clf.fit(x_train,newsgroups_train.target)\n",
    "predictions=clf.predict(x_test)\n",
    "\n",
    "print(classification_report(newsgroups_test.target,predictions))"
   ]
  },
  {
   "cell_type": "markdown",
   "metadata": {},
   "source": [
    "Chapter 11: Support Vector Machine"
   ]
  },
  {
   "cell_type": "code",
   "execution_count": 10,
   "metadata": {},
   "outputs": [
    {
     "ename": "ImportError",
     "evalue": "cannot import name 'fetch_mldata'",
     "output_type": "error",
     "traceback": [
      "\u001b[0;31m---------------------------------------------------------------------------\u001b[0m",
      "\u001b[0;31mImportError\u001b[0m                               Traceback (most recent call last)",
      "\u001b[0;32m<ipython-input-10-65fa05536ee0>\u001b[0m in \u001b[0;36m<module>\u001b[0;34m\u001b[0m\n\u001b[1;32m      4\u001b[0m \u001b[0;32mimport\u001b[0m \u001b[0mmatplotlib\u001b[0m\u001b[0;34m.\u001b[0m\u001b[0mcm\u001b[0m \u001b[0;32mas\u001b[0m \u001b[0mcm\u001b[0m\u001b[0;34m\u001b[0m\u001b[0;34m\u001b[0m\u001b[0m\n\u001b[1;32m      5\u001b[0m \u001b[0;34m\u001b[0m\u001b[0m\n\u001b[0;32m----> 6\u001b[0;31m \u001b[0;32mfrom\u001b[0m \u001b[0msklearn\u001b[0m\u001b[0;34m.\u001b[0m\u001b[0mdatasets\u001b[0m \u001b[0;32mimport\u001b[0m \u001b[0mfetch_mldata\u001b[0m\u001b[0;34m\u001b[0m\u001b[0;34m\u001b[0m\u001b[0m\n\u001b[0m\u001b[1;32m      7\u001b[0m \u001b[0;34m\u001b[0m\u001b[0m\n\u001b[1;32m      8\u001b[0m \u001b[0mmnist\u001b[0m\u001b[0;34m=\u001b[0m\u001b[0mfetch_mldata\u001b[0m\u001b[0;34m(\u001b[0m\u001b[0;34m'MNIST original'\u001b[0m\u001b[0;34m,\u001b[0m\u001b[0mdata_home\u001b[0m\u001b[0;34m=\u001b[0m\u001b[0;34m'data/mnist'\u001b[0m\u001b[0;34m)\u001b[0m\u001b[0;34m\u001b[0m\u001b[0;34m\u001b[0m\u001b[0m\n",
      "\u001b[0;31mImportError\u001b[0m: cannot import name 'fetch_mldata'"
     ]
    }
   ],
   "source": [
    "%matplotlib inline\n",
    "\n",
    "import matplotlib.pyplot as plt\n",
    "import matplotlib.cm as cm\n",
    "\n",
    "from sklearn.datasets import fetch_mldata\n",
    "\n",
    "mnist=fetch_mldata('MNIST original',data_home='data/mnist')\n",
    "\n",
    "counter=1\n",
    "for i in range(1,4):\n",
    "    for j in range(1,6):\n",
    "        plt.subplot(3,5,counter)\n",
    "        plt.imshow(mnist.data[(i-1)*800+j].reshape(28,28),cmap=cm.Greys_r)\n",
    "        plt.axis('off')\n",
    "        counter+=1"
   ]
  },
  {
   "cell_type": "code",
   "execution_count": 7,
   "metadata": {},
   "outputs": [
    {
     "data": {
      "text/plain": [
       "array([[1., 0., 0., 0., 0., 1., 0., 0.],\n",
       "       [0., 0., 1., 0., 0., 0., 0., 1.]])"
      ]
     },
     "execution_count": 7,
     "metadata": {},
     "output_type": "execute_result"
    }
   ],
   "source": [
    "import numpy as np\n",
    "\n",
    "np.eye(4,4).reshape((2,8))"
   ]
  },
  {
   "cell_type": "code",
   "execution_count": 9,
   "metadata": {},
   "outputs": [
    {
     "data": {
      "text/plain": [
       "array([[1., 1., 1., 1., 1.],\n",
       "       [1., 1., 1., 1., 1.],\n",
       "       [1., 1., 1., 1., 1.],\n",
       "       [1., 1., 1., 1., 1.],\n",
       "       [1., 1., 1., 1., 1.]])"
      ]
     },
     "execution_count": 9,
     "metadata": {},
     "output_type": "execute_result"
    }
   ],
   "source": [
    "np.ones((5,5))"
   ]
  },
  {
   "cell_type": "code",
   "execution_count": null,
   "metadata": {},
   "outputs": [],
   "source": [
    "from sklearn.pipeline import Pipeline\n",
    "from sklearn.preprocessing import scale\n",
    "from sklearn.model_selection import train_test_split,GridSearchCV\n",
    "from sklearn.svm import SVC\n",
    "from sklearn.metrics import classification_report\n",
    "\n",
    "if __name__=='__main__':\n",
    "    x,y=mnist.data,mnist.target\n",
    "    x=2*x/255.0-1\n",
    "    x_train,x_test,y_train,y_test=train_test_split(x,y,random_state=11)\n",
    "    \n",
    "    pipeline=Pipeline([\n",
    "        ('clf',SVC(kernel='rbf',gamma=.01,C=100))\n",
    "    ])\n",
    "    \n",
    "    prarameters={\n",
    "        'clf__gamma':(.01,.01,.1,.3,1),\n",
    "        'clf__C':(.1,.1,1,3,10,30)\n",
    "    }\n",
    "    \n",
    "    grid_search=GridSearchCV(pipeline,parameters,n+jobs=2,verbose=1,scoring='accuracy')\n",
    "    grid_search.fit(x_train[:10000],y_train[:10000])\n",
    "    print(\"best score: %.3f\"%(grid_search.best_score_))\n",
    "    print(\"best parameter set:\")\n",
    "    best_parameters=grid_search.best_estimator_.get_params()\n",
    "    for param_name in sorted(parameters.keys()):\n",
    "        print(\"\\t%s: %r\"%(param_name,parameters[param_name]))\n",
    "    predictions=grid_search.predict(x_test)\n",
    "    print(classification_report(y_test,predictions))"
   ]
  },
  {
   "cell_type": "code",
   "execution_count": null,
   "metadata": {},
   "outputs": [],
   "source": [
    "import os\n",
    "import numpy as np\n",
    "\n",
    "from sklearn.pipeline import Pipeline\n",
    "from sklarn.svm import SVC\n",
    "from sklearn.model_selection import train_test_split,GridSearchCV\n",
    "from sklearn.metrics import classification_report\n",
    "from PIL import Image\n",
    "\n",
    "x=[]\n",
    "y=[]\n",
    "\n",
    "for path,subdirs,files in os.walk('English/Img/GoodImg/Bmp'):\n",
    "    for filename in files:\n",
    "        f=os.path.join(path,filename)\n",
    "        target=filename[3:filename.index('-')]\n",
    "        img=Image.open(f).convert('L').resize((30,30),resample=Image.LANCZOS)\n",
    "        x.append(np.array(img).reshape(900,-1))\n",
    "        y.append(target)\n",
    "x=np.array(x)"
   ]
  },
  {
   "cell_type": "code",
   "execution_count": null,
   "metadata": {},
   "outputs": [],
   "source": [
    "x_train,x_test,y_train,y_test=train_test_split(x,y,test_size=.1,random_sate=11)\n",
    "pipeline=Pipeline([\n",
    "    ('clf',SVC(kernel='rbf',gamma=.01,C=100))\n",
    "])\n",
    "parameters={\n",
    "    'clf__gamma':(.01,.03,.1,.3,1),\n",
    "    'clf__C':(.1,.3,1,3,10,30)\n",
    "}\n",
    "\n",
    "if __name__=='__main__':\n",
    "    grid_search=GridSearchCV(pipeline,parameters,n_jobs=3,\n",
    "                            verbose=1,scoring='accuracy')\n",
    "    grid_search.fit(x_train,y_train)\n",
    "    print(\"best score: %.3f\"%(grid_search.best_score_))\n",
    "    print(\"best parameter set:\")\n",
    "    best_parameters=grid_seach.best_estimator_.get_params()\n",
    "    for param_name in sorted(parameters.keys()):\n",
    "        print(\"\\t%s: %r\"%(param_name,best_parameters[param_name]))\n",
    "    predictions=grid_search.predict(x_test)\n",
    "    print(classification_report(y_test,predictions))\n",
    "    "
   ]
  },
  {
   "cell_type": "markdown",
   "metadata": {},
   "source": [
    "Chapter 12: Neural Network"
   ]
  },
  {
   "cell_type": "code",
   "execution_count": 20,
   "metadata": {},
   "outputs": [
    {
     "name": "stdout",
     "output_type": "stream",
     "text": [
      "accuracy: 1.000\n",
      "true label: 0, predicted label: 0\n",
      "true label: 1, predicted label: 1\n",
      "true label: 1, predicted label: 1\n",
      "true label: 0, predicted label: 0\n"
     ]
    }
   ],
   "source": [
    "from sklearn.model_selection import train_test_split\n",
    "from sklearn.neural_network import MLPClassifier\n",
    "\n",
    "x=[\n",
    "    [0,0],\n",
    "    [0,1],\n",
    "    [1,0],\n",
    "    [1,1]\n",
    "]\n",
    "y=[0,1,1,0]\n",
    "clf=MLPClassifier(solver='lbfgs',activation='logistic',hidden_layer_sizes=(2,),random_state=20)\n",
    "clf.fit(x,y)\n",
    "\n",
    "predictions=clf.predict(x)\n",
    "print(\"accuracy: %.3f\"%(clf.score(x,y)))\n",
    "for i,p in enumerate(predictions):\n",
    "    print(\"true label: %d, predicted label: %d\"%(y[i],p))\n",
    "    "
   ]
  },
  {
   "cell_type": "code",
   "execution_count": 23,
   "metadata": {},
   "outputs": [
    {
     "name": "stdout",
     "output_type": "stream",
     "text": [
      "weights connecting the input layer and the hidden layer: \n",
      "[[6.11803862 6.35656379]\n",
      " [5.79147913 6.14551968]]\n",
      "hidden layer bias weights: \n",
      "[-9.38637953 -2.77751695]\n",
      "weights connecting the hidden layer and the output layer: \n",
      "[[-14.95481992]\n",
      " [ 14.53080978]]\n",
      "output layer bias weights: \n",
      "[-7.22845344]\n"
     ]
    }
   ],
   "source": [
    "print(\"weights connecting the input layer and the hidden layer: \\n%s\"%(clf.coefs_[0]))\n",
    "print(\"hidden layer bias weights: \\n%s\"%(clf.intercepts_[0]))\n",
    "print(\"weights connecting the hidden layer and the output layer: \\n%s\"%(clf.coefs_[1]))\n",
    "print(\"output layer bias weights: \\n%s\"%(clf.intercepts_[1]))"
   ]
  },
  {
   "cell_type": "code",
   "execution_count": 26,
   "metadata": {},
   "outputs": [
    {
     "name": "stdout",
     "output_type": "stream",
     "text": [
      "[0.95325543 0.96327212 0.93322204]\n"
     ]
    }
   ],
   "source": [
    "from sklearn.datasets import load_digits\n",
    "from sklearn.model_selection import cross_val_score\n",
    "from sklearn.pipeline import Pipeline\n",
    "from sklearn.preprocessing import StandardScaler\n",
    "from sklearn.neural_network import MLPClassifier\n",
    "\n",
    "if __name__=='__main__':\n",
    "    digits=load_digits()\n",
    "    x=digits.data\n",
    "    y=digits.target\n",
    "    pipeline=Pipeline([\n",
    "        ('ss',StandardScaler()),\n",
    "        ('mlp',MLPClassifier(hidden_layer_sizes=(150,100),alpha=0.1,max_iter=300,random_state=20))\n",
    "    ])\n",
    "    print(cross_val_score(pipeline,x,y,n_jobs=-1,cv=3))"
   ]
  },
  {
   "cell_type": "markdown",
   "metadata": {},
   "source": [
    "Chapter 13: K-Means"
   ]
  },
  {
   "cell_type": "code",
   "execution_count": 36,
   "metadata": {},
   "outputs": [
    {
     "data": {
      "image/png": "[encoded data removed]",
      "text/plain": [
       "<matplotlib.figure.Figure at 0x7f878b8664a8>"
      ]
     },
     "metadata": {
      "needs_background": "light"
     },
     "output_type": "display_data"
    }
   ],
   "source": [
    "import numpy as np\n",
    "import matplotlib.pyplot as plt\n",
    "\n",
    "from sklearn.cluster import KMeans\n",
    "from scipy.spatial.distance import cdist\n",
    "\n",
    "c1x=np.random.uniform(.5,1.5,(1,10)) #a unifrom distribution with size 1 by 10.\n",
    "c1y=np.random.uniform(.5,1.5,(1,10)) \n",
    "c2x=np.random.uniform(3.5,4.5,(1,10))\n",
    "c2y=np.random.uniform(3.5,4.5,(1,10))\n",
    "x=np.hstack((c1x,c2x)) #double parenthses.\n",
    "y=np.hstack((c1y,c2y))\n",
    "X=np.vstack((x,y)).T\n",
    "\n",
    "K=range(1,10)\n",
    "mean_dispersion=[]\n",
    "for k in K:\n",
    "    kmeans=KMeans(n_clusters=k)\n",
    "    kmeans.fit(X)\n",
    "    mean_dispersion.append(\n",
    "    sum(np.min(cdist(X,kmeans.cluster_centers_,'euclidean'),axis=1))/X.shape[0]\n",
    "    )\n",
    "plt.plot(K,mean_dispersion,'bx-')\n",
    "plt.xlabel('k')\n",
    "plt.ylabel('average dispersion')\n",
    "plt.title('selecting k with the elbow method')\n",
    "plt.show()"
   ]
  },
  {
   "cell_type": "code",
   "execution_count": 38,
   "metadata": {},
   "outputs": [
    {
     "data": {
      "text/plain": [
       "(20, 9)"
      ]
     },
     "execution_count": 38,
     "metadata": {},
     "output_type": "execute_result"
    }
   ],
   "source": [
    "cdist(X,kmeans.cluster_centers_,'euclidean').shape"
   ]
  },
  {
   "cell_type": "code",
   "execution_count": 60,
   "metadata": {},
   "outputs": [
    {
     "data": {
      "image/png": "[encoded data removed]",
      "text/plain": [
       "<matplotlib.figure.Figure at 0x7f878453b0f0>"
      ]
     },
     "metadata": {
      "needs_background": "light"
     },
     "output_type": "display_data"
    }
   ],
   "source": [
    "import numpy as np\n",
    "import matplotlib.pyplot as plt\n",
    "\n",
    "from sklearn.cluster import KMeans\n",
    "from sklearn import metrics\n",
    "\n",
    "plt.figure(figsize=(10,10)) #adjust the size of graph.\n",
    "plt.subplot(321)\n",
    "x1=np.array([1,2,3,1,5,6,5,5,6,7,8,9,7,9])\n",
    "x2=np.array([1,3,2,2,8,6,7,6,7,1,2,1,1,3])\n",
    "X=np.vstack((x1,x2)).T\n",
    "\n",
    "plt.xlim([0,10])\n",
    "plt.ylim([0,10])\n",
    "plt.title('instance')\n",
    "plt.scatter(x1,x2)\n",
    "colors=['b','g','r','c','m','y','k','b']\n",
    "markers=['o','s','D','v','^','p','*','+']\n",
    "tests=[2,3,4,5,8]\n",
    "subplot_counter=1\n",
    "for t in tests:\n",
    "    subplot_counter+=1\n",
    "    plt.subplot(3,2,subplot_counter)\n",
    "    kmeans_model=KMeans(n_clusters=t).fit(X)\n",
    "    for i,l in enumerate(kmeans_model.labels_):\n",
    "        plt.plot(x1[i],x2[i],color=colors[l],marker=markers[l],ls='None')\n",
    "    plt.xlim([0,10])\n",
    "    plt.ylim([0,10])\n",
    "    plt.title(\"K=%s, Silhouette Coefficient=%.3f\"%(t,metrics.silhouette_score(X,kmeans_model.labels_,\n",
    "                                                                              metric='euclidean')))\n",
    "plt.show()"
   ]
  },
  {
   "cell_type": "code",
   "execution_count": 58,
   "metadata": {},
   "outputs": [
    {
     "data": {
      "text/plain": [
       "array([3, 0, 0, 3, 1, 4, 1, 4, 4, 5, 2, 7, 5, 6], dtype=int32)"
      ]
     },
     "execution_count": 58,
     "metadata": {},
     "output_type": "execute_result"
    }
   ],
   "source": [
    "kmeans_model.labels_"
   ]
  },
  {
   "cell_type": "code",
   "execution_count": 63,
   "metadata": {},
   "outputs": [
    {
     "data": {
      "text/plain": [
       "array([[[0., 0., 0., 0., 0., 0., 0., 0., 0.],\n",
       "        [0., 0., 0., 0., 0., 0., 0., 0., 0.],\n",
       "        [0., 0., 0., 0., 0., 0., 0., 0., 0.]],\n",
       "\n",
       "       [[0., 0., 0., 0., 0., 0., 0., 0., 0.],\n",
       "        [0., 0., 0., 0., 0., 0., 0., 0., 0.],\n",
       "        [0., 0., 0., 0., 0., 0., 0., 0., 0.]]])"
      ]
     },
     "execution_count": 63,
     "metadata": {},
     "output_type": "execute_result"
    }
   ],
   "source": [
    "np.zeros((2,3,9))"
   ]
  },
  {
   "cell_type": "code",
   "execution_count": 74,
   "metadata": {},
   "outputs": [],
   "source": [
    "q=np.ones((2,5,8))"
   ]
  },
  {
   "cell_type": "code",
   "execution_count": 75,
   "metadata": {},
   "outputs": [],
   "source": [
    "q[1,2]=[1,2,3,4,5,6,7,8] #change the 2nd row of 1st array into another number."
   ]
  },
  {
   "cell_type": "code",
   "execution_count": 76,
   "metadata": {},
   "outputs": [
    {
     "data": {
      "text/plain": [
       "array([[[1., 1., 1., 1., 1., 1., 1., 1.],\n",
       "        [1., 1., 1., 1., 1., 1., 1., 1.],\n",
       "        [1., 1., 1., 1., 1., 1., 1., 1.],\n",
       "        [1., 1., 1., 1., 1., 1., 1., 1.],\n",
       "        [1., 1., 1., 1., 1., 1., 1., 1.]],\n",
       "\n",
       "       [[1., 1., 1., 1., 1., 1., 1., 1.],\n",
       "        [1., 1., 1., 1., 1., 1., 1., 1.],\n",
       "        [1., 2., 3., 4., 5., 6., 7., 8.],\n",
       "        [1., 1., 1., 1., 1., 1., 1., 1.],\n",
       "        [1., 1., 1., 1., 1., 1., 1., 1.]]])"
      ]
     },
     "execution_count": 76,
     "metadata": {},
     "output_type": "execute_result"
    }
   ],
   "source": [
    "q"
   ]
  },
  {
   "cell_type": "code",
   "execution_count": 85,
   "metadata": {},
   "outputs": [
    {
     "data": {
      "image/png": "[encoded data removed]",
      "text/plain": [
       "<matplotlib.figure.Figure at 0x7f87b3b93160>"
      ]
     },
     "metadata": {
      "needs_background": "light"
     },
     "output_type": "display_data"
    }
   ],
   "source": [
    "import numpy as np\n",
    "import matplotlib.pyplot as plt\n",
    "\n",
    "from sklearn.cluster import KMeans\n",
    "from sklearn.utils import shuffle\n",
    "from PIL import Image\n",
    "\n",
    "original_img=np.array(Image.open('tree.jpg'),dtype=np.float64)/255\n",
    "width,height,depth=tuple(original_img.shape) #a pic is 3-D.\n",
    "image_flattened=np.reshape(original_img,(width*height,depth))\n",
    "\n",
    "image_array_sample=shuffle(image_flattened,random_state=0)[:1000]\n",
    "estimator=KMeans(n_clusters=64,random_state=0) #set 64 clusters for k-means.\n",
    "estimator.fit(image_array_sample)\n",
    "\n",
    "cluster_assignments=estimator.predict(image_flattened) #predict a class for each row of image_flattened.\n",
    "\n",
    "compressed_palette=estimator.cluster_centers_ #64 cluster centers with 3-D for each.\n",
    "compressed_img=np.zeros((width,height,compressed_palette.shape[1])) ##\n",
    "label_idx=0\n",
    "for i in range(width):\n",
    "    for j in range(height):\n",
    "        compressed_img[i,j]=compressed_palette[cluster_assignments[label_idx]]\n",
    "        label_idx+=1\n",
    "plt.figure(figsize=(10,10))\n",
    "plt.subplot(121)\n",
    "plt.title(\"original image\",fontsize=24)\n",
    "plt.imshow(original_img)\n",
    "plt.axis('off')\n",
    "plt.subplot(122)\n",
    "plt.title(\"compressed image\",fontsize=24)\n",
    "plt.imshow(compressed_img)\n",
    "plt.axis('off')\n",
    "plt.show()"
   ]
  },
  {
   "cell_type": "code",
   "execution_count": 88,
   "metadata": {},
   "outputs": [
    {
     "data": {
      "text/plain": [
       "(64, 3)"
      ]
     },
     "execution_count": 88,
     "metadata": {},
     "output_type": "execute_result"
    }
   ],
   "source": [
    "estimator.cluster_centers_.shape"
   ]
  },
  {
   "cell_type": "code",
   "execution_count": 90,
   "metadata": {},
   "outputs": [
    {
     "data": {
      "text/plain": [
       "(706893,)"
      ]
     },
     "execution_count": 90,
     "metadata": {},
     "output_type": "execute_result"
    }
   ],
   "source": [
    "estimator.predict(image_flattened).shape"
   ]
  },
  {
   "cell_type": "code",
   "execution_count": 92,
   "metadata": {},
   "outputs": [
    {
     "data": {
      "text/plain": [
       "(706893, 3)"
      ]
     },
     "execution_count": 92,
     "metadata": {},
     "output_type": "execute_result"
    }
   ],
   "source": [
    "image_flattened.shape"
   ]
  },
  {
   "cell_type": "code",
   "execution_count": 95,
   "metadata": {},
   "outputs": [
    {
     "data": {
      "text/plain": [
       "array([36, 36, 36, ..., 31, 31, 31], dtype=int32)"
      ]
     },
     "execution_count": 95,
     "metadata": {},
     "output_type": "execute_result"
    }
   ],
   "source": [
    "cluster_assignments"
   ]
  },
  {
   "cell_type": "code",
   "execution_count": 96,
   "metadata": {},
   "outputs": [],
   "source": [
    "import glob\n",
    "import numpy as np\n",
    "import mahotas as mh\n",
    "from mahotas.features import surf\n",
    "from sklearn.linear_model import LogisticRegression\n",
    "from sklearn.metrics import *\n",
    "from sklearn.cluster import MiniBatchKMeans\n",
    "\n",
    "all_instance_filenames=[]\n",
    "all_instance_targets=[]\n",
    "\n",
    "for f in glob.glob('cats-and-doogs-img/*.jpg'):\n",
    "    target=1 if 'cat' in os.path.split(f)[1] else 0\n",
    "    all_instance_filenames.append(f)\n",
    "    all_instance_targets.append(target)\n",
    "\n",
    "surf_features=[]\n",
    "for f in all_instance_filenames:\n",
    "    image=mh.imread(f,as_grey=True)\n",
    "    surf_features.append(surf.surf(image)[:,5:])\n",
    "    \n",
    "train_len=int(len(all_insatnce_filenames)*60)\n",
    "x_train_surf_features=np.concatenate(surf_features[:train_len])\n",
    "x_test_surf_features=np.concatenate(surf_features[train_len:])\n",
    "y_train=all_instance_targets[:train_len]\n",
    "y_test=all_instance_targets[train_len:]\n",
    "\n",
    "n_clusters=30\n",
    "estimator=MiniBatchKMeans(n_clusters=n_clusters)\n",
    "estimator.fit_transform(x_train_surf_features)\n",
    "\n",
    "x_train=[]\n",
    "for instance in surf_features[:train_len]:\n",
    "    clusters=estimator.predict(instance)\n",
    "    features=np.bincount(clusters)\n",
    "    if len(features)<n_clusters:\n",
    "        features=np.append(features.np.zeros((1,n_clusters-len(features))))\n",
    "    x_train.append(features)\n",
    "\n",
    "x_test=[]\n",
    "for instance in surf_features[train_len:]:\n",
    "    clusters=estimator.predict(instance)\n",
    "    features=np.bincount(clusters)\n",
    "    if len(features)<n_clusters:\n",
    "        features=np.append(features,np.zeros((1,n_clusters-len(features))))\n",
    "    x_test.append(features)\n",
    "    \n",
    "clf=LogisticRegression(C=.001,penalty='l2')\n",
    "clf.fit(x_train,y_train)\n",
    "predictions=clf.predict(x_test)\n",
    "print(classification_report(y_test,predictions))"
   ]
  },
  {
   "cell_type": "markdown",
   "metadata": {},
   "source": [
    "Chapter 14: Principal Component Analysis"
   ]
  },
  {
   "cell_type": "code",
   "execution_count": 100,
   "metadata": {},
   "outputs": [
    {
     "name": "stdout",
     "output_type": "stream",
     "text": [
      "[[2.92       3.16       2.95       2.67      ]\n",
      " [3.16       3.43       3.175      2.885     ]\n",
      " [2.95       3.175      3.01       2.705     ]\n",
      " [2.67       2.885      2.705      2.44333333]]\n"
     ]
    }
   ],
   "source": [
    "import numpy as np\n",
    "\n",
    "x=np.array([\n",
    "    [2,0,-1.4],\n",
    "    [2.2,.2,-1.5],\n",
    "    [2.4,.1,-1],\n",
    "    [1.9,0,-1.2]\n",
    "])\n",
    "covariance=np.cov(x)\n",
    "print(covariance)"
   ]
  },
  {
   "cell_type": "code",
   "execution_count": 102,
   "metadata": {},
   "outputs": [
    {
     "name": "stdout",
     "output_type": "stream",
     "text": [
      "[1.17641614e+01 3.91719379e-02 2.04612892e-17 1.01302508e-15]\n",
      "[[-0.49815042  0.13157537 -0.09803055  0.70238468]\n",
      " [-0.53864393  0.65446203 -0.28295287 -0.52941871]\n",
      " [-0.50403402 -0.73759564 -0.3885654  -0.38327987]\n",
      " [-0.45569571 -0.10158761  0.87140382  0.28190093]]\n"
     ]
    }
   ],
   "source": [
    "w,vt=np.linalg.eig(covariance)\n",
    "print(w)\n",
    "print(vt)"
   ]
  },
  {
   "cell_type": "code",
   "execution_count": 105,
   "metadata": {},
   "outputs": [
    {
     "data": {
      "image/png": "[encoded data removed]",
      "text/plain": [
       "<matplotlib.figure.Figure at 0x7f87b3a89978>"
      ]
     },
     "metadata": {
      "needs_background": "light"
     },
     "output_type": "display_data"
    }
   ],
   "source": [
    "import matplotlib.pyplot as plt\n",
    "from sklearn.decomposition import PCA\n",
    "from sklearn.datasets import load_iris\n",
    "\n",
    "data=load_iris()\n",
    "y=data.target\n",
    "x=data.data\n",
    "pca=PCA(n_components=2)\n",
    "reduced_x=pca.fit_transform(x)\n",
    "\n",
    "red_x,red_y=[],[]\n",
    "blue_x,blue_y=[],[]\n",
    "green_x,green_y=[],[]\n",
    "for i in range(len(reduced_x)):\n",
    "    if y[i]==0:\n",
    "        red_x.append(reduced_x[i,0])\n",
    "        red_y.append(reduced_x[i,1])\n",
    "    elif y[i]==1:\n",
    "        blue_x.append(reduced_x[i,0])\n",
    "        blue_y.append(reduced_x[i,1])\n",
    "    else:\n",
    "        green_x.append(reduced_x[i,0])\n",
    "        green_y.append(reduced_x[i,1])\n",
    "\n",
    "plt.scatter(red_x,red_y,c='r',marker='x')\n",
    "plt.scatter(blue_x,blue_y,c='b',marker='D')\n",
    "plt.scatter(green_x,green_y,c='g',marker='.')\n",
    "plt.show()"
   ]
  },
  {
   "cell_type": "code",
   "execution_count": 122,
   "metadata": {},
   "outputs": [
    {
     "ename": "ValueError",
     "evalue": "Found array with 0 sample(s) (shape=(0,)) while a minimum of 1 is required by the scale function.",
     "output_type": "error",
     "traceback": [
      "\u001b[0;31m---------------------------------------------------------------------------\u001b[0m",
      "\u001b[0;31mValueError\u001b[0m                                Traceback (most recent call last)",
      "\u001b[0;32m<ipython-input-122-7051caed67c9>\u001b[0m in \u001b[0;36m<module>\u001b[0;34m\u001b[0m\n\u001b[1;32m     19\u001b[0m             \u001b[0mx\u001b[0m\u001b[0;34m.\u001b[0m\u001b[0mappend\u001b[0m\u001b[0;34m(\u001b[0m\u001b[0marr\u001b[0m\u001b[0;34m)\u001b[0m\u001b[0;34m\u001b[0m\u001b[0;34m\u001b[0m\u001b[0m\n\u001b[1;32m     20\u001b[0m             \u001b[0my\u001b[0m\u001b[0;34m.\u001b[0m\u001b[0mappend\u001b[0m\u001b[0;34m(\u001b[0m\u001b[0mdirpath\u001b[0m\u001b[0;34m)\u001b[0m\u001b[0;34m\u001b[0m\u001b[0;34m\u001b[0m\u001b[0m\n\u001b[0;32m---> 21\u001b[0;31m \u001b[0mx\u001b[0m\u001b[0;34m=\u001b[0m\u001b[0mscale\u001b[0m\u001b[0;34m(\u001b[0m\u001b[0mx\u001b[0m\u001b[0;34m)\u001b[0m\u001b[0;34m\u001b[0m\u001b[0;34m\u001b[0m\u001b[0m\n\u001b[0m\u001b[1;32m     22\u001b[0m \u001b[0;34m\u001b[0m\u001b[0m\n\u001b[1;32m     23\u001b[0m \u001b[0mx_train\u001b[0m\u001b[0;34m,\u001b[0m\u001b[0mx_test\u001b[0m\u001b[0;34m,\u001b[0m\u001b[0my_train\u001b[0m\u001b[0;34m,\u001b[0m\u001b[0my_test\u001b[0m\u001b[0;34m=\u001b[0m\u001b[0mtrain_test_split\u001b[0m\u001b[0;34m(\u001b[0m\u001b[0mx\u001b[0m\u001b[0;34m,\u001b[0m\u001b[0my\u001b[0m\u001b[0;34m)\u001b[0m\u001b[0;34m\u001b[0m\u001b[0;34m\u001b[0m\u001b[0m\n",
      "\u001b[0;32m~/.local/lib/python3.6/site-packages/sklearn/preprocessing/_data.py\u001b[0m in \u001b[0;36mscale\u001b[0;34m(X, axis, with_mean, with_std, copy)\u001b[0m\n\u001b[1;32m    140\u001b[0m     X = check_array(X, accept_sparse='csc', copy=copy, ensure_2d=False,\n\u001b[1;32m    141\u001b[0m                     \u001b[0mestimator\u001b[0m\u001b[0;34m=\u001b[0m\u001b[0;34m'the scale function'\u001b[0m\u001b[0;34m,\u001b[0m \u001b[0mdtype\u001b[0m\u001b[0;34m=\u001b[0m\u001b[0mFLOAT_DTYPES\u001b[0m\u001b[0;34m,\u001b[0m\u001b[0;34m\u001b[0m\u001b[0;34m\u001b[0m\u001b[0m\n\u001b[0;32m--> 142\u001b[0;31m                     force_all_finite='allow-nan')\n\u001b[0m\u001b[1;32m    143\u001b[0m     \u001b[0;32mif\u001b[0m \u001b[0msparse\u001b[0m\u001b[0;34m.\u001b[0m\u001b[0missparse\u001b[0m\u001b[0;34m(\u001b[0m\u001b[0mX\u001b[0m\u001b[0;34m)\u001b[0m\u001b[0;34m:\u001b[0m\u001b[0;34m\u001b[0m\u001b[0;34m\u001b[0m\u001b[0m\n\u001b[1;32m    144\u001b[0m         \u001b[0;32mif\u001b[0m \u001b[0mwith_mean\u001b[0m\u001b[0;34m:\u001b[0m\u001b[0;34m\u001b[0m\u001b[0;34m\u001b[0m\u001b[0m\n",
      "\u001b[0;32m~/.local/lib/python3.6/site-packages/sklearn/utils/validation.py\u001b[0m in \u001b[0;36mcheck_array\u001b[0;34m(array, accept_sparse, accept_large_sparse, dtype, order, copy, force_all_finite, ensure_2d, allow_nd, ensure_min_samples, ensure_min_features, warn_on_dtype, estimator)\u001b[0m\n\u001b[1;32m    584\u001b[0m                              \u001b[0;34m\" minimum of %d is required%s.\"\u001b[0m\u001b[0;34m\u001b[0m\u001b[0;34m\u001b[0m\u001b[0m\n\u001b[1;32m    585\u001b[0m                              % (n_samples, array.shape, ensure_min_samples,\n\u001b[0;32m--> 586\u001b[0;31m                                 context))\n\u001b[0m\u001b[1;32m    587\u001b[0m \u001b[0;34m\u001b[0m\u001b[0m\n\u001b[1;32m    588\u001b[0m     \u001b[0;32mif\u001b[0m \u001b[0mensure_min_features\u001b[0m \u001b[0;34m>\u001b[0m \u001b[0;36m0\u001b[0m \u001b[0;32mand\u001b[0m \u001b[0marray\u001b[0m\u001b[0;34m.\u001b[0m\u001b[0mndim\u001b[0m \u001b[0;34m==\u001b[0m \u001b[0;36m2\u001b[0m\u001b[0;34m:\u001b[0m\u001b[0;34m\u001b[0m\u001b[0;34m\u001b[0m\u001b[0m\n",
      "\u001b[0;31mValueError\u001b[0m: Found array with 0 sample(s) (shape=(0,)) while a minimum of 1 is required by the scale function."
     ]
    }
   ],
   "source": [
    "import os\n",
    "import numpy as np\n",
    "\n",
    "from sklearn.model_selection import train_test_split,cross_val_score\n",
    "from sklearn.preprocessing import scale\n",
    "from sklearn.decomposition import PCA\n",
    "from sklearn.linear_model import LogisticRegression\n",
    "from sklearn.metrics import classification_report\n",
    "from PIL import Image\n",
    "\n",
    "x=[]\n",
    "y=[]\n",
    "\n",
    "for dirpath,_,filenames in os.walk('att-faces/orl_faces'):\n",
    "    for file in filenames:\n",
    "        if filenames[-3:]=='pgm':\n",
    "            img=Image.open(os.path.join(dirpath,filename)).convert('L')\n",
    "            arr=np.array(img).reshape(10304).astype('float32')/255\n",
    "            x.append(arr)\n",
    "            y.append(dirpath)\n",
    "x=scale(x)\n",
    "\n",
    "x_train,x_test,y_train,y_test=train_test_split(x,y)\n",
    "pca=PCA(n_components=150)\n",
    "\n",
    "x_train_reduced=pca.fit_transform(x_train)\n",
    "x_test_reduced=pca.transfrom(x_test)\n",
    "print(x_train.shape)\n",
    "print(x_train_reduced.shape)\n",
    "classifier=LogisticRegression()\n",
    "accuracies=cross_val_score(classifier,x_train_reduced,y_train)\n",
    "print(\"cross validation accuracy: %s\"%(np.mean(accuracies)))\n",
    "classifier.fit(x_train_redduced,y_train)\n",
    "predictions=classifier.predict(x_test_reduced)\n",
    "print(classification_report(y_test,predictions))\n"
   ]
  },
  {
   "cell_type": "code",
   "execution_count": 120,
   "metadata": {},
   "outputs": [],
   "source": []
  },
  {
   "cell_type": "code",
   "execution_count": null,
   "metadata": {},
   "outputs": [],
   "source": []
  },
  {
   "cell_type": "code",
   "execution_count": null,
   "metadata": {},
   "outputs": [],
   "source": []
  }
 ],
 "metadata": {
  "kernelspec": {
   "display_name": "Python 3",
   "language": "python",
   "name": "python3"
  },
  "language_info": {
   "codemirror_mode": {
    "name": "ipython",
    "version": 3
   },
   "file_extension": ".py",
   "mimetype": "text/x-python",
   "name": "python",
   "nbconvert_exporter": "python",
   "pygments_lexer": "ipython3",
   "version": "3.6.9"
  }
 },
 "nbformat": 4,
 "nbformat_minor": 4
}
